{
  "nbformat": 4,
  "nbformat_minor": 0,
  "metadata": {
    "colab": {
      "name": "Final_Capstone3.ipynb",
      "provenance": [],
      "collapsed_sections": [
        "DgBt83UX8TGX"
      ],
      "authorship_tag": "ABX9TyPASmbFiS5Fh5foy07KcMrI",
      "include_colab_link": true
    },
    "kernelspec": {
      "display_name": "Python 3",
      "name": "python3"
    }
  },
  "cells": [
    {
      "cell_type": "markdown",
      "metadata": {
        "id": "view-in-github",
        "colab_type": "text"
      },
      "source": [
        "<a href=\"https://colab.research.google.com/github/jpatata/censusdata_white_black/blob/main/Final_Capstone3.ipynb\" target=\"_parent\"><img src=\"https://colab.research.google.com/assets/colab-badge.svg\" alt=\"Open In Colab\"/></a>"
      ]
    },
    {
      "cell_type": "markdown",
      "metadata": {
        "id": "mVJT2PmHBHuG"
      },
      "source": [
        "# Introduction"
      ]
    },
    {
      "cell_type": "markdown",
      "metadata": {
        "id": "ONJSDrh5BLLC"
      },
      "source": [
        "In this analysis, we will be looking at the \"Current Population Survey, 2020 Annual Social and Economic (ASEC) Supplement\" conducted by the Bureau of the Census for the Bureau of Labor Statistics.\n",
        "\n",
        "##Importance of the Census Data\n",
        "\n",
        "The Census data helps determine how much funding the federal governments allocate to state governments and local communities, including programs that benefit lower-income families such as Medicaid, special education grants, and more.\n",
        "\n",
        "Source: [New York Times](https://https://www.nytimes.com/2018/03/27/us/politics/census-citizenship-question.html), [Population Reference Bureau](https://https://www.prb.org/importance-of-us-census/)\n",
        "\n",
        "##Objective\n",
        "This analysis takes a closer look at differences between the White and Black communities concerning factors such as education, income, health care, and more. These insights could help federal governments decide where to allocate funds to address existing issues in black communities.\n"
      ]
    },
    {
      "cell_type": "markdown",
      "metadata": {
        "id": "xi4vEWaiyiBS"
      },
      "source": [
        "# Data"
      ]
    },
    {
      "cell_type": "markdown",
      "metadata": {
        "id": "QlAhUNjRBDyD"
      },
      "source": [
        "##Dataset Description\n",
        "\n",
        "This analysis uses the \"Person (SAS/CSV)\" record type which originally has  157,959 rows and 840 columns of which 12 columns are chosen for the statistical analyses. \n",
        "\n",
        "Except for one column, all columns are integers. Two columns contain continuous variables, while the others contain categorical variables.\n",
        "\n",
        "In addition, the analyses only look at data for race White and Black in the race column. Using this modified dataset, eight statistical tests are conducted to assess whether race (White and Black) affects:\n",
        "\n",
        "* Receiving financial assistance<br>\n",
        "* Poverty level<br>\n",
        "* Having health insurance coverage<br>\n",
        "* Health status<br>\n",
        "* Receiving medicaid<br>\n",
        "* Educational attainment<br>\n",
        "* Employment status<br>\n",
        "* Income<br>\n",
        "\n",
        "and two statistical tests to assess whether<br> \n",
        "* Education affects poverty level<br>\n",
        "* Poverty level affects health status\n",
        "\n",
        "Statistical tests run in this analysis:<br>\n",
        "* Chi-Square test<br>\n",
        "* Cramér's V<br>\n",
        "* Welch's t-test<br>\n",
        "which will be further explained in their respective sections.\n",
        "\n",
        "Source:<br> \n",
        "[Datasets and Technical Documentation](https://www.census.gov/content/census/en/data/datasets/2020/demo/cps/cps-asec-2020.html) "
      ]
    },
    {
      "cell_type": "markdown",
      "metadata": {
        "id": "pwXXgqw6tY-V"
      },
      "source": [
        "# Exploratory Data Analysis "
      ]
    },
    {
      "cell_type": "code",
      "metadata": {
        "id": "lAhhnt1XjMqx"
      },
      "source": [
        "#import all the libraries needed for analysis\n",
        "\n",
        "import numpy as np\n",
        "import pandas as pd\n",
        "\n",
        "#To look at the list of csv files behind the zip and extract the desired csv\n",
        "from io import BytesIO\n",
        "from zipfile import ZipFile\n",
        "import urllib.request\n",
        "\n",
        "#for statistical analyses\n",
        "from scipy import stats\n",
        "from scipy.stats import skew\n",
        "from scipy.stats import kurtosis\n",
        "#to ignore warnings\n",
        "import warnings\n",
        "warnings.filterwarnings('ignore')\n",
        "\n",
        "#Chi-Square Test\n",
        "from scipy.stats import chi2_contingency\n",
        "from scipy.stats import chi2\n",
        "import scipy.stats as scis\n",
        "\n",
        "#for creating histograms\n",
        "import seaborn as sns\n",
        "sns.set()\n",
        "\n",
        "#levene test\n",
        "from scipy.stats import levene\n",
        "\n",
        "# log-normal distribution\n",
        "from numpy.random import seed\n",
        "from numpy.random import randn\n",
        "from numpy import exp\n",
        "from matplotlib import pyplot as plt\n",
        "\n",
        "#for creating bar charts\n",
        "import plotly.express as px"
      ],
      "execution_count": null,
      "outputs": []
    },
    {
      "cell_type": "code",
      "metadata": {
        "id": "x41Y011ikv1z",
        "colab": {
          "base_uri": "https://localhost:8080/"
        },
        "outputId": "d95758a9-fc32-48b2-aa02-8e0baf04d044"
      },
      "source": [
        "#there is more than one csv file in the zip link, so first I want to see what the csv names are\n",
        "    \n",
        "url = urllib.request.urlopen(\"https://www2.census.gov/programs-surveys/cps/datasets/2020/march/asecpub20csv.zip\")\n",
        "\n",
        "with ZipFile(BytesIO(url.read())) as my_zip_file:\n",
        "    for contained_file in my_zip_file.namelist():\n",
        "            print(contained_file)\n",
        "            # output.write(line)"
      ],
      "execution_count": null,
      "outputs": [
        {
          "output_type": "stream",
          "text": [
            "hhpub20.csv\n",
            "ffpub20.csv\n",
            "pppub20.csv\n",
            "asec_csv_repwgt_2020.csv\n"
          ],
          "name": "stdout"
        }
      ]
    },
    {
      "cell_type": "code",
      "metadata": {
        "id": "r_jnlIcPp_1z"
      },
      "source": [
        "#look into one of the csv files to see how many columns, etc., there are. \n",
        "#first, need to write a function\n",
        "def fetch_multi_csv_zip_from_url(url, filenames=(), *args, **kwargs):\n",
        "    assert kwargs.get('compression') is None\n",
        "    req = urlopen(url)\n",
        "    zip_file = zipfile.ZipFile(BytesIO(req.read()))\n",
        "\n",
        "    if filenames:\n",
        "        names = zip_file.namelist()\n",
        "        for filename in filenames:\n",
        "            if filename not in names:\n",
        "                raise ValueError(\n",
        "                    'filename {} not in {}'.format(filename, names))\n",
        "    else:\n",
        "        filenames = zip_file.namelist()\n",
        "\n",
        "    return {name: pd.read_csv(zip_file.open(name), *args, **kwargs)\n",
        "            for name in filenames}"
      ],
      "execution_count": null,
      "outputs": []
    },
    {
      "cell_type": "code",
      "metadata": {
        "id": "blaupZA1qj1Q",
        "colab": {
          "base_uri": "https://localhost:8080/"
        },
        "outputId": "2a4ee9e7-edeb-435e-a0a0-480601c923d6"
      },
      "source": [
        "#open the file\n",
        "try:\n",
        "    from urllib.request import urlopen\n",
        "except ImportError:\n",
        "    from urllib2 import urlopen\n",
        "\n",
        "from io import BytesIO\n",
        "import zipfile\n",
        "\n",
        "master_links = [\n",
        "    'https://www2.census.gov/programs-surveys/cps/datasets/2020/march/asecpub20csv.zip']\n",
        "\n",
        "df1 = fetch_multi_csv_zip_from_url(master_links[0])\n",
        "print(df1['pppub20.csv'])"
      ],
      "execution_count": null,
      "outputs": [
        {
          "output_type": "stream",
          "text": [
            "                      PERIDNUM  PH_SEQ  P_SEQ  ...  FILEDATE  FILESTAT  YYYYMM\n",
            "0       8329611509015080901101       1      1  ...     91820         2  202003\n",
            "1       8329611509015080901102       1      2  ...     91820         2  202003\n",
            "2       4238996011902050901101       2      1  ...     91820         2  202003\n",
            "3       4238996011902050901102       2      2  ...     91820         2  202003\n",
            "4       2059506120093750901101       3      1  ...     91820         5  202003\n",
            "...                        ...     ...    ...  ...       ...       ...     ...\n",
            "157954  7515211700027251111101   91498      1  ...     91820         5  202003\n",
            "157955  7515211700027251111103   91498      2  ...     91820         5  202003\n",
            "157956  5604003644112011111101   91499      1  ...     91820         6  202003\n",
            "157957  1221006170965901111101   91500      1  ...     91820         4  202003\n",
            "157958  1221006170965901111102   91500      2  ...     91820         6  202003\n",
            "\n",
            "[157959 rows x 840 columns]\n"
          ],
          "name": "stdout"
        }
      ]
    },
    {
      "cell_type": "code",
      "metadata": {
        "id": "S705OOS5NwMH"
      },
      "source": [
        "#pull the data of the csv into pandas to be able to manipulate and work on it\n",
        "url = urlopen(\"https://www2.census.gov/programs-surveys/cps/datasets/2020/march/asecpub20csv.zip\")\n",
        "\n",
        "#download zipfile and create pandas dataframe\n",
        "zipfile = ZipFile(BytesIO(url.read()))\n",
        "df1 = pd.read_csv(zipfile.open('pppub20.csv'))"
      ],
      "execution_count": null,
      "outputs": []
    },
    {
      "cell_type": "code",
      "metadata": {
        "id": "-2IM74xXN0sD",
        "colab": {
          "base_uri": "https://localhost:8080/"
        },
        "outputId": "95d9209a-4dcb-446f-f92a-63b6ecf5ff41"
      },
      "source": [
        "df1.head()"
      ],
      "execution_count": null,
      "outputs": [
        {
          "output_type": "execute_result",
          "data": {
            "text/html": [
              "<div>\n",
              "<style scoped>\n",
              "    .dataframe tbody tr th:only-of-type {\n",
              "        vertical-align: middle;\n",
              "    }\n",
              "\n",
              "    .dataframe tbody tr th {\n",
              "        vertical-align: top;\n",
              "    }\n",
              "\n",
              "    .dataframe thead th {\n",
              "        text-align: right;\n",
              "    }\n",
              "</style>\n",
              "<table border=\"1\" class=\"dataframe\">\n",
              "  <thead>\n",
              "    <tr style=\"text-align: right;\">\n",
              "      <th></th>\n",
              "      <th>PERIDNUM</th>\n",
              "      <th>PH_SEQ</th>\n",
              "      <th>P_SEQ</th>\n",
              "      <th>A_LINENO</th>\n",
              "      <th>PF_SEQ</th>\n",
              "      <th>PHF_SEQ</th>\n",
              "      <th>OED_TYP1</th>\n",
              "      <th>OED_TYP2</th>\n",
              "      <th>OED_TYP3</th>\n",
              "      <th>PERRP</th>\n",
              "      <th>PXRRP</th>\n",
              "      <th>PXMARITL</th>\n",
              "      <th>PXRACE1</th>\n",
              "      <th>PEHSPNON</th>\n",
              "      <th>PXHSPNON</th>\n",
              "      <th>PEAFEVER</th>\n",
              "      <th>PXAFEVER</th>\n",
              "      <th>PEAFWHN1</th>\n",
              "      <th>PXAFWHN1</th>\n",
              "      <th>PEAFWHN2</th>\n",
              "      <th>PEAFWHN3</th>\n",
              "      <th>PEAFWHN4</th>\n",
              "      <th>PXSPOUSE</th>\n",
              "      <th>PENATVTY</th>\n",
              "      <th>PXNATVTY</th>\n",
              "      <th>PEMNTVTY</th>\n",
              "      <th>PXMNTVTY</th>\n",
              "      <th>PEFNTVTY</th>\n",
              "      <th>PXFNTVTY</th>\n",
              "      <th>PEINUSYR</th>\n",
              "      <th>PXINUSYR</th>\n",
              "      <th>PEPAR1</th>\n",
              "      <th>PXPAR1</th>\n",
              "      <th>PEPAR2</th>\n",
              "      <th>PXPAR2</th>\n",
              "      <th>PEPAR1TYP</th>\n",
              "      <th>PXPAR1TYP</th>\n",
              "      <th>PEPAR2TYP</th>\n",
              "      <th>PXPAR2TYP</th>\n",
              "      <th>PRDASIAN</th>\n",
              "      <th>...</th>\n",
              "      <th>TOI_VAL</th>\n",
              "      <th>TTRDINT_VAL</th>\n",
              "      <th>TRINT_VAL1</th>\n",
              "      <th>TRINT_VAL2</th>\n",
              "      <th>TRNT_VAL</th>\n",
              "      <th>TCAP_VAL</th>\n",
              "      <th>TDIV_VAL</th>\n",
              "      <th>TCSP_VAL</th>\n",
              "      <th>TED_VAL</th>\n",
              "      <th>TCHSP_VAL</th>\n",
              "      <th>TPHIP_VAL</th>\n",
              "      <th>TPHIP_VAL2</th>\n",
              "      <th>TPMED_VAL</th>\n",
              "      <th>TPOTC_VAL</th>\n",
              "      <th>TPEMCPREM</th>\n",
              "      <th>TCERNVAL</th>\n",
              "      <th>TCWSVAL</th>\n",
              "      <th>TCSEVAL</th>\n",
              "      <th>TCFFMVAL</th>\n",
              "      <th>TSURVAL1</th>\n",
              "      <th>TSURVAL2</th>\n",
              "      <th>TDISVAL1</th>\n",
              "      <th>TDISVAL2</th>\n",
              "      <th>TAX_ID</th>\n",
              "      <th>PEIOIND</th>\n",
              "      <th>PEIOOCC</th>\n",
              "      <th>A_WERNTF</th>\n",
              "      <th>A_HERNTF</th>\n",
              "      <th>I_DISVL1</th>\n",
              "      <th>I_DISVL2</th>\n",
              "      <th>I_SURVL1</th>\n",
              "      <th>I_SURVL2</th>\n",
              "      <th>MIG_CBST</th>\n",
              "      <th>MIG_DSCP</th>\n",
              "      <th>M5G_CBST</th>\n",
              "      <th>M5G_DSCP</th>\n",
              "      <th>DEP_STAT</th>\n",
              "      <th>FILEDATE</th>\n",
              "      <th>FILESTAT</th>\n",
              "      <th>YYYYMM</th>\n",
              "    </tr>\n",
              "  </thead>\n",
              "  <tbody>\n",
              "    <tr>\n",
              "      <th>0</th>\n",
              "      <td>8329611509015080901101</td>\n",
              "      <td>1</td>\n",
              "      <td>1</td>\n",
              "      <td>1</td>\n",
              "      <td>1</td>\n",
              "      <td>1</td>\n",
              "      <td>0</td>\n",
              "      <td>0</td>\n",
              "      <td>0</td>\n",
              "      <td>40</td>\n",
              "      <td>0</td>\n",
              "      <td>0</td>\n",
              "      <td>0</td>\n",
              "      <td>2</td>\n",
              "      <td>0</td>\n",
              "      <td>2</td>\n",
              "      <td>0</td>\n",
              "      <td>-1</td>\n",
              "      <td>1</td>\n",
              "      <td>-1</td>\n",
              "      <td>-1</td>\n",
              "      <td>-1</td>\n",
              "      <td>0</td>\n",
              "      <td>57</td>\n",
              "      <td>0</td>\n",
              "      <td>57</td>\n",
              "      <td>0</td>\n",
              "      <td>57</td>\n",
              "      <td>0</td>\n",
              "      <td>0</td>\n",
              "      <td>0</td>\n",
              "      <td>-1</td>\n",
              "      <td>1</td>\n",
              "      <td>-1</td>\n",
              "      <td>1</td>\n",
              "      <td>-1</td>\n",
              "      <td>1</td>\n",
              "      <td>-1</td>\n",
              "      <td>1</td>\n",
              "      <td>-1</td>\n",
              "      <td>...</td>\n",
              "      <td>0</td>\n",
              "      <td>0</td>\n",
              "      <td>0</td>\n",
              "      <td>0</td>\n",
              "      <td>0</td>\n",
              "      <td>0</td>\n",
              "      <td>0</td>\n",
              "      <td>0</td>\n",
              "      <td>0</td>\n",
              "      <td>0</td>\n",
              "      <td>0</td>\n",
              "      <td>0</td>\n",
              "      <td>0</td>\n",
              "      <td>0</td>\n",
              "      <td>0</td>\n",
              "      <td>0</td>\n",
              "      <td>0</td>\n",
              "      <td>0</td>\n",
              "      <td>0</td>\n",
              "      <td>0</td>\n",
              "      <td>0</td>\n",
              "      <td>0</td>\n",
              "      <td>0</td>\n",
              "      <td>101</td>\n",
              "      <td>9480</td>\n",
              "      <td>440</td>\n",
              "      <td>0</td>\n",
              "      <td>0</td>\n",
              "      <td>0</td>\n",
              "      <td>0</td>\n",
              "      <td>0</td>\n",
              "      <td>0</td>\n",
              "      <td>0</td>\n",
              "      <td>0</td>\n",
              "      <td>0</td>\n",
              "      <td>0</td>\n",
              "      <td>0</td>\n",
              "      <td>91820</td>\n",
              "      <td>2</td>\n",
              "      <td>202003</td>\n",
              "    </tr>\n",
              "    <tr>\n",
              "      <th>1</th>\n",
              "      <td>8329611509015080901102</td>\n",
              "      <td>1</td>\n",
              "      <td>2</td>\n",
              "      <td>2</td>\n",
              "      <td>1</td>\n",
              "      <td>1</td>\n",
              "      <td>0</td>\n",
              "      <td>0</td>\n",
              "      <td>0</td>\n",
              "      <td>42</td>\n",
              "      <td>0</td>\n",
              "      <td>0</td>\n",
              "      <td>0</td>\n",
              "      <td>2</td>\n",
              "      <td>0</td>\n",
              "      <td>2</td>\n",
              "      <td>0</td>\n",
              "      <td>-1</td>\n",
              "      <td>1</td>\n",
              "      <td>-1</td>\n",
              "      <td>-1</td>\n",
              "      <td>-1</td>\n",
              "      <td>0</td>\n",
              "      <td>57</td>\n",
              "      <td>0</td>\n",
              "      <td>57</td>\n",
              "      <td>0</td>\n",
              "      <td>57</td>\n",
              "      <td>0</td>\n",
              "      <td>0</td>\n",
              "      <td>0</td>\n",
              "      <td>-1</td>\n",
              "      <td>1</td>\n",
              "      <td>-1</td>\n",
              "      <td>1</td>\n",
              "      <td>-1</td>\n",
              "      <td>1</td>\n",
              "      <td>-1</td>\n",
              "      <td>1</td>\n",
              "      <td>-1</td>\n",
              "      <td>...</td>\n",
              "      <td>0</td>\n",
              "      <td>0</td>\n",
              "      <td>0</td>\n",
              "      <td>0</td>\n",
              "      <td>0</td>\n",
              "      <td>0</td>\n",
              "      <td>0</td>\n",
              "      <td>0</td>\n",
              "      <td>0</td>\n",
              "      <td>0</td>\n",
              "      <td>0</td>\n",
              "      <td>0</td>\n",
              "      <td>0</td>\n",
              "      <td>0</td>\n",
              "      <td>0</td>\n",
              "      <td>0</td>\n",
              "      <td>0</td>\n",
              "      <td>0</td>\n",
              "      <td>0</td>\n",
              "      <td>0</td>\n",
              "      <td>0</td>\n",
              "      <td>0</td>\n",
              "      <td>0</td>\n",
              "      <td>101</td>\n",
              "      <td>0</td>\n",
              "      <td>-1</td>\n",
              "      <td>0</td>\n",
              "      <td>0</td>\n",
              "      <td>0</td>\n",
              "      <td>0</td>\n",
              "      <td>0</td>\n",
              "      <td>0</td>\n",
              "      <td>0</td>\n",
              "      <td>0</td>\n",
              "      <td>0</td>\n",
              "      <td>0</td>\n",
              "      <td>0</td>\n",
              "      <td>91820</td>\n",
              "      <td>2</td>\n",
              "      <td>202003</td>\n",
              "    </tr>\n",
              "    <tr>\n",
              "      <th>2</th>\n",
              "      <td>4238996011902050901101</td>\n",
              "      <td>2</td>\n",
              "      <td>1</td>\n",
              "      <td>1</td>\n",
              "      <td>1</td>\n",
              "      <td>1</td>\n",
              "      <td>0</td>\n",
              "      <td>0</td>\n",
              "      <td>0</td>\n",
              "      <td>40</td>\n",
              "      <td>0</td>\n",
              "      <td>0</td>\n",
              "      <td>0</td>\n",
              "      <td>2</td>\n",
              "      <td>0</td>\n",
              "      <td>1</td>\n",
              "      <td>0</td>\n",
              "      <td>2</td>\n",
              "      <td>0</td>\n",
              "      <td>3</td>\n",
              "      <td>-1</td>\n",
              "      <td>-1</td>\n",
              "      <td>0</td>\n",
              "      <td>57</td>\n",
              "      <td>0</td>\n",
              "      <td>57</td>\n",
              "      <td>0</td>\n",
              "      <td>57</td>\n",
              "      <td>0</td>\n",
              "      <td>0</td>\n",
              "      <td>0</td>\n",
              "      <td>-1</td>\n",
              "      <td>1</td>\n",
              "      <td>-1</td>\n",
              "      <td>1</td>\n",
              "      <td>-1</td>\n",
              "      <td>1</td>\n",
              "      <td>-1</td>\n",
              "      <td>1</td>\n",
              "      <td>-1</td>\n",
              "      <td>...</td>\n",
              "      <td>0</td>\n",
              "      <td>0</td>\n",
              "      <td>0</td>\n",
              "      <td>0</td>\n",
              "      <td>0</td>\n",
              "      <td>0</td>\n",
              "      <td>0</td>\n",
              "      <td>0</td>\n",
              "      <td>0</td>\n",
              "      <td>0</td>\n",
              "      <td>0</td>\n",
              "      <td>0</td>\n",
              "      <td>0</td>\n",
              "      <td>0</td>\n",
              "      <td>0</td>\n",
              "      <td>0</td>\n",
              "      <td>0</td>\n",
              "      <td>0</td>\n",
              "      <td>0</td>\n",
              "      <td>0</td>\n",
              "      <td>0</td>\n",
              "      <td>0</td>\n",
              "      <td>0</td>\n",
              "      <td>201</td>\n",
              "      <td>7860</td>\n",
              "      <td>9121</td>\n",
              "      <td>0</td>\n",
              "      <td>0</td>\n",
              "      <td>0</td>\n",
              "      <td>0</td>\n",
              "      <td>0</td>\n",
              "      <td>0</td>\n",
              "      <td>0</td>\n",
              "      <td>0</td>\n",
              "      <td>0</td>\n",
              "      <td>0</td>\n",
              "      <td>0</td>\n",
              "      <td>91820</td>\n",
              "      <td>2</td>\n",
              "      <td>202003</td>\n",
              "    </tr>\n",
              "    <tr>\n",
              "      <th>3</th>\n",
              "      <td>4238996011902050901102</td>\n",
              "      <td>2</td>\n",
              "      <td>2</td>\n",
              "      <td>2</td>\n",
              "      <td>1</td>\n",
              "      <td>1</td>\n",
              "      <td>0</td>\n",
              "      <td>0</td>\n",
              "      <td>0</td>\n",
              "      <td>42</td>\n",
              "      <td>0</td>\n",
              "      <td>0</td>\n",
              "      <td>0</td>\n",
              "      <td>2</td>\n",
              "      <td>0</td>\n",
              "      <td>2</td>\n",
              "      <td>0</td>\n",
              "      <td>-1</td>\n",
              "      <td>1</td>\n",
              "      <td>-1</td>\n",
              "      <td>-1</td>\n",
              "      <td>-1</td>\n",
              "      <td>0</td>\n",
              "      <td>57</td>\n",
              "      <td>0</td>\n",
              "      <td>57</td>\n",
              "      <td>0</td>\n",
              "      <td>57</td>\n",
              "      <td>0</td>\n",
              "      <td>0</td>\n",
              "      <td>0</td>\n",
              "      <td>-1</td>\n",
              "      <td>1</td>\n",
              "      <td>-1</td>\n",
              "      <td>1</td>\n",
              "      <td>-1</td>\n",
              "      <td>1</td>\n",
              "      <td>-1</td>\n",
              "      <td>1</td>\n",
              "      <td>-1</td>\n",
              "      <td>...</td>\n",
              "      <td>0</td>\n",
              "      <td>0</td>\n",
              "      <td>0</td>\n",
              "      <td>0</td>\n",
              "      <td>0</td>\n",
              "      <td>0</td>\n",
              "      <td>0</td>\n",
              "      <td>0</td>\n",
              "      <td>0</td>\n",
              "      <td>0</td>\n",
              "      <td>0</td>\n",
              "      <td>0</td>\n",
              "      <td>0</td>\n",
              "      <td>0</td>\n",
              "      <td>0</td>\n",
              "      <td>0</td>\n",
              "      <td>0</td>\n",
              "      <td>0</td>\n",
              "      <td>0</td>\n",
              "      <td>0</td>\n",
              "      <td>0</td>\n",
              "      <td>0</td>\n",
              "      <td>0</td>\n",
              "      <td>201</td>\n",
              "      <td>0</td>\n",
              "      <td>-1</td>\n",
              "      <td>0</td>\n",
              "      <td>0</td>\n",
              "      <td>0</td>\n",
              "      <td>0</td>\n",
              "      <td>0</td>\n",
              "      <td>0</td>\n",
              "      <td>0</td>\n",
              "      <td>0</td>\n",
              "      <td>0</td>\n",
              "      <td>0</td>\n",
              "      <td>0</td>\n",
              "      <td>91820</td>\n",
              "      <td>2</td>\n",
              "      <td>202003</td>\n",
              "    </tr>\n",
              "    <tr>\n",
              "      <th>4</th>\n",
              "      <td>2059506120093750901101</td>\n",
              "      <td>3</td>\n",
              "      <td>1</td>\n",
              "      <td>1</td>\n",
              "      <td>1</td>\n",
              "      <td>1</td>\n",
              "      <td>0</td>\n",
              "      <td>0</td>\n",
              "      <td>0</td>\n",
              "      <td>41</td>\n",
              "      <td>0</td>\n",
              "      <td>0</td>\n",
              "      <td>0</td>\n",
              "      <td>2</td>\n",
              "      <td>0</td>\n",
              "      <td>2</td>\n",
              "      <td>0</td>\n",
              "      <td>-1</td>\n",
              "      <td>1</td>\n",
              "      <td>-1</td>\n",
              "      <td>-1</td>\n",
              "      <td>-1</td>\n",
              "      <td>1</td>\n",
              "      <td>57</td>\n",
              "      <td>0</td>\n",
              "      <td>57</td>\n",
              "      <td>0</td>\n",
              "      <td>57</td>\n",
              "      <td>0</td>\n",
              "      <td>0</td>\n",
              "      <td>0</td>\n",
              "      <td>-1</td>\n",
              "      <td>1</td>\n",
              "      <td>-1</td>\n",
              "      <td>1</td>\n",
              "      <td>-1</td>\n",
              "      <td>1</td>\n",
              "      <td>-1</td>\n",
              "      <td>1</td>\n",
              "      <td>-1</td>\n",
              "      <td>...</td>\n",
              "      <td>0</td>\n",
              "      <td>0</td>\n",
              "      <td>0</td>\n",
              "      <td>0</td>\n",
              "      <td>0</td>\n",
              "      <td>0</td>\n",
              "      <td>0</td>\n",
              "      <td>0</td>\n",
              "      <td>0</td>\n",
              "      <td>0</td>\n",
              "      <td>0</td>\n",
              "      <td>0</td>\n",
              "      <td>0</td>\n",
              "      <td>0</td>\n",
              "      <td>0</td>\n",
              "      <td>0</td>\n",
              "      <td>0</td>\n",
              "      <td>0</td>\n",
              "      <td>0</td>\n",
              "      <td>0</td>\n",
              "      <td>0</td>\n",
              "      <td>0</td>\n",
              "      <td>0</td>\n",
              "      <td>301</td>\n",
              "      <td>6290</td>\n",
              "      <td>5500</td>\n",
              "      <td>0</td>\n",
              "      <td>0</td>\n",
              "      <td>0</td>\n",
              "      <td>0</td>\n",
              "      <td>0</td>\n",
              "      <td>0</td>\n",
              "      <td>0</td>\n",
              "      <td>0</td>\n",
              "      <td>0</td>\n",
              "      <td>0</td>\n",
              "      <td>0</td>\n",
              "      <td>91820</td>\n",
              "      <td>5</td>\n",
              "      <td>202003</td>\n",
              "    </tr>\n",
              "  </tbody>\n",
              "</table>\n",
              "<p>5 rows × 840 columns</p>\n",
              "</div>"
            ],
            "text/plain": [
              "                 PERIDNUM  PH_SEQ  P_SEQ  ...  FILEDATE  FILESTAT  YYYYMM\n",
              "0  8329611509015080901101       1      1  ...     91820         2  202003\n",
              "1  8329611509015080901102       1      2  ...     91820         2  202003\n",
              "2  4238996011902050901101       2      1  ...     91820         2  202003\n",
              "3  4238996011902050901102       2      2  ...     91820         2  202003\n",
              "4  2059506120093750901101       3      1  ...     91820         5  202003\n",
              "\n",
              "[5 rows x 840 columns]"
            ]
          },
          "metadata": {
            "tags": []
          },
          "execution_count": 6
        }
      ]
    },
    {
      "cell_type": "code",
      "metadata": {
        "id": "SWNzsiKeOkBp"
      },
      "source": [
        "#select the columns to work with in this analysis\n",
        "df1_select=df1[['PERIDNUM','PRDTRACE','AGE1','FIN_YN','PERLIS','COV','HEA','CAID','A_HGA','A_EXPLF','PEMLR','PTOT_R']].copy()"
      ],
      "execution_count": null,
      "outputs": []
    },
    {
      "cell_type": "code",
      "metadata": {
        "id": "zIlb6yHpO1Z-",
        "colab": {
          "base_uri": "https://localhost:8080/"
        },
        "outputId": "21d0798b-426f-49bc-972b-57301cb1af19"
      },
      "source": [
        "df1_select.head()"
      ],
      "execution_count": null,
      "outputs": [
        {
          "output_type": "execute_result",
          "data": {
            "text/html": [
              "<div>\n",
              "<style scoped>\n",
              "    .dataframe tbody tr th:only-of-type {\n",
              "        vertical-align: middle;\n",
              "    }\n",
              "\n",
              "    .dataframe tbody tr th {\n",
              "        vertical-align: top;\n",
              "    }\n",
              "\n",
              "    .dataframe thead th {\n",
              "        text-align: right;\n",
              "    }\n",
              "</style>\n",
              "<table border=\"1\" class=\"dataframe\">\n",
              "  <thead>\n",
              "    <tr style=\"text-align: right;\">\n",
              "      <th></th>\n",
              "      <th>PERIDNUM</th>\n",
              "      <th>PRDTRACE</th>\n",
              "      <th>AGE1</th>\n",
              "      <th>FIN_YN</th>\n",
              "      <th>PERLIS</th>\n",
              "      <th>COV</th>\n",
              "      <th>HEA</th>\n",
              "      <th>CAID</th>\n",
              "      <th>A_HGA</th>\n",
              "      <th>A_EXPLF</th>\n",
              "      <th>PEMLR</th>\n",
              "      <th>PTOT_R</th>\n",
              "    </tr>\n",
              "  </thead>\n",
              "  <tbody>\n",
              "    <tr>\n",
              "      <th>0</th>\n",
              "      <td>8329611509015080901101</td>\n",
              "      <td>1</td>\n",
              "      <td>14</td>\n",
              "      <td>2</td>\n",
              "      <td>4</td>\n",
              "      <td>1</td>\n",
              "      <td>3</td>\n",
              "      <td>2</td>\n",
              "      <td>39</td>\n",
              "      <td>1</td>\n",
              "      <td>1</td>\n",
              "      <td>22</td>\n",
              "    </tr>\n",
              "    <tr>\n",
              "      <th>1</th>\n",
              "      <td>8329611509015080901102</td>\n",
              "      <td>1</td>\n",
              "      <td>15</td>\n",
              "      <td>2</td>\n",
              "      <td>4</td>\n",
              "      <td>1</td>\n",
              "      <td>3</td>\n",
              "      <td>2</td>\n",
              "      <td>39</td>\n",
              "      <td>0</td>\n",
              "      <td>5</td>\n",
              "      <td>30</td>\n",
              "    </tr>\n",
              "    <tr>\n",
              "      <th>2</th>\n",
              "      <td>4238996011902050901101</td>\n",
              "      <td>1</td>\n",
              "      <td>14</td>\n",
              "      <td>2</td>\n",
              "      <td>4</td>\n",
              "      <td>1</td>\n",
              "      <td>3</td>\n",
              "      <td>2</td>\n",
              "      <td>39</td>\n",
              "      <td>1</td>\n",
              "      <td>1</td>\n",
              "      <td>18</td>\n",
              "    </tr>\n",
              "    <tr>\n",
              "      <th>3</th>\n",
              "      <td>4238996011902050901102</td>\n",
              "      <td>1</td>\n",
              "      <td>16</td>\n",
              "      <td>2</td>\n",
              "      <td>4</td>\n",
              "      <td>1</td>\n",
              "      <td>3</td>\n",
              "      <td>2</td>\n",
              "      <td>36</td>\n",
              "      <td>0</td>\n",
              "      <td>5</td>\n",
              "      <td>9</td>\n",
              "    </tr>\n",
              "    <tr>\n",
              "      <th>4</th>\n",
              "      <td>2059506120093750901101</td>\n",
              "      <td>1</td>\n",
              "      <td>11</td>\n",
              "      <td>2</td>\n",
              "      <td>4</td>\n",
              "      <td>1</td>\n",
              "      <td>2</td>\n",
              "      <td>2</td>\n",
              "      <td>39</td>\n",
              "      <td>1</td>\n",
              "      <td>1</td>\n",
              "      <td>17</td>\n",
              "    </tr>\n",
              "  </tbody>\n",
              "</table>\n",
              "</div>"
            ],
            "text/plain": [
              "                 PERIDNUM  PRDTRACE  AGE1  ...  A_EXPLF  PEMLR  PTOT_R\n",
              "0  8329611509015080901101         1    14  ...        1      1      22\n",
              "1  8329611509015080901102         1    15  ...        0      5      30\n",
              "2  4238996011902050901101         1    14  ...        1      1      18\n",
              "3  4238996011902050901102         1    16  ...        0      5       9\n",
              "4  2059506120093750901101         1    11  ...        1      1      17\n",
              "\n",
              "[5 rows x 12 columns]"
            ]
          },
          "metadata": {
            "tags": []
          },
          "execution_count": 8
        }
      ]
    },
    {
      "cell_type": "code",
      "metadata": {
        "id": "95OBBff5-BoV",
        "colab": {
          "base_uri": "https://localhost:8080/"
        },
        "outputId": "a2cf6e67-bed6-4a59-a6d8-c12a0b21590e"
      },
      "source": [
        "#get an overview of row and column numbers\n",
        "df1_select.shape"
      ],
      "execution_count": null,
      "outputs": [
        {
          "output_type": "execute_result",
          "data": {
            "text/plain": [
              "(157959, 12)"
            ]
          },
          "metadata": {
            "tags": []
          },
          "execution_count": 9
        }
      ]
    },
    {
      "cell_type": "code",
      "metadata": {
        "id": "KMHzIvGo-FqD",
        "colab": {
          "base_uri": "https://localhost:8080/"
        },
        "outputId": "d6a20d96-d776-4050-f64d-efbe2178c5f3"
      },
      "source": [
        "df1_select.info()"
      ],
      "execution_count": null,
      "outputs": [
        {
          "output_type": "stream",
          "text": [
            "<class 'pandas.core.frame.DataFrame'>\n",
            "RangeIndex: 157959 entries, 0 to 157958\n",
            "Data columns (total 12 columns):\n",
            " #   Column    Non-Null Count   Dtype \n",
            "---  ------    --------------   ----- \n",
            " 0   PERIDNUM  157959 non-null  object\n",
            " 1   PRDTRACE  157959 non-null  int64 \n",
            " 2   AGE1      157959 non-null  int64 \n",
            " 3   FIN_YN    157959 non-null  int64 \n",
            " 4   PERLIS    157959 non-null  int64 \n",
            " 5   COV       157959 non-null  int64 \n",
            " 6   HEA       157959 non-null  int64 \n",
            " 7   CAID      157959 non-null  int64 \n",
            " 8   A_HGA     157959 non-null  int64 \n",
            " 9   A_EXPLF   157959 non-null  int64 \n",
            " 10  PEMLR     157959 non-null  int64 \n",
            " 11  PTOT_R    157959 non-null  int64 \n",
            "dtypes: int64(11), object(1)\n",
            "memory usage: 14.5+ MB\n"
          ],
          "name": "stdout"
        }
      ]
    },
    {
      "cell_type": "code",
      "metadata": {
        "id": "T0b2ZSWIlFWm",
        "colab": {
          "base_uri": "https://localhost:8080/"
        },
        "outputId": "7f72f128-7cb8-4dac-9200-247bd3ce9c88"
      },
      "source": [
        "#see if there are any NaN values\n",
        "df1_select.isnull().sum()"
      ],
      "execution_count": null,
      "outputs": [
        {
          "output_type": "execute_result",
          "data": {
            "text/plain": [
              "PERIDNUM    0\n",
              "PRDTRACE    0\n",
              "AGE1        0\n",
              "FIN_YN      0\n",
              "PERLIS      0\n",
              "COV         0\n",
              "HEA         0\n",
              "CAID        0\n",
              "A_HGA       0\n",
              "A_EXPLF     0\n",
              "PEMLR       0\n",
              "PTOT_R      0\n",
              "dtype: int64"
            ]
          },
          "metadata": {
            "tags": []
          },
          "execution_count": 11
        }
      ]
    },
    {
      "cell_type": "code",
      "metadata": {
        "id": "2LrmMt1I-QXQ"
      },
      "source": [
        "#rename the columns\n",
        "df1_select = df1_select.rename(columns = \n",
        "{\"PERIDNUM\":\"ID\",\n",
        "  \"PRDTRACE\":\"race\", \n",
        " \"FIN_YN\":\"financial_assistance\",\n",
        " \"PERLIS\":\"poverty_level\",\n",
        " \"COV\":\"health_insurance\",\n",
        " \"HEA\":\"health_status\",\n",
        " \"CAID\":\"medicaid_coverage\",\n",
        " \"A_HGA\": \"ed_attainment\",  \n",
        " \"A_EXPLF\":\"employment_status\",\n",
        " \"PEMLR\":\"labor_force_recode\",\n",
        " \"PTOT_R\":\"total_income_recode\",\n",
        "})"
      ],
      "execution_count": null,
      "outputs": []
    },
    {
      "cell_type": "code",
      "metadata": {
        "id": "lTCLiqi5i14A",
        "colab": {
          "base_uri": "https://localhost:8080/",
          "height": 217
        },
        "outputId": "c3c81f05-9cac-4296-abd5-91f6bc20b0bf"
      },
      "source": [
        "df1_select.head()"
      ],
      "execution_count": null,
      "outputs": [
        {
          "output_type": "execute_result",
          "data": {
            "text/html": [
              "<div>\n",
              "<style scoped>\n",
              "    .dataframe tbody tr th:only-of-type {\n",
              "        vertical-align: middle;\n",
              "    }\n",
              "\n",
              "    .dataframe tbody tr th {\n",
              "        vertical-align: top;\n",
              "    }\n",
              "\n",
              "    .dataframe thead th {\n",
              "        text-align: right;\n",
              "    }\n",
              "</style>\n",
              "<table border=\"1\" class=\"dataframe\">\n",
              "  <thead>\n",
              "    <tr style=\"text-align: right;\">\n",
              "      <th></th>\n",
              "      <th>ID</th>\n",
              "      <th>race</th>\n",
              "      <th>AGE1</th>\n",
              "      <th>financial_assistance</th>\n",
              "      <th>poverty_level</th>\n",
              "      <th>health_insurance</th>\n",
              "      <th>health_status</th>\n",
              "      <th>medicaid_coverage</th>\n",
              "      <th>ed_attainment</th>\n",
              "      <th>employment_status</th>\n",
              "      <th>labor_force_recode</th>\n",
              "      <th>total_income_recode</th>\n",
              "    </tr>\n",
              "  </thead>\n",
              "  <tbody>\n",
              "    <tr>\n",
              "      <th>0</th>\n",
              "      <td>8329611509015080901101</td>\n",
              "      <td>1</td>\n",
              "      <td>14</td>\n",
              "      <td>2</td>\n",
              "      <td>4</td>\n",
              "      <td>1</td>\n",
              "      <td>3</td>\n",
              "      <td>2</td>\n",
              "      <td>39</td>\n",
              "      <td>1</td>\n",
              "      <td>1</td>\n",
              "      <td>22</td>\n",
              "    </tr>\n",
              "    <tr>\n",
              "      <th>1</th>\n",
              "      <td>8329611509015080901102</td>\n",
              "      <td>1</td>\n",
              "      <td>15</td>\n",
              "      <td>2</td>\n",
              "      <td>4</td>\n",
              "      <td>1</td>\n",
              "      <td>3</td>\n",
              "      <td>2</td>\n",
              "      <td>39</td>\n",
              "      <td>0</td>\n",
              "      <td>5</td>\n",
              "      <td>30</td>\n",
              "    </tr>\n",
              "    <tr>\n",
              "      <th>2</th>\n",
              "      <td>4238996011902050901101</td>\n",
              "      <td>1</td>\n",
              "      <td>14</td>\n",
              "      <td>2</td>\n",
              "      <td>4</td>\n",
              "      <td>1</td>\n",
              "      <td>3</td>\n",
              "      <td>2</td>\n",
              "      <td>39</td>\n",
              "      <td>1</td>\n",
              "      <td>1</td>\n",
              "      <td>18</td>\n",
              "    </tr>\n",
              "    <tr>\n",
              "      <th>3</th>\n",
              "      <td>4238996011902050901102</td>\n",
              "      <td>1</td>\n",
              "      <td>16</td>\n",
              "      <td>2</td>\n",
              "      <td>4</td>\n",
              "      <td>1</td>\n",
              "      <td>3</td>\n",
              "      <td>2</td>\n",
              "      <td>36</td>\n",
              "      <td>0</td>\n",
              "      <td>5</td>\n",
              "      <td>9</td>\n",
              "    </tr>\n",
              "    <tr>\n",
              "      <th>4</th>\n",
              "      <td>2059506120093750901101</td>\n",
              "      <td>1</td>\n",
              "      <td>11</td>\n",
              "      <td>2</td>\n",
              "      <td>4</td>\n",
              "      <td>1</td>\n",
              "      <td>2</td>\n",
              "      <td>2</td>\n",
              "      <td>39</td>\n",
              "      <td>1</td>\n",
              "      <td>1</td>\n",
              "      <td>17</td>\n",
              "    </tr>\n",
              "  </tbody>\n",
              "</table>\n",
              "</div>"
            ],
            "text/plain": [
              "                       ID  race  ...  labor_force_recode  total_income_recode\n",
              "0  8329611509015080901101     1  ...                   1                   22\n",
              "1  8329611509015080901102     1  ...                   5                   30\n",
              "2  4238996011902050901101     1  ...                   1                   18\n",
              "3  4238996011902050901102     1  ...                   5                    9\n",
              "4  2059506120093750901101     1  ...                   1                   17\n",
              "\n",
              "[5 rows x 12 columns]"
            ]
          },
          "metadata": {
            "tags": []
          },
          "execution_count": 13
        }
      ]
    },
    {
      "cell_type": "markdown",
      "metadata": {
        "id": "zANzXUypth1M"
      },
      "source": [
        "#Statistical Analyses for the Categorical Variables"
      ]
    },
    {
      "cell_type": "markdown",
      "metadata": {
        "id": "0MuvwtB1tpNg"
      },
      "source": [
        "##Chi-Square Test and Cramér's V"
      ]
    },
    {
      "cell_type": "markdown",
      "metadata": {
        "id": "enomQwLK3grZ"
      },
      "source": [
        "###Chi-Square Test"
      ]
    },
    {
      "cell_type": "markdown",
      "metadata": {
        "id": "KxqNM7cO2H7L"
      },
      "source": [
        "The Chi-square test is a non-parametric statistic and is used in this case because:\n",
        "\n",
        "1. The level of measurement of all the variables is nominal or ordinal.\n",
        "\n",
        "2. The sample sizes of the study groups are unequal.\n",
        "\n",
        "3. The original data violates the following assumptions of a parametric test:\n",
        "\n",
        "  * Skewed or kurtotic distribution of the data\n",
        "\n",
        "  * Violation of the assumption of equal variance or homoscedasticity."
      ]
    },
    {
      "cell_type": "markdown",
      "metadata": {
        "id": "0LR6w3yy1PQX"
      },
      "source": [
        "###Cramér's V"
      ]
    },
    {
      "cell_type": "markdown",
      "metadata": {
        "id": "8NQ117K5FmxX"
      },
      "source": [
        "Useful for comparing multiple X2 test statistics.<br>\n",
        "Because it is not affected by sample size, it can be used to test whether a significant chi-square was the result of a large sample size.<br>\n",
        "The coefficient ranges from 0 to 1 (perfect association).\n",
        "\n",
        "There is no absolute interpretation of an effect size statistic like Cramér's V. It is always relative to the discipline and the expectations of the experiment.\n"
      ]
    },
    {
      "cell_type": "markdown",
      "metadata": {
        "id": "W9X6iL_rHLF4"
      },
      "source": [
        "## Chi-Square Test and Cramér's V for Financial Assistance and Race (White and Black)"
      ]
    },
    {
      "cell_type": "markdown",
      "metadata": {
        "id": "_SXc6cCzW6Px"
      },
      "source": [
        "Null Hypothesis: \"There is no effect of race on receiving financial assistance\".<br>\n",
        "Alternative Hypothesis: \"There is an effect of race on receiving financial assistance\"."
      ]
    },
    {
      "cell_type": "code",
      "metadata": {
        "id": "n174D8QkQ15p"
      },
      "source": [
        "#only work with race White and Black, White=1, Black=2\n",
        "race1 = df1_select[(df1_select['race'].isin([1, 2]))]"
      ],
      "execution_count": null,
      "outputs": []
    },
    {
      "cell_type": "code",
      "metadata": {
        "id": "IJiepEDeB4hl"
      },
      "source": [
        "#eliminate persons aged 19 and under [1-3 includes ages 15-19]\n",
        "#do this to have more effective results, especially when looking at effects of race on education, education on employment, etc.\n",
        "#for example, a person that is 15yo will not have a high school diploma yet \n",
        "race = race1.drop(race1.loc[race1['AGE1']<=3].index)"
      ],
      "execution_count": null,
      "outputs": []
    },
    {
      "cell_type": "code",
      "metadata": {
        "id": "3VBBAo1d4Pl_",
        "colab": {
          "base_uri": "https://localhost:8080/"
        },
        "outputId": "61870eac-efce-4dde-a402-921ffc426d42"
      },
      "source": [
        "#how many rows are there for White and Black\n",
        "#a large amount of data for White over all other races in this data set\n",
        "race['race'].value_counts()"
      ],
      "execution_count": null,
      "outputs": [
        {
          "output_type": "execute_result",
          "data": {
            "text/plain": [
              "1    88082\n",
              "2    13451\n",
              "Name: race, dtype: int64"
            ]
          },
          "metadata": {
            "tags": []
          },
          "execution_count": 16
        }
      ]
    },
    {
      "cell_type": "code",
      "metadata": {
        "id": "gPVDotKf5ryh"
      },
      "source": [
        "#to exclude 0=niu (not in universe)\n",
        "race_finance= race[(race['financial_assistance'].isin([1,2]))]"
      ],
      "execution_count": null,
      "outputs": []
    },
    {
      "cell_type": "code",
      "metadata": {
        "id": "gm3PBwToRWM6",
        "colab": {
          "base_uri": "https://localhost:8080/"
        },
        "outputId": "3985aea0-e66b-409c-d287-b783f5887811"
      },
      "source": [
        "race_finance['financial_assistance'].value_counts()"
      ],
      "execution_count": null,
      "outputs": [
        {
          "output_type": "execute_result",
          "data": {
            "text/plain": [
              "2    100631\n",
              "1       902\n",
              "Name: financial_assistance, dtype: int64"
            ]
          },
          "metadata": {
            "tags": []
          },
          "execution_count": 18
        }
      ]
    },
    {
      "cell_type": "code",
      "metadata": {
        "id": "_RaiGA1jWzlX"
      },
      "source": [
        "#create a crosstab for the chi-square analysis\n",
        "race_finance_crosstab = pd.crosstab(race_finance['financial_assistance'],  \n",
        "                            race_finance['race'],\n",
        "                                margins = False) "
      ],
      "execution_count": null,
      "outputs": []
    },
    {
      "cell_type": "code",
      "metadata": {
        "id": "NXU6UciUzitu",
        "colab": {
          "base_uri": "https://localhost:8080/"
        },
        "outputId": "11b68e09-b6f4-400a-8686-57eba0170fad"
      },
      "source": [
        "print(race_finance_crosstab)"
      ],
      "execution_count": null,
      "outputs": [
        {
          "output_type": "stream",
          "text": [
            "race                      1      2\n",
            "financial_assistance              \n",
            "1                       740    162\n",
            "2                     87342  13289\n"
          ],
          "name": "stdout"
        }
      ]
    },
    {
      "cell_type": "code",
      "metadata": {
        "id": "1U5LdF_dbnr6"
      },
      "source": [
        "def chi_square(crosstab):\n",
        "  \"\"\"Chi-square test of independence of variables in a contingency table. \n",
        "  Returns: degrees of freedom, expected frequencies, probability, critical value, and chi-square. \n",
        "  Tests significance of chi-square and p-value.\n",
        "\n",
        "  Cramér's V:\n",
        "  To test whether significant chi-square might have been due to sample size.\n",
        "  Measure of association between two nominal variables.\n",
        "  Returns a value between 0 and +1.\"\"\"\n",
        "\n",
        "  #contingency table\n",
        "  chi_square, pvalue, degrees_of_freedom, expected_frequencies = chi2_contingency(crosstab) \n",
        "  print(\"\\033[1m\" + 'Chi-Square Test' + \"\\033[0m\") # to have text in bold\n",
        "  print('degrees of freedom = %d' % degrees_of_freedom) #%d to truncate float\n",
        "  print(\"\\n\"'Expected frequencies:\\n', expected_frequencies)\n",
        "     \n",
        "  #interpret p-value\n",
        "  alpha = 0.05\n",
        "  print(\"\\n\" 'alpha=%.3f, p-value=%.3f' % (alpha, pvalue))\n",
        "  if pvalue <= alpha:\n",
        "\t  print('p-value <= 0.05. Reject H0 that there is no association between the two variables.')\n",
        "  else:\n",
        "\t  print('p-value > 0.05. Fail to reject H0 that there is no association between the two variables.')\n",
        "  \n",
        "   #cramer's v table\n",
        "  n = np.sum(crosstab) #number of the times the values were observed, which can be found in the crosstab\n",
        "\n",
        "  v = np.sqrt(chi_square / (n * (np.minimum(crosstab.shape[0], crosstab.shape[1]) - 1)))\n",
        "    #cramer's v is computed by taking the square root of the chi-squared statistic divided by the sample size and the minimum dimension minus 1\n",
        "    #shape[0] is number of columns\n",
        "    #shape[1] is number of rows\n",
        "    #np.minimum compares two arrays (here crosstab.shape[0] and crosstab.shape[1]) and returns a new array containing the element-wise minima\n",
        "    #multiply the result is by n and then subtract 1\n",
        "    #divide the result by chi2\n",
        "    #finally take the square root\n",
        "  \n",
        "  print(\"\\n\"+\"\\033[1m\" + 'Cramer\\'s V for: ' + \"\\033[0m\" + \"\\n\" + '{}'.format(v))\n",
        "  "
      ],
      "execution_count": null,
      "outputs": []
    },
    {
      "cell_type": "code",
      "metadata": {
        "id": "_A0hNnnQb95L",
        "colab": {
          "base_uri": "https://localhost:8080/"
        },
        "outputId": "da1df8aa-5363-4ee6-9c2d-d2278e9b8ac4"
      },
      "source": [
        "chi_square(race_finance_crosstab)"
      ],
      "execution_count": null,
      "outputs": [
        {
          "output_type": "stream",
          "text": [
            "\u001b[1mChi-Square Test\u001b[0m\n",
            "degrees of freedom = 1\n",
            "\n",
            "Expected frequencies:\n",
            " [[  782.50385589   119.49614411]\n",
            " [87299.49614411 13331.50385589]]\n",
            "\n",
            "alpha=0.050, p-value=0.000\n",
            "p-value <= 0.05. Reject H0 that there is no association between the two variables.\n",
            "\n",
            "\u001b[1mCramer's V for: \u001b[0m\n",
            "race\n",
            "1    0.013963\n",
            "2    0.035730\n",
            "dtype: float64\n"
          ],
          "name": "stdout"
        }
      ]
    },
    {
      "cell_type": "markdown",
      "metadata": {
        "id": "uq0KndKNG79b"
      },
      "source": [
        "###Chi-Square Interpretation\n",
        "\n",
        "Reject the Null Hypothesis that there is no effect of race on receiving financial assistance\n",
        "\n",
        "White showed a lesser incidence of receiving financial assistance and greater incidence of not receiving financial assistance than expected by chance alone.\n",
        "\n",
        "Black showed a greater incidence of receiving financial assistance and lesser incidence of not receiving financial assistance than expected by chance alone."
      ]
    },
    {
      "cell_type": "markdown",
      "metadata": {
        "id": "yxySZQ8t0YND"
      },
      "source": [
        "###Cramér's V Interpretation\n",
        "\n",
        "The results suggest that chi-square could be statistically significant due to the large sample size. These results will thus not be taken into account.\n"
      ]
    },
    {
      "cell_type": "markdown",
      "metadata": {
        "id": "W8dSpAPuw4TO"
      },
      "source": [
        "### Visualization"
      ]
    },
    {
      "cell_type": "code",
      "metadata": {
        "id": "cvtmzLnKwsqt"
      },
      "source": [
        "#replace numbers with the value for the bar chart\n",
        "race_finance['financial_assistance'] = race_finance['financial_assistance'].replace([1,2],['Yes','No'])"
      ],
      "execution_count": null,
      "outputs": []
    },
    {
      "cell_type": "code",
      "metadata": {
        "colab": {
          "base_uri": "https://localhost:8080/",
          "height": 217
        },
        "id": "066iTLGdyRkq",
        "outputId": "aa715c82-6061-46b4-a219-98756ec666b5"
      },
      "source": [
        "race_finance.head()"
      ],
      "execution_count": null,
      "outputs": [
        {
          "output_type": "execute_result",
          "data": {
            "text/html": [
              "<div>\n",
              "<style scoped>\n",
              "    .dataframe tbody tr th:only-of-type {\n",
              "        vertical-align: middle;\n",
              "    }\n",
              "\n",
              "    .dataframe tbody tr th {\n",
              "        vertical-align: top;\n",
              "    }\n",
              "\n",
              "    .dataframe thead th {\n",
              "        text-align: right;\n",
              "    }\n",
              "</style>\n",
              "<table border=\"1\" class=\"dataframe\">\n",
              "  <thead>\n",
              "    <tr style=\"text-align: right;\">\n",
              "      <th></th>\n",
              "      <th>ID</th>\n",
              "      <th>race</th>\n",
              "      <th>AGE1</th>\n",
              "      <th>financial_assistance</th>\n",
              "      <th>poverty_level</th>\n",
              "      <th>health_insurance</th>\n",
              "      <th>health_status</th>\n",
              "      <th>medicaid_coverage</th>\n",
              "      <th>ed_attainment</th>\n",
              "      <th>employment_status</th>\n",
              "      <th>labor_force_recode</th>\n",
              "      <th>total_income_recode</th>\n",
              "    </tr>\n",
              "  </thead>\n",
              "  <tbody>\n",
              "    <tr>\n",
              "      <th>0</th>\n",
              "      <td>8329611509015080901101</td>\n",
              "      <td>1</td>\n",
              "      <td>14</td>\n",
              "      <td>No</td>\n",
              "      <td>4</td>\n",
              "      <td>1</td>\n",
              "      <td>3</td>\n",
              "      <td>2</td>\n",
              "      <td>39</td>\n",
              "      <td>1</td>\n",
              "      <td>1</td>\n",
              "      <td>22</td>\n",
              "    </tr>\n",
              "    <tr>\n",
              "      <th>1</th>\n",
              "      <td>8329611509015080901102</td>\n",
              "      <td>1</td>\n",
              "      <td>15</td>\n",
              "      <td>No</td>\n",
              "      <td>4</td>\n",
              "      <td>1</td>\n",
              "      <td>3</td>\n",
              "      <td>2</td>\n",
              "      <td>39</td>\n",
              "      <td>0</td>\n",
              "      <td>5</td>\n",
              "      <td>30</td>\n",
              "    </tr>\n",
              "    <tr>\n",
              "      <th>2</th>\n",
              "      <td>4238996011902050901101</td>\n",
              "      <td>1</td>\n",
              "      <td>14</td>\n",
              "      <td>No</td>\n",
              "      <td>4</td>\n",
              "      <td>1</td>\n",
              "      <td>3</td>\n",
              "      <td>2</td>\n",
              "      <td>39</td>\n",
              "      <td>1</td>\n",
              "      <td>1</td>\n",
              "      <td>18</td>\n",
              "    </tr>\n",
              "    <tr>\n",
              "      <th>3</th>\n",
              "      <td>4238996011902050901102</td>\n",
              "      <td>1</td>\n",
              "      <td>16</td>\n",
              "      <td>No</td>\n",
              "      <td>4</td>\n",
              "      <td>1</td>\n",
              "      <td>3</td>\n",
              "      <td>2</td>\n",
              "      <td>36</td>\n",
              "      <td>0</td>\n",
              "      <td>5</td>\n",
              "      <td>9</td>\n",
              "    </tr>\n",
              "    <tr>\n",
              "      <th>4</th>\n",
              "      <td>2059506120093750901101</td>\n",
              "      <td>1</td>\n",
              "      <td>11</td>\n",
              "      <td>No</td>\n",
              "      <td>4</td>\n",
              "      <td>1</td>\n",
              "      <td>2</td>\n",
              "      <td>2</td>\n",
              "      <td>39</td>\n",
              "      <td>1</td>\n",
              "      <td>1</td>\n",
              "      <td>17</td>\n",
              "    </tr>\n",
              "  </tbody>\n",
              "</table>\n",
              "</div>"
            ],
            "text/plain": [
              "                       ID  race  ...  labor_force_recode total_income_recode\n",
              "0  8329611509015080901101     1  ...                   1                  22\n",
              "1  8329611509015080901102     1  ...                   5                  30\n",
              "2  4238996011902050901101     1  ...                   1                  18\n",
              "3  4238996011902050901102     1  ...                   5                   9\n",
              "4  2059506120093750901101     1  ...                   1                  17\n",
              "\n",
              "[5 rows x 12 columns]"
            ]
          },
          "metadata": {
            "tags": []
          },
          "execution_count": 24
        }
      ]
    },
    {
      "cell_type": "code",
      "metadata": {
        "id": "wi98SrePZ1Fk"
      },
      "source": [
        "def dataframe(data, column):\n",
        "  \"\"\"Creating a bar chart to visualize the data:\n",
        "  Change labels for the race column to always show White and Black instead of 1 and 2 in the legend. \n",
        "  Normalize data for the chosen column to show percentages on the y-axis.\n",
        "  Create the bar chart via plotly.\"\"\"\n",
        "\n",
        "#race is part of every calculation - change 1,2 with White,Black to show in legend\n",
        "  data['race'] = data['race'].replace([1,2],['white','black']) \n",
        "\n",
        "#normalize data to emphasize difference between White and Black independent from sample size difference\n",
        "  name = (data.groupby(['race'])[column]  \n",
        "                .value_counts(normalize=True)\n",
        "                .rename('percentage')\n",
        "                .mul(100)#show 0-100% instead of 0-1.0\n",
        "                .reset_index())#To add percentage as a column\n",
        "\n",
        "  \n",
        "  #plot data in bar chart via plotly \n",
        "  fig = px.bar(name, x=column, y='percentage', color='race', barmode='group', height=600, width=800)\n",
        "  fig.update_traces(texttemplate='%{y:.2f}%', textposition='outside')#show the pecentage on top of each bar with max 2 decimals \n",
        "\n",
        "  return fig.show()"
      ],
      "execution_count": null,
      "outputs": []
    },
    {
      "cell_type": "markdown",
      "metadata": {
        "id": "1Hctrf86vvvl"
      },
      "source": [
        "**Note on Plotly graphs in this document:**\n",
        "\n",
        "- You can hover over thge Plotly graphs to see more information \n",
        "- If the image is not shown correctly, please reload the cell with the function to refresh the chart "
      ]
    },
    {
      "cell_type": "code",
      "metadata": {
        "id": "aohe1EejZ2Mj",
        "colab": {
          "base_uri": "https://localhost:8080/",
          "height": 616
        },
        "outputId": "f73e5846-1975-497e-db7c-647f7f5dfb95"
      },
      "source": [
        "#run the above function to display the plotly bar chart\n",
        "dataframe(race_finance,'financial_assistance')"
      ],
      "execution_count": null,
      "outputs": [
        {
          "output_type": "display_data",
          "data": {
            "text/html": [
              "<html>\n",
              "<head><meta charset=\"utf-8\" /></head>\n",
              "<body>\n",
              "    <div>\n",
              "            <script src=\"https://cdnjs.cloudflare.com/ajax/libs/mathjax/2.7.5/MathJax.js?config=TeX-AMS-MML_SVG\"></script><script type=\"text/javascript\">if (window.MathJax) {MathJax.Hub.Config({SVG: {font: \"STIX-Web\"}});}</script>\n",
              "                <script type=\"text/javascript\">window.PlotlyConfig = {MathJaxConfig: 'local'};</script>\n",
              "        <script src=\"https://cdn.plot.ly/plotly-latest.min.js\"></script>    \n",
              "            <div id=\"47883f2d-3f51-4c0a-a46f-0840fcee0f16\" class=\"plotly-graph-div\" style=\"height:600px; width:800px;\"></div>\n",
              "            <script type=\"text/javascript\">\n",
              "                \n",
              "                    window.PLOTLYENV=window.PLOTLYENV || {};\n",
              "                    \n",
              "                if (document.getElementById(\"47883f2d-3f51-4c0a-a46f-0840fcee0f16\")) {\n",
              "                    Plotly.newPlot(\n",
              "                        '47883f2d-3f51-4c0a-a46f-0840fcee0f16',\n",
              "                        [{\"alignmentgroup\": \"True\", \"hoverlabel\": {\"namelength\": 0}, \"hovertemplate\": \"race=black<br>financial_assistance=%{x}<br>percentage=%{y}\", \"legendgroup\": \"race=black\", \"marker\": {\"color\": \"#636efa\"}, \"name\": \"race=black\", \"offsetgroup\": \"race=black\", \"orientation\": \"v\", \"showlegend\": true, \"textposition\": \"outside\", \"texttemplate\": \"%{y:.2f}%\", \"type\": \"bar\", \"x\": [\"No\", \"Yes\"], \"xaxis\": \"x\", \"y\": [98.79562857780091, 1.2043714221990929], \"yaxis\": \"y\"}, {\"alignmentgroup\": \"True\", \"hoverlabel\": {\"namelength\": 0}, \"hovertemplate\": \"race=white<br>financial_assistance=%{x}<br>percentage=%{y}\", \"legendgroup\": \"race=white\", \"marker\": {\"color\": \"#EF553B\"}, \"name\": \"race=white\", \"offsetgroup\": \"race=white\", \"orientation\": \"v\", \"showlegend\": true, \"textposition\": \"outside\", \"texttemplate\": \"%{y:.2f}%\", \"type\": \"bar\", \"x\": [\"No\", \"Yes\"], \"xaxis\": \"x\", \"y\": [99.15987375400195, 0.8401262459980473], \"yaxis\": \"y\"}],\n",
              "                        {\"barmode\": \"group\", \"height\": 600, \"legend\": {\"tracegroupgap\": 0}, \"margin\": {\"t\": 60}, \"template\": {\"data\": {\"bar\": [{\"error_x\": {\"color\": \"#2a3f5f\"}, \"error_y\": {\"color\": \"#2a3f5f\"}, \"marker\": {\"line\": {\"color\": \"#E5ECF6\", \"width\": 0.5}}, \"type\": \"bar\"}], \"barpolar\": [{\"marker\": {\"line\": {\"color\": \"#E5ECF6\", \"width\": 0.5}}, \"type\": \"barpolar\"}], \"carpet\": [{\"aaxis\": {\"endlinecolor\": \"#2a3f5f\", \"gridcolor\": \"white\", \"linecolor\": \"white\", \"minorgridcolor\": \"white\", \"startlinecolor\": \"#2a3f5f\"}, \"baxis\": {\"endlinecolor\": \"#2a3f5f\", \"gridcolor\": \"white\", \"linecolor\": \"white\", \"minorgridcolor\": \"white\", \"startlinecolor\": \"#2a3f5f\"}, \"type\": \"carpet\"}], \"choropleth\": [{\"colorbar\": {\"outlinewidth\": 0, \"ticks\": \"\"}, \"type\": \"choropleth\"}], \"contour\": [{\"colorbar\": {\"outlinewidth\": 0, \"ticks\": \"\"}, \"colorscale\": [[0.0, \"#0d0887\"], [0.1111111111111111, \"#46039f\"], [0.2222222222222222, \"#7201a8\"], [0.3333333333333333, \"#9c179e\"], [0.4444444444444444, \"#bd3786\"], [0.5555555555555556, \"#d8576b\"], [0.6666666666666666, \"#ed7953\"], [0.7777777777777778, \"#fb9f3a\"], [0.8888888888888888, \"#fdca26\"], [1.0, \"#f0f921\"]], \"type\": \"contour\"}], \"contourcarpet\": [{\"colorbar\": {\"outlinewidth\": 0, \"ticks\": \"\"}, \"type\": \"contourcarpet\"}], \"heatmap\": [{\"colorbar\": {\"outlinewidth\": 0, \"ticks\": \"\"}, \"colorscale\": [[0.0, \"#0d0887\"], [0.1111111111111111, \"#46039f\"], [0.2222222222222222, \"#7201a8\"], [0.3333333333333333, \"#9c179e\"], [0.4444444444444444, \"#bd3786\"], [0.5555555555555556, \"#d8576b\"], [0.6666666666666666, \"#ed7953\"], [0.7777777777777778, \"#fb9f3a\"], [0.8888888888888888, \"#fdca26\"], [1.0, \"#f0f921\"]], \"type\": \"heatmap\"}], \"heatmapgl\": [{\"colorbar\": {\"outlinewidth\": 0, \"ticks\": \"\"}, \"colorscale\": [[0.0, \"#0d0887\"], [0.1111111111111111, \"#46039f\"], [0.2222222222222222, \"#7201a8\"], [0.3333333333333333, \"#9c179e\"], [0.4444444444444444, \"#bd3786\"], [0.5555555555555556, \"#d8576b\"], [0.6666666666666666, \"#ed7953\"], [0.7777777777777778, \"#fb9f3a\"], [0.8888888888888888, \"#fdca26\"], [1.0, \"#f0f921\"]], \"type\": \"heatmapgl\"}], \"histogram\": [{\"marker\": {\"colorbar\": {\"outlinewidth\": 0, \"ticks\": \"\"}}, \"type\": \"histogram\"}], \"histogram2d\": [{\"colorbar\": {\"outlinewidth\": 0, \"ticks\": \"\"}, \"colorscale\": [[0.0, \"#0d0887\"], [0.1111111111111111, \"#46039f\"], [0.2222222222222222, \"#7201a8\"], [0.3333333333333333, \"#9c179e\"], [0.4444444444444444, \"#bd3786\"], [0.5555555555555556, \"#d8576b\"], [0.6666666666666666, \"#ed7953\"], [0.7777777777777778, \"#fb9f3a\"], [0.8888888888888888, \"#fdca26\"], [1.0, \"#f0f921\"]], \"type\": \"histogram2d\"}], \"histogram2dcontour\": [{\"colorbar\": {\"outlinewidth\": 0, \"ticks\": \"\"}, \"colorscale\": [[0.0, \"#0d0887\"], [0.1111111111111111, \"#46039f\"], [0.2222222222222222, \"#7201a8\"], [0.3333333333333333, \"#9c179e\"], [0.4444444444444444, \"#bd3786\"], [0.5555555555555556, \"#d8576b\"], [0.6666666666666666, \"#ed7953\"], [0.7777777777777778, \"#fb9f3a\"], [0.8888888888888888, \"#fdca26\"], [1.0, \"#f0f921\"]], \"type\": \"histogram2dcontour\"}], \"mesh3d\": [{\"colorbar\": {\"outlinewidth\": 0, \"ticks\": \"\"}, \"type\": \"mesh3d\"}], \"parcoords\": [{\"line\": {\"colorbar\": {\"outlinewidth\": 0, \"ticks\": \"\"}}, \"type\": \"parcoords\"}], \"pie\": [{\"automargin\": true, \"type\": \"pie\"}], \"scatter\": [{\"marker\": {\"colorbar\": {\"outlinewidth\": 0, \"ticks\": \"\"}}, \"type\": \"scatter\"}], \"scatter3d\": [{\"line\": {\"colorbar\": {\"outlinewidth\": 0, \"ticks\": \"\"}}, \"marker\": {\"colorbar\": {\"outlinewidth\": 0, \"ticks\": \"\"}}, \"type\": \"scatter3d\"}], \"scattercarpet\": [{\"marker\": {\"colorbar\": {\"outlinewidth\": 0, \"ticks\": \"\"}}, \"type\": \"scattercarpet\"}], \"scattergeo\": [{\"marker\": {\"colorbar\": {\"outlinewidth\": 0, \"ticks\": \"\"}}, \"type\": \"scattergeo\"}], \"scattergl\": [{\"marker\": {\"colorbar\": {\"outlinewidth\": 0, \"ticks\": \"\"}}, \"type\": \"scattergl\"}], \"scattermapbox\": [{\"marker\": {\"colorbar\": {\"outlinewidth\": 0, \"ticks\": \"\"}}, \"type\": \"scattermapbox\"}], \"scatterpolar\": [{\"marker\": {\"colorbar\": {\"outlinewidth\": 0, \"ticks\": \"\"}}, \"type\": \"scatterpolar\"}], \"scatterpolargl\": [{\"marker\": {\"colorbar\": {\"outlinewidth\": 0, \"ticks\": \"\"}}, \"type\": \"scatterpolargl\"}], \"scatterternary\": [{\"marker\": {\"colorbar\": {\"outlinewidth\": 0, \"ticks\": \"\"}}, \"type\": \"scatterternary\"}], \"surface\": [{\"colorbar\": {\"outlinewidth\": 0, \"ticks\": \"\"}, \"colorscale\": [[0.0, \"#0d0887\"], [0.1111111111111111, \"#46039f\"], [0.2222222222222222, \"#7201a8\"], [0.3333333333333333, \"#9c179e\"], [0.4444444444444444, \"#bd3786\"], [0.5555555555555556, \"#d8576b\"], [0.6666666666666666, \"#ed7953\"], [0.7777777777777778, \"#fb9f3a\"], [0.8888888888888888, \"#fdca26\"], [1.0, \"#f0f921\"]], \"type\": \"surface\"}], \"table\": [{\"cells\": {\"fill\": {\"color\": \"#EBF0F8\"}, \"line\": {\"color\": \"white\"}}, \"header\": {\"fill\": {\"color\": \"#C8D4E3\"}, \"line\": {\"color\": \"white\"}}, \"type\": \"table\"}]}, \"layout\": {\"annotationdefaults\": {\"arrowcolor\": \"#2a3f5f\", \"arrowhead\": 0, \"arrowwidth\": 1}, \"coloraxis\": {\"colorbar\": {\"outlinewidth\": 0, \"ticks\": \"\"}}, \"colorscale\": {\"diverging\": [[0, \"#8e0152\"], [0.1, \"#c51b7d\"], [0.2, \"#de77ae\"], [0.3, \"#f1b6da\"], [0.4, \"#fde0ef\"], [0.5, \"#f7f7f7\"], [0.6, \"#e6f5d0\"], [0.7, \"#b8e186\"], [0.8, \"#7fbc41\"], [0.9, \"#4d9221\"], [1, \"#276419\"]], \"sequential\": [[0.0, \"#0d0887\"], [0.1111111111111111, \"#46039f\"], [0.2222222222222222, \"#7201a8\"], [0.3333333333333333, \"#9c179e\"], [0.4444444444444444, \"#bd3786\"], [0.5555555555555556, \"#d8576b\"], [0.6666666666666666, \"#ed7953\"], [0.7777777777777778, \"#fb9f3a\"], [0.8888888888888888, \"#fdca26\"], [1.0, \"#f0f921\"]], \"sequentialminus\": [[0.0, \"#0d0887\"], [0.1111111111111111, \"#46039f\"], [0.2222222222222222, \"#7201a8\"], [0.3333333333333333, \"#9c179e\"], [0.4444444444444444, \"#bd3786\"], [0.5555555555555556, \"#d8576b\"], [0.6666666666666666, \"#ed7953\"], [0.7777777777777778, \"#fb9f3a\"], [0.8888888888888888, \"#fdca26\"], [1.0, \"#f0f921\"]]}, \"colorway\": [\"#636efa\", \"#EF553B\", \"#00cc96\", \"#ab63fa\", \"#FFA15A\", \"#19d3f3\", \"#FF6692\", \"#B6E880\", \"#FF97FF\", \"#FECB52\"], \"font\": {\"color\": \"#2a3f5f\"}, \"geo\": {\"bgcolor\": \"white\", \"lakecolor\": \"white\", \"landcolor\": \"#E5ECF6\", \"showlakes\": true, \"showland\": true, \"subunitcolor\": \"white\"}, \"hoverlabel\": {\"align\": \"left\"}, \"hovermode\": \"closest\", \"mapbox\": {\"style\": \"light\"}, \"paper_bgcolor\": \"white\", \"plot_bgcolor\": \"#E5ECF6\", \"polar\": {\"angularaxis\": {\"gridcolor\": \"white\", \"linecolor\": \"white\", \"ticks\": \"\"}, \"bgcolor\": \"#E5ECF6\", \"radialaxis\": {\"gridcolor\": \"white\", \"linecolor\": \"white\", \"ticks\": \"\"}}, \"scene\": {\"xaxis\": {\"backgroundcolor\": \"#E5ECF6\", \"gridcolor\": \"white\", \"gridwidth\": 2, \"linecolor\": \"white\", \"showbackground\": true, \"ticks\": \"\", \"zerolinecolor\": \"white\"}, \"yaxis\": {\"backgroundcolor\": \"#E5ECF6\", \"gridcolor\": \"white\", \"gridwidth\": 2, \"linecolor\": \"white\", \"showbackground\": true, \"ticks\": \"\", \"zerolinecolor\": \"white\"}, \"zaxis\": {\"backgroundcolor\": \"#E5ECF6\", \"gridcolor\": \"white\", \"gridwidth\": 2, \"linecolor\": \"white\", \"showbackground\": true, \"ticks\": \"\", \"zerolinecolor\": \"white\"}}, \"shapedefaults\": {\"line\": {\"color\": \"#2a3f5f\"}}, \"ternary\": {\"aaxis\": {\"gridcolor\": \"white\", \"linecolor\": \"white\", \"ticks\": \"\"}, \"baxis\": {\"gridcolor\": \"white\", \"linecolor\": \"white\", \"ticks\": \"\"}, \"bgcolor\": \"#E5ECF6\", \"caxis\": {\"gridcolor\": \"white\", \"linecolor\": \"white\", \"ticks\": \"\"}}, \"title\": {\"x\": 0.05}, \"xaxis\": {\"automargin\": true, \"gridcolor\": \"white\", \"linecolor\": \"white\", \"ticks\": \"\", \"title\": {\"standoff\": 15}, \"zerolinecolor\": \"white\", \"zerolinewidth\": 2}, \"yaxis\": {\"automargin\": true, \"gridcolor\": \"white\", \"linecolor\": \"white\", \"ticks\": \"\", \"title\": {\"standoff\": 15}, \"zerolinecolor\": \"white\", \"zerolinewidth\": 2}}}, \"width\": 800, \"xaxis\": {\"anchor\": \"y\", \"domain\": [0.0, 1.0], \"title\": {\"text\": \"financial_assistance\"}}, \"yaxis\": {\"anchor\": \"x\", \"domain\": [0.0, 1.0], \"title\": {\"text\": \"percentage\"}}},\n",
              "                        {\"responsive\": true}\n",
              "                    ).then(function(){\n",
              "                            \n",
              "var gd = document.getElementById('47883f2d-3f51-4c0a-a46f-0840fcee0f16');\n",
              "var x = new MutationObserver(function (mutations, observer) {{\n",
              "        var display = window.getComputedStyle(gd).display;\n",
              "        if (!display || display === 'none') {{\n",
              "            console.log([gd, 'removed!']);\n",
              "            Plotly.purge(gd);\n",
              "            observer.disconnect();\n",
              "        }}\n",
              "}});\n",
              "\n",
              "// Listen for the removal of the full notebook cells\n",
              "var notebookContainer = gd.closest('#notebook-container');\n",
              "if (notebookContainer) {{\n",
              "    x.observe(notebookContainer, {childList: true});\n",
              "}}\n",
              "\n",
              "// Listen for the clearing of the current output cell\n",
              "var outputEl = gd.closest('.output');\n",
              "if (outputEl) {{\n",
              "    x.observe(outputEl, {childList: true});\n",
              "}}\n",
              "\n",
              "                        })\n",
              "                };\n",
              "                \n",
              "            </script>\n",
              "        </div>\n",
              "</body>\n",
              "</html>"
            ]
          },
          "metadata": {
            "tags": []
          }
        }
      ]
    },
    {
      "cell_type": "markdown",
      "metadata": {
        "id": "064ciqlpHCGR"
      },
      "source": [
        "## Chi-Square Test and Cramér's V for Poverty Level and Race (White and Black)"
      ]
    },
    {
      "cell_type": "markdown",
      "metadata": {
        "id": "_ibaJ8VsXYyN"
      },
      "source": [
        "Null Hypothesis: \"There is no effect of race on poverty level\".<br>\n",
        "Alternative Hypothesis: \"There is an effect of race on poverty level\"."
      ]
    },
    {
      "cell_type": "code",
      "metadata": {
        "id": "ncfQz2j53zVC"
      },
      "source": [
        "#exclude -1 = NOT IN POVERTY UNIVERSE\n",
        "poverty = race[(race['poverty_level'].isin([1,2,3,4]))] "
      ],
      "execution_count": null,
      "outputs": []
    },
    {
      "cell_type": "code",
      "metadata": {
        "id": "J4OZpnar5An4",
        "colab": {
          "base_uri": "https://localhost:8080/"
        },
        "outputId": "f240008d-e50c-45b6-a827-971f887ea012"
      },
      "source": [
        "poverty['poverty_level'].value_counts()"
      ],
      "execution_count": null,
      "outputs": [
        {
          "output_type": "execute_result",
          "data": {
            "text/plain": [
              "4    84833\n",
              "1     9504\n",
              "3     3633\n",
              "2     3563\n",
              "Name: poverty_level, dtype: int64"
            ]
          },
          "metadata": {
            "tags": []
          },
          "execution_count": 28
        }
      ]
    },
    {
      "cell_type": "code",
      "metadata": {
        "id": "Nikb-_tAAXPc"
      },
      "source": [
        "#create crosstab for chi-square and cramer's v calculation\n",
        "race_poverty_crosstab = pd.crosstab(poverty['poverty_level'],  \n",
        "                            poverty['race'],\n",
        "                                margins = False) "
      ],
      "execution_count": null,
      "outputs": []
    },
    {
      "cell_type": "code",
      "metadata": {
        "id": "NWb1g6KJAvKK",
        "colab": {
          "base_uri": "https://localhost:8080/"
        },
        "outputId": "94783e0c-e926-41c7-ae00-e0508fdbb10c"
      },
      "source": [
        "print(race_poverty_crosstab)"
      ],
      "execution_count": null,
      "outputs": [
        {
          "output_type": "stream",
          "text": [
            "race               1     2\n",
            "poverty_level             \n",
            "1               7230  2274\n",
            "2               2831   732\n",
            "3               3021   612\n",
            "4              75000  9833\n"
          ],
          "name": "stdout"
        }
      ]
    },
    {
      "cell_type": "code",
      "metadata": {
        "id": "SQ7B-fSGcqf0",
        "colab": {
          "base_uri": "https://localhost:8080/"
        },
        "outputId": "3ab30bed-a35c-425e-c819-5aa548a5ebf9"
      },
      "source": [
        "#run chi-square and cramer's v function\n",
        "chi_square(race_poverty_crosstab)"
      ],
      "execution_count": null,
      "outputs": [
        {
          "output_type": "stream",
          "text": [
            "\u001b[1mChi-Square Test\u001b[0m\n",
            "degrees of freedom = 3\n",
            "\n",
            "Expected frequencies:\n",
            " [[ 8244.91867669  1259.08132331]\n",
            " [ 3090.97698285   472.02301715]\n",
            " [ 3151.70344617   481.29655383]\n",
            " [73594.40089429 11238.59910571]]\n",
            "\n",
            "alpha=0.050, p-value=0.000\n",
            "p-value <= 0.05. Reject H0 that there is no association between the two variables.\n",
            "\n",
            "\u001b[1mCramer's V for: \u001b[0m\n",
            "race\n",
            "1    0.123876\n",
            "2    0.316997\n",
            "dtype: float64\n"
          ],
          "name": "stdout"
        }
      ]
    },
    {
      "cell_type": "markdown",
      "metadata": {
        "id": "hBkxbu2FQQPm"
      },
      "source": [
        "###Chi-Square Interpretation\n",
        "\n",
        "Reject the Null Hypothesis that there is no effect of race on poverty level<br>\n",
        "\n",
        "White shows a lesser incidence of being below the poverty level, at 100 - 124% of the poverty level, and 125 - 149% of the poverty level.<br>\n",
        "White shows a greater incidence of being at 150 and above the poverty level.<br>\n",
        "\n",
        "Black shows a greater incidence of being below the poverty level, at 100 - 124% of the poverty level and 125 - 149% of the poverty level.<br>\n",
        "Black shows show a lesser incidence of being at 150 and above the poverty level.<br>"
      ]
    },
    {
      "cell_type": "markdown",
      "metadata": {
        "id": "kU8KCKj3QThP"
      },
      "source": [
        "###Cramér's V Interpretation\n",
        "\n",
        "The results do not suggest that chi-square is statistically significant due to the large sample size.<br>\n",
        "The Cramér's V for White suggests a low association.<br>\n",
        "The Cramér's V for Blacks suggests a moderate association."
      ]
    },
    {
      "cell_type": "markdown",
      "metadata": {
        "id": "GcQdfWpBxkp2"
      },
      "source": [
        "### Visualization"
      ]
    },
    {
      "cell_type": "code",
      "metadata": {
        "id": "iBoH1vnvzYxE"
      },
      "source": [
        "#replace numbers with the value for the bar chart\n",
        "poverty['poverty_level'] = poverty['poverty_level'].replace([1,2,3,4],['BELOW POVERTY LEVEL','100-124% OF THE POVERTY LEVEL','125-149% OF THE POVERTY LEVEL','150 AND ABOVE THE POVERTY LEVEL'])"
      ],
      "execution_count": null,
      "outputs": []
    },
    {
      "cell_type": "code",
      "metadata": {
        "colab": {
          "base_uri": "https://localhost:8080/",
          "height": 384
        },
        "id": "k892wleqv8Oq",
        "outputId": "b3887562-682a-4c02-b23d-e3eef23724b7"
      },
      "source": [
        "poverty.head()"
      ],
      "execution_count": null,
      "outputs": [
        {
          "output_type": "execute_result",
          "data": {
            "text/html": [
              "<div>\n",
              "<style scoped>\n",
              "    .dataframe tbody tr th:only-of-type {\n",
              "        vertical-align: middle;\n",
              "    }\n",
              "\n",
              "    .dataframe tbody tr th {\n",
              "        vertical-align: top;\n",
              "    }\n",
              "\n",
              "    .dataframe thead th {\n",
              "        text-align: right;\n",
              "    }\n",
              "</style>\n",
              "<table border=\"1\" class=\"dataframe\">\n",
              "  <thead>\n",
              "    <tr style=\"text-align: right;\">\n",
              "      <th></th>\n",
              "      <th>ID</th>\n",
              "      <th>race</th>\n",
              "      <th>AGE1</th>\n",
              "      <th>financial_assistance</th>\n",
              "      <th>poverty_level</th>\n",
              "      <th>health_insurance</th>\n",
              "      <th>health_status</th>\n",
              "      <th>medicaid_coverage</th>\n",
              "      <th>ed_attainment</th>\n",
              "      <th>employment_status</th>\n",
              "      <th>labor_force_recode</th>\n",
              "      <th>total_income_recode</th>\n",
              "    </tr>\n",
              "  </thead>\n",
              "  <tbody>\n",
              "    <tr>\n",
              "      <th>0</th>\n",
              "      <td>8329611509015080901101</td>\n",
              "      <td>1</td>\n",
              "      <td>14</td>\n",
              "      <td>2</td>\n",
              "      <td>150 AND ABOVE THE POVERTY LEVEL</td>\n",
              "      <td>1</td>\n",
              "      <td>3</td>\n",
              "      <td>2</td>\n",
              "      <td>39</td>\n",
              "      <td>1</td>\n",
              "      <td>1</td>\n",
              "      <td>22</td>\n",
              "    </tr>\n",
              "    <tr>\n",
              "      <th>1</th>\n",
              "      <td>8329611509015080901102</td>\n",
              "      <td>1</td>\n",
              "      <td>15</td>\n",
              "      <td>2</td>\n",
              "      <td>150 AND ABOVE THE POVERTY LEVEL</td>\n",
              "      <td>1</td>\n",
              "      <td>3</td>\n",
              "      <td>2</td>\n",
              "      <td>39</td>\n",
              "      <td>0</td>\n",
              "      <td>5</td>\n",
              "      <td>30</td>\n",
              "    </tr>\n",
              "    <tr>\n",
              "      <th>2</th>\n",
              "      <td>4238996011902050901101</td>\n",
              "      <td>1</td>\n",
              "      <td>14</td>\n",
              "      <td>2</td>\n",
              "      <td>150 AND ABOVE THE POVERTY LEVEL</td>\n",
              "      <td>1</td>\n",
              "      <td>3</td>\n",
              "      <td>2</td>\n",
              "      <td>39</td>\n",
              "      <td>1</td>\n",
              "      <td>1</td>\n",
              "      <td>18</td>\n",
              "    </tr>\n",
              "    <tr>\n",
              "      <th>3</th>\n",
              "      <td>4238996011902050901102</td>\n",
              "      <td>1</td>\n",
              "      <td>16</td>\n",
              "      <td>2</td>\n",
              "      <td>150 AND ABOVE THE POVERTY LEVEL</td>\n",
              "      <td>1</td>\n",
              "      <td>3</td>\n",
              "      <td>2</td>\n",
              "      <td>36</td>\n",
              "      <td>0</td>\n",
              "      <td>5</td>\n",
              "      <td>9</td>\n",
              "    </tr>\n",
              "    <tr>\n",
              "      <th>4</th>\n",
              "      <td>2059506120093750901101</td>\n",
              "      <td>1</td>\n",
              "      <td>11</td>\n",
              "      <td>2</td>\n",
              "      <td>150 AND ABOVE THE POVERTY LEVEL</td>\n",
              "      <td>1</td>\n",
              "      <td>2</td>\n",
              "      <td>2</td>\n",
              "      <td>39</td>\n",
              "      <td>1</td>\n",
              "      <td>1</td>\n",
              "      <td>17</td>\n",
              "    </tr>\n",
              "  </tbody>\n",
              "</table>\n",
              "</div>"
            ],
            "text/plain": [
              "                       ID  race  ...  labor_force_recode  total_income_recode\n",
              "0  8329611509015080901101     1  ...                   1                   22\n",
              "1  8329611509015080901102     1  ...                   5                   30\n",
              "2  4238996011902050901101     1  ...                   1                   18\n",
              "3  4238996011902050901102     1  ...                   5                    9\n",
              "4  2059506120093750901101     1  ...                   1                   17\n",
              "\n",
              "[5 rows x 12 columns]"
            ]
          },
          "metadata": {
            "tags": []
          },
          "execution_count": 33
        }
      ]
    },
    {
      "cell_type": "code",
      "metadata": {
        "id": "7fZULB-zVPgW",
        "colab": {
          "base_uri": "https://localhost:8080/",
          "height": 616
        },
        "outputId": "0bb2b249-7394-4a15-8872-14db10358e4d"
      },
      "source": [
        "#run normalizing data and plotly bar chart function\n",
        "dataframe(poverty,'poverty_level')"
      ],
      "execution_count": null,
      "outputs": [
        {
          "output_type": "display_data",
          "data": {
            "text/html": [
              "<html>\n",
              "<head><meta charset=\"utf-8\" /></head>\n",
              "<body>\n",
              "    <div>\n",
              "            <script src=\"https://cdnjs.cloudflare.com/ajax/libs/mathjax/2.7.5/MathJax.js?config=TeX-AMS-MML_SVG\"></script><script type=\"text/javascript\">if (window.MathJax) {MathJax.Hub.Config({SVG: {font: \"STIX-Web\"}});}</script>\n",
              "                <script type=\"text/javascript\">window.PlotlyConfig = {MathJaxConfig: 'local'};</script>\n",
              "        <script src=\"https://cdn.plot.ly/plotly-latest.min.js\"></script>    \n",
              "            <div id=\"a969b6ac-3686-414c-b941-54beb5609bc9\" class=\"plotly-graph-div\" style=\"height:600px; width:800px;\"></div>\n",
              "            <script type=\"text/javascript\">\n",
              "                \n",
              "                    window.PLOTLYENV=window.PLOTLYENV || {};\n",
              "                    \n",
              "                if (document.getElementById(\"a969b6ac-3686-414c-b941-54beb5609bc9\")) {\n",
              "                    Plotly.newPlot(\n",
              "                        'a969b6ac-3686-414c-b941-54beb5609bc9',\n",
              "                        [{\"alignmentgroup\": \"True\", \"hoverlabel\": {\"namelength\": 0}, \"hovertemplate\": \"race=black<br>poverty_level=%{x}<br>percentage=%{y}\", \"legendgroup\": \"race=black\", \"marker\": {\"color\": \"#636efa\"}, \"name\": \"race=black\", \"offsetgroup\": \"race=black\", \"orientation\": \"v\", \"showlegend\": true, \"textposition\": \"outside\", \"texttemplate\": \"%{y:.2f}%\", \"type\": \"bar\", \"x\": [\"150 AND ABOVE THE POVERTY LEVEL\", \"BELOW POVERTY LEVEL\", \"100-124% OF THE POVERTY LEVEL\", \"125-149% OF THE POVERTY LEVEL\"], \"xaxis\": \"x\", \"y\": [73.10237157088693, 16.90580625975764, 5.441974574381088, 4.549847594974351], \"yaxis\": \"y\"}, {\"alignmentgroup\": \"True\", \"hoverlabel\": {\"namelength\": 0}, \"hovertemplate\": \"race=white<br>poverty_level=%{x}<br>percentage=%{y}\", \"legendgroup\": \"race=white\", \"marker\": {\"color\": \"#EF553B\"}, \"name\": \"race=white\", \"offsetgroup\": \"race=white\", \"orientation\": \"v\", \"showlegend\": true, \"textposition\": \"outside\", \"texttemplate\": \"%{y:.2f}%\", \"type\": \"bar\", \"x\": [\"150 AND ABOVE THE POVERTY LEVEL\", \"BELOW POVERTY LEVEL\", \"125-149% OF THE POVERTY LEVEL\", \"100-124% OF THE POVERTY LEVEL\"], \"xaxis\": \"x\", \"y\": [85.14793033763992, 8.20826048454849, 3.4297586340001365, 3.214050543811448], \"yaxis\": \"y\"}],\n",
              "                        {\"barmode\": \"group\", \"height\": 600, \"legend\": {\"tracegroupgap\": 0}, \"margin\": {\"t\": 60}, \"template\": {\"data\": {\"bar\": [{\"error_x\": {\"color\": \"#2a3f5f\"}, \"error_y\": {\"color\": \"#2a3f5f\"}, \"marker\": {\"line\": {\"color\": \"#E5ECF6\", \"width\": 0.5}}, \"type\": \"bar\"}], \"barpolar\": [{\"marker\": {\"line\": {\"color\": \"#E5ECF6\", \"width\": 0.5}}, \"type\": \"barpolar\"}], \"carpet\": [{\"aaxis\": {\"endlinecolor\": \"#2a3f5f\", \"gridcolor\": \"white\", \"linecolor\": \"white\", \"minorgridcolor\": \"white\", \"startlinecolor\": \"#2a3f5f\"}, \"baxis\": {\"endlinecolor\": \"#2a3f5f\", \"gridcolor\": \"white\", \"linecolor\": \"white\", \"minorgridcolor\": \"white\", \"startlinecolor\": \"#2a3f5f\"}, \"type\": \"carpet\"}], \"choropleth\": [{\"colorbar\": {\"outlinewidth\": 0, \"ticks\": \"\"}, \"type\": \"choropleth\"}], \"contour\": [{\"colorbar\": {\"outlinewidth\": 0, \"ticks\": \"\"}, \"colorscale\": [[0.0, \"#0d0887\"], [0.1111111111111111, \"#46039f\"], [0.2222222222222222, \"#7201a8\"], [0.3333333333333333, \"#9c179e\"], [0.4444444444444444, \"#bd3786\"], [0.5555555555555556, \"#d8576b\"], [0.6666666666666666, \"#ed7953\"], [0.7777777777777778, \"#fb9f3a\"], [0.8888888888888888, \"#fdca26\"], [1.0, \"#f0f921\"]], \"type\": \"contour\"}], \"contourcarpet\": [{\"colorbar\": {\"outlinewidth\": 0, \"ticks\": \"\"}, \"type\": \"contourcarpet\"}], \"heatmap\": [{\"colorbar\": {\"outlinewidth\": 0, \"ticks\": \"\"}, \"colorscale\": [[0.0, \"#0d0887\"], [0.1111111111111111, \"#46039f\"], [0.2222222222222222, \"#7201a8\"], [0.3333333333333333, \"#9c179e\"], [0.4444444444444444, \"#bd3786\"], [0.5555555555555556, \"#d8576b\"], [0.6666666666666666, \"#ed7953\"], [0.7777777777777778, \"#fb9f3a\"], [0.8888888888888888, \"#fdca26\"], [1.0, \"#f0f921\"]], \"type\": \"heatmap\"}], \"heatmapgl\": [{\"colorbar\": {\"outlinewidth\": 0, \"ticks\": \"\"}, \"colorscale\": [[0.0, \"#0d0887\"], [0.1111111111111111, \"#46039f\"], [0.2222222222222222, \"#7201a8\"], [0.3333333333333333, \"#9c179e\"], [0.4444444444444444, \"#bd3786\"], [0.5555555555555556, \"#d8576b\"], [0.6666666666666666, \"#ed7953\"], [0.7777777777777778, \"#fb9f3a\"], [0.8888888888888888, \"#fdca26\"], [1.0, \"#f0f921\"]], \"type\": \"heatmapgl\"}], \"histogram\": [{\"marker\": {\"colorbar\": {\"outlinewidth\": 0, \"ticks\": \"\"}}, \"type\": \"histogram\"}], \"histogram2d\": [{\"colorbar\": {\"outlinewidth\": 0, \"ticks\": \"\"}, \"colorscale\": [[0.0, \"#0d0887\"], [0.1111111111111111, \"#46039f\"], [0.2222222222222222, \"#7201a8\"], [0.3333333333333333, \"#9c179e\"], [0.4444444444444444, \"#bd3786\"], [0.5555555555555556, \"#d8576b\"], [0.6666666666666666, \"#ed7953\"], [0.7777777777777778, \"#fb9f3a\"], [0.8888888888888888, \"#fdca26\"], [1.0, \"#f0f921\"]], \"type\": \"histogram2d\"}], \"histogram2dcontour\": [{\"colorbar\": {\"outlinewidth\": 0, \"ticks\": \"\"}, \"colorscale\": [[0.0, \"#0d0887\"], [0.1111111111111111, \"#46039f\"], [0.2222222222222222, \"#7201a8\"], [0.3333333333333333, \"#9c179e\"], [0.4444444444444444, \"#bd3786\"], [0.5555555555555556, \"#d8576b\"], [0.6666666666666666, \"#ed7953\"], [0.7777777777777778, \"#fb9f3a\"], [0.8888888888888888, \"#fdca26\"], [1.0, \"#f0f921\"]], \"type\": \"histogram2dcontour\"}], \"mesh3d\": [{\"colorbar\": {\"outlinewidth\": 0, \"ticks\": \"\"}, \"type\": \"mesh3d\"}], \"parcoords\": [{\"line\": {\"colorbar\": {\"outlinewidth\": 0, \"ticks\": \"\"}}, \"type\": \"parcoords\"}], \"pie\": [{\"automargin\": true, \"type\": \"pie\"}], \"scatter\": [{\"marker\": {\"colorbar\": {\"outlinewidth\": 0, \"ticks\": \"\"}}, \"type\": \"scatter\"}], \"scatter3d\": [{\"line\": {\"colorbar\": {\"outlinewidth\": 0, \"ticks\": \"\"}}, \"marker\": {\"colorbar\": {\"outlinewidth\": 0, \"ticks\": \"\"}}, \"type\": \"scatter3d\"}], \"scattercarpet\": [{\"marker\": {\"colorbar\": {\"outlinewidth\": 0, \"ticks\": \"\"}}, \"type\": \"scattercarpet\"}], \"scattergeo\": [{\"marker\": {\"colorbar\": {\"outlinewidth\": 0, \"ticks\": \"\"}}, \"type\": \"scattergeo\"}], \"scattergl\": [{\"marker\": {\"colorbar\": {\"outlinewidth\": 0, \"ticks\": \"\"}}, \"type\": \"scattergl\"}], \"scattermapbox\": [{\"marker\": {\"colorbar\": {\"outlinewidth\": 0, \"ticks\": \"\"}}, \"type\": \"scattermapbox\"}], \"scatterpolar\": [{\"marker\": {\"colorbar\": {\"outlinewidth\": 0, \"ticks\": \"\"}}, \"type\": \"scatterpolar\"}], \"scatterpolargl\": [{\"marker\": {\"colorbar\": {\"outlinewidth\": 0, \"ticks\": \"\"}}, \"type\": \"scatterpolargl\"}], \"scatterternary\": [{\"marker\": {\"colorbar\": {\"outlinewidth\": 0, \"ticks\": \"\"}}, \"type\": \"scatterternary\"}], \"surface\": [{\"colorbar\": {\"outlinewidth\": 0, \"ticks\": \"\"}, \"colorscale\": [[0.0, \"#0d0887\"], [0.1111111111111111, \"#46039f\"], [0.2222222222222222, \"#7201a8\"], [0.3333333333333333, \"#9c179e\"], [0.4444444444444444, \"#bd3786\"], [0.5555555555555556, \"#d8576b\"], [0.6666666666666666, \"#ed7953\"], [0.7777777777777778, \"#fb9f3a\"], [0.8888888888888888, \"#fdca26\"], [1.0, \"#f0f921\"]], \"type\": \"surface\"}], \"table\": [{\"cells\": {\"fill\": {\"color\": \"#EBF0F8\"}, \"line\": {\"color\": \"white\"}}, \"header\": {\"fill\": {\"color\": \"#C8D4E3\"}, \"line\": {\"color\": \"white\"}}, \"type\": \"table\"}]}, \"layout\": {\"annotationdefaults\": {\"arrowcolor\": \"#2a3f5f\", \"arrowhead\": 0, \"arrowwidth\": 1}, \"coloraxis\": {\"colorbar\": {\"outlinewidth\": 0, \"ticks\": \"\"}}, \"colorscale\": {\"diverging\": [[0, \"#8e0152\"], [0.1, \"#c51b7d\"], [0.2, \"#de77ae\"], [0.3, \"#f1b6da\"], [0.4, \"#fde0ef\"], [0.5, \"#f7f7f7\"], [0.6, \"#e6f5d0\"], [0.7, \"#b8e186\"], [0.8, \"#7fbc41\"], [0.9, \"#4d9221\"], [1, \"#276419\"]], \"sequential\": [[0.0, \"#0d0887\"], [0.1111111111111111, \"#46039f\"], [0.2222222222222222, \"#7201a8\"], [0.3333333333333333, \"#9c179e\"], [0.4444444444444444, \"#bd3786\"], [0.5555555555555556, \"#d8576b\"], [0.6666666666666666, \"#ed7953\"], [0.7777777777777778, \"#fb9f3a\"], [0.8888888888888888, \"#fdca26\"], [1.0, \"#f0f921\"]], \"sequentialminus\": [[0.0, \"#0d0887\"], [0.1111111111111111, \"#46039f\"], [0.2222222222222222, \"#7201a8\"], [0.3333333333333333, \"#9c179e\"], [0.4444444444444444, \"#bd3786\"], [0.5555555555555556, \"#d8576b\"], [0.6666666666666666, \"#ed7953\"], [0.7777777777777778, \"#fb9f3a\"], [0.8888888888888888, \"#fdca26\"], [1.0, \"#f0f921\"]]}, \"colorway\": [\"#636efa\", \"#EF553B\", \"#00cc96\", \"#ab63fa\", \"#FFA15A\", \"#19d3f3\", \"#FF6692\", \"#B6E880\", \"#FF97FF\", \"#FECB52\"], \"font\": {\"color\": \"#2a3f5f\"}, \"geo\": {\"bgcolor\": \"white\", \"lakecolor\": \"white\", \"landcolor\": \"#E5ECF6\", \"showlakes\": true, \"showland\": true, \"subunitcolor\": \"white\"}, \"hoverlabel\": {\"align\": \"left\"}, \"hovermode\": \"closest\", \"mapbox\": {\"style\": \"light\"}, \"paper_bgcolor\": \"white\", \"plot_bgcolor\": \"#E5ECF6\", \"polar\": {\"angularaxis\": {\"gridcolor\": \"white\", \"linecolor\": \"white\", \"ticks\": \"\"}, \"bgcolor\": \"#E5ECF6\", \"radialaxis\": {\"gridcolor\": \"white\", \"linecolor\": \"white\", \"ticks\": \"\"}}, \"scene\": {\"xaxis\": {\"backgroundcolor\": \"#E5ECF6\", \"gridcolor\": \"white\", \"gridwidth\": 2, \"linecolor\": \"white\", \"showbackground\": true, \"ticks\": \"\", \"zerolinecolor\": \"white\"}, \"yaxis\": {\"backgroundcolor\": \"#E5ECF6\", \"gridcolor\": \"white\", \"gridwidth\": 2, \"linecolor\": \"white\", \"showbackground\": true, \"ticks\": \"\", \"zerolinecolor\": \"white\"}, \"zaxis\": {\"backgroundcolor\": \"#E5ECF6\", \"gridcolor\": \"white\", \"gridwidth\": 2, \"linecolor\": \"white\", \"showbackground\": true, \"ticks\": \"\", \"zerolinecolor\": \"white\"}}, \"shapedefaults\": {\"line\": {\"color\": \"#2a3f5f\"}}, \"ternary\": {\"aaxis\": {\"gridcolor\": \"white\", \"linecolor\": \"white\", \"ticks\": \"\"}, \"baxis\": {\"gridcolor\": \"white\", \"linecolor\": \"white\", \"ticks\": \"\"}, \"bgcolor\": \"#E5ECF6\", \"caxis\": {\"gridcolor\": \"white\", \"linecolor\": \"white\", \"ticks\": \"\"}}, \"title\": {\"x\": 0.05}, \"xaxis\": {\"automargin\": true, \"gridcolor\": \"white\", \"linecolor\": \"white\", \"ticks\": \"\", \"title\": {\"standoff\": 15}, \"zerolinecolor\": \"white\", \"zerolinewidth\": 2}, \"yaxis\": {\"automargin\": true, \"gridcolor\": \"white\", \"linecolor\": \"white\", \"ticks\": \"\", \"title\": {\"standoff\": 15}, \"zerolinecolor\": \"white\", \"zerolinewidth\": 2}}}, \"width\": 800, \"xaxis\": {\"anchor\": \"y\", \"domain\": [0.0, 1.0], \"title\": {\"text\": \"poverty_level\"}}, \"yaxis\": {\"anchor\": \"x\", \"domain\": [0.0, 1.0], \"title\": {\"text\": \"percentage\"}}},\n",
              "                        {\"responsive\": true}\n",
              "                    ).then(function(){\n",
              "                            \n",
              "var gd = document.getElementById('a969b6ac-3686-414c-b941-54beb5609bc9');\n",
              "var x = new MutationObserver(function (mutations, observer) {{\n",
              "        var display = window.getComputedStyle(gd).display;\n",
              "        if (!display || display === 'none') {{\n",
              "            console.log([gd, 'removed!']);\n",
              "            Plotly.purge(gd);\n",
              "            observer.disconnect();\n",
              "        }}\n",
              "}});\n",
              "\n",
              "// Listen for the removal of the full notebook cells\n",
              "var notebookContainer = gd.closest('#notebook-container');\n",
              "if (notebookContainer) {{\n",
              "    x.observe(notebookContainer, {childList: true});\n",
              "}}\n",
              "\n",
              "// Listen for the clearing of the current output cell\n",
              "var outputEl = gd.closest('.output');\n",
              "if (outputEl) {{\n",
              "    x.observe(outputEl, {childList: true});\n",
              "}}\n",
              "\n",
              "                        })\n",
              "                };\n",
              "                \n",
              "            </script>\n",
              "        </div>\n",
              "</body>\n",
              "</html>"
            ]
          },
          "metadata": {
            "tags": []
          }
        }
      ]
    },
    {
      "cell_type": "markdown",
      "metadata": {
        "id": "MwEvLrhewLiH"
      },
      "source": [
        "## Chi-Square Test and Cramér's V for Health Insurance Coverage and Race (White and Black) \n",
        "\n"
      ]
    },
    {
      "cell_type": "markdown",
      "metadata": {
        "id": "a00mD-r3XEMp"
      },
      "source": [
        "Null Hypothesis is: \"There is no effect of race on having health insurance coverage\".<br>\n",
        "Alternative Hypothesis: \"There is an effect of race on having health insurance coverage\"."
      ]
    },
    {
      "cell_type": "code",
      "metadata": {
        "id": "N3DGth0l6NPy"
      },
      "source": [
        "#exclude 0=Infant born after calendar year\n",
        "coverage = race[(race['health_insurance'].isin([1, 2]))]\n"
      ],
      "execution_count": null,
      "outputs": []
    },
    {
      "cell_type": "code",
      "metadata": {
        "id": "53dXToLv6UBV",
        "colab": {
          "base_uri": "https://localhost:8080/"
        },
        "outputId": "21d5a4d4-4501-4476-d91e-067110f32e14"
      },
      "source": [
        "coverage['health_insurance'].value_counts()"
      ],
      "execution_count": null,
      "outputs": [
        {
          "output_type": "execute_result",
          "data": {
            "text/plain": [
              "1    92942\n",
              "2     8591\n",
              "Name: health_insurance, dtype: int64"
            ]
          },
          "metadata": {
            "tags": []
          },
          "execution_count": 36
        }
      ]
    },
    {
      "cell_type": "code",
      "metadata": {
        "id": "6FwMfSXCwR_v"
      },
      "source": [
        "#create crosstab for chi-square and cramer's v calculation\n",
        "race_coverage_crosstab = pd.crosstab(coverage['health_insurance'],  \n",
        "                            coverage['race'],\n",
        "                                margins = False) "
      ],
      "execution_count": null,
      "outputs": []
    },
    {
      "cell_type": "code",
      "metadata": {
        "id": "Dw-Wdmxiz1ju",
        "colab": {
          "base_uri": "https://localhost:8080/"
        },
        "outputId": "b739f1fe-6b43-43c3-8823-dec71df23ab2"
      },
      "source": [
        "print(race_coverage_crosstab)"
      ],
      "execution_count": null,
      "outputs": [
        {
          "output_type": "stream",
          "text": [
            "race                  1      2\n",
            "health_insurance              \n",
            "1                 80764  12178\n",
            "2                  7318   1273\n"
          ],
          "name": "stdout"
        }
      ]
    },
    {
      "cell_type": "code",
      "metadata": {
        "id": "4J5WuFgFxz6l",
        "colab": {
          "base_uri": "https://localhost:8080/"
        },
        "outputId": "30f80858-444d-4d16-8113-6f0d665edd26"
      },
      "source": [
        "#run chi-square and cramer's v function\n",
        "chi_square(race_coverage_crosstab)"
      ],
      "execution_count": null,
      "outputs": [
        {
          "output_type": "stream",
          "text": [
            "\u001b[1mChi-Square Test\u001b[0m\n",
            "degrees of freedom = 1\n",
            "\n",
            "Expected frequencies:\n",
            " [[80629.12790915 12312.87209085]\n",
            " [ 7452.87209085  1138.12790915]]\n",
            "\n",
            "alpha=0.050, p-value=0.000\n",
            "p-value <= 0.05. Reject H0 that there is no association between the two variables.\n",
            "\n",
            "\u001b[1mCramer's V for: \u001b[0m\n",
            "race\n",
            "1    0.015060\n",
            "2    0.038538\n",
            "dtype: float64\n"
          ],
          "name": "stdout"
        }
      ]
    },
    {
      "cell_type": "markdown",
      "metadata": {
        "id": "x_A-1xjn0ALS"
      },
      "source": [
        "###Chi-Square Interpretation\n",
        "\n",
        "Reject Null Hypothesis that there is no effect of race on having health insurance coverage<br>\n",
        "\n",
        "White has a greater incidence of having health insurance coverage.<br>\n",
        "White has a lesser incidence of not having health insurance coverage.<br>\n",
        "\n",
        "Black has lesser incidence of having health insurance coverage.<br>\n",
        "Black has greater incidence of not having health insurance coverage. "
      ]
    },
    {
      "cell_type": "markdown",
      "metadata": {
        "id": "eY93CA71AivA"
      },
      "source": [
        "###Cramér's V Interpretation\n",
        "\n",
        "The result suggests that chi-square could be statistically significant due to the large sample size. These results will thus not be taken into account."
      ]
    },
    {
      "cell_type": "markdown",
      "metadata": {
        "id": "TGCUsJwhx-Z_"
      },
      "source": [
        "### Visualization"
      ]
    },
    {
      "cell_type": "code",
      "metadata": {
        "id": "YGjpDaOE5AAc"
      },
      "source": [
        "#replace numbers with the value for the bar chart\n",
        "coverage['health_insurance'] = coverage['health_insurance'].replace([1,2],['Yes','No'])"
      ],
      "execution_count": null,
      "outputs": []
    },
    {
      "cell_type": "code",
      "metadata": {
        "id": "V5GJkNCnyCw2",
        "colab": {
          "base_uri": "https://localhost:8080/",
          "height": 217
        },
        "outputId": "cf02cce0-7dde-41db-a8e9-ee190e42e7ad"
      },
      "source": [
        "coverage.head()"
      ],
      "execution_count": null,
      "outputs": [
        {
          "output_type": "execute_result",
          "data": {
            "text/html": [
              "<div>\n",
              "<style scoped>\n",
              "    .dataframe tbody tr th:only-of-type {\n",
              "        vertical-align: middle;\n",
              "    }\n",
              "\n",
              "    .dataframe tbody tr th {\n",
              "        vertical-align: top;\n",
              "    }\n",
              "\n",
              "    .dataframe thead th {\n",
              "        text-align: right;\n",
              "    }\n",
              "</style>\n",
              "<table border=\"1\" class=\"dataframe\">\n",
              "  <thead>\n",
              "    <tr style=\"text-align: right;\">\n",
              "      <th></th>\n",
              "      <th>ID</th>\n",
              "      <th>race</th>\n",
              "      <th>AGE1</th>\n",
              "      <th>financial_assistance</th>\n",
              "      <th>poverty_level</th>\n",
              "      <th>health_insurance</th>\n",
              "      <th>health_status</th>\n",
              "      <th>medicaid_coverage</th>\n",
              "      <th>ed_attainment</th>\n",
              "      <th>employment_status</th>\n",
              "      <th>labor_force_recode</th>\n",
              "      <th>total_income_recode</th>\n",
              "    </tr>\n",
              "  </thead>\n",
              "  <tbody>\n",
              "    <tr>\n",
              "      <th>0</th>\n",
              "      <td>8329611509015080901101</td>\n",
              "      <td>1</td>\n",
              "      <td>14</td>\n",
              "      <td>2</td>\n",
              "      <td>4</td>\n",
              "      <td>Yes</td>\n",
              "      <td>3</td>\n",
              "      <td>2</td>\n",
              "      <td>39</td>\n",
              "      <td>1</td>\n",
              "      <td>1</td>\n",
              "      <td>22</td>\n",
              "    </tr>\n",
              "    <tr>\n",
              "      <th>1</th>\n",
              "      <td>8329611509015080901102</td>\n",
              "      <td>1</td>\n",
              "      <td>15</td>\n",
              "      <td>2</td>\n",
              "      <td>4</td>\n",
              "      <td>Yes</td>\n",
              "      <td>3</td>\n",
              "      <td>2</td>\n",
              "      <td>39</td>\n",
              "      <td>0</td>\n",
              "      <td>5</td>\n",
              "      <td>30</td>\n",
              "    </tr>\n",
              "    <tr>\n",
              "      <th>2</th>\n",
              "      <td>4238996011902050901101</td>\n",
              "      <td>1</td>\n",
              "      <td>14</td>\n",
              "      <td>2</td>\n",
              "      <td>4</td>\n",
              "      <td>Yes</td>\n",
              "      <td>3</td>\n",
              "      <td>2</td>\n",
              "      <td>39</td>\n",
              "      <td>1</td>\n",
              "      <td>1</td>\n",
              "      <td>18</td>\n",
              "    </tr>\n",
              "    <tr>\n",
              "      <th>3</th>\n",
              "      <td>4238996011902050901102</td>\n",
              "      <td>1</td>\n",
              "      <td>16</td>\n",
              "      <td>2</td>\n",
              "      <td>4</td>\n",
              "      <td>Yes</td>\n",
              "      <td>3</td>\n",
              "      <td>2</td>\n",
              "      <td>36</td>\n",
              "      <td>0</td>\n",
              "      <td>5</td>\n",
              "      <td>9</td>\n",
              "    </tr>\n",
              "    <tr>\n",
              "      <th>4</th>\n",
              "      <td>2059506120093750901101</td>\n",
              "      <td>1</td>\n",
              "      <td>11</td>\n",
              "      <td>2</td>\n",
              "      <td>4</td>\n",
              "      <td>Yes</td>\n",
              "      <td>2</td>\n",
              "      <td>2</td>\n",
              "      <td>39</td>\n",
              "      <td>1</td>\n",
              "      <td>1</td>\n",
              "      <td>17</td>\n",
              "    </tr>\n",
              "  </tbody>\n",
              "</table>\n",
              "</div>"
            ],
            "text/plain": [
              "                       ID  race  ...  labor_force_recode  total_income_recode\n",
              "0  8329611509015080901101     1  ...                   1                   22\n",
              "1  8329611509015080901102     1  ...                   5                   30\n",
              "2  4238996011902050901101     1  ...                   1                   18\n",
              "3  4238996011902050901102     1  ...                   5                    9\n",
              "4  2059506120093750901101     1  ...                   1                   17\n",
              "\n",
              "[5 rows x 12 columns]"
            ]
          },
          "metadata": {
            "tags": []
          },
          "execution_count": 41
        }
      ]
    },
    {
      "cell_type": "code",
      "metadata": {
        "id": "LCKvMmhHyAGC",
        "colab": {
          "base_uri": "https://localhost:8080/",
          "height": 616
        },
        "outputId": "7f851f52-fc01-4162-fb71-a09dde2c0ad7"
      },
      "source": [
        "#run normalizing data and plotly bar chart function\n",
        "dataframe(coverage,'health_insurance')"
      ],
      "execution_count": null,
      "outputs": [
        {
          "output_type": "display_data",
          "data": {
            "text/html": [
              "<html>\n",
              "<head><meta charset=\"utf-8\" /></head>\n",
              "<body>\n",
              "    <div>\n",
              "            <script src=\"https://cdnjs.cloudflare.com/ajax/libs/mathjax/2.7.5/MathJax.js?config=TeX-AMS-MML_SVG\"></script><script type=\"text/javascript\">if (window.MathJax) {MathJax.Hub.Config({SVG: {font: \"STIX-Web\"}});}</script>\n",
              "                <script type=\"text/javascript\">window.PlotlyConfig = {MathJaxConfig: 'local'};</script>\n",
              "        <script src=\"https://cdn.plot.ly/plotly-latest.min.js\"></script>    \n",
              "            <div id=\"dd400296-6644-49c8-8548-9ddb648fd621\" class=\"plotly-graph-div\" style=\"height:600px; width:800px;\"></div>\n",
              "            <script type=\"text/javascript\">\n",
              "                \n",
              "                    window.PLOTLYENV=window.PLOTLYENV || {};\n",
              "                    \n",
              "                if (document.getElementById(\"dd400296-6644-49c8-8548-9ddb648fd621\")) {\n",
              "                    Plotly.newPlot(\n",
              "                        'dd400296-6644-49c8-8548-9ddb648fd621',\n",
              "                        [{\"alignmentgroup\": \"True\", \"hoverlabel\": {\"namelength\": 0}, \"hovertemplate\": \"race=black<br>health_insurance=%{x}<br>percentage=%{y}\", \"legendgroup\": \"race=black\", \"marker\": {\"color\": \"#636efa\"}, \"name\": \"race=black\", \"offsetgroup\": \"race=black\", \"orientation\": \"v\", \"showlegend\": true, \"textposition\": \"outside\", \"texttemplate\": \"%{y:.2f}%\", \"type\": \"bar\", \"x\": [\"Yes\", \"No\"], \"xaxis\": \"x\", \"y\": [90.53601962679355, 9.463980373206454], \"yaxis\": \"y\"}, {\"alignmentgroup\": \"True\", \"hoverlabel\": {\"namelength\": 0}, \"hovertemplate\": \"race=white<br>health_insurance=%{x}<br>percentage=%{y}\", \"legendgroup\": \"race=white\", \"marker\": {\"color\": \"#EF553B\"}, \"name\": \"race=white\", \"offsetgroup\": \"race=white\", \"orientation\": \"v\", \"showlegend\": true, \"textposition\": \"outside\", \"texttemplate\": \"%{y:.2f}%\", \"type\": \"bar\", \"x\": [\"Yes\", \"No\"], \"xaxis\": \"x\", \"y\": [91.69183261052201, 8.308167389477987], \"yaxis\": \"y\"}],\n",
              "                        {\"barmode\": \"group\", \"height\": 600, \"legend\": {\"tracegroupgap\": 0}, \"margin\": {\"t\": 60}, \"template\": {\"data\": {\"bar\": [{\"error_x\": {\"color\": \"#2a3f5f\"}, \"error_y\": {\"color\": \"#2a3f5f\"}, \"marker\": {\"line\": {\"color\": \"#E5ECF6\", \"width\": 0.5}}, \"type\": \"bar\"}], \"barpolar\": [{\"marker\": {\"line\": {\"color\": \"#E5ECF6\", \"width\": 0.5}}, \"type\": \"barpolar\"}], \"carpet\": [{\"aaxis\": {\"endlinecolor\": \"#2a3f5f\", \"gridcolor\": \"white\", \"linecolor\": \"white\", \"minorgridcolor\": \"white\", \"startlinecolor\": \"#2a3f5f\"}, \"baxis\": {\"endlinecolor\": \"#2a3f5f\", \"gridcolor\": \"white\", \"linecolor\": \"white\", \"minorgridcolor\": \"white\", \"startlinecolor\": \"#2a3f5f\"}, \"type\": \"carpet\"}], \"choropleth\": [{\"colorbar\": {\"outlinewidth\": 0, \"ticks\": \"\"}, \"type\": \"choropleth\"}], \"contour\": [{\"colorbar\": {\"outlinewidth\": 0, \"ticks\": \"\"}, \"colorscale\": [[0.0, \"#0d0887\"], [0.1111111111111111, \"#46039f\"], [0.2222222222222222, \"#7201a8\"], [0.3333333333333333, \"#9c179e\"], [0.4444444444444444, \"#bd3786\"], [0.5555555555555556, \"#d8576b\"], [0.6666666666666666, \"#ed7953\"], [0.7777777777777778, \"#fb9f3a\"], [0.8888888888888888, \"#fdca26\"], [1.0, \"#f0f921\"]], \"type\": \"contour\"}], \"contourcarpet\": [{\"colorbar\": {\"outlinewidth\": 0, \"ticks\": \"\"}, \"type\": \"contourcarpet\"}], \"heatmap\": [{\"colorbar\": {\"outlinewidth\": 0, \"ticks\": \"\"}, \"colorscale\": [[0.0, \"#0d0887\"], [0.1111111111111111, \"#46039f\"], [0.2222222222222222, \"#7201a8\"], [0.3333333333333333, \"#9c179e\"], [0.4444444444444444, \"#bd3786\"], [0.5555555555555556, \"#d8576b\"], [0.6666666666666666, \"#ed7953\"], [0.7777777777777778, \"#fb9f3a\"], [0.8888888888888888, \"#fdca26\"], [1.0, \"#f0f921\"]], \"type\": \"heatmap\"}], \"heatmapgl\": [{\"colorbar\": {\"outlinewidth\": 0, \"ticks\": \"\"}, \"colorscale\": [[0.0, \"#0d0887\"], [0.1111111111111111, \"#46039f\"], [0.2222222222222222, \"#7201a8\"], [0.3333333333333333, \"#9c179e\"], [0.4444444444444444, \"#bd3786\"], [0.5555555555555556, \"#d8576b\"], [0.6666666666666666, \"#ed7953\"], [0.7777777777777778, \"#fb9f3a\"], [0.8888888888888888, \"#fdca26\"], [1.0, \"#f0f921\"]], \"type\": \"heatmapgl\"}], \"histogram\": [{\"marker\": {\"colorbar\": {\"outlinewidth\": 0, \"ticks\": \"\"}}, \"type\": \"histogram\"}], \"histogram2d\": [{\"colorbar\": {\"outlinewidth\": 0, \"ticks\": \"\"}, \"colorscale\": [[0.0, \"#0d0887\"], [0.1111111111111111, \"#46039f\"], [0.2222222222222222, \"#7201a8\"], [0.3333333333333333, \"#9c179e\"], [0.4444444444444444, \"#bd3786\"], [0.5555555555555556, \"#d8576b\"], [0.6666666666666666, \"#ed7953\"], [0.7777777777777778, \"#fb9f3a\"], [0.8888888888888888, \"#fdca26\"], [1.0, \"#f0f921\"]], \"type\": \"histogram2d\"}], \"histogram2dcontour\": [{\"colorbar\": {\"outlinewidth\": 0, \"ticks\": \"\"}, \"colorscale\": [[0.0, \"#0d0887\"], [0.1111111111111111, \"#46039f\"], [0.2222222222222222, \"#7201a8\"], [0.3333333333333333, \"#9c179e\"], [0.4444444444444444, \"#bd3786\"], [0.5555555555555556, \"#d8576b\"], [0.6666666666666666, \"#ed7953\"], [0.7777777777777778, \"#fb9f3a\"], [0.8888888888888888, \"#fdca26\"], [1.0, \"#f0f921\"]], \"type\": \"histogram2dcontour\"}], \"mesh3d\": [{\"colorbar\": {\"outlinewidth\": 0, \"ticks\": \"\"}, \"type\": \"mesh3d\"}], \"parcoords\": [{\"line\": {\"colorbar\": {\"outlinewidth\": 0, \"ticks\": \"\"}}, \"type\": \"parcoords\"}], \"pie\": [{\"automargin\": true, \"type\": \"pie\"}], \"scatter\": [{\"marker\": {\"colorbar\": {\"outlinewidth\": 0, \"ticks\": \"\"}}, \"type\": \"scatter\"}], \"scatter3d\": [{\"line\": {\"colorbar\": {\"outlinewidth\": 0, \"ticks\": \"\"}}, \"marker\": {\"colorbar\": {\"outlinewidth\": 0, \"ticks\": \"\"}}, \"type\": \"scatter3d\"}], \"scattercarpet\": [{\"marker\": {\"colorbar\": {\"outlinewidth\": 0, \"ticks\": \"\"}}, \"type\": \"scattercarpet\"}], \"scattergeo\": [{\"marker\": {\"colorbar\": {\"outlinewidth\": 0, \"ticks\": \"\"}}, \"type\": \"scattergeo\"}], \"scattergl\": [{\"marker\": {\"colorbar\": {\"outlinewidth\": 0, \"ticks\": \"\"}}, \"type\": \"scattergl\"}], \"scattermapbox\": [{\"marker\": {\"colorbar\": {\"outlinewidth\": 0, \"ticks\": \"\"}}, \"type\": \"scattermapbox\"}], \"scatterpolar\": [{\"marker\": {\"colorbar\": {\"outlinewidth\": 0, \"ticks\": \"\"}}, \"type\": \"scatterpolar\"}], \"scatterpolargl\": [{\"marker\": {\"colorbar\": {\"outlinewidth\": 0, \"ticks\": \"\"}}, \"type\": \"scatterpolargl\"}], \"scatterternary\": [{\"marker\": {\"colorbar\": {\"outlinewidth\": 0, \"ticks\": \"\"}}, \"type\": \"scatterternary\"}], \"surface\": [{\"colorbar\": {\"outlinewidth\": 0, \"ticks\": \"\"}, \"colorscale\": [[0.0, \"#0d0887\"], [0.1111111111111111, \"#46039f\"], [0.2222222222222222, \"#7201a8\"], [0.3333333333333333, \"#9c179e\"], [0.4444444444444444, \"#bd3786\"], [0.5555555555555556, \"#d8576b\"], [0.6666666666666666, \"#ed7953\"], [0.7777777777777778, \"#fb9f3a\"], [0.8888888888888888, \"#fdca26\"], [1.0, \"#f0f921\"]], \"type\": \"surface\"}], \"table\": [{\"cells\": {\"fill\": {\"color\": \"#EBF0F8\"}, \"line\": {\"color\": \"white\"}}, \"header\": {\"fill\": {\"color\": \"#C8D4E3\"}, \"line\": {\"color\": \"white\"}}, \"type\": \"table\"}]}, \"layout\": {\"annotationdefaults\": {\"arrowcolor\": \"#2a3f5f\", \"arrowhead\": 0, \"arrowwidth\": 1}, \"coloraxis\": {\"colorbar\": {\"outlinewidth\": 0, \"ticks\": \"\"}}, \"colorscale\": {\"diverging\": [[0, \"#8e0152\"], [0.1, \"#c51b7d\"], [0.2, \"#de77ae\"], [0.3, \"#f1b6da\"], [0.4, \"#fde0ef\"], [0.5, \"#f7f7f7\"], [0.6, \"#e6f5d0\"], [0.7, \"#b8e186\"], [0.8, \"#7fbc41\"], [0.9, \"#4d9221\"], [1, \"#276419\"]], \"sequential\": [[0.0, \"#0d0887\"], [0.1111111111111111, \"#46039f\"], [0.2222222222222222, \"#7201a8\"], [0.3333333333333333, \"#9c179e\"], [0.4444444444444444, \"#bd3786\"], [0.5555555555555556, \"#d8576b\"], [0.6666666666666666, \"#ed7953\"], [0.7777777777777778, \"#fb9f3a\"], [0.8888888888888888, \"#fdca26\"], [1.0, \"#f0f921\"]], \"sequentialminus\": [[0.0, \"#0d0887\"], [0.1111111111111111, \"#46039f\"], [0.2222222222222222, \"#7201a8\"], [0.3333333333333333, \"#9c179e\"], [0.4444444444444444, \"#bd3786\"], [0.5555555555555556, \"#d8576b\"], [0.6666666666666666, \"#ed7953\"], [0.7777777777777778, \"#fb9f3a\"], [0.8888888888888888, \"#fdca26\"], [1.0, \"#f0f921\"]]}, \"colorway\": [\"#636efa\", \"#EF553B\", \"#00cc96\", \"#ab63fa\", \"#FFA15A\", \"#19d3f3\", \"#FF6692\", \"#B6E880\", \"#FF97FF\", \"#FECB52\"], \"font\": {\"color\": \"#2a3f5f\"}, \"geo\": {\"bgcolor\": \"white\", \"lakecolor\": \"white\", \"landcolor\": \"#E5ECF6\", \"showlakes\": true, \"showland\": true, \"subunitcolor\": \"white\"}, \"hoverlabel\": {\"align\": \"left\"}, \"hovermode\": \"closest\", \"mapbox\": {\"style\": \"light\"}, \"paper_bgcolor\": \"white\", \"plot_bgcolor\": \"#E5ECF6\", \"polar\": {\"angularaxis\": {\"gridcolor\": \"white\", \"linecolor\": \"white\", \"ticks\": \"\"}, \"bgcolor\": \"#E5ECF6\", \"radialaxis\": {\"gridcolor\": \"white\", \"linecolor\": \"white\", \"ticks\": \"\"}}, \"scene\": {\"xaxis\": {\"backgroundcolor\": \"#E5ECF6\", \"gridcolor\": \"white\", \"gridwidth\": 2, \"linecolor\": \"white\", \"showbackground\": true, \"ticks\": \"\", \"zerolinecolor\": \"white\"}, \"yaxis\": {\"backgroundcolor\": \"#E5ECF6\", \"gridcolor\": \"white\", \"gridwidth\": 2, \"linecolor\": \"white\", \"showbackground\": true, \"ticks\": \"\", \"zerolinecolor\": \"white\"}, \"zaxis\": {\"backgroundcolor\": \"#E5ECF6\", \"gridcolor\": \"white\", \"gridwidth\": 2, \"linecolor\": \"white\", \"showbackground\": true, \"ticks\": \"\", \"zerolinecolor\": \"white\"}}, \"shapedefaults\": {\"line\": {\"color\": \"#2a3f5f\"}}, \"ternary\": {\"aaxis\": {\"gridcolor\": \"white\", \"linecolor\": \"white\", \"ticks\": \"\"}, \"baxis\": {\"gridcolor\": \"white\", \"linecolor\": \"white\", \"ticks\": \"\"}, \"bgcolor\": \"#E5ECF6\", \"caxis\": {\"gridcolor\": \"white\", \"linecolor\": \"white\", \"ticks\": \"\"}}, \"title\": {\"x\": 0.05}, \"xaxis\": {\"automargin\": true, \"gridcolor\": \"white\", \"linecolor\": \"white\", \"ticks\": \"\", \"title\": {\"standoff\": 15}, \"zerolinecolor\": \"white\", \"zerolinewidth\": 2}, \"yaxis\": {\"automargin\": true, \"gridcolor\": \"white\", \"linecolor\": \"white\", \"ticks\": \"\", \"title\": {\"standoff\": 15}, \"zerolinecolor\": \"white\", \"zerolinewidth\": 2}}}, \"width\": 800, \"xaxis\": {\"anchor\": \"y\", \"domain\": [0.0, 1.0], \"title\": {\"text\": \"health_insurance\"}}, \"yaxis\": {\"anchor\": \"x\", \"domain\": [0.0, 1.0], \"title\": {\"text\": \"percentage\"}}},\n",
              "                        {\"responsive\": true}\n",
              "                    ).then(function(){\n",
              "                            \n",
              "var gd = document.getElementById('dd400296-6644-49c8-8548-9ddb648fd621');\n",
              "var x = new MutationObserver(function (mutations, observer) {{\n",
              "        var display = window.getComputedStyle(gd).display;\n",
              "        if (!display || display === 'none') {{\n",
              "            console.log([gd, 'removed!']);\n",
              "            Plotly.purge(gd);\n",
              "            observer.disconnect();\n",
              "        }}\n",
              "}});\n",
              "\n",
              "// Listen for the removal of the full notebook cells\n",
              "var notebookContainer = gd.closest('#notebook-container');\n",
              "if (notebookContainer) {{\n",
              "    x.observe(notebookContainer, {childList: true});\n",
              "}}\n",
              "\n",
              "// Listen for the clearing of the current output cell\n",
              "var outputEl = gd.closest('.output');\n",
              "if (outputEl) {{\n",
              "    x.observe(outputEl, {childList: true});\n",
              "}}\n",
              "\n",
              "                        })\n",
              "                };\n",
              "                \n",
              "            </script>\n",
              "        </div>\n",
              "</body>\n",
              "</html>"
            ]
          },
          "metadata": {
            "tags": []
          }
        }
      ]
    },
    {
      "cell_type": "markdown",
      "metadata": {
        "id": "vysNabEoGBlA"
      },
      "source": [
        "## Chi-Square Test and Cramér's V for Health Status and Race (White and Black) "
      ]
    },
    {
      "cell_type": "markdown",
      "metadata": {
        "id": "LrdthrLWXdZS"
      },
      "source": [
        "Null Hypothesis: \"There is no effect of race on health status\".<br>\n",
        "Alternative Hypothesis: \"There is an effect of race on health status\"."
      ]
    },
    {
      "cell_type": "code",
      "metadata": {
        "id": "lRJlkzUeGE5d"
      },
      "source": [
        "#create crosstab for chi-square and cramer's v calculation\n",
        "race_health_crosstab = pd.crosstab(race['health_status'],  \n",
        "                            race['race'],\n",
        "                                margins = False)"
      ],
      "execution_count": null,
      "outputs": []
    },
    {
      "cell_type": "code",
      "metadata": {
        "id": "MG_4rouHGTW9",
        "colab": {
          "base_uri": "https://localhost:8080/"
        },
        "outputId": "8cc6f15a-f225-4eaa-be61-14e00f24380b"
      },
      "source": [
        "print(race_health_crosstab)"
      ],
      "execution_count": null,
      "outputs": [
        {
          "output_type": "stream",
          "text": [
            "race               1     2\n",
            "health_status             \n",
            "1              22951  2720\n",
            "2              30365  3781\n",
            "3              23767  4268\n",
            "4               8191  2009\n",
            "5               2808   673\n"
          ],
          "name": "stdout"
        }
      ]
    },
    {
      "cell_type": "code",
      "metadata": {
        "id": "xW24z7BEylBd",
        "colab": {
          "base_uri": "https://localhost:8080/"
        },
        "outputId": "c5c2c9c1-dbbc-4d9b-f6c1-a2074193cf68"
      },
      "source": [
        "#run chi-square and cramer's v function\n",
        "chi_square(race_health_crosstab)"
      ],
      "execution_count": null,
      "outputs": [
        {
          "output_type": "stream",
          "text": [
            "\u001b[1mChi-Square Test\u001b[0m\n",
            "degrees of freedom = 4\n",
            "\n",
            "Expected frequencies:\n",
            " [[22270.12914028  3400.87085972]\n",
            " [29622.3688062   4523.6311938 ]\n",
            " [24320.9485586   3714.0514414 ]\n",
            " [ 8848.71322624  1351.28677376]\n",
            " [ 3019.84026868   461.15973132]]\n",
            "\n",
            "alpha=0.050, p-value=0.000\n",
            "p-value <= 0.05. Reject H0 that there is no association between the two variables.\n",
            "\n",
            "\u001b[1mCramer's V for: \u001b[0m\n",
            "race\n",
            "1    0.099617\n",
            "2    0.254918\n",
            "dtype: float64\n"
          ],
          "name": "stdout"
        }
      ]
    },
    {
      "cell_type": "markdown",
      "metadata": {
        "id": "hkZ5UPaPGf-D"
      },
      "source": [
        "###Chi-Square Interpretation\n",
        "\n",
        "Reject Null Hypothesis that there is no effect of race on health status\n",
        "\n",
        "White has a greater incidence of excellent and very good health health.<br>\n",
        "White has a lesser incidence of good health, fair, and poor health.<br>\n",
        "\n",
        "Black has a lesser incidence of excellent and very good health.<br>\n",
        "Black has a greater incidence of good, fair, and poor health.<br>"
      ]
    },
    {
      "cell_type": "markdown",
      "metadata": {
        "id": "dDMXEhKWKOT9"
      },
      "source": [
        "###Cramér's V Interpretation\n",
        "\n",
        "The results do not suggest that chi-square is statistically significant due to the large sample size.<br>\n",
        "The Cramér's V for White is just under 0.1, which signifies little or no association.<br>\n",
        "However, for Black, Carmer's V is over 0.2, signifying a low association."
      ]
    },
    {
      "cell_type": "markdown",
      "metadata": {
        "id": "jxHApQnayu6n"
      },
      "source": [
        "###Visualization"
      ]
    },
    {
      "cell_type": "code",
      "metadata": {
        "id": "tw9DgVJp6P31"
      },
      "source": [
        "#create a copy so the actual dataframe won't change\n",
        "race_copy = race.copy()"
      ],
      "execution_count": null,
      "outputs": []
    },
    {
      "cell_type": "code",
      "metadata": {
        "colab": {
          "base_uri": "https://localhost:8080/",
          "height": 217
        },
        "id": "M6YxNnAy760M",
        "outputId": "4d4a4143-6c96-4468-ac39-28f5620a51e0"
      },
      "source": [
        "race_copy.head()"
      ],
      "execution_count": null,
      "outputs": [
        {
          "output_type": "execute_result",
          "data": {
            "text/html": [
              "<div>\n",
              "<style scoped>\n",
              "    .dataframe tbody tr th:only-of-type {\n",
              "        vertical-align: middle;\n",
              "    }\n",
              "\n",
              "    .dataframe tbody tr th {\n",
              "        vertical-align: top;\n",
              "    }\n",
              "\n",
              "    .dataframe thead th {\n",
              "        text-align: right;\n",
              "    }\n",
              "</style>\n",
              "<table border=\"1\" class=\"dataframe\">\n",
              "  <thead>\n",
              "    <tr style=\"text-align: right;\">\n",
              "      <th></th>\n",
              "      <th>ID</th>\n",
              "      <th>race</th>\n",
              "      <th>AGE1</th>\n",
              "      <th>financial_assistance</th>\n",
              "      <th>poverty_level</th>\n",
              "      <th>health_insurance</th>\n",
              "      <th>health_status</th>\n",
              "      <th>medicaid_coverage</th>\n",
              "      <th>ed_attainment</th>\n",
              "      <th>employment_status</th>\n",
              "      <th>labor_force_recode</th>\n",
              "      <th>total_income_recode</th>\n",
              "    </tr>\n",
              "  </thead>\n",
              "  <tbody>\n",
              "    <tr>\n",
              "      <th>0</th>\n",
              "      <td>8329611509015080901101</td>\n",
              "      <td>1</td>\n",
              "      <td>14</td>\n",
              "      <td>2</td>\n",
              "      <td>4</td>\n",
              "      <td>1</td>\n",
              "      <td>3</td>\n",
              "      <td>2</td>\n",
              "      <td>39</td>\n",
              "      <td>1</td>\n",
              "      <td>1</td>\n",
              "      <td>22</td>\n",
              "    </tr>\n",
              "    <tr>\n",
              "      <th>1</th>\n",
              "      <td>8329611509015080901102</td>\n",
              "      <td>1</td>\n",
              "      <td>15</td>\n",
              "      <td>2</td>\n",
              "      <td>4</td>\n",
              "      <td>1</td>\n",
              "      <td>3</td>\n",
              "      <td>2</td>\n",
              "      <td>39</td>\n",
              "      <td>0</td>\n",
              "      <td>5</td>\n",
              "      <td>30</td>\n",
              "    </tr>\n",
              "    <tr>\n",
              "      <th>2</th>\n",
              "      <td>4238996011902050901101</td>\n",
              "      <td>1</td>\n",
              "      <td>14</td>\n",
              "      <td>2</td>\n",
              "      <td>4</td>\n",
              "      <td>1</td>\n",
              "      <td>3</td>\n",
              "      <td>2</td>\n",
              "      <td>39</td>\n",
              "      <td>1</td>\n",
              "      <td>1</td>\n",
              "      <td>18</td>\n",
              "    </tr>\n",
              "    <tr>\n",
              "      <th>3</th>\n",
              "      <td>4238996011902050901102</td>\n",
              "      <td>1</td>\n",
              "      <td>16</td>\n",
              "      <td>2</td>\n",
              "      <td>4</td>\n",
              "      <td>1</td>\n",
              "      <td>3</td>\n",
              "      <td>2</td>\n",
              "      <td>36</td>\n",
              "      <td>0</td>\n",
              "      <td>5</td>\n",
              "      <td>9</td>\n",
              "    </tr>\n",
              "    <tr>\n",
              "      <th>4</th>\n",
              "      <td>2059506120093750901101</td>\n",
              "      <td>1</td>\n",
              "      <td>11</td>\n",
              "      <td>2</td>\n",
              "      <td>4</td>\n",
              "      <td>1</td>\n",
              "      <td>2</td>\n",
              "      <td>2</td>\n",
              "      <td>39</td>\n",
              "      <td>1</td>\n",
              "      <td>1</td>\n",
              "      <td>17</td>\n",
              "    </tr>\n",
              "  </tbody>\n",
              "</table>\n",
              "</div>"
            ],
            "text/plain": [
              "                       ID  race  ...  labor_force_recode  total_income_recode\n",
              "0  8329611509015080901101     1  ...                   1                   22\n",
              "1  8329611509015080901102     1  ...                   5                   30\n",
              "2  4238996011902050901101     1  ...                   1                   18\n",
              "3  4238996011902050901102     1  ...                   5                    9\n",
              "4  2059506120093750901101     1  ...                   1                   17\n",
              "\n",
              "[5 rows x 12 columns]"
            ]
          },
          "metadata": {
            "tags": []
          },
          "execution_count": 47
        }
      ]
    },
    {
      "cell_type": "code",
      "metadata": {
        "id": "qKiOFLnA6J3y"
      },
      "source": [
        "#replace numbers with the value for the bar chart\n",
        "race_copy['health_status'] = race_copy['health_status'].replace([1,2,3,4,5],['Excellent','Very good','Good','Fair','Poor'])"
      ],
      "execution_count": null,
      "outputs": []
    },
    {
      "cell_type": "code",
      "metadata": {
        "colab": {
          "base_uri": "https://localhost:8080/",
          "height": 217
        },
        "id": "5DaiyUEb2h2U",
        "outputId": "57f97570-7619-4fd2-9ba8-93117566abb5"
      },
      "source": [
        "race_copy.head()"
      ],
      "execution_count": null,
      "outputs": [
        {
          "output_type": "execute_result",
          "data": {
            "text/html": [
              "<div>\n",
              "<style scoped>\n",
              "    .dataframe tbody tr th:only-of-type {\n",
              "        vertical-align: middle;\n",
              "    }\n",
              "\n",
              "    .dataframe tbody tr th {\n",
              "        vertical-align: top;\n",
              "    }\n",
              "\n",
              "    .dataframe thead th {\n",
              "        text-align: right;\n",
              "    }\n",
              "</style>\n",
              "<table border=\"1\" class=\"dataframe\">\n",
              "  <thead>\n",
              "    <tr style=\"text-align: right;\">\n",
              "      <th></th>\n",
              "      <th>ID</th>\n",
              "      <th>race</th>\n",
              "      <th>AGE1</th>\n",
              "      <th>financial_assistance</th>\n",
              "      <th>poverty_level</th>\n",
              "      <th>health_insurance</th>\n",
              "      <th>health_status</th>\n",
              "      <th>medicaid_coverage</th>\n",
              "      <th>ed_attainment</th>\n",
              "      <th>employment_status</th>\n",
              "      <th>labor_force_recode</th>\n",
              "      <th>total_income_recode</th>\n",
              "    </tr>\n",
              "  </thead>\n",
              "  <tbody>\n",
              "    <tr>\n",
              "      <th>0</th>\n",
              "      <td>8329611509015080901101</td>\n",
              "      <td>1</td>\n",
              "      <td>14</td>\n",
              "      <td>2</td>\n",
              "      <td>4</td>\n",
              "      <td>1</td>\n",
              "      <td>Good</td>\n",
              "      <td>2</td>\n",
              "      <td>39</td>\n",
              "      <td>1</td>\n",
              "      <td>1</td>\n",
              "      <td>22</td>\n",
              "    </tr>\n",
              "    <tr>\n",
              "      <th>1</th>\n",
              "      <td>8329611509015080901102</td>\n",
              "      <td>1</td>\n",
              "      <td>15</td>\n",
              "      <td>2</td>\n",
              "      <td>4</td>\n",
              "      <td>1</td>\n",
              "      <td>Good</td>\n",
              "      <td>2</td>\n",
              "      <td>39</td>\n",
              "      <td>0</td>\n",
              "      <td>5</td>\n",
              "      <td>30</td>\n",
              "    </tr>\n",
              "    <tr>\n",
              "      <th>2</th>\n",
              "      <td>4238996011902050901101</td>\n",
              "      <td>1</td>\n",
              "      <td>14</td>\n",
              "      <td>2</td>\n",
              "      <td>4</td>\n",
              "      <td>1</td>\n",
              "      <td>Good</td>\n",
              "      <td>2</td>\n",
              "      <td>39</td>\n",
              "      <td>1</td>\n",
              "      <td>1</td>\n",
              "      <td>18</td>\n",
              "    </tr>\n",
              "    <tr>\n",
              "      <th>3</th>\n",
              "      <td>4238996011902050901102</td>\n",
              "      <td>1</td>\n",
              "      <td>16</td>\n",
              "      <td>2</td>\n",
              "      <td>4</td>\n",
              "      <td>1</td>\n",
              "      <td>Good</td>\n",
              "      <td>2</td>\n",
              "      <td>36</td>\n",
              "      <td>0</td>\n",
              "      <td>5</td>\n",
              "      <td>9</td>\n",
              "    </tr>\n",
              "    <tr>\n",
              "      <th>4</th>\n",
              "      <td>2059506120093750901101</td>\n",
              "      <td>1</td>\n",
              "      <td>11</td>\n",
              "      <td>2</td>\n",
              "      <td>4</td>\n",
              "      <td>1</td>\n",
              "      <td>Very good</td>\n",
              "      <td>2</td>\n",
              "      <td>39</td>\n",
              "      <td>1</td>\n",
              "      <td>1</td>\n",
              "      <td>17</td>\n",
              "    </tr>\n",
              "  </tbody>\n",
              "</table>\n",
              "</div>"
            ],
            "text/plain": [
              "                       ID  race  ...  labor_force_recode  total_income_recode\n",
              "0  8329611509015080901101     1  ...                   1                   22\n",
              "1  8329611509015080901102     1  ...                   5                   30\n",
              "2  4238996011902050901101     1  ...                   1                   18\n",
              "3  4238996011902050901102     1  ...                   5                    9\n",
              "4  2059506120093750901101     1  ...                   1                   17\n",
              "\n",
              "[5 rows x 12 columns]"
            ]
          },
          "metadata": {
            "tags": []
          },
          "execution_count": 49
        }
      ]
    },
    {
      "cell_type": "code",
      "metadata": {
        "id": "E8ylN3UzzhaI",
        "colab": {
          "base_uri": "https://localhost:8080/",
          "height": 616
        },
        "outputId": "ba4cf864-7292-478b-c663-7a8b23a1cf32"
      },
      "source": [
        "#run normalizing data and plotly bar chart function\n",
        "dataframe(race_copy,'health_status')"
      ],
      "execution_count": null,
      "outputs": [
        {
          "output_type": "display_data",
          "data": {
            "text/html": [
              "<html>\n",
              "<head><meta charset=\"utf-8\" /></head>\n",
              "<body>\n",
              "    <div>\n",
              "            <script src=\"https://cdnjs.cloudflare.com/ajax/libs/mathjax/2.7.5/MathJax.js?config=TeX-AMS-MML_SVG\"></script><script type=\"text/javascript\">if (window.MathJax) {MathJax.Hub.Config({SVG: {font: \"STIX-Web\"}});}</script>\n",
              "                <script type=\"text/javascript\">window.PlotlyConfig = {MathJaxConfig: 'local'};</script>\n",
              "        <script src=\"https://cdn.plot.ly/plotly-latest.min.js\"></script>    \n",
              "            <div id=\"bdf34bc6-a309-4885-af5e-95636ff965b8\" class=\"plotly-graph-div\" style=\"height:600px; width:800px;\"></div>\n",
              "            <script type=\"text/javascript\">\n",
              "                \n",
              "                    window.PLOTLYENV=window.PLOTLYENV || {};\n",
              "                    \n",
              "                if (document.getElementById(\"bdf34bc6-a309-4885-af5e-95636ff965b8\")) {\n",
              "                    Plotly.newPlot(\n",
              "                        'bdf34bc6-a309-4885-af5e-95636ff965b8',\n",
              "                        [{\"alignmentgroup\": \"True\", \"hoverlabel\": {\"namelength\": 0}, \"hovertemplate\": \"race=black<br>health_status=%{x}<br>percentage=%{y}\", \"legendgroup\": \"race=black\", \"marker\": {\"color\": \"#636efa\"}, \"name\": \"race=black\", \"offsetgroup\": \"race=black\", \"orientation\": \"v\", \"showlegend\": true, \"textposition\": \"outside\", \"texttemplate\": \"%{y:.2f}%\", \"type\": \"bar\", \"x\": [\"Good\", \"Very good\", \"Excellent\", \"Fair\", \"Poor\"], \"xaxis\": \"x\", \"y\": [31.72998290089956, 28.109434242807225, 20.221544866552673, 14.935692513567764, 5.003345476172775], \"yaxis\": \"y\"}, {\"alignmentgroup\": \"True\", \"hoverlabel\": {\"namelength\": 0}, \"hovertemplate\": \"race=white<br>health_status=%{x}<br>percentage=%{y}\", \"legendgroup\": \"race=white\", \"marker\": {\"color\": \"#EF553B\"}, \"name\": \"race=white\", \"offsetgroup\": \"race=white\", \"orientation\": \"v\", \"showlegend\": true, \"textposition\": \"outside\", \"texttemplate\": \"%{y:.2f}%\", \"type\": \"bar\", \"x\": [\"Very good\", \"Good\", \"Excellent\", \"Fair\", \"Poor\"], \"xaxis\": \"x\", \"y\": [34.47355872936582, 26.982811471129175, 26.056401989055654, 9.299289298608116, 3.1879385118412387], \"yaxis\": \"y\"}],\n",
              "                        {\"barmode\": \"group\", \"height\": 600, \"legend\": {\"tracegroupgap\": 0}, \"margin\": {\"t\": 60}, \"template\": {\"data\": {\"bar\": [{\"error_x\": {\"color\": \"#2a3f5f\"}, \"error_y\": {\"color\": \"#2a3f5f\"}, \"marker\": {\"line\": {\"color\": \"#E5ECF6\", \"width\": 0.5}}, \"type\": \"bar\"}], \"barpolar\": [{\"marker\": {\"line\": {\"color\": \"#E5ECF6\", \"width\": 0.5}}, \"type\": \"barpolar\"}], \"carpet\": [{\"aaxis\": {\"endlinecolor\": \"#2a3f5f\", \"gridcolor\": \"white\", \"linecolor\": \"white\", \"minorgridcolor\": \"white\", \"startlinecolor\": \"#2a3f5f\"}, \"baxis\": {\"endlinecolor\": \"#2a3f5f\", \"gridcolor\": \"white\", \"linecolor\": \"white\", \"minorgridcolor\": \"white\", \"startlinecolor\": \"#2a3f5f\"}, \"type\": \"carpet\"}], \"choropleth\": [{\"colorbar\": {\"outlinewidth\": 0, \"ticks\": \"\"}, \"type\": \"choropleth\"}], \"contour\": [{\"colorbar\": {\"outlinewidth\": 0, \"ticks\": \"\"}, \"colorscale\": [[0.0, \"#0d0887\"], [0.1111111111111111, \"#46039f\"], [0.2222222222222222, \"#7201a8\"], [0.3333333333333333, \"#9c179e\"], [0.4444444444444444, \"#bd3786\"], [0.5555555555555556, \"#d8576b\"], [0.6666666666666666, \"#ed7953\"], [0.7777777777777778, \"#fb9f3a\"], [0.8888888888888888, \"#fdca26\"], [1.0, \"#f0f921\"]], \"type\": \"contour\"}], \"contourcarpet\": [{\"colorbar\": {\"outlinewidth\": 0, \"ticks\": \"\"}, \"type\": \"contourcarpet\"}], \"heatmap\": [{\"colorbar\": {\"outlinewidth\": 0, \"ticks\": \"\"}, \"colorscale\": [[0.0, \"#0d0887\"], [0.1111111111111111, \"#46039f\"], [0.2222222222222222, \"#7201a8\"], [0.3333333333333333, \"#9c179e\"], [0.4444444444444444, \"#bd3786\"], [0.5555555555555556, \"#d8576b\"], [0.6666666666666666, \"#ed7953\"], [0.7777777777777778, \"#fb9f3a\"], [0.8888888888888888, \"#fdca26\"], [1.0, \"#f0f921\"]], \"type\": \"heatmap\"}], \"heatmapgl\": [{\"colorbar\": {\"outlinewidth\": 0, \"ticks\": \"\"}, \"colorscale\": [[0.0, \"#0d0887\"], [0.1111111111111111, \"#46039f\"], [0.2222222222222222, \"#7201a8\"], [0.3333333333333333, \"#9c179e\"], [0.4444444444444444, \"#bd3786\"], [0.5555555555555556, \"#d8576b\"], [0.6666666666666666, \"#ed7953\"], [0.7777777777777778, \"#fb9f3a\"], [0.8888888888888888, \"#fdca26\"], [1.0, \"#f0f921\"]], \"type\": \"heatmapgl\"}], \"histogram\": [{\"marker\": {\"colorbar\": {\"outlinewidth\": 0, \"ticks\": \"\"}}, \"type\": \"histogram\"}], \"histogram2d\": [{\"colorbar\": {\"outlinewidth\": 0, \"ticks\": \"\"}, \"colorscale\": [[0.0, \"#0d0887\"], [0.1111111111111111, \"#46039f\"], [0.2222222222222222, \"#7201a8\"], [0.3333333333333333, \"#9c179e\"], [0.4444444444444444, \"#bd3786\"], [0.5555555555555556, \"#d8576b\"], [0.6666666666666666, \"#ed7953\"], [0.7777777777777778, \"#fb9f3a\"], [0.8888888888888888, \"#fdca26\"], [1.0, \"#f0f921\"]], \"type\": \"histogram2d\"}], \"histogram2dcontour\": [{\"colorbar\": {\"outlinewidth\": 0, \"ticks\": \"\"}, \"colorscale\": [[0.0, \"#0d0887\"], [0.1111111111111111, \"#46039f\"], [0.2222222222222222, \"#7201a8\"], [0.3333333333333333, \"#9c179e\"], [0.4444444444444444, \"#bd3786\"], [0.5555555555555556, \"#d8576b\"], [0.6666666666666666, \"#ed7953\"], [0.7777777777777778, \"#fb9f3a\"], [0.8888888888888888, \"#fdca26\"], [1.0, \"#f0f921\"]], \"type\": \"histogram2dcontour\"}], \"mesh3d\": [{\"colorbar\": {\"outlinewidth\": 0, \"ticks\": \"\"}, \"type\": \"mesh3d\"}], \"parcoords\": [{\"line\": {\"colorbar\": {\"outlinewidth\": 0, \"ticks\": \"\"}}, \"type\": \"parcoords\"}], \"pie\": [{\"automargin\": true, \"type\": \"pie\"}], \"scatter\": [{\"marker\": {\"colorbar\": {\"outlinewidth\": 0, \"ticks\": \"\"}}, \"type\": \"scatter\"}], \"scatter3d\": [{\"line\": {\"colorbar\": {\"outlinewidth\": 0, \"ticks\": \"\"}}, \"marker\": {\"colorbar\": {\"outlinewidth\": 0, \"ticks\": \"\"}}, \"type\": \"scatter3d\"}], \"scattercarpet\": [{\"marker\": {\"colorbar\": {\"outlinewidth\": 0, \"ticks\": \"\"}}, \"type\": \"scattercarpet\"}], \"scattergeo\": [{\"marker\": {\"colorbar\": {\"outlinewidth\": 0, \"ticks\": \"\"}}, \"type\": \"scattergeo\"}], \"scattergl\": [{\"marker\": {\"colorbar\": {\"outlinewidth\": 0, \"ticks\": \"\"}}, \"type\": \"scattergl\"}], \"scattermapbox\": [{\"marker\": {\"colorbar\": {\"outlinewidth\": 0, \"ticks\": \"\"}}, \"type\": \"scattermapbox\"}], \"scatterpolar\": [{\"marker\": {\"colorbar\": {\"outlinewidth\": 0, \"ticks\": \"\"}}, \"type\": \"scatterpolar\"}], \"scatterpolargl\": [{\"marker\": {\"colorbar\": {\"outlinewidth\": 0, \"ticks\": \"\"}}, \"type\": \"scatterpolargl\"}], \"scatterternary\": [{\"marker\": {\"colorbar\": {\"outlinewidth\": 0, \"ticks\": \"\"}}, \"type\": \"scatterternary\"}], \"surface\": [{\"colorbar\": {\"outlinewidth\": 0, \"ticks\": \"\"}, \"colorscale\": [[0.0, \"#0d0887\"], [0.1111111111111111, \"#46039f\"], [0.2222222222222222, \"#7201a8\"], [0.3333333333333333, \"#9c179e\"], [0.4444444444444444, \"#bd3786\"], [0.5555555555555556, \"#d8576b\"], [0.6666666666666666, \"#ed7953\"], [0.7777777777777778, \"#fb9f3a\"], [0.8888888888888888, \"#fdca26\"], [1.0, \"#f0f921\"]], \"type\": \"surface\"}], \"table\": [{\"cells\": {\"fill\": {\"color\": \"#EBF0F8\"}, \"line\": {\"color\": \"white\"}}, \"header\": {\"fill\": {\"color\": \"#C8D4E3\"}, \"line\": {\"color\": \"white\"}}, \"type\": \"table\"}]}, \"layout\": {\"annotationdefaults\": {\"arrowcolor\": \"#2a3f5f\", \"arrowhead\": 0, \"arrowwidth\": 1}, \"coloraxis\": {\"colorbar\": {\"outlinewidth\": 0, \"ticks\": \"\"}}, \"colorscale\": {\"diverging\": [[0, \"#8e0152\"], [0.1, \"#c51b7d\"], [0.2, \"#de77ae\"], [0.3, \"#f1b6da\"], [0.4, \"#fde0ef\"], [0.5, \"#f7f7f7\"], [0.6, \"#e6f5d0\"], [0.7, \"#b8e186\"], [0.8, \"#7fbc41\"], [0.9, \"#4d9221\"], [1, \"#276419\"]], \"sequential\": [[0.0, \"#0d0887\"], [0.1111111111111111, \"#46039f\"], [0.2222222222222222, \"#7201a8\"], [0.3333333333333333, \"#9c179e\"], [0.4444444444444444, \"#bd3786\"], [0.5555555555555556, \"#d8576b\"], [0.6666666666666666, \"#ed7953\"], [0.7777777777777778, \"#fb9f3a\"], [0.8888888888888888, \"#fdca26\"], [1.0, \"#f0f921\"]], \"sequentialminus\": [[0.0, \"#0d0887\"], [0.1111111111111111, \"#46039f\"], [0.2222222222222222, \"#7201a8\"], [0.3333333333333333, \"#9c179e\"], [0.4444444444444444, \"#bd3786\"], [0.5555555555555556, \"#d8576b\"], [0.6666666666666666, \"#ed7953\"], [0.7777777777777778, \"#fb9f3a\"], [0.8888888888888888, \"#fdca26\"], [1.0, \"#f0f921\"]]}, \"colorway\": [\"#636efa\", \"#EF553B\", \"#00cc96\", \"#ab63fa\", \"#FFA15A\", \"#19d3f3\", \"#FF6692\", \"#B6E880\", \"#FF97FF\", \"#FECB52\"], \"font\": {\"color\": \"#2a3f5f\"}, \"geo\": {\"bgcolor\": \"white\", \"lakecolor\": \"white\", \"landcolor\": \"#E5ECF6\", \"showlakes\": true, \"showland\": true, \"subunitcolor\": \"white\"}, \"hoverlabel\": {\"align\": \"left\"}, \"hovermode\": \"closest\", \"mapbox\": {\"style\": \"light\"}, \"paper_bgcolor\": \"white\", \"plot_bgcolor\": \"#E5ECF6\", \"polar\": {\"angularaxis\": {\"gridcolor\": \"white\", \"linecolor\": \"white\", \"ticks\": \"\"}, \"bgcolor\": \"#E5ECF6\", \"radialaxis\": {\"gridcolor\": \"white\", \"linecolor\": \"white\", \"ticks\": \"\"}}, \"scene\": {\"xaxis\": {\"backgroundcolor\": \"#E5ECF6\", \"gridcolor\": \"white\", \"gridwidth\": 2, \"linecolor\": \"white\", \"showbackground\": true, \"ticks\": \"\", \"zerolinecolor\": \"white\"}, \"yaxis\": {\"backgroundcolor\": \"#E5ECF6\", \"gridcolor\": \"white\", \"gridwidth\": 2, \"linecolor\": \"white\", \"showbackground\": true, \"ticks\": \"\", \"zerolinecolor\": \"white\"}, \"zaxis\": {\"backgroundcolor\": \"#E5ECF6\", \"gridcolor\": \"white\", \"gridwidth\": 2, \"linecolor\": \"white\", \"showbackground\": true, \"ticks\": \"\", \"zerolinecolor\": \"white\"}}, \"shapedefaults\": {\"line\": {\"color\": \"#2a3f5f\"}}, \"ternary\": {\"aaxis\": {\"gridcolor\": \"white\", \"linecolor\": \"white\", \"ticks\": \"\"}, \"baxis\": {\"gridcolor\": \"white\", \"linecolor\": \"white\", \"ticks\": \"\"}, \"bgcolor\": \"#E5ECF6\", \"caxis\": {\"gridcolor\": \"white\", \"linecolor\": \"white\", \"ticks\": \"\"}}, \"title\": {\"x\": 0.05}, \"xaxis\": {\"automargin\": true, \"gridcolor\": \"white\", \"linecolor\": \"white\", \"ticks\": \"\", \"title\": {\"standoff\": 15}, \"zerolinecolor\": \"white\", \"zerolinewidth\": 2}, \"yaxis\": {\"automargin\": true, \"gridcolor\": \"white\", \"linecolor\": \"white\", \"ticks\": \"\", \"title\": {\"standoff\": 15}, \"zerolinecolor\": \"white\", \"zerolinewidth\": 2}}}, \"width\": 800, \"xaxis\": {\"anchor\": \"y\", \"domain\": [0.0, 1.0], \"title\": {\"text\": \"health_status\"}}, \"yaxis\": {\"anchor\": \"x\", \"domain\": [0.0, 1.0], \"title\": {\"text\": \"percentage\"}}},\n",
              "                        {\"responsive\": true}\n",
              "                    ).then(function(){\n",
              "                            \n",
              "var gd = document.getElementById('bdf34bc6-a309-4885-af5e-95636ff965b8');\n",
              "var x = new MutationObserver(function (mutations, observer) {{\n",
              "        var display = window.getComputedStyle(gd).display;\n",
              "        if (!display || display === 'none') {{\n",
              "            console.log([gd, 'removed!']);\n",
              "            Plotly.purge(gd);\n",
              "            observer.disconnect();\n",
              "        }}\n",
              "}});\n",
              "\n",
              "// Listen for the removal of the full notebook cells\n",
              "var notebookContainer = gd.closest('#notebook-container');\n",
              "if (notebookContainer) {{\n",
              "    x.observe(notebookContainer, {childList: true});\n",
              "}}\n",
              "\n",
              "// Listen for the clearing of the current output cell\n",
              "var outputEl = gd.closest('.output');\n",
              "if (outputEl) {{\n",
              "    x.observe(outputEl, {childList: true});\n",
              "}}\n",
              "\n",
              "                        })\n",
              "                };\n",
              "                \n",
              "            </script>\n",
              "        </div>\n",
              "</body>\n",
              "</html>"
            ]
          },
          "metadata": {
            "tags": []
          }
        }
      ]
    },
    {
      "cell_type": "markdown",
      "metadata": {
        "id": "dWVJ_gLgfbIq"
      },
      "source": [
        "## Chi-Square Test and Cramér's V for Medicaid and Race (White and Black)"
      ]
    },
    {
      "cell_type": "markdown",
      "metadata": {
        "id": "Cz4XFBq4Xg5P"
      },
      "source": [
        "Null Hypothesis: \"There is no effect of race on receiving Medicaid\".<br>\n",
        "Alternative Hypothesis: \"There is an effect of race on receiving Medicaid\"."
      ]
    },
    {
      "cell_type": "code",
      "metadata": {
        "id": "t2BPlnMFfd58"
      },
      "source": [
        "#exclude 0=Infant born after calendar year\n",
        "medicaid = race[(race['medicaid_coverage'].isin([1,2]))]"
      ],
      "execution_count": null,
      "outputs": []
    },
    {
      "cell_type": "code",
      "metadata": {
        "colab": {
          "base_uri": "https://localhost:8080/",
          "height": 217
        },
        "id": "vAMNKG6W4B5R",
        "outputId": "030b991c-02d8-4a5b-e747-c89bd0a300aa"
      },
      "source": [
        "medicaid.head()"
      ],
      "execution_count": null,
      "outputs": [
        {
          "output_type": "execute_result",
          "data": {
            "text/html": [
              "<div>\n",
              "<style scoped>\n",
              "    .dataframe tbody tr th:only-of-type {\n",
              "        vertical-align: middle;\n",
              "    }\n",
              "\n",
              "    .dataframe tbody tr th {\n",
              "        vertical-align: top;\n",
              "    }\n",
              "\n",
              "    .dataframe thead th {\n",
              "        text-align: right;\n",
              "    }\n",
              "</style>\n",
              "<table border=\"1\" class=\"dataframe\">\n",
              "  <thead>\n",
              "    <tr style=\"text-align: right;\">\n",
              "      <th></th>\n",
              "      <th>ID</th>\n",
              "      <th>race</th>\n",
              "      <th>AGE1</th>\n",
              "      <th>financial_assistance</th>\n",
              "      <th>poverty_level</th>\n",
              "      <th>health_insurance</th>\n",
              "      <th>health_status</th>\n",
              "      <th>medicaid_coverage</th>\n",
              "      <th>ed_attainment</th>\n",
              "      <th>employment_status</th>\n",
              "      <th>labor_force_recode</th>\n",
              "      <th>total_income_recode</th>\n",
              "    </tr>\n",
              "  </thead>\n",
              "  <tbody>\n",
              "    <tr>\n",
              "      <th>0</th>\n",
              "      <td>8329611509015080901101</td>\n",
              "      <td>1</td>\n",
              "      <td>14</td>\n",
              "      <td>2</td>\n",
              "      <td>4</td>\n",
              "      <td>1</td>\n",
              "      <td>3</td>\n",
              "      <td>2</td>\n",
              "      <td>39</td>\n",
              "      <td>1</td>\n",
              "      <td>1</td>\n",
              "      <td>22</td>\n",
              "    </tr>\n",
              "    <tr>\n",
              "      <th>1</th>\n",
              "      <td>8329611509015080901102</td>\n",
              "      <td>1</td>\n",
              "      <td>15</td>\n",
              "      <td>2</td>\n",
              "      <td>4</td>\n",
              "      <td>1</td>\n",
              "      <td>3</td>\n",
              "      <td>2</td>\n",
              "      <td>39</td>\n",
              "      <td>0</td>\n",
              "      <td>5</td>\n",
              "      <td>30</td>\n",
              "    </tr>\n",
              "    <tr>\n",
              "      <th>2</th>\n",
              "      <td>4238996011902050901101</td>\n",
              "      <td>1</td>\n",
              "      <td>14</td>\n",
              "      <td>2</td>\n",
              "      <td>4</td>\n",
              "      <td>1</td>\n",
              "      <td>3</td>\n",
              "      <td>2</td>\n",
              "      <td>39</td>\n",
              "      <td>1</td>\n",
              "      <td>1</td>\n",
              "      <td>18</td>\n",
              "    </tr>\n",
              "    <tr>\n",
              "      <th>3</th>\n",
              "      <td>4238996011902050901102</td>\n",
              "      <td>1</td>\n",
              "      <td>16</td>\n",
              "      <td>2</td>\n",
              "      <td>4</td>\n",
              "      <td>1</td>\n",
              "      <td>3</td>\n",
              "      <td>2</td>\n",
              "      <td>36</td>\n",
              "      <td>0</td>\n",
              "      <td>5</td>\n",
              "      <td>9</td>\n",
              "    </tr>\n",
              "    <tr>\n",
              "      <th>4</th>\n",
              "      <td>2059506120093750901101</td>\n",
              "      <td>1</td>\n",
              "      <td>11</td>\n",
              "      <td>2</td>\n",
              "      <td>4</td>\n",
              "      <td>1</td>\n",
              "      <td>2</td>\n",
              "      <td>2</td>\n",
              "      <td>39</td>\n",
              "      <td>1</td>\n",
              "      <td>1</td>\n",
              "      <td>17</td>\n",
              "    </tr>\n",
              "  </tbody>\n",
              "</table>\n",
              "</div>"
            ],
            "text/plain": [
              "                       ID  race  ...  labor_force_recode  total_income_recode\n",
              "0  8329611509015080901101     1  ...                   1                   22\n",
              "1  8329611509015080901102     1  ...                   5                   30\n",
              "2  4238996011902050901101     1  ...                   1                   18\n",
              "3  4238996011902050901102     1  ...                   5                    9\n",
              "4  2059506120093750901101     1  ...                   1                   17\n",
              "\n",
              "[5 rows x 12 columns]"
            ]
          },
          "metadata": {
            "tags": []
          },
          "execution_count": 52
        }
      ]
    },
    {
      "cell_type": "code",
      "metadata": {
        "id": "UYG6o9OLfskI",
        "colab": {
          "base_uri": "https://localhost:8080/"
        },
        "outputId": "4bf68630-7673-49eb-954c-95d845ef26f2"
      },
      "source": [
        "#create crosstab for chi-square and cramer's v calculation\n",
        "race_medicaid_crosstab = pd.crosstab(medicaid['medicaid_coverage'],  \n",
        "                            medicaid['race'], margins = False)\n",
        "print(race_medicaid_crosstab)"
      ],
      "execution_count": null,
      "outputs": [
        {
          "output_type": "stream",
          "text": [
            "race                   1      2\n",
            "medicaid_coverage              \n",
            "1                   9527   2695\n",
            "2                  78555  10756\n"
          ],
          "name": "stdout"
        }
      ]
    },
    {
      "cell_type": "code",
      "metadata": {
        "id": "gYHGXXVdzq_D",
        "colab": {
          "base_uri": "https://localhost:8080/"
        },
        "outputId": "741f3755-eac3-428c-f285-9d2ea24d5b85"
      },
      "source": [
        "#run chi-square and cramer's v function\n",
        "chi_square(race_medicaid_crosstab)"
      ],
      "execution_count": null,
      "outputs": [
        {
          "output_type": "stream",
          "text": [
            "\u001b[1mChi-Square Test\u001b[0m\n",
            "degrees of freedom = 1\n",
            "\n",
            "Expected frequencies:\n",
            " [[10602.84049521  1619.15950479]\n",
            " [77479.15950479 11831.84049521]]\n",
            "\n",
            "alpha=0.050, p-value=0.000\n",
            "p-value <= 0.05. Reject H0 that there is no association between the two variables.\n",
            "\n",
            "\u001b[1mCramer's V for: \u001b[0m\n",
            "race\n",
            "1    0.103079\n",
            "2    0.263776\n",
            "dtype: float64\n"
          ],
          "name": "stdout"
        }
      ]
    },
    {
      "cell_type": "markdown",
      "metadata": {
        "id": "WSsOeqYWz0Ii"
      },
      "source": [
        "###Chi-Square Interpretation"
      ]
    },
    {
      "cell_type": "markdown",
      "metadata": {
        "id": "XzncdwACz37p"
      },
      "source": [
        "Reject the Null Hypothesis that there is no effect of race on receiving Medicaid\n",
        "\n",
        "White has a lesser incidence of Medicaid coverage and a greater incidence of no Medicaid coverage.<br>\n",
        "Black has a greater incidence of Medicaid coverage and a lesser incidence of no Medicaid coverage."
      ]
    },
    {
      "cell_type": "markdown",
      "metadata": {
        "id": "0Znr6oEUgHj9"
      },
      "source": [
        "###Cramér's V Interpretation\n",
        "\n",
        "The results do not suggest that chi-square is statistically significant due to the large sample size.<br>\n",
        "The Cramér's V for White signifies low and for Black low to a moderate association."
      ]
    },
    {
      "cell_type": "markdown",
      "metadata": {
        "id": "6ABlETwzz7i_"
      },
      "source": [
        "###Visualization"
      ]
    },
    {
      "cell_type": "code",
      "metadata": {
        "id": "ugDMcZJb6oav"
      },
      "source": [
        "#replace numbers with the value for the bar chart\n",
        "medicaid['medicaid_coverage'] = medicaid['medicaid_coverage'].replace([1,2],['Yes','No'])"
      ],
      "execution_count": null,
      "outputs": []
    },
    {
      "cell_type": "code",
      "metadata": {
        "id": "8b-m5Szk0FxH",
        "colab": {
          "base_uri": "https://localhost:8080/",
          "height": 217
        },
        "outputId": "5334fadb-13f2-4c35-b4c2-c32a83936607"
      },
      "source": [
        "medicaid.head()"
      ],
      "execution_count": null,
      "outputs": [
        {
          "output_type": "execute_result",
          "data": {
            "text/html": [
              "<div>\n",
              "<style scoped>\n",
              "    .dataframe tbody tr th:only-of-type {\n",
              "        vertical-align: middle;\n",
              "    }\n",
              "\n",
              "    .dataframe tbody tr th {\n",
              "        vertical-align: top;\n",
              "    }\n",
              "\n",
              "    .dataframe thead th {\n",
              "        text-align: right;\n",
              "    }\n",
              "</style>\n",
              "<table border=\"1\" class=\"dataframe\">\n",
              "  <thead>\n",
              "    <tr style=\"text-align: right;\">\n",
              "      <th></th>\n",
              "      <th>ID</th>\n",
              "      <th>race</th>\n",
              "      <th>AGE1</th>\n",
              "      <th>financial_assistance</th>\n",
              "      <th>poverty_level</th>\n",
              "      <th>health_insurance</th>\n",
              "      <th>health_status</th>\n",
              "      <th>medicaid_coverage</th>\n",
              "      <th>ed_attainment</th>\n",
              "      <th>employment_status</th>\n",
              "      <th>labor_force_recode</th>\n",
              "      <th>total_income_recode</th>\n",
              "    </tr>\n",
              "  </thead>\n",
              "  <tbody>\n",
              "    <tr>\n",
              "      <th>0</th>\n",
              "      <td>8329611509015080901101</td>\n",
              "      <td>1</td>\n",
              "      <td>14</td>\n",
              "      <td>2</td>\n",
              "      <td>4</td>\n",
              "      <td>1</td>\n",
              "      <td>3</td>\n",
              "      <td>No</td>\n",
              "      <td>39</td>\n",
              "      <td>1</td>\n",
              "      <td>1</td>\n",
              "      <td>22</td>\n",
              "    </tr>\n",
              "    <tr>\n",
              "      <th>1</th>\n",
              "      <td>8329611509015080901102</td>\n",
              "      <td>1</td>\n",
              "      <td>15</td>\n",
              "      <td>2</td>\n",
              "      <td>4</td>\n",
              "      <td>1</td>\n",
              "      <td>3</td>\n",
              "      <td>No</td>\n",
              "      <td>39</td>\n",
              "      <td>0</td>\n",
              "      <td>5</td>\n",
              "      <td>30</td>\n",
              "    </tr>\n",
              "    <tr>\n",
              "      <th>2</th>\n",
              "      <td>4238996011902050901101</td>\n",
              "      <td>1</td>\n",
              "      <td>14</td>\n",
              "      <td>2</td>\n",
              "      <td>4</td>\n",
              "      <td>1</td>\n",
              "      <td>3</td>\n",
              "      <td>No</td>\n",
              "      <td>39</td>\n",
              "      <td>1</td>\n",
              "      <td>1</td>\n",
              "      <td>18</td>\n",
              "    </tr>\n",
              "    <tr>\n",
              "      <th>3</th>\n",
              "      <td>4238996011902050901102</td>\n",
              "      <td>1</td>\n",
              "      <td>16</td>\n",
              "      <td>2</td>\n",
              "      <td>4</td>\n",
              "      <td>1</td>\n",
              "      <td>3</td>\n",
              "      <td>No</td>\n",
              "      <td>36</td>\n",
              "      <td>0</td>\n",
              "      <td>5</td>\n",
              "      <td>9</td>\n",
              "    </tr>\n",
              "    <tr>\n",
              "      <th>4</th>\n",
              "      <td>2059506120093750901101</td>\n",
              "      <td>1</td>\n",
              "      <td>11</td>\n",
              "      <td>2</td>\n",
              "      <td>4</td>\n",
              "      <td>1</td>\n",
              "      <td>2</td>\n",
              "      <td>No</td>\n",
              "      <td>39</td>\n",
              "      <td>1</td>\n",
              "      <td>1</td>\n",
              "      <td>17</td>\n",
              "    </tr>\n",
              "  </tbody>\n",
              "</table>\n",
              "</div>"
            ],
            "text/plain": [
              "                       ID  race  ...  labor_force_recode  total_income_recode\n",
              "0  8329611509015080901101     1  ...                   1                   22\n",
              "1  8329611509015080901102     1  ...                   5                   30\n",
              "2  4238996011902050901101     1  ...                   1                   18\n",
              "3  4238996011902050901102     1  ...                   5                    9\n",
              "4  2059506120093750901101     1  ...                   1                   17\n",
              "\n",
              "[5 rows x 12 columns]"
            ]
          },
          "metadata": {
            "tags": []
          },
          "execution_count": 56
        }
      ]
    },
    {
      "cell_type": "code",
      "metadata": {
        "id": "Km1MRZIv0Hgk",
        "colab": {
          "base_uri": "https://localhost:8080/",
          "height": 616
        },
        "outputId": "7c8b427e-2710-4230-b973-9ba545ee4786"
      },
      "source": [
        "#run normalizing data and plotly bar chart function\n",
        "dataframe(medicaid, 'medicaid_coverage')"
      ],
      "execution_count": null,
      "outputs": [
        {
          "output_type": "display_data",
          "data": {
            "text/html": [
              "<html>\n",
              "<head><meta charset=\"utf-8\" /></head>\n",
              "<body>\n",
              "    <div>\n",
              "            <script src=\"https://cdnjs.cloudflare.com/ajax/libs/mathjax/2.7.5/MathJax.js?config=TeX-AMS-MML_SVG\"></script><script type=\"text/javascript\">if (window.MathJax) {MathJax.Hub.Config({SVG: {font: \"STIX-Web\"}});}</script>\n",
              "                <script type=\"text/javascript\">window.PlotlyConfig = {MathJaxConfig: 'local'};</script>\n",
              "        <script src=\"https://cdn.plot.ly/plotly-latest.min.js\"></script>    \n",
              "            <div id=\"4edf5e5c-a9f3-4b43-8119-48d757b419e5\" class=\"plotly-graph-div\" style=\"height:600px; width:800px;\"></div>\n",
              "            <script type=\"text/javascript\">\n",
              "                \n",
              "                    window.PLOTLYENV=window.PLOTLYENV || {};\n",
              "                    \n",
              "                if (document.getElementById(\"4edf5e5c-a9f3-4b43-8119-48d757b419e5\")) {\n",
              "                    Plotly.newPlot(\n",
              "                        '4edf5e5c-a9f3-4b43-8119-48d757b419e5',\n",
              "                        [{\"alignmentgroup\": \"True\", \"hoverlabel\": {\"namelength\": 0}, \"hovertemplate\": \"race=black<br>medicaid_coverage=%{x}<br>percentage=%{y}\", \"legendgroup\": \"race=black\", \"marker\": {\"color\": \"#636efa\"}, \"name\": \"race=black\", \"offsetgroup\": \"race=black\", \"orientation\": \"v\", \"showlegend\": true, \"textposition\": \"outside\", \"texttemplate\": \"%{y:.2f}%\", \"type\": \"bar\", \"x\": [\"No\", \"Yes\"], \"xaxis\": \"x\", \"y\": [79.96431492082372, 20.035685079176268], \"yaxis\": \"y\"}, {\"alignmentgroup\": \"True\", \"hoverlabel\": {\"namelength\": 0}, \"hovertemplate\": \"race=white<br>medicaid_coverage=%{x}<br>percentage=%{y}\", \"legendgroup\": \"race=white\", \"marker\": {\"color\": \"#EF553B\"}, \"name\": \"race=white\", \"offsetgroup\": \"race=white\", \"orientation\": \"v\", \"showlegend\": true, \"textposition\": \"outside\", \"texttemplate\": \"%{y:.2f}%\", \"type\": \"bar\", \"x\": [\"No\", \"Yes\"], \"xaxis\": \"x\", \"y\": [89.18394223564405, 10.816057764355941], \"yaxis\": \"y\"}],\n",
              "                        {\"barmode\": \"group\", \"height\": 600, \"legend\": {\"tracegroupgap\": 0}, \"margin\": {\"t\": 60}, \"template\": {\"data\": {\"bar\": [{\"error_x\": {\"color\": \"#2a3f5f\"}, \"error_y\": {\"color\": \"#2a3f5f\"}, \"marker\": {\"line\": {\"color\": \"#E5ECF6\", \"width\": 0.5}}, \"type\": \"bar\"}], \"barpolar\": [{\"marker\": {\"line\": {\"color\": \"#E5ECF6\", \"width\": 0.5}}, \"type\": \"barpolar\"}], \"carpet\": [{\"aaxis\": {\"endlinecolor\": \"#2a3f5f\", \"gridcolor\": \"white\", \"linecolor\": \"white\", \"minorgridcolor\": \"white\", \"startlinecolor\": \"#2a3f5f\"}, \"baxis\": {\"endlinecolor\": \"#2a3f5f\", \"gridcolor\": \"white\", \"linecolor\": \"white\", \"minorgridcolor\": \"white\", \"startlinecolor\": \"#2a3f5f\"}, \"type\": \"carpet\"}], \"choropleth\": [{\"colorbar\": {\"outlinewidth\": 0, \"ticks\": \"\"}, \"type\": \"choropleth\"}], \"contour\": [{\"colorbar\": {\"outlinewidth\": 0, \"ticks\": \"\"}, \"colorscale\": [[0.0, \"#0d0887\"], [0.1111111111111111, \"#46039f\"], [0.2222222222222222, \"#7201a8\"], [0.3333333333333333, \"#9c179e\"], [0.4444444444444444, \"#bd3786\"], [0.5555555555555556, \"#d8576b\"], [0.6666666666666666, \"#ed7953\"], [0.7777777777777778, \"#fb9f3a\"], [0.8888888888888888, \"#fdca26\"], [1.0, \"#f0f921\"]], \"type\": \"contour\"}], \"contourcarpet\": [{\"colorbar\": {\"outlinewidth\": 0, \"ticks\": \"\"}, \"type\": \"contourcarpet\"}], \"heatmap\": [{\"colorbar\": {\"outlinewidth\": 0, \"ticks\": \"\"}, \"colorscale\": [[0.0, \"#0d0887\"], [0.1111111111111111, \"#46039f\"], [0.2222222222222222, \"#7201a8\"], [0.3333333333333333, \"#9c179e\"], [0.4444444444444444, \"#bd3786\"], [0.5555555555555556, \"#d8576b\"], [0.6666666666666666, \"#ed7953\"], [0.7777777777777778, \"#fb9f3a\"], [0.8888888888888888, \"#fdca26\"], [1.0, \"#f0f921\"]], \"type\": \"heatmap\"}], \"heatmapgl\": [{\"colorbar\": {\"outlinewidth\": 0, \"ticks\": \"\"}, \"colorscale\": [[0.0, \"#0d0887\"], [0.1111111111111111, \"#46039f\"], [0.2222222222222222, \"#7201a8\"], [0.3333333333333333, \"#9c179e\"], [0.4444444444444444, \"#bd3786\"], [0.5555555555555556, \"#d8576b\"], [0.6666666666666666, \"#ed7953\"], [0.7777777777777778, \"#fb9f3a\"], [0.8888888888888888, \"#fdca26\"], [1.0, \"#f0f921\"]], \"type\": \"heatmapgl\"}], \"histogram\": [{\"marker\": {\"colorbar\": {\"outlinewidth\": 0, \"ticks\": \"\"}}, \"type\": \"histogram\"}], \"histogram2d\": [{\"colorbar\": {\"outlinewidth\": 0, \"ticks\": \"\"}, \"colorscale\": [[0.0, \"#0d0887\"], [0.1111111111111111, \"#46039f\"], [0.2222222222222222, \"#7201a8\"], [0.3333333333333333, \"#9c179e\"], [0.4444444444444444, \"#bd3786\"], [0.5555555555555556, \"#d8576b\"], [0.6666666666666666, \"#ed7953\"], [0.7777777777777778, \"#fb9f3a\"], [0.8888888888888888, \"#fdca26\"], [1.0, \"#f0f921\"]], \"type\": \"histogram2d\"}], \"histogram2dcontour\": [{\"colorbar\": {\"outlinewidth\": 0, \"ticks\": \"\"}, \"colorscale\": [[0.0, \"#0d0887\"], [0.1111111111111111, \"#46039f\"], [0.2222222222222222, \"#7201a8\"], [0.3333333333333333, \"#9c179e\"], [0.4444444444444444, \"#bd3786\"], [0.5555555555555556, \"#d8576b\"], [0.6666666666666666, \"#ed7953\"], [0.7777777777777778, \"#fb9f3a\"], [0.8888888888888888, \"#fdca26\"], [1.0, \"#f0f921\"]], \"type\": \"histogram2dcontour\"}], \"mesh3d\": [{\"colorbar\": {\"outlinewidth\": 0, \"ticks\": \"\"}, \"type\": \"mesh3d\"}], \"parcoords\": [{\"line\": {\"colorbar\": {\"outlinewidth\": 0, \"ticks\": \"\"}}, \"type\": \"parcoords\"}], \"pie\": [{\"automargin\": true, \"type\": \"pie\"}], \"scatter\": [{\"marker\": {\"colorbar\": {\"outlinewidth\": 0, \"ticks\": \"\"}}, \"type\": \"scatter\"}], \"scatter3d\": [{\"line\": {\"colorbar\": {\"outlinewidth\": 0, \"ticks\": \"\"}}, \"marker\": {\"colorbar\": {\"outlinewidth\": 0, \"ticks\": \"\"}}, \"type\": \"scatter3d\"}], \"scattercarpet\": [{\"marker\": {\"colorbar\": {\"outlinewidth\": 0, \"ticks\": \"\"}}, \"type\": \"scattercarpet\"}], \"scattergeo\": [{\"marker\": {\"colorbar\": {\"outlinewidth\": 0, \"ticks\": \"\"}}, \"type\": \"scattergeo\"}], \"scattergl\": [{\"marker\": {\"colorbar\": {\"outlinewidth\": 0, \"ticks\": \"\"}}, \"type\": \"scattergl\"}], \"scattermapbox\": [{\"marker\": {\"colorbar\": {\"outlinewidth\": 0, \"ticks\": \"\"}}, \"type\": \"scattermapbox\"}], \"scatterpolar\": [{\"marker\": {\"colorbar\": {\"outlinewidth\": 0, \"ticks\": \"\"}}, \"type\": \"scatterpolar\"}], \"scatterpolargl\": [{\"marker\": {\"colorbar\": {\"outlinewidth\": 0, \"ticks\": \"\"}}, \"type\": \"scatterpolargl\"}], \"scatterternary\": [{\"marker\": {\"colorbar\": {\"outlinewidth\": 0, \"ticks\": \"\"}}, \"type\": \"scatterternary\"}], \"surface\": [{\"colorbar\": {\"outlinewidth\": 0, \"ticks\": \"\"}, \"colorscale\": [[0.0, \"#0d0887\"], [0.1111111111111111, \"#46039f\"], [0.2222222222222222, \"#7201a8\"], [0.3333333333333333, \"#9c179e\"], [0.4444444444444444, \"#bd3786\"], [0.5555555555555556, \"#d8576b\"], [0.6666666666666666, \"#ed7953\"], [0.7777777777777778, \"#fb9f3a\"], [0.8888888888888888, \"#fdca26\"], [1.0, \"#f0f921\"]], \"type\": \"surface\"}], \"table\": [{\"cells\": {\"fill\": {\"color\": \"#EBF0F8\"}, \"line\": {\"color\": \"white\"}}, \"header\": {\"fill\": {\"color\": \"#C8D4E3\"}, \"line\": {\"color\": \"white\"}}, \"type\": \"table\"}]}, \"layout\": {\"annotationdefaults\": {\"arrowcolor\": \"#2a3f5f\", \"arrowhead\": 0, \"arrowwidth\": 1}, \"coloraxis\": {\"colorbar\": {\"outlinewidth\": 0, \"ticks\": \"\"}}, \"colorscale\": {\"diverging\": [[0, \"#8e0152\"], [0.1, \"#c51b7d\"], [0.2, \"#de77ae\"], [0.3, \"#f1b6da\"], [0.4, \"#fde0ef\"], [0.5, \"#f7f7f7\"], [0.6, \"#e6f5d0\"], [0.7, \"#b8e186\"], [0.8, \"#7fbc41\"], [0.9, \"#4d9221\"], [1, \"#276419\"]], \"sequential\": [[0.0, \"#0d0887\"], [0.1111111111111111, \"#46039f\"], [0.2222222222222222, \"#7201a8\"], [0.3333333333333333, \"#9c179e\"], [0.4444444444444444, \"#bd3786\"], [0.5555555555555556, \"#d8576b\"], [0.6666666666666666, \"#ed7953\"], [0.7777777777777778, \"#fb9f3a\"], [0.8888888888888888, \"#fdca26\"], [1.0, \"#f0f921\"]], \"sequentialminus\": [[0.0, \"#0d0887\"], [0.1111111111111111, \"#46039f\"], [0.2222222222222222, \"#7201a8\"], [0.3333333333333333, \"#9c179e\"], [0.4444444444444444, \"#bd3786\"], [0.5555555555555556, \"#d8576b\"], [0.6666666666666666, \"#ed7953\"], [0.7777777777777778, \"#fb9f3a\"], [0.8888888888888888, \"#fdca26\"], [1.0, \"#f0f921\"]]}, \"colorway\": [\"#636efa\", \"#EF553B\", \"#00cc96\", \"#ab63fa\", \"#FFA15A\", \"#19d3f3\", \"#FF6692\", \"#B6E880\", \"#FF97FF\", \"#FECB52\"], \"font\": {\"color\": \"#2a3f5f\"}, \"geo\": {\"bgcolor\": \"white\", \"lakecolor\": \"white\", \"landcolor\": \"#E5ECF6\", \"showlakes\": true, \"showland\": true, \"subunitcolor\": \"white\"}, \"hoverlabel\": {\"align\": \"left\"}, \"hovermode\": \"closest\", \"mapbox\": {\"style\": \"light\"}, \"paper_bgcolor\": \"white\", \"plot_bgcolor\": \"#E5ECF6\", \"polar\": {\"angularaxis\": {\"gridcolor\": \"white\", \"linecolor\": \"white\", \"ticks\": \"\"}, \"bgcolor\": \"#E5ECF6\", \"radialaxis\": {\"gridcolor\": \"white\", \"linecolor\": \"white\", \"ticks\": \"\"}}, \"scene\": {\"xaxis\": {\"backgroundcolor\": \"#E5ECF6\", \"gridcolor\": \"white\", \"gridwidth\": 2, \"linecolor\": \"white\", \"showbackground\": true, \"ticks\": \"\", \"zerolinecolor\": \"white\"}, \"yaxis\": {\"backgroundcolor\": \"#E5ECF6\", \"gridcolor\": \"white\", \"gridwidth\": 2, \"linecolor\": \"white\", \"showbackground\": true, \"ticks\": \"\", \"zerolinecolor\": \"white\"}, \"zaxis\": {\"backgroundcolor\": \"#E5ECF6\", \"gridcolor\": \"white\", \"gridwidth\": 2, \"linecolor\": \"white\", \"showbackground\": true, \"ticks\": \"\", \"zerolinecolor\": \"white\"}}, \"shapedefaults\": {\"line\": {\"color\": \"#2a3f5f\"}}, \"ternary\": {\"aaxis\": {\"gridcolor\": \"white\", \"linecolor\": \"white\", \"ticks\": \"\"}, \"baxis\": {\"gridcolor\": \"white\", \"linecolor\": \"white\", \"ticks\": \"\"}, \"bgcolor\": \"#E5ECF6\", \"caxis\": {\"gridcolor\": \"white\", \"linecolor\": \"white\", \"ticks\": \"\"}}, \"title\": {\"x\": 0.05}, \"xaxis\": {\"automargin\": true, \"gridcolor\": \"white\", \"linecolor\": \"white\", \"ticks\": \"\", \"title\": {\"standoff\": 15}, \"zerolinecolor\": \"white\", \"zerolinewidth\": 2}, \"yaxis\": {\"automargin\": true, \"gridcolor\": \"white\", \"linecolor\": \"white\", \"ticks\": \"\", \"title\": {\"standoff\": 15}, \"zerolinecolor\": \"white\", \"zerolinewidth\": 2}}}, \"width\": 800, \"xaxis\": {\"anchor\": \"y\", \"domain\": [0.0, 1.0], \"title\": {\"text\": \"medicaid_coverage\"}}, \"yaxis\": {\"anchor\": \"x\", \"domain\": [0.0, 1.0], \"title\": {\"text\": \"percentage\"}}},\n",
              "                        {\"responsive\": true}\n",
              "                    ).then(function(){\n",
              "                            \n",
              "var gd = document.getElementById('4edf5e5c-a9f3-4b43-8119-48d757b419e5');\n",
              "var x = new MutationObserver(function (mutations, observer) {{\n",
              "        var display = window.getComputedStyle(gd).display;\n",
              "        if (!display || display === 'none') {{\n",
              "            console.log([gd, 'removed!']);\n",
              "            Plotly.purge(gd);\n",
              "            observer.disconnect();\n",
              "        }}\n",
              "}});\n",
              "\n",
              "// Listen for the removal of the full notebook cells\n",
              "var notebookContainer = gd.closest('#notebook-container');\n",
              "if (notebookContainer) {{\n",
              "    x.observe(notebookContainer, {childList: true});\n",
              "}}\n",
              "\n",
              "// Listen for the clearing of the current output cell\n",
              "var outputEl = gd.closest('.output');\n",
              "if (outputEl) {{\n",
              "    x.observe(outputEl, {childList: true});\n",
              "}}\n",
              "\n",
              "                        })\n",
              "                };\n",
              "                \n",
              "            </script>\n",
              "        </div>\n",
              "</body>\n",
              "</html>"
            ]
          },
          "metadata": {
            "tags": []
          }
        }
      ]
    },
    {
      "cell_type": "markdown",
      "metadata": {
        "id": "lw2j4IjPOSWu"
      },
      "source": [
        "## Chi-Square Test and Cramér's V for Educational Attainment and Race (White and Black)"
      ]
    },
    {
      "cell_type": "markdown",
      "metadata": {
        "id": "i11nqPInYEZo"
      },
      "source": [
        "Null Hypothesis: \"There is no effect of race on the level of educational attainment\".<br>\n",
        "Alternative Hypothesis: \"There is an effect on the level of educational attainment\"."
      ]
    },
    {
      "cell_type": "code",
      "metadata": {
        "id": "tea8YNcjn0qW"
      },
      "source": [
        "#to only include those with \"12thgrade no diploma\" and higher\n",
        "ed_attainment = race[(race['ed_attainment'].isin([38, 39, 40, 41, 42, 43, 44, 45, 46]))]"
      ],
      "execution_count": null,
      "outputs": []
    },
    {
      "cell_type": "code",
      "metadata": {
        "id": "FsJ6fW3yZZm6"
      },
      "source": [
        "#create crosstab for chi-square and cramer's v calculation\n",
        "race_edattainment_crosstab = pd.crosstab(ed_attainment['ed_attainment'],  \n",
        "                            ed_attainment['race'], margins = False)"
      ],
      "execution_count": null,
      "outputs": []
    },
    {
      "cell_type": "code",
      "metadata": {
        "id": "XVHFAyDAZoZu",
        "colab": {
          "base_uri": "https://localhost:8080/"
        },
        "outputId": "3e0ace46-1a60-459d-eea7-7e2230b1c2c7"
      },
      "source": [
        "print(race_edattainment_crosstab)"
      ],
      "execution_count": null,
      "outputs": [
        {
          "output_type": "stream",
          "text": [
            "race               1     2\n",
            "ed_attainment             \n",
            "38               985   266\n",
            "39             24300  4486\n",
            "40             15030  2627\n",
            "41              4194   543\n",
            "42              5584   759\n",
            "43             19604  2213\n",
            "44              8478  1015\n",
            "45              1285   125\n",
            "46              1700   159\n"
          ],
          "name": "stdout"
        }
      ]
    },
    {
      "cell_type": "code",
      "metadata": {
        "id": "zp4h3Wmh0jqZ",
        "colab": {
          "base_uri": "https://localhost:8080/"
        },
        "outputId": "b50669f8-1b9e-4c1b-debb-cba17a50f279"
      },
      "source": [
        "#run chi-square and cramer's v function\n",
        "chi_square(race_edattainment_crosstab)"
      ],
      "execution_count": null,
      "outputs": [
        {
          "output_type": "stream",
          "text": [
            "\u001b[1mChi-Square Test\u001b[0m\n",
            "degrees of freedom = 8\n",
            "\n",
            "Expected frequencies:\n",
            " [[ 1087.6046833    163.3953167 ]\n",
            " [25026.20976294  3759.79023706]\n",
            " [15350.78808394  2306.21191606]\n",
            " [ 4118.29207417   618.70792583]\n",
            " [ 5514.52958127   828.47041873]\n",
            " [18967.44314591  2849.55685409]\n",
            " [ 8253.10252483  1239.89747517]\n",
            " [ 1225.83741283   184.16258717]\n",
            " [ 1616.19273082   242.80726918]]\n",
            "\n",
            "alpha=0.050, p-value=0.000\n",
            "p-value <= 0.05. Reject H0 that there is no association between the two variables.\n",
            "\n",
            "\u001b[1mCramer's V for: \u001b[0m\n",
            "race\n",
            "1    0.083786\n",
            "2    0.216166\n",
            "dtype: float64\n"
          ],
          "name": "stdout"
        }
      ]
    },
    {
      "cell_type": "markdown",
      "metadata": {
        "id": "z34QtzG4aD-U"
      },
      "source": [
        "###Chi-Square Interpretation\n",
        "Reject Null Hypothesis that there is no effect of race on level of educational attainment\n",
        "\n",
        "White has a lesser incidence for 12th grade no diploma, High school graduate, and some college but no degree.<br>\n",
        "White has a greater incidence for Associate degrees in college (occupation and academic program), Bachelor's, Master's, Professional school, and Doctorate degree.\n",
        "\n",
        "Black has a greater incidence for 12th grade no diploma, High school graduate, and some college but no degree.<br>\n",
        "Black has a lesser incidence for Associate degrees in college (occupation and academic program), Bachelor's, Master's, Professional school, and Doctorate degree."
      ]
    },
    {
      "cell_type": "markdown",
      "metadata": {
        "id": "p-uaUbJBgBWq"
      },
      "source": [
        "###Cramér's V Interpretation\n",
        "\n",
        "The results do not suggest that chi-square is statistically significant due to the large sample size. While Cramér's V for White is just at 0.08, which signifies little or no association, the Cramér's V for Black is over 0.2, implying low association."
      ]
    },
    {
      "cell_type": "markdown",
      "metadata": {
        "id": "dK0ZFXcaCDHx"
      },
      "source": [
        "###Visualization"
      ]
    },
    {
      "cell_type": "code",
      "metadata": {
        "id": "-at3wquF8z6L"
      },
      "source": [
        "#replace numbers with the value for the bar chart\n",
        "ed_attainment['ed_attainment'] = ed_attainment['ed_attainment'].replace([38,39,40,41,42,43,44,45,46],['12th grade, no diploma','High School','Some college; no degree','Assoc. degree college - occupation program','Assoc. degree - academic program','Bachelor\\'s','Master\\'s','Professional school degree','Doctorate'])"
      ],
      "execution_count": null,
      "outputs": []
    },
    {
      "cell_type": "code",
      "metadata": {
        "id": "CWclYa6MCcTF",
        "colab": {
          "base_uri": "https://localhost:8080/",
          "height": 217
        },
        "outputId": "75b3e9dc-753d-49a7-dda9-2007309aa2af"
      },
      "source": [
        "ed_attainment.head()"
      ],
      "execution_count": null,
      "outputs": [
        {
          "output_type": "execute_result",
          "data": {
            "text/html": [
              "<div>\n",
              "<style scoped>\n",
              "    .dataframe tbody tr th:only-of-type {\n",
              "        vertical-align: middle;\n",
              "    }\n",
              "\n",
              "    .dataframe tbody tr th {\n",
              "        vertical-align: top;\n",
              "    }\n",
              "\n",
              "    .dataframe thead th {\n",
              "        text-align: right;\n",
              "    }\n",
              "</style>\n",
              "<table border=\"1\" class=\"dataframe\">\n",
              "  <thead>\n",
              "    <tr style=\"text-align: right;\">\n",
              "      <th></th>\n",
              "      <th>ID</th>\n",
              "      <th>race</th>\n",
              "      <th>AGE1</th>\n",
              "      <th>financial_assistance</th>\n",
              "      <th>poverty_level</th>\n",
              "      <th>health_insurance</th>\n",
              "      <th>health_status</th>\n",
              "      <th>medicaid_coverage</th>\n",
              "      <th>ed_attainment</th>\n",
              "      <th>employment_status</th>\n",
              "      <th>labor_force_recode</th>\n",
              "      <th>total_income_recode</th>\n",
              "    </tr>\n",
              "  </thead>\n",
              "  <tbody>\n",
              "    <tr>\n",
              "      <th>0</th>\n",
              "      <td>8329611509015080901101</td>\n",
              "      <td>1</td>\n",
              "      <td>14</td>\n",
              "      <td>2</td>\n",
              "      <td>4</td>\n",
              "      <td>1</td>\n",
              "      <td>3</td>\n",
              "      <td>2</td>\n",
              "      <td>High School</td>\n",
              "      <td>1</td>\n",
              "      <td>1</td>\n",
              "      <td>22</td>\n",
              "    </tr>\n",
              "    <tr>\n",
              "      <th>1</th>\n",
              "      <td>8329611509015080901102</td>\n",
              "      <td>1</td>\n",
              "      <td>15</td>\n",
              "      <td>2</td>\n",
              "      <td>4</td>\n",
              "      <td>1</td>\n",
              "      <td>3</td>\n",
              "      <td>2</td>\n",
              "      <td>High School</td>\n",
              "      <td>0</td>\n",
              "      <td>5</td>\n",
              "      <td>30</td>\n",
              "    </tr>\n",
              "    <tr>\n",
              "      <th>2</th>\n",
              "      <td>4238996011902050901101</td>\n",
              "      <td>1</td>\n",
              "      <td>14</td>\n",
              "      <td>2</td>\n",
              "      <td>4</td>\n",
              "      <td>1</td>\n",
              "      <td>3</td>\n",
              "      <td>2</td>\n",
              "      <td>High School</td>\n",
              "      <td>1</td>\n",
              "      <td>1</td>\n",
              "      <td>18</td>\n",
              "    </tr>\n",
              "    <tr>\n",
              "      <th>4</th>\n",
              "      <td>2059506120093750901101</td>\n",
              "      <td>1</td>\n",
              "      <td>11</td>\n",
              "      <td>2</td>\n",
              "      <td>4</td>\n",
              "      <td>1</td>\n",
              "      <td>2</td>\n",
              "      <td>2</td>\n",
              "      <td>High School</td>\n",
              "      <td>1</td>\n",
              "      <td>1</td>\n",
              "      <td>17</td>\n",
              "    </tr>\n",
              "    <tr>\n",
              "      <th>5</th>\n",
              "      <td>1410320300969990901101</td>\n",
              "      <td>1</td>\n",
              "      <td>16</td>\n",
              "      <td>2</td>\n",
              "      <td>1</td>\n",
              "      <td>1</td>\n",
              "      <td>5</td>\n",
              "      <td>2</td>\n",
              "      <td>High School</td>\n",
              "      <td>0</td>\n",
              "      <td>6</td>\n",
              "      <td>1</td>\n",
              "    </tr>\n",
              "  </tbody>\n",
              "</table>\n",
              "</div>"
            ],
            "text/plain": [
              "                       ID  race  ...  labor_force_recode  total_income_recode\n",
              "0  8329611509015080901101     1  ...                   1                   22\n",
              "1  8329611509015080901102     1  ...                   5                   30\n",
              "2  4238996011902050901101     1  ...                   1                   18\n",
              "4  2059506120093750901101     1  ...                   1                   17\n",
              "5  1410320300969990901101     1  ...                   6                    1\n",
              "\n",
              "[5 rows x 12 columns]"
            ]
          },
          "metadata": {
            "tags": []
          },
          "execution_count": 63
        }
      ]
    },
    {
      "cell_type": "code",
      "metadata": {
        "id": "GC3nHzrzCmZ2",
        "colab": {
          "base_uri": "https://localhost:8080/",
          "height": 616
        },
        "outputId": "bc7019a6-fd36-428d-bbfc-08f5b9909b7e"
      },
      "source": [
        "#run normalizing data and plotly bar chart function\n",
        "dataframe(ed_attainment, 'ed_attainment')"
      ],
      "execution_count": null,
      "outputs": [
        {
          "output_type": "display_data",
          "data": {
            "text/html": [
              "<html>\n",
              "<head><meta charset=\"utf-8\" /></head>\n",
              "<body>\n",
              "    <div>\n",
              "            <script src=\"https://cdnjs.cloudflare.com/ajax/libs/mathjax/2.7.5/MathJax.js?config=TeX-AMS-MML_SVG\"></script><script type=\"text/javascript\">if (window.MathJax) {MathJax.Hub.Config({SVG: {font: \"STIX-Web\"}});}</script>\n",
              "                <script type=\"text/javascript\">window.PlotlyConfig = {MathJaxConfig: 'local'};</script>\n",
              "        <script src=\"https://cdn.plot.ly/plotly-latest.min.js\"></script>    \n",
              "            <div id=\"cb9ad76d-54b1-46ca-afc7-7aa204efd0d9\" class=\"plotly-graph-div\" style=\"height:600px; width:800px;\"></div>\n",
              "            <script type=\"text/javascript\">\n",
              "                \n",
              "                    window.PLOTLYENV=window.PLOTLYENV || {};\n",
              "                    \n",
              "                if (document.getElementById(\"cb9ad76d-54b1-46ca-afc7-7aa204efd0d9\")) {\n",
              "                    Plotly.newPlot(\n",
              "                        'cb9ad76d-54b1-46ca-afc7-7aa204efd0d9',\n",
              "                        [{\"alignmentgroup\": \"True\", \"hoverlabel\": {\"namelength\": 0}, \"hovertemplate\": \"race=black<br>ed_attainment=%{x}<br>percentage=%{y}\", \"legendgroup\": \"race=black\", \"marker\": {\"color\": \"#636efa\"}, \"name\": \"race=black\", \"offsetgroup\": \"race=black\", \"orientation\": \"v\", \"showlegend\": true, \"textposition\": \"outside\", \"texttemplate\": \"%{y:.2f}%\", \"type\": \"bar\", \"x\": [\"High School\", \"Some college; no degree\", \"Bachelor's\", \"Master's\", \"Assoc. degree - academic program\", \"Assoc. degree college - occupation program\", \"12th grade, no diploma\", \"Doctorate\", \"Professional school degree\"], \"xaxis\": \"x\", \"y\": [36.79160173870253, 21.545148855900926, 18.149758057902073, 8.324448454031002, 6.224883129664562, 4.453374887230378, 2.181579594849504, 1.3040269006807186, 1.0251783810383006], \"yaxis\": \"y\"}, {\"alignmentgroup\": \"True\", \"hoverlabel\": {\"namelength\": 0}, \"hovertemplate\": \"race=white<br>ed_attainment=%{x}<br>percentage=%{y}\", \"legendgroup\": \"race=white\", \"marker\": {\"color\": \"#EF553B\"}, \"name\": \"race=white\", \"offsetgroup\": \"race=white\", \"orientation\": \"v\", \"showlegend\": true, \"textposition\": \"outside\", \"texttemplate\": \"%{y:.2f}%\", \"type\": \"bar\", \"x\": [\"High School\", \"Bachelor's\", \"Some college; no degree\", \"Master's\", \"Assoc. degree - academic program\", \"Assoc. degree college - occupation program\", \"Doctorate\", \"Professional school degree\", \"12th grade, no diploma\"], \"xaxis\": \"x\", \"y\": [29.9408575653031, 24.154756037456877, 18.518974864465253, 10.446032528339083, 6.880236569738788, 5.167570231641203, 2.094627895515032, 1.5832922621981271, 1.2136520453425332], \"yaxis\": \"y\"}],\n",
              "                        {\"barmode\": \"group\", \"height\": 600, \"legend\": {\"tracegroupgap\": 0}, \"margin\": {\"t\": 60}, \"template\": {\"data\": {\"bar\": [{\"error_x\": {\"color\": \"#2a3f5f\"}, \"error_y\": {\"color\": \"#2a3f5f\"}, \"marker\": {\"line\": {\"color\": \"#E5ECF6\", \"width\": 0.5}}, \"type\": \"bar\"}], \"barpolar\": [{\"marker\": {\"line\": {\"color\": \"#E5ECF6\", \"width\": 0.5}}, \"type\": \"barpolar\"}], \"carpet\": [{\"aaxis\": {\"endlinecolor\": \"#2a3f5f\", \"gridcolor\": \"white\", \"linecolor\": \"white\", \"minorgridcolor\": \"white\", \"startlinecolor\": \"#2a3f5f\"}, \"baxis\": {\"endlinecolor\": \"#2a3f5f\", \"gridcolor\": \"white\", \"linecolor\": \"white\", \"minorgridcolor\": \"white\", \"startlinecolor\": \"#2a3f5f\"}, \"type\": \"carpet\"}], \"choropleth\": [{\"colorbar\": {\"outlinewidth\": 0, \"ticks\": \"\"}, \"type\": \"choropleth\"}], \"contour\": [{\"colorbar\": {\"outlinewidth\": 0, \"ticks\": \"\"}, \"colorscale\": [[0.0, \"#0d0887\"], [0.1111111111111111, \"#46039f\"], [0.2222222222222222, \"#7201a8\"], [0.3333333333333333, \"#9c179e\"], [0.4444444444444444, \"#bd3786\"], [0.5555555555555556, \"#d8576b\"], [0.6666666666666666, \"#ed7953\"], [0.7777777777777778, \"#fb9f3a\"], [0.8888888888888888, \"#fdca26\"], [1.0, \"#f0f921\"]], \"type\": \"contour\"}], \"contourcarpet\": [{\"colorbar\": {\"outlinewidth\": 0, \"ticks\": \"\"}, \"type\": \"contourcarpet\"}], \"heatmap\": [{\"colorbar\": {\"outlinewidth\": 0, \"ticks\": \"\"}, \"colorscale\": [[0.0, \"#0d0887\"], [0.1111111111111111, \"#46039f\"], [0.2222222222222222, \"#7201a8\"], [0.3333333333333333, \"#9c179e\"], [0.4444444444444444, \"#bd3786\"], [0.5555555555555556, \"#d8576b\"], [0.6666666666666666, \"#ed7953\"], [0.7777777777777778, \"#fb9f3a\"], [0.8888888888888888, \"#fdca26\"], [1.0, \"#f0f921\"]], \"type\": \"heatmap\"}], \"heatmapgl\": [{\"colorbar\": {\"outlinewidth\": 0, \"ticks\": \"\"}, \"colorscale\": [[0.0, \"#0d0887\"], [0.1111111111111111, \"#46039f\"], [0.2222222222222222, \"#7201a8\"], [0.3333333333333333, \"#9c179e\"], [0.4444444444444444, \"#bd3786\"], [0.5555555555555556, \"#d8576b\"], [0.6666666666666666, \"#ed7953\"], [0.7777777777777778, \"#fb9f3a\"], [0.8888888888888888, \"#fdca26\"], [1.0, \"#f0f921\"]], \"type\": \"heatmapgl\"}], \"histogram\": [{\"marker\": {\"colorbar\": {\"outlinewidth\": 0, \"ticks\": \"\"}}, \"type\": \"histogram\"}], \"histogram2d\": [{\"colorbar\": {\"outlinewidth\": 0, \"ticks\": \"\"}, \"colorscale\": [[0.0, \"#0d0887\"], [0.1111111111111111, \"#46039f\"], [0.2222222222222222, \"#7201a8\"], [0.3333333333333333, \"#9c179e\"], [0.4444444444444444, \"#bd3786\"], [0.5555555555555556, \"#d8576b\"], [0.6666666666666666, \"#ed7953\"], [0.7777777777777778, \"#fb9f3a\"], [0.8888888888888888, \"#fdca26\"], [1.0, \"#f0f921\"]], \"type\": \"histogram2d\"}], \"histogram2dcontour\": [{\"colorbar\": {\"outlinewidth\": 0, \"ticks\": \"\"}, \"colorscale\": [[0.0, \"#0d0887\"], [0.1111111111111111, \"#46039f\"], [0.2222222222222222, \"#7201a8\"], [0.3333333333333333, \"#9c179e\"], [0.4444444444444444, \"#bd3786\"], [0.5555555555555556, \"#d8576b\"], [0.6666666666666666, \"#ed7953\"], [0.7777777777777778, \"#fb9f3a\"], [0.8888888888888888, \"#fdca26\"], [1.0, \"#f0f921\"]], \"type\": \"histogram2dcontour\"}], \"mesh3d\": [{\"colorbar\": {\"outlinewidth\": 0, \"ticks\": \"\"}, \"type\": \"mesh3d\"}], \"parcoords\": [{\"line\": {\"colorbar\": {\"outlinewidth\": 0, \"ticks\": \"\"}}, \"type\": \"parcoords\"}], \"pie\": [{\"automargin\": true, \"type\": \"pie\"}], \"scatter\": [{\"marker\": {\"colorbar\": {\"outlinewidth\": 0, \"ticks\": \"\"}}, \"type\": \"scatter\"}], \"scatter3d\": [{\"line\": {\"colorbar\": {\"outlinewidth\": 0, \"ticks\": \"\"}}, \"marker\": {\"colorbar\": {\"outlinewidth\": 0, \"ticks\": \"\"}}, \"type\": \"scatter3d\"}], \"scattercarpet\": [{\"marker\": {\"colorbar\": {\"outlinewidth\": 0, \"ticks\": \"\"}}, \"type\": \"scattercarpet\"}], \"scattergeo\": [{\"marker\": {\"colorbar\": {\"outlinewidth\": 0, \"ticks\": \"\"}}, \"type\": \"scattergeo\"}], \"scattergl\": [{\"marker\": {\"colorbar\": {\"outlinewidth\": 0, \"ticks\": \"\"}}, \"type\": \"scattergl\"}], \"scattermapbox\": [{\"marker\": {\"colorbar\": {\"outlinewidth\": 0, \"ticks\": \"\"}}, \"type\": \"scattermapbox\"}], \"scatterpolar\": [{\"marker\": {\"colorbar\": {\"outlinewidth\": 0, \"ticks\": \"\"}}, \"type\": \"scatterpolar\"}], \"scatterpolargl\": [{\"marker\": {\"colorbar\": {\"outlinewidth\": 0, \"ticks\": \"\"}}, \"type\": \"scatterpolargl\"}], \"scatterternary\": [{\"marker\": {\"colorbar\": {\"outlinewidth\": 0, \"ticks\": \"\"}}, \"type\": \"scatterternary\"}], \"surface\": [{\"colorbar\": {\"outlinewidth\": 0, \"ticks\": \"\"}, \"colorscale\": [[0.0, \"#0d0887\"], [0.1111111111111111, \"#46039f\"], [0.2222222222222222, \"#7201a8\"], [0.3333333333333333, \"#9c179e\"], [0.4444444444444444, \"#bd3786\"], [0.5555555555555556, \"#d8576b\"], [0.6666666666666666, \"#ed7953\"], [0.7777777777777778, \"#fb9f3a\"], [0.8888888888888888, \"#fdca26\"], [1.0, \"#f0f921\"]], \"type\": \"surface\"}], \"table\": [{\"cells\": {\"fill\": {\"color\": \"#EBF0F8\"}, \"line\": {\"color\": \"white\"}}, \"header\": {\"fill\": {\"color\": \"#C8D4E3\"}, \"line\": {\"color\": \"white\"}}, \"type\": \"table\"}]}, \"layout\": {\"annotationdefaults\": {\"arrowcolor\": \"#2a3f5f\", \"arrowhead\": 0, \"arrowwidth\": 1}, \"coloraxis\": {\"colorbar\": {\"outlinewidth\": 0, \"ticks\": \"\"}}, \"colorscale\": {\"diverging\": [[0, \"#8e0152\"], [0.1, \"#c51b7d\"], [0.2, \"#de77ae\"], [0.3, \"#f1b6da\"], [0.4, \"#fde0ef\"], [0.5, \"#f7f7f7\"], [0.6, \"#e6f5d0\"], [0.7, \"#b8e186\"], [0.8, \"#7fbc41\"], [0.9, \"#4d9221\"], [1, \"#276419\"]], \"sequential\": [[0.0, \"#0d0887\"], [0.1111111111111111, \"#46039f\"], [0.2222222222222222, \"#7201a8\"], [0.3333333333333333, \"#9c179e\"], [0.4444444444444444, \"#bd3786\"], [0.5555555555555556, \"#d8576b\"], [0.6666666666666666, \"#ed7953\"], [0.7777777777777778, \"#fb9f3a\"], [0.8888888888888888, \"#fdca26\"], [1.0, \"#f0f921\"]], \"sequentialminus\": [[0.0, \"#0d0887\"], [0.1111111111111111, \"#46039f\"], [0.2222222222222222, \"#7201a8\"], [0.3333333333333333, \"#9c179e\"], [0.4444444444444444, \"#bd3786\"], [0.5555555555555556, \"#d8576b\"], [0.6666666666666666, \"#ed7953\"], [0.7777777777777778, \"#fb9f3a\"], [0.8888888888888888, \"#fdca26\"], [1.0, \"#f0f921\"]]}, \"colorway\": [\"#636efa\", \"#EF553B\", \"#00cc96\", \"#ab63fa\", \"#FFA15A\", \"#19d3f3\", \"#FF6692\", \"#B6E880\", \"#FF97FF\", \"#FECB52\"], \"font\": {\"color\": \"#2a3f5f\"}, \"geo\": {\"bgcolor\": \"white\", \"lakecolor\": \"white\", \"landcolor\": \"#E5ECF6\", \"showlakes\": true, \"showland\": true, \"subunitcolor\": \"white\"}, \"hoverlabel\": {\"align\": \"left\"}, \"hovermode\": \"closest\", \"mapbox\": {\"style\": \"light\"}, \"paper_bgcolor\": \"white\", \"plot_bgcolor\": \"#E5ECF6\", \"polar\": {\"angularaxis\": {\"gridcolor\": \"white\", \"linecolor\": \"white\", \"ticks\": \"\"}, \"bgcolor\": \"#E5ECF6\", \"radialaxis\": {\"gridcolor\": \"white\", \"linecolor\": \"white\", \"ticks\": \"\"}}, \"scene\": {\"xaxis\": {\"backgroundcolor\": \"#E5ECF6\", \"gridcolor\": \"white\", \"gridwidth\": 2, \"linecolor\": \"white\", \"showbackground\": true, \"ticks\": \"\", \"zerolinecolor\": \"white\"}, \"yaxis\": {\"backgroundcolor\": \"#E5ECF6\", \"gridcolor\": \"white\", \"gridwidth\": 2, \"linecolor\": \"white\", \"showbackground\": true, \"ticks\": \"\", \"zerolinecolor\": \"white\"}, \"zaxis\": {\"backgroundcolor\": \"#E5ECF6\", \"gridcolor\": \"white\", \"gridwidth\": 2, \"linecolor\": \"white\", \"showbackground\": true, \"ticks\": \"\", \"zerolinecolor\": \"white\"}}, \"shapedefaults\": {\"line\": {\"color\": \"#2a3f5f\"}}, \"ternary\": {\"aaxis\": {\"gridcolor\": \"white\", \"linecolor\": \"white\", \"ticks\": \"\"}, \"baxis\": {\"gridcolor\": \"white\", \"linecolor\": \"white\", \"ticks\": \"\"}, \"bgcolor\": \"#E5ECF6\", \"caxis\": {\"gridcolor\": \"white\", \"linecolor\": \"white\", \"ticks\": \"\"}}, \"title\": {\"x\": 0.05}, \"xaxis\": {\"automargin\": true, \"gridcolor\": \"white\", \"linecolor\": \"white\", \"ticks\": \"\", \"title\": {\"standoff\": 15}, \"zerolinecolor\": \"white\", \"zerolinewidth\": 2}, \"yaxis\": {\"automargin\": true, \"gridcolor\": \"white\", \"linecolor\": \"white\", \"ticks\": \"\", \"title\": {\"standoff\": 15}, \"zerolinecolor\": \"white\", \"zerolinewidth\": 2}}}, \"width\": 800, \"xaxis\": {\"anchor\": \"y\", \"domain\": [0.0, 1.0], \"title\": {\"text\": \"ed_attainment\"}}, \"yaxis\": {\"anchor\": \"x\", \"domain\": [0.0, 1.0], \"title\": {\"text\": \"percentage\"}}},\n",
              "                        {\"responsive\": true}\n",
              "                    ).then(function(){\n",
              "                            \n",
              "var gd = document.getElementById('cb9ad76d-54b1-46ca-afc7-7aa204efd0d9');\n",
              "var x = new MutationObserver(function (mutations, observer) {{\n",
              "        var display = window.getComputedStyle(gd).display;\n",
              "        if (!display || display === 'none') {{\n",
              "            console.log([gd, 'removed!']);\n",
              "            Plotly.purge(gd);\n",
              "            observer.disconnect();\n",
              "        }}\n",
              "}});\n",
              "\n",
              "// Listen for the removal of the full notebook cells\n",
              "var notebookContainer = gd.closest('#notebook-container');\n",
              "if (notebookContainer) {{\n",
              "    x.observe(notebookContainer, {childList: true});\n",
              "}}\n",
              "\n",
              "// Listen for the clearing of the current output cell\n",
              "var outputEl = gd.closest('.output');\n",
              "if (outputEl) {{\n",
              "    x.observe(outputEl, {childList: true});\n",
              "}}\n",
              "\n",
              "                        })\n",
              "                };\n",
              "                \n",
              "            </script>\n",
              "        </div>\n",
              "</body>\n",
              "</html>"
            ]
          },
          "metadata": {
            "tags": []
          }
        }
      ]
    },
    {
      "cell_type": "markdown",
      "metadata": {
        "id": "BX8YqlPjaiRe"
      },
      "source": [
        "## Chi-Square Test and Cramér's V for Employment Status and Race (White and Black)"
      ]
    },
    {
      "cell_type": "markdown",
      "metadata": {
        "id": "_a5x-VCwYH3j"
      },
      "source": [
        "Null Hypothesis: \"There is no effect of race on employment status\".<br>\n",
        "Alternative Hypothesis: \"There is an effect of on employment status\"."
      ]
    },
    {
      "cell_type": "code",
      "metadata": {
        "id": "lZ0Zy4EFav1c"
      },
      "source": [
        "#exclude 0 = Not in experienced labor force \n",
        "emp_stat = race[(race['employment_status'].isin([1,2]))]"
      ],
      "execution_count": null,
      "outputs": []
    },
    {
      "cell_type": "code",
      "metadata": {
        "id": "KVb06xZgeDWg",
        "colab": {
          "base_uri": "https://localhost:8080/"
        },
        "outputId": "4bac6eff-05bc-4736-e053-b8212af9f73f"
      },
      "source": [
        "#create crosstab for chi-square and cramer's v calculation\n",
        "race_empstat_crosstab = pd.crosstab(emp_stat['employment_status'],  \n",
        "                            emp_stat['race'], margins = False)\n",
        "print(race_empstat_crosstab)"
      ],
      "execution_count": null,
      "outputs": [
        {
          "output_type": "stream",
          "text": [
            "race                   1     2\n",
            "employment_status             \n",
            "1                  55001  7367\n",
            "2                   2389   564\n"
          ],
          "name": "stdout"
        }
      ]
    },
    {
      "cell_type": "code",
      "metadata": {
        "id": "UOitG2_LB2LS",
        "colab": {
          "base_uri": "https://localhost:8080/"
        },
        "outputId": "72b18e59-f14a-4b77-8732-1f33f408bfb9"
      },
      "source": [
        "#run chi-square and cramer's v function\n",
        "chi_square(race_empstat_crosstab)"
      ],
      "execution_count": null,
      "outputs": [
        {
          "output_type": "stream",
          "text": [
            "\u001b[1mChi-Square Test\u001b[0m\n",
            "degrees of freedom = 1\n",
            "\n",
            "Expected frequencies:\n",
            " [[54795.54079086  7572.45920914]\n",
            " [ 2594.45920914   358.54079086]]\n",
            "\n",
            "alpha=0.050, p-value=0.000\n",
            "p-value <= 0.05. Reject H0 that there is no association between the two variables.\n",
            "\n",
            "\u001b[1mCramer's V for: \u001b[0m\n",
            "race\n",
            "1    0.049333\n",
            "2    0.132705\n",
            "dtype: float64\n"
          ],
          "name": "stdout"
        }
      ]
    },
    {
      "cell_type": "markdown",
      "metadata": {
        "id": "7tggAT-HfVCV"
      },
      "source": [
        "###Chi-Square Interpretation\n",
        "\n",
        "Reject Null Hypothesis that there is no effect of race on employment status<br>\n",
        "\n",
        "White has a greater incidence of being employed and a lesser incidence of being unemployed.<br>\n",
        "Black has a greater incidence of being unemployed and a lesser incidence of being employed."
      ]
    },
    {
      "cell_type": "markdown",
      "metadata": {
        "id": "fNTPsCjUgCoE"
      },
      "source": [
        "###Cramér's V Interpretation\n",
        "\n",
        "The results do not suggest that chi-square is statistically significant due to the large sample size for Black, with low association.\n",
        "However, for White, Cramér's V is very low, signifying little if any association and could be due to sample size."
      ]
    },
    {
      "cell_type": "markdown",
      "metadata": {
        "id": "FCmfFEDoCxLM"
      },
      "source": [
        "###Visualization"
      ]
    },
    {
      "cell_type": "code",
      "metadata": {
        "id": "DntUxI-nDRWI"
      },
      "source": [
        "#replace numbers with the value for the bar chart\n",
        "emp_stat['employment_status'] = emp_stat['employment_status'].replace([1,2],['Employed','Unemployed'])"
      ],
      "execution_count": null,
      "outputs": []
    },
    {
      "cell_type": "code",
      "metadata": {
        "colab": {
          "base_uri": "https://localhost:8080/",
          "height": 217
        },
        "id": "vL_CoiagPKC-",
        "outputId": "f8978f38-e106-4850-a26d-6678c5d1c86c"
      },
      "source": [
        "emp_stat.head()"
      ],
      "execution_count": null,
      "outputs": [
        {
          "output_type": "execute_result",
          "data": {
            "text/html": [
              "<div>\n",
              "<style scoped>\n",
              "    .dataframe tbody tr th:only-of-type {\n",
              "        vertical-align: middle;\n",
              "    }\n",
              "\n",
              "    .dataframe tbody tr th {\n",
              "        vertical-align: top;\n",
              "    }\n",
              "\n",
              "    .dataframe thead th {\n",
              "        text-align: right;\n",
              "    }\n",
              "</style>\n",
              "<table border=\"1\" class=\"dataframe\">\n",
              "  <thead>\n",
              "    <tr style=\"text-align: right;\">\n",
              "      <th></th>\n",
              "      <th>ID</th>\n",
              "      <th>race</th>\n",
              "      <th>AGE1</th>\n",
              "      <th>financial_assistance</th>\n",
              "      <th>poverty_level</th>\n",
              "      <th>health_insurance</th>\n",
              "      <th>health_status</th>\n",
              "      <th>medicaid_coverage</th>\n",
              "      <th>ed_attainment</th>\n",
              "      <th>employment_status</th>\n",
              "      <th>labor_force_recode</th>\n",
              "      <th>total_income_recode</th>\n",
              "    </tr>\n",
              "  </thead>\n",
              "  <tbody>\n",
              "    <tr>\n",
              "      <th>0</th>\n",
              "      <td>8329611509015080901101</td>\n",
              "      <td>1</td>\n",
              "      <td>14</td>\n",
              "      <td>2</td>\n",
              "      <td>4</td>\n",
              "      <td>1</td>\n",
              "      <td>3</td>\n",
              "      <td>2</td>\n",
              "      <td>39</td>\n",
              "      <td>Employed</td>\n",
              "      <td>1</td>\n",
              "      <td>22</td>\n",
              "    </tr>\n",
              "    <tr>\n",
              "      <th>2</th>\n",
              "      <td>4238996011902050901101</td>\n",
              "      <td>1</td>\n",
              "      <td>14</td>\n",
              "      <td>2</td>\n",
              "      <td>4</td>\n",
              "      <td>1</td>\n",
              "      <td>3</td>\n",
              "      <td>2</td>\n",
              "      <td>39</td>\n",
              "      <td>Employed</td>\n",
              "      <td>1</td>\n",
              "      <td>18</td>\n",
              "    </tr>\n",
              "    <tr>\n",
              "      <th>4</th>\n",
              "      <td>2059506120093750901101</td>\n",
              "      <td>1</td>\n",
              "      <td>11</td>\n",
              "      <td>2</td>\n",
              "      <td>4</td>\n",
              "      <td>1</td>\n",
              "      <td>2</td>\n",
              "      <td>2</td>\n",
              "      <td>39</td>\n",
              "      <td>Employed</td>\n",
              "      <td>1</td>\n",
              "      <td>17</td>\n",
              "    </tr>\n",
              "    <tr>\n",
              "      <th>6</th>\n",
              "      <td>1410320300969990901102</td>\n",
              "      <td>1</td>\n",
              "      <td>8</td>\n",
              "      <td>2</td>\n",
              "      <td>1</td>\n",
              "      <td>1</td>\n",
              "      <td>3</td>\n",
              "      <td>1</td>\n",
              "      <td>39</td>\n",
              "      <td>Employed</td>\n",
              "      <td>1</td>\n",
              "      <td>4</td>\n",
              "    </tr>\n",
              "    <tr>\n",
              "      <th>8</th>\n",
              "      <td>2101059322002430901102</td>\n",
              "      <td>1</td>\n",
              "      <td>9</td>\n",
              "      <td>2</td>\n",
              "      <td>4</td>\n",
              "      <td>1</td>\n",
              "      <td>2</td>\n",
              "      <td>2</td>\n",
              "      <td>40</td>\n",
              "      <td>Employed</td>\n",
              "      <td>1</td>\n",
              "      <td>24</td>\n",
              "    </tr>\n",
              "  </tbody>\n",
              "</table>\n",
              "</div>"
            ],
            "text/plain": [
              "                       ID  race  ...  labor_force_recode  total_income_recode\n",
              "0  8329611509015080901101     1  ...                   1                   22\n",
              "2  4238996011902050901101     1  ...                   1                   18\n",
              "4  2059506120093750901101     1  ...                   1                   17\n",
              "6  1410320300969990901102     1  ...                   1                    4\n",
              "8  2101059322002430901102     1  ...                   1                   24\n",
              "\n",
              "[5 rows x 12 columns]"
            ]
          },
          "metadata": {
            "tags": []
          },
          "execution_count": 69
        }
      ]
    },
    {
      "cell_type": "code",
      "metadata": {
        "id": "L4EHcq2nC5hV",
        "colab": {
          "base_uri": "https://localhost:8080/",
          "height": 616
        },
        "outputId": "6e859c2e-c64c-4d73-d404-618245567dbe"
      },
      "source": [
        "#run normalizing data and plotly bar chart function\n",
        "dataframe(emp_stat,'employment_status')"
      ],
      "execution_count": null,
      "outputs": [
        {
          "output_type": "display_data",
          "data": {
            "text/html": [
              "<html>\n",
              "<head><meta charset=\"utf-8\" /></head>\n",
              "<body>\n",
              "    <div>\n",
              "            <script src=\"https://cdnjs.cloudflare.com/ajax/libs/mathjax/2.7.5/MathJax.js?config=TeX-AMS-MML_SVG\"></script><script type=\"text/javascript\">if (window.MathJax) {MathJax.Hub.Config({SVG: {font: \"STIX-Web\"}});}</script>\n",
              "                <script type=\"text/javascript\">window.PlotlyConfig = {MathJaxConfig: 'local'};</script>\n",
              "        <script src=\"https://cdn.plot.ly/plotly-latest.min.js\"></script>    \n",
              "            <div id=\"3247b2bc-d637-416b-a581-8b12cc4f107d\" class=\"plotly-graph-div\" style=\"height:600px; width:800px;\"></div>\n",
              "            <script type=\"text/javascript\">\n",
              "                \n",
              "                    window.PLOTLYENV=window.PLOTLYENV || {};\n",
              "                    \n",
              "                if (document.getElementById(\"3247b2bc-d637-416b-a581-8b12cc4f107d\")) {\n",
              "                    Plotly.newPlot(\n",
              "                        '3247b2bc-d637-416b-a581-8b12cc4f107d',\n",
              "                        [{\"alignmentgroup\": \"True\", \"hoverlabel\": {\"namelength\": 0}, \"hovertemplate\": \"race=black<br>employment_status=%{x}<br>percentage=%{y}\", \"legendgroup\": \"race=black\", \"marker\": {\"color\": \"#636efa\"}, \"name\": \"race=black\", \"offsetgroup\": \"race=black\", \"orientation\": \"v\", \"showlegend\": true, \"textposition\": \"outside\", \"texttemplate\": \"%{y:.2f}%\", \"type\": \"bar\", \"x\": [\"Employed\", \"Unemployed\"], \"xaxis\": \"x\", \"y\": [92.88866473332493, 7.111335266675073], \"yaxis\": \"y\"}, {\"alignmentgroup\": \"True\", \"hoverlabel\": {\"namelength\": 0}, \"hovertemplate\": \"race=white<br>employment_status=%{x}<br>percentage=%{y}\", \"legendgroup\": \"race=white\", \"marker\": {\"color\": \"#EF553B\"}, \"name\": \"race=white\", \"offsetgroup\": \"race=white\", \"orientation\": \"v\", \"showlegend\": true, \"textposition\": \"outside\", \"texttemplate\": \"%{y:.2f}%\", \"type\": \"bar\", \"x\": [\"Employed\", \"Unemployed\"], \"xaxis\": \"x\", \"y\": [95.83725387698206, 4.162746123017948], \"yaxis\": \"y\"}],\n",
              "                        {\"barmode\": \"group\", \"height\": 600, \"legend\": {\"tracegroupgap\": 0}, \"margin\": {\"t\": 60}, \"template\": {\"data\": {\"bar\": [{\"error_x\": {\"color\": \"#2a3f5f\"}, \"error_y\": {\"color\": \"#2a3f5f\"}, \"marker\": {\"line\": {\"color\": \"#E5ECF6\", \"width\": 0.5}}, \"type\": \"bar\"}], \"barpolar\": [{\"marker\": {\"line\": {\"color\": \"#E5ECF6\", \"width\": 0.5}}, \"type\": \"barpolar\"}], \"carpet\": [{\"aaxis\": {\"endlinecolor\": \"#2a3f5f\", \"gridcolor\": \"white\", \"linecolor\": \"white\", \"minorgridcolor\": \"white\", \"startlinecolor\": \"#2a3f5f\"}, \"baxis\": {\"endlinecolor\": \"#2a3f5f\", \"gridcolor\": \"white\", \"linecolor\": \"white\", \"minorgridcolor\": \"white\", \"startlinecolor\": \"#2a3f5f\"}, \"type\": \"carpet\"}], \"choropleth\": [{\"colorbar\": {\"outlinewidth\": 0, \"ticks\": \"\"}, \"type\": \"choropleth\"}], \"contour\": [{\"colorbar\": {\"outlinewidth\": 0, \"ticks\": \"\"}, \"colorscale\": [[0.0, \"#0d0887\"], [0.1111111111111111, \"#46039f\"], [0.2222222222222222, \"#7201a8\"], [0.3333333333333333, \"#9c179e\"], [0.4444444444444444, \"#bd3786\"], [0.5555555555555556, \"#d8576b\"], [0.6666666666666666, \"#ed7953\"], [0.7777777777777778, \"#fb9f3a\"], [0.8888888888888888, \"#fdca26\"], [1.0, \"#f0f921\"]], \"type\": \"contour\"}], \"contourcarpet\": [{\"colorbar\": {\"outlinewidth\": 0, \"ticks\": \"\"}, \"type\": \"contourcarpet\"}], \"heatmap\": [{\"colorbar\": {\"outlinewidth\": 0, \"ticks\": \"\"}, \"colorscale\": [[0.0, \"#0d0887\"], [0.1111111111111111, \"#46039f\"], [0.2222222222222222, \"#7201a8\"], [0.3333333333333333, \"#9c179e\"], [0.4444444444444444, \"#bd3786\"], [0.5555555555555556, \"#d8576b\"], [0.6666666666666666, \"#ed7953\"], [0.7777777777777778, \"#fb9f3a\"], [0.8888888888888888, \"#fdca26\"], [1.0, \"#f0f921\"]], \"type\": \"heatmap\"}], \"heatmapgl\": [{\"colorbar\": {\"outlinewidth\": 0, \"ticks\": \"\"}, \"colorscale\": [[0.0, \"#0d0887\"], [0.1111111111111111, \"#46039f\"], [0.2222222222222222, \"#7201a8\"], [0.3333333333333333, \"#9c179e\"], [0.4444444444444444, \"#bd3786\"], [0.5555555555555556, \"#d8576b\"], [0.6666666666666666, \"#ed7953\"], [0.7777777777777778, \"#fb9f3a\"], [0.8888888888888888, \"#fdca26\"], [1.0, \"#f0f921\"]], \"type\": \"heatmapgl\"}], \"histogram\": [{\"marker\": {\"colorbar\": {\"outlinewidth\": 0, \"ticks\": \"\"}}, \"type\": \"histogram\"}], \"histogram2d\": [{\"colorbar\": {\"outlinewidth\": 0, \"ticks\": \"\"}, \"colorscale\": [[0.0, \"#0d0887\"], [0.1111111111111111, \"#46039f\"], [0.2222222222222222, \"#7201a8\"], [0.3333333333333333, \"#9c179e\"], [0.4444444444444444, \"#bd3786\"], [0.5555555555555556, \"#d8576b\"], [0.6666666666666666, \"#ed7953\"], [0.7777777777777778, \"#fb9f3a\"], [0.8888888888888888, \"#fdca26\"], [1.0, \"#f0f921\"]], \"type\": \"histogram2d\"}], \"histogram2dcontour\": [{\"colorbar\": {\"outlinewidth\": 0, \"ticks\": \"\"}, \"colorscale\": [[0.0, \"#0d0887\"], [0.1111111111111111, \"#46039f\"], [0.2222222222222222, \"#7201a8\"], [0.3333333333333333, \"#9c179e\"], [0.4444444444444444, \"#bd3786\"], [0.5555555555555556, \"#d8576b\"], [0.6666666666666666, \"#ed7953\"], [0.7777777777777778, \"#fb9f3a\"], [0.8888888888888888, \"#fdca26\"], [1.0, \"#f0f921\"]], \"type\": \"histogram2dcontour\"}], \"mesh3d\": [{\"colorbar\": {\"outlinewidth\": 0, \"ticks\": \"\"}, \"type\": \"mesh3d\"}], \"parcoords\": [{\"line\": {\"colorbar\": {\"outlinewidth\": 0, \"ticks\": \"\"}}, \"type\": \"parcoords\"}], \"pie\": [{\"automargin\": true, \"type\": \"pie\"}], \"scatter\": [{\"marker\": {\"colorbar\": {\"outlinewidth\": 0, \"ticks\": \"\"}}, \"type\": \"scatter\"}], \"scatter3d\": [{\"line\": {\"colorbar\": {\"outlinewidth\": 0, \"ticks\": \"\"}}, \"marker\": {\"colorbar\": {\"outlinewidth\": 0, \"ticks\": \"\"}}, \"type\": \"scatter3d\"}], \"scattercarpet\": [{\"marker\": {\"colorbar\": {\"outlinewidth\": 0, \"ticks\": \"\"}}, \"type\": \"scattercarpet\"}], \"scattergeo\": [{\"marker\": {\"colorbar\": {\"outlinewidth\": 0, \"ticks\": \"\"}}, \"type\": \"scattergeo\"}], \"scattergl\": [{\"marker\": {\"colorbar\": {\"outlinewidth\": 0, \"ticks\": \"\"}}, \"type\": \"scattergl\"}], \"scattermapbox\": [{\"marker\": {\"colorbar\": {\"outlinewidth\": 0, \"ticks\": \"\"}}, \"type\": \"scattermapbox\"}], \"scatterpolar\": [{\"marker\": {\"colorbar\": {\"outlinewidth\": 0, \"ticks\": \"\"}}, \"type\": \"scatterpolar\"}], \"scatterpolargl\": [{\"marker\": {\"colorbar\": {\"outlinewidth\": 0, \"ticks\": \"\"}}, \"type\": \"scatterpolargl\"}], \"scatterternary\": [{\"marker\": {\"colorbar\": {\"outlinewidth\": 0, \"ticks\": \"\"}}, \"type\": \"scatterternary\"}], \"surface\": [{\"colorbar\": {\"outlinewidth\": 0, \"ticks\": \"\"}, \"colorscale\": [[0.0, \"#0d0887\"], [0.1111111111111111, \"#46039f\"], [0.2222222222222222, \"#7201a8\"], [0.3333333333333333, \"#9c179e\"], [0.4444444444444444, \"#bd3786\"], [0.5555555555555556, \"#d8576b\"], [0.6666666666666666, \"#ed7953\"], [0.7777777777777778, \"#fb9f3a\"], [0.8888888888888888, \"#fdca26\"], [1.0, \"#f0f921\"]], \"type\": \"surface\"}], \"table\": [{\"cells\": {\"fill\": {\"color\": \"#EBF0F8\"}, \"line\": {\"color\": \"white\"}}, \"header\": {\"fill\": {\"color\": \"#C8D4E3\"}, \"line\": {\"color\": \"white\"}}, \"type\": \"table\"}]}, \"layout\": {\"annotationdefaults\": {\"arrowcolor\": \"#2a3f5f\", \"arrowhead\": 0, \"arrowwidth\": 1}, \"coloraxis\": {\"colorbar\": {\"outlinewidth\": 0, \"ticks\": \"\"}}, \"colorscale\": {\"diverging\": [[0, \"#8e0152\"], [0.1, \"#c51b7d\"], [0.2, \"#de77ae\"], [0.3, \"#f1b6da\"], [0.4, \"#fde0ef\"], [0.5, \"#f7f7f7\"], [0.6, \"#e6f5d0\"], [0.7, \"#b8e186\"], [0.8, \"#7fbc41\"], [0.9, \"#4d9221\"], [1, \"#276419\"]], \"sequential\": [[0.0, \"#0d0887\"], [0.1111111111111111, \"#46039f\"], [0.2222222222222222, \"#7201a8\"], [0.3333333333333333, \"#9c179e\"], [0.4444444444444444, \"#bd3786\"], [0.5555555555555556, \"#d8576b\"], [0.6666666666666666, \"#ed7953\"], [0.7777777777777778, \"#fb9f3a\"], [0.8888888888888888, \"#fdca26\"], [1.0, \"#f0f921\"]], \"sequentialminus\": [[0.0, \"#0d0887\"], [0.1111111111111111, \"#46039f\"], [0.2222222222222222, \"#7201a8\"], [0.3333333333333333, \"#9c179e\"], [0.4444444444444444, \"#bd3786\"], [0.5555555555555556, \"#d8576b\"], [0.6666666666666666, \"#ed7953\"], [0.7777777777777778, \"#fb9f3a\"], [0.8888888888888888, \"#fdca26\"], [1.0, \"#f0f921\"]]}, \"colorway\": [\"#636efa\", \"#EF553B\", \"#00cc96\", \"#ab63fa\", \"#FFA15A\", \"#19d3f3\", \"#FF6692\", \"#B6E880\", \"#FF97FF\", \"#FECB52\"], \"font\": {\"color\": \"#2a3f5f\"}, \"geo\": {\"bgcolor\": \"white\", \"lakecolor\": \"white\", \"landcolor\": \"#E5ECF6\", \"showlakes\": true, \"showland\": true, \"subunitcolor\": \"white\"}, \"hoverlabel\": {\"align\": \"left\"}, \"hovermode\": \"closest\", \"mapbox\": {\"style\": \"light\"}, \"paper_bgcolor\": \"white\", \"plot_bgcolor\": \"#E5ECF6\", \"polar\": {\"angularaxis\": {\"gridcolor\": \"white\", \"linecolor\": \"white\", \"ticks\": \"\"}, \"bgcolor\": \"#E5ECF6\", \"radialaxis\": {\"gridcolor\": \"white\", \"linecolor\": \"white\", \"ticks\": \"\"}}, \"scene\": {\"xaxis\": {\"backgroundcolor\": \"#E5ECF6\", \"gridcolor\": \"white\", \"gridwidth\": 2, \"linecolor\": \"white\", \"showbackground\": true, \"ticks\": \"\", \"zerolinecolor\": \"white\"}, \"yaxis\": {\"backgroundcolor\": \"#E5ECF6\", \"gridcolor\": \"white\", \"gridwidth\": 2, \"linecolor\": \"white\", \"showbackground\": true, \"ticks\": \"\", \"zerolinecolor\": \"white\"}, \"zaxis\": {\"backgroundcolor\": \"#E5ECF6\", \"gridcolor\": \"white\", \"gridwidth\": 2, \"linecolor\": \"white\", \"showbackground\": true, \"ticks\": \"\", \"zerolinecolor\": \"white\"}}, \"shapedefaults\": {\"line\": {\"color\": \"#2a3f5f\"}}, \"ternary\": {\"aaxis\": {\"gridcolor\": \"white\", \"linecolor\": \"white\", \"ticks\": \"\"}, \"baxis\": {\"gridcolor\": \"white\", \"linecolor\": \"white\", \"ticks\": \"\"}, \"bgcolor\": \"#E5ECF6\", \"caxis\": {\"gridcolor\": \"white\", \"linecolor\": \"white\", \"ticks\": \"\"}}, \"title\": {\"x\": 0.05}, \"xaxis\": {\"automargin\": true, \"gridcolor\": \"white\", \"linecolor\": \"white\", \"ticks\": \"\", \"title\": {\"standoff\": 15}, \"zerolinecolor\": \"white\", \"zerolinewidth\": 2}, \"yaxis\": {\"automargin\": true, \"gridcolor\": \"white\", \"linecolor\": \"white\", \"ticks\": \"\", \"title\": {\"standoff\": 15}, \"zerolinecolor\": \"white\", \"zerolinewidth\": 2}}}, \"width\": 800, \"xaxis\": {\"anchor\": \"y\", \"domain\": [0.0, 1.0], \"title\": {\"text\": \"employment_status\"}}, \"yaxis\": {\"anchor\": \"x\", \"domain\": [0.0, 1.0], \"title\": {\"text\": \"percentage\"}}},\n",
              "                        {\"responsive\": true}\n",
              "                    ).then(function(){\n",
              "                            \n",
              "var gd = document.getElementById('3247b2bc-d637-416b-a581-8b12cc4f107d');\n",
              "var x = new MutationObserver(function (mutations, observer) {{\n",
              "        var display = window.getComputedStyle(gd).display;\n",
              "        if (!display || display === 'none') {{\n",
              "            console.log([gd, 'removed!']);\n",
              "            Plotly.purge(gd);\n",
              "            observer.disconnect();\n",
              "        }}\n",
              "}});\n",
              "\n",
              "// Listen for the removal of the full notebook cells\n",
              "var notebookContainer = gd.closest('#notebook-container');\n",
              "if (notebookContainer) {{\n",
              "    x.observe(notebookContainer, {childList: true});\n",
              "}}\n",
              "\n",
              "// Listen for the clearing of the current output cell\n",
              "var outputEl = gd.closest('.output');\n",
              "if (outputEl) {{\n",
              "    x.observe(outputEl, {childList: true});\n",
              "}}\n",
              "\n",
              "                        })\n",
              "                };\n",
              "                \n",
              "            </script>\n",
              "        </div>\n",
              "</body>\n",
              "</html>"
            ]
          },
          "metadata": {
            "tags": []
          }
        }
      ]
    },
    {
      "cell_type": "markdown",
      "metadata": {
        "id": "O_7eXjAcejjA"
      },
      "source": [
        "## Chi-Square Test and Cramér's V for Employment Status Extended and Race (White and Black) "
      ]
    },
    {
      "cell_type": "markdown",
      "metadata": {
        "id": "jHxFWdaTYLWr"
      },
      "source": [
        "Null Hypothesis: \"There is no effect of race on employment status (extended)\".<br>\n",
        "Alternative Hypothesis: \"There is an effect of race on employment status (extended)\"."
      ]
    },
    {
      "cell_type": "code",
      "metadata": {
        "id": "L3iNa6Ugeo1i"
      },
      "source": [
        "#exclude 0 = NIU\n",
        "emp_stat_ext = race[(race['labor_force_recode'].isin([1,2,3,4]))]"
      ],
      "execution_count": null,
      "outputs": []
    },
    {
      "cell_type": "code",
      "metadata": {
        "id": "9kCBOTlVe4Uu",
        "colab": {
          "base_uri": "https://localhost:8080/"
        },
        "outputId": "d67062a0-59f7-43bf-a784-8b847c5683ba"
      },
      "source": [
        "#create crosstab for chi-square and cramer's v calculation\n",
        "race_empstatext_crosstab = pd.crosstab(emp_stat_ext['labor_force_recode'],  \n",
        "                            emp_stat_ext['race'], margins = False)\n",
        "print(race_empstatext_crosstab)"
      ],
      "execution_count": null,
      "outputs": [
        {
          "output_type": "stream",
          "text": [
            "race                    1     2\n",
            "labor_force_recode             \n",
            "1                   52641  7075\n",
            "2                    2360   292\n",
            "3                    1093   180\n",
            "4                    1339   407\n"
          ],
          "name": "stdout"
        }
      ]
    },
    {
      "cell_type": "code",
      "metadata": {
        "id": "5YgS2vWUDAzA",
        "colab": {
          "base_uri": "https://localhost:8080/"
        },
        "outputId": "f5877c79-65ba-434b-d4e0-22fa1c1449ec"
      },
      "source": [
        "#run chi-square and cramer's v function\n",
        "chi_square(race_empstatext_crosstab)"
      ],
      "execution_count": null,
      "outputs": [
        {
          "output_type": "stream",
          "text": [
            "\u001b[1mChi-Square Test\u001b[0m\n",
            "degrees of freedom = 3\n",
            "\n",
            "Expected frequencies:\n",
            " [[52451.84865493  7264.15134507]\n",
            " [ 2329.3975255    322.6024745 ]\n",
            " [ 1118.14594644   154.85405356]\n",
            " [ 1533.60787312   212.39212688]]\n",
            "\n",
            "alpha=0.050, p-value=0.000\n",
            "p-value <= 0.05. Reject H0 that there is no association between the two variables.\n",
            "\n",
            "\u001b[1mCramer's V for: \u001b[0m\n",
            "race\n",
            "1    0.061407\n",
            "2    0.165008\n",
            "dtype: float64\n"
          ],
          "name": "stdout"
        }
      ]
    },
    {
      "cell_type": "markdown",
      "metadata": {
        "id": "WW3iDJKpfSbi"
      },
      "source": [
        "###Chi-Square Interpretation\n",
        "\n",
        "Reject the Null Hypothesis that there is no effect of race on employment status (extended)\n",
        "\n",
        "White has a greater incidence of employed (at work) and employed (absent).<br>\n",
        "White has a lesser incidence of unemployed (on layoff) and unemployed (looking).\n",
        "\n",
        "Black has a greater incidence of unemployed (on layoff) and unemployed (looking).<br>\n",
        "Black has a lesser incidence of employed (at work) and employed (absent)."
      ]
    },
    {
      "cell_type": "markdown",
      "metadata": {
        "id": "yVJKQxPVgDyd"
      },
      "source": [
        "###Cramér's V Interpretation\n",
        "\n",
        "The results do not suggest that chi-square is statistically significant due to the large sample size for Black, with a low association.\n",
        "However, for White, Cramér's V is low, signifying little if any association and could be due to sample size."
      ]
    },
    {
      "cell_type": "markdown",
      "metadata": {
        "id": "NgHO_ejuDMs7"
      },
      "source": [
        "###Visualization"
      ]
    },
    {
      "cell_type": "code",
      "metadata": {
        "id": "Btf9JgBhFYTq"
      },
      "source": [
        "#replace numbers with the value for the bar chart\n",
        "emp_stat_ext['labor_force_recode'] = emp_stat_ext['labor_force_recode'].replace([1,2,3,4],['Employed - at work','Employed - absent','Unemployed - on layoff','Unemployed - Looking'])"
      ],
      "execution_count": null,
      "outputs": []
    },
    {
      "cell_type": "code",
      "metadata": {
        "id": "IckBeCpxDUFb",
        "colab": {
          "base_uri": "https://localhost:8080/",
          "height": 217
        },
        "outputId": "958f4a6a-032e-4a9b-8c4f-337885e93f23"
      },
      "source": [
        "emp_stat_ext.head()"
      ],
      "execution_count": null,
      "outputs": [
        {
          "output_type": "execute_result",
          "data": {
            "text/html": [
              "<div>\n",
              "<style scoped>\n",
              "    .dataframe tbody tr th:only-of-type {\n",
              "        vertical-align: middle;\n",
              "    }\n",
              "\n",
              "    .dataframe tbody tr th {\n",
              "        vertical-align: top;\n",
              "    }\n",
              "\n",
              "    .dataframe thead th {\n",
              "        text-align: right;\n",
              "    }\n",
              "</style>\n",
              "<table border=\"1\" class=\"dataframe\">\n",
              "  <thead>\n",
              "    <tr style=\"text-align: right;\">\n",
              "      <th></th>\n",
              "      <th>ID</th>\n",
              "      <th>race</th>\n",
              "      <th>AGE1</th>\n",
              "      <th>financial_assistance</th>\n",
              "      <th>poverty_level</th>\n",
              "      <th>health_insurance</th>\n",
              "      <th>health_status</th>\n",
              "      <th>medicaid_coverage</th>\n",
              "      <th>ed_attainment</th>\n",
              "      <th>employment_status</th>\n",
              "      <th>labor_force_recode</th>\n",
              "      <th>total_income_recode</th>\n",
              "    </tr>\n",
              "  </thead>\n",
              "  <tbody>\n",
              "    <tr>\n",
              "      <th>0</th>\n",
              "      <td>8329611509015080901101</td>\n",
              "      <td>1</td>\n",
              "      <td>14</td>\n",
              "      <td>2</td>\n",
              "      <td>4</td>\n",
              "      <td>1</td>\n",
              "      <td>3</td>\n",
              "      <td>2</td>\n",
              "      <td>39</td>\n",
              "      <td>1</td>\n",
              "      <td>Employed - at work</td>\n",
              "      <td>22</td>\n",
              "    </tr>\n",
              "    <tr>\n",
              "      <th>2</th>\n",
              "      <td>4238996011902050901101</td>\n",
              "      <td>1</td>\n",
              "      <td>14</td>\n",
              "      <td>2</td>\n",
              "      <td>4</td>\n",
              "      <td>1</td>\n",
              "      <td>3</td>\n",
              "      <td>2</td>\n",
              "      <td>39</td>\n",
              "      <td>1</td>\n",
              "      <td>Employed - at work</td>\n",
              "      <td>18</td>\n",
              "    </tr>\n",
              "    <tr>\n",
              "      <th>4</th>\n",
              "      <td>2059506120093750901101</td>\n",
              "      <td>1</td>\n",
              "      <td>11</td>\n",
              "      <td>2</td>\n",
              "      <td>4</td>\n",
              "      <td>1</td>\n",
              "      <td>2</td>\n",
              "      <td>2</td>\n",
              "      <td>39</td>\n",
              "      <td>1</td>\n",
              "      <td>Employed - at work</td>\n",
              "      <td>17</td>\n",
              "    </tr>\n",
              "    <tr>\n",
              "      <th>6</th>\n",
              "      <td>1410320300969990901102</td>\n",
              "      <td>1</td>\n",
              "      <td>8</td>\n",
              "      <td>2</td>\n",
              "      <td>1</td>\n",
              "      <td>1</td>\n",
              "      <td>3</td>\n",
              "      <td>1</td>\n",
              "      <td>39</td>\n",
              "      <td>1</td>\n",
              "      <td>Employed - at work</td>\n",
              "      <td>4</td>\n",
              "    </tr>\n",
              "    <tr>\n",
              "      <th>8</th>\n",
              "      <td>2101059322002430901102</td>\n",
              "      <td>1</td>\n",
              "      <td>9</td>\n",
              "      <td>2</td>\n",
              "      <td>4</td>\n",
              "      <td>1</td>\n",
              "      <td>2</td>\n",
              "      <td>2</td>\n",
              "      <td>40</td>\n",
              "      <td>1</td>\n",
              "      <td>Employed - at work</td>\n",
              "      <td>24</td>\n",
              "    </tr>\n",
              "  </tbody>\n",
              "</table>\n",
              "</div>"
            ],
            "text/plain": [
              "                       ID  race  ...  labor_force_recode  total_income_recode\n",
              "0  8329611509015080901101     1  ...  Employed - at work                   22\n",
              "2  4238996011902050901101     1  ...  Employed - at work                   18\n",
              "4  2059506120093750901101     1  ...  Employed - at work                   17\n",
              "6  1410320300969990901102     1  ...  Employed - at work                    4\n",
              "8  2101059322002430901102     1  ...  Employed - at work                   24\n",
              "\n",
              "[5 rows x 12 columns]"
            ]
          },
          "metadata": {
            "tags": []
          },
          "execution_count": 75
        }
      ]
    },
    {
      "cell_type": "code",
      "metadata": {
        "id": "1EJ2tZLcDX6U",
        "colab": {
          "base_uri": "https://localhost:8080/",
          "height": 616
        },
        "outputId": "df9ed600-b7e9-4276-c6d2-eca4c026c598"
      },
      "source": [
        "#run normalizing data and plotly bar chart function\n",
        "dataframe(emp_stat_ext,'labor_force_recode')"
      ],
      "execution_count": null,
      "outputs": [
        {
          "output_type": "display_data",
          "data": {
            "text/html": [
              "<html>\n",
              "<head><meta charset=\"utf-8\" /></head>\n",
              "<body>\n",
              "    <div>\n",
              "            <script src=\"https://cdnjs.cloudflare.com/ajax/libs/mathjax/2.7.5/MathJax.js?config=TeX-AMS-MML_SVG\"></script><script type=\"text/javascript\">if (window.MathJax) {MathJax.Hub.Config({SVG: {font: \"STIX-Web\"}});}</script>\n",
              "                <script type=\"text/javascript\">window.PlotlyConfig = {MathJaxConfig: 'local'};</script>\n",
              "        <script src=\"https://cdn.plot.ly/plotly-latest.min.js\"></script>    \n",
              "            <div id=\"1fb06a57-f2b6-4f2b-9440-de28ada9ff95\" class=\"plotly-graph-div\" style=\"height:600px; width:800px;\"></div>\n",
              "            <script type=\"text/javascript\">\n",
              "                \n",
              "                    window.PLOTLYENV=window.PLOTLYENV || {};\n",
              "                    \n",
              "                if (document.getElementById(\"1fb06a57-f2b6-4f2b-9440-de28ada9ff95\")) {\n",
              "                    Plotly.newPlot(\n",
              "                        '1fb06a57-f2b6-4f2b-9440-de28ada9ff95',\n",
              "                        [{\"alignmentgroup\": \"True\", \"hoverlabel\": {\"namelength\": 0}, \"hovertemplate\": \"race=black<br>labor_force_recode=%{x}<br>percentage=%{y}\", \"legendgroup\": \"race=black\", \"marker\": {\"color\": \"#636efa\"}, \"name\": \"race=black\", \"offsetgroup\": \"race=black\", \"orientation\": \"v\", \"showlegend\": true, \"textposition\": \"outside\", \"texttemplate\": \"%{y:.2f}%\", \"type\": \"bar\", \"x\": [\"Employed - at work\", \"Unemployed - Looking\", \"Employed - absent\", \"Unemployed - on layoff\"], \"xaxis\": \"x\", \"y\": [88.94895649987427, 5.116922303243651, 3.671108876037214, 2.263012320844858], \"yaxis\": \"y\"}, {\"alignmentgroup\": \"True\", \"hoverlabel\": {\"namelength\": 0}, \"hovertemplate\": \"race=white<br>labor_force_recode=%{x}<br>percentage=%{y}\", \"legendgroup\": \"race=white\", \"marker\": {\"color\": \"#EF553B\"}, \"name\": \"race=white\", \"offsetgroup\": \"race=white\", \"orientation\": \"v\", \"showlegend\": true, \"textposition\": \"outside\", \"texttemplate\": \"%{y:.2f}%\", \"type\": \"bar\", \"x\": [\"Employed - at work\", \"Employed - absent\", \"Unemployed - Looking\", \"Unemployed - on layoff\"], \"xaxis\": \"x\", \"y\": [91.65636480768896, 4.109135862657357, 2.331412254278899, 1.9030870753747844], \"yaxis\": \"y\"}],\n",
              "                        {\"barmode\": \"group\", \"height\": 600, \"legend\": {\"tracegroupgap\": 0}, \"margin\": {\"t\": 60}, \"template\": {\"data\": {\"bar\": [{\"error_x\": {\"color\": \"#2a3f5f\"}, \"error_y\": {\"color\": \"#2a3f5f\"}, \"marker\": {\"line\": {\"color\": \"#E5ECF6\", \"width\": 0.5}}, \"type\": \"bar\"}], \"barpolar\": [{\"marker\": {\"line\": {\"color\": \"#E5ECF6\", \"width\": 0.5}}, \"type\": \"barpolar\"}], \"carpet\": [{\"aaxis\": {\"endlinecolor\": \"#2a3f5f\", \"gridcolor\": \"white\", \"linecolor\": \"white\", \"minorgridcolor\": \"white\", \"startlinecolor\": \"#2a3f5f\"}, \"baxis\": {\"endlinecolor\": \"#2a3f5f\", \"gridcolor\": \"white\", \"linecolor\": \"white\", \"minorgridcolor\": \"white\", \"startlinecolor\": \"#2a3f5f\"}, \"type\": \"carpet\"}], \"choropleth\": [{\"colorbar\": {\"outlinewidth\": 0, \"ticks\": \"\"}, \"type\": \"choropleth\"}], \"contour\": [{\"colorbar\": {\"outlinewidth\": 0, \"ticks\": \"\"}, \"colorscale\": [[0.0, \"#0d0887\"], [0.1111111111111111, \"#46039f\"], [0.2222222222222222, \"#7201a8\"], [0.3333333333333333, \"#9c179e\"], [0.4444444444444444, \"#bd3786\"], [0.5555555555555556, \"#d8576b\"], [0.6666666666666666, \"#ed7953\"], [0.7777777777777778, \"#fb9f3a\"], [0.8888888888888888, \"#fdca26\"], [1.0, \"#f0f921\"]], \"type\": \"contour\"}], \"contourcarpet\": [{\"colorbar\": {\"outlinewidth\": 0, \"ticks\": \"\"}, \"type\": \"contourcarpet\"}], \"heatmap\": [{\"colorbar\": {\"outlinewidth\": 0, \"ticks\": \"\"}, \"colorscale\": [[0.0, \"#0d0887\"], [0.1111111111111111, \"#46039f\"], [0.2222222222222222, \"#7201a8\"], [0.3333333333333333, \"#9c179e\"], [0.4444444444444444, \"#bd3786\"], [0.5555555555555556, \"#d8576b\"], [0.6666666666666666, \"#ed7953\"], [0.7777777777777778, \"#fb9f3a\"], [0.8888888888888888, \"#fdca26\"], [1.0, \"#f0f921\"]], \"type\": \"heatmap\"}], \"heatmapgl\": [{\"colorbar\": {\"outlinewidth\": 0, \"ticks\": \"\"}, \"colorscale\": [[0.0, \"#0d0887\"], [0.1111111111111111, \"#46039f\"], [0.2222222222222222, \"#7201a8\"], [0.3333333333333333, \"#9c179e\"], [0.4444444444444444, \"#bd3786\"], [0.5555555555555556, \"#d8576b\"], [0.6666666666666666, \"#ed7953\"], [0.7777777777777778, \"#fb9f3a\"], [0.8888888888888888, \"#fdca26\"], [1.0, \"#f0f921\"]], \"type\": \"heatmapgl\"}], \"histogram\": [{\"marker\": {\"colorbar\": {\"outlinewidth\": 0, \"ticks\": \"\"}}, \"type\": \"histogram\"}], \"histogram2d\": [{\"colorbar\": {\"outlinewidth\": 0, \"ticks\": \"\"}, \"colorscale\": [[0.0, \"#0d0887\"], [0.1111111111111111, \"#46039f\"], [0.2222222222222222, \"#7201a8\"], [0.3333333333333333, \"#9c179e\"], [0.4444444444444444, \"#bd3786\"], [0.5555555555555556, \"#d8576b\"], [0.6666666666666666, \"#ed7953\"], [0.7777777777777778, \"#fb9f3a\"], [0.8888888888888888, \"#fdca26\"], [1.0, \"#f0f921\"]], \"type\": \"histogram2d\"}], \"histogram2dcontour\": [{\"colorbar\": {\"outlinewidth\": 0, \"ticks\": \"\"}, \"colorscale\": [[0.0, \"#0d0887\"], [0.1111111111111111, \"#46039f\"], [0.2222222222222222, \"#7201a8\"], [0.3333333333333333, \"#9c179e\"], [0.4444444444444444, \"#bd3786\"], [0.5555555555555556, \"#d8576b\"], [0.6666666666666666, \"#ed7953\"], [0.7777777777777778, \"#fb9f3a\"], [0.8888888888888888, \"#fdca26\"], [1.0, \"#f0f921\"]], \"type\": \"histogram2dcontour\"}], \"mesh3d\": [{\"colorbar\": {\"outlinewidth\": 0, \"ticks\": \"\"}, \"type\": \"mesh3d\"}], \"parcoords\": [{\"line\": {\"colorbar\": {\"outlinewidth\": 0, \"ticks\": \"\"}}, \"type\": \"parcoords\"}], \"pie\": [{\"automargin\": true, \"type\": \"pie\"}], \"scatter\": [{\"marker\": {\"colorbar\": {\"outlinewidth\": 0, \"ticks\": \"\"}}, \"type\": \"scatter\"}], \"scatter3d\": [{\"line\": {\"colorbar\": {\"outlinewidth\": 0, \"ticks\": \"\"}}, \"marker\": {\"colorbar\": {\"outlinewidth\": 0, \"ticks\": \"\"}}, \"type\": \"scatter3d\"}], \"scattercarpet\": [{\"marker\": {\"colorbar\": {\"outlinewidth\": 0, \"ticks\": \"\"}}, \"type\": \"scattercarpet\"}], \"scattergeo\": [{\"marker\": {\"colorbar\": {\"outlinewidth\": 0, \"ticks\": \"\"}}, \"type\": \"scattergeo\"}], \"scattergl\": [{\"marker\": {\"colorbar\": {\"outlinewidth\": 0, \"ticks\": \"\"}}, \"type\": \"scattergl\"}], \"scattermapbox\": [{\"marker\": {\"colorbar\": {\"outlinewidth\": 0, \"ticks\": \"\"}}, \"type\": \"scattermapbox\"}], \"scatterpolar\": [{\"marker\": {\"colorbar\": {\"outlinewidth\": 0, \"ticks\": \"\"}}, \"type\": \"scatterpolar\"}], \"scatterpolargl\": [{\"marker\": {\"colorbar\": {\"outlinewidth\": 0, \"ticks\": \"\"}}, \"type\": \"scatterpolargl\"}], \"scatterternary\": [{\"marker\": {\"colorbar\": {\"outlinewidth\": 0, \"ticks\": \"\"}}, \"type\": \"scatterternary\"}], \"surface\": [{\"colorbar\": {\"outlinewidth\": 0, \"ticks\": \"\"}, \"colorscale\": [[0.0, \"#0d0887\"], [0.1111111111111111, \"#46039f\"], [0.2222222222222222, \"#7201a8\"], [0.3333333333333333, \"#9c179e\"], [0.4444444444444444, \"#bd3786\"], [0.5555555555555556, \"#d8576b\"], [0.6666666666666666, \"#ed7953\"], [0.7777777777777778, \"#fb9f3a\"], [0.8888888888888888, \"#fdca26\"], [1.0, \"#f0f921\"]], \"type\": \"surface\"}], \"table\": [{\"cells\": {\"fill\": {\"color\": \"#EBF0F8\"}, \"line\": {\"color\": \"white\"}}, \"header\": {\"fill\": {\"color\": \"#C8D4E3\"}, \"line\": {\"color\": \"white\"}}, \"type\": \"table\"}]}, \"layout\": {\"annotationdefaults\": {\"arrowcolor\": \"#2a3f5f\", \"arrowhead\": 0, \"arrowwidth\": 1}, \"coloraxis\": {\"colorbar\": {\"outlinewidth\": 0, \"ticks\": \"\"}}, \"colorscale\": {\"diverging\": [[0, \"#8e0152\"], [0.1, \"#c51b7d\"], [0.2, \"#de77ae\"], [0.3, \"#f1b6da\"], [0.4, \"#fde0ef\"], [0.5, \"#f7f7f7\"], [0.6, \"#e6f5d0\"], [0.7, \"#b8e186\"], [0.8, \"#7fbc41\"], [0.9, \"#4d9221\"], [1, \"#276419\"]], \"sequential\": [[0.0, \"#0d0887\"], [0.1111111111111111, \"#46039f\"], [0.2222222222222222, \"#7201a8\"], [0.3333333333333333, \"#9c179e\"], [0.4444444444444444, \"#bd3786\"], [0.5555555555555556, \"#d8576b\"], [0.6666666666666666, \"#ed7953\"], [0.7777777777777778, \"#fb9f3a\"], [0.8888888888888888, \"#fdca26\"], [1.0, \"#f0f921\"]], \"sequentialminus\": [[0.0, \"#0d0887\"], [0.1111111111111111, \"#46039f\"], [0.2222222222222222, \"#7201a8\"], [0.3333333333333333, \"#9c179e\"], [0.4444444444444444, \"#bd3786\"], [0.5555555555555556, \"#d8576b\"], [0.6666666666666666, \"#ed7953\"], [0.7777777777777778, \"#fb9f3a\"], [0.8888888888888888, \"#fdca26\"], [1.0, \"#f0f921\"]]}, \"colorway\": [\"#636efa\", \"#EF553B\", \"#00cc96\", \"#ab63fa\", \"#FFA15A\", \"#19d3f3\", \"#FF6692\", \"#B6E880\", \"#FF97FF\", \"#FECB52\"], \"font\": {\"color\": \"#2a3f5f\"}, \"geo\": {\"bgcolor\": \"white\", \"lakecolor\": \"white\", \"landcolor\": \"#E5ECF6\", \"showlakes\": true, \"showland\": true, \"subunitcolor\": \"white\"}, \"hoverlabel\": {\"align\": \"left\"}, \"hovermode\": \"closest\", \"mapbox\": {\"style\": \"light\"}, \"paper_bgcolor\": \"white\", \"plot_bgcolor\": \"#E5ECF6\", \"polar\": {\"angularaxis\": {\"gridcolor\": \"white\", \"linecolor\": \"white\", \"ticks\": \"\"}, \"bgcolor\": \"#E5ECF6\", \"radialaxis\": {\"gridcolor\": \"white\", \"linecolor\": \"white\", \"ticks\": \"\"}}, \"scene\": {\"xaxis\": {\"backgroundcolor\": \"#E5ECF6\", \"gridcolor\": \"white\", \"gridwidth\": 2, \"linecolor\": \"white\", \"showbackground\": true, \"ticks\": \"\", \"zerolinecolor\": \"white\"}, \"yaxis\": {\"backgroundcolor\": \"#E5ECF6\", \"gridcolor\": \"white\", \"gridwidth\": 2, \"linecolor\": \"white\", \"showbackground\": true, \"ticks\": \"\", \"zerolinecolor\": \"white\"}, \"zaxis\": {\"backgroundcolor\": \"#E5ECF6\", \"gridcolor\": \"white\", \"gridwidth\": 2, \"linecolor\": \"white\", \"showbackground\": true, \"ticks\": \"\", \"zerolinecolor\": \"white\"}}, \"shapedefaults\": {\"line\": {\"color\": \"#2a3f5f\"}}, \"ternary\": {\"aaxis\": {\"gridcolor\": \"white\", \"linecolor\": \"white\", \"ticks\": \"\"}, \"baxis\": {\"gridcolor\": \"white\", \"linecolor\": \"white\", \"ticks\": \"\"}, \"bgcolor\": \"#E5ECF6\", \"caxis\": {\"gridcolor\": \"white\", \"linecolor\": \"white\", \"ticks\": \"\"}}, \"title\": {\"x\": 0.05}, \"xaxis\": {\"automargin\": true, \"gridcolor\": \"white\", \"linecolor\": \"white\", \"ticks\": \"\", \"title\": {\"standoff\": 15}, \"zerolinecolor\": \"white\", \"zerolinewidth\": 2}, \"yaxis\": {\"automargin\": true, \"gridcolor\": \"white\", \"linecolor\": \"white\", \"ticks\": \"\", \"title\": {\"standoff\": 15}, \"zerolinecolor\": \"white\", \"zerolinewidth\": 2}}}, \"width\": 800, \"xaxis\": {\"anchor\": \"y\", \"domain\": [0.0, 1.0], \"title\": {\"text\": \"labor_force_recode\"}}, \"yaxis\": {\"anchor\": \"x\", \"domain\": [0.0, 1.0], \"title\": {\"text\": \"percentage\"}}},\n",
              "                        {\"responsive\": true}\n",
              "                    ).then(function(){\n",
              "                            \n",
              "var gd = document.getElementById('1fb06a57-f2b6-4f2b-9440-de28ada9ff95');\n",
              "var x = new MutationObserver(function (mutations, observer) {{\n",
              "        var display = window.getComputedStyle(gd).display;\n",
              "        if (!display || display === 'none') {{\n",
              "            console.log([gd, 'removed!']);\n",
              "            Plotly.purge(gd);\n",
              "            observer.disconnect();\n",
              "        }}\n",
              "}});\n",
              "\n",
              "// Listen for the removal of the full notebook cells\n",
              "var notebookContainer = gd.closest('#notebook-container');\n",
              "if (notebookContainer) {{\n",
              "    x.observe(notebookContainer, {childList: true});\n",
              "}}\n",
              "\n",
              "// Listen for the clearing of the current output cell\n",
              "var outputEl = gd.closest('.output');\n",
              "if (outputEl) {{\n",
              "    x.observe(outputEl, {childList: true});\n",
              "}}\n",
              "\n",
              "                        })\n",
              "                };\n",
              "                \n",
              "            </script>\n",
              "        </div>\n",
              "</body>\n",
              "</html>"
            ]
          },
          "metadata": {
            "tags": []
          }
        }
      ]
    },
    {
      "cell_type": "markdown",
      "metadata": {
        "id": "pSsNax70HYxR"
      },
      "source": [
        "## Chi-Square Test and Cramér's V for Education and Employment Status (for White and Black)"
      ]
    },
    {
      "cell_type": "markdown",
      "metadata": {
        "id": "7vuu5taN_ewH"
      },
      "source": [
        "Null Hypothesis: \"There is no effect of education on employment status\".<br>\n",
        "Alternative Hypothesis: \"There is an effect of education on employment status\"."
      ]
    },
    {
      "cell_type": "code",
      "metadata": {
        "id": "97ieNQNNHWNK"
      },
      "source": [
        "#Create crosstab for chi-square and cramer's v calculation\n",
        "education_employment_crosstab = pd.crosstab(emp_stat['employment_status'], ed_attainment['ed_attainment'],  \n",
        "                             margins = False)"
      ],
      "execution_count": null,
      "outputs": []
    },
    {
      "cell_type": "code",
      "metadata": {
        "colab": {
          "base_uri": "https://localhost:8080/",
          "height": 154
        },
        "id": "n6Hlmo7PTqee",
        "outputId": "57056cb1-9dab-4ae1-b716-97a558a87fd2"
      },
      "source": [
        "education_employment_crosstab.head()"
      ],
      "execution_count": null,
      "outputs": [
        {
          "output_type": "execute_result",
          "data": {
            "text/html": [
              "<div>\n",
              "<style scoped>\n",
              "    .dataframe tbody tr th:only-of-type {\n",
              "        vertical-align: middle;\n",
              "    }\n",
              "\n",
              "    .dataframe tbody tr th {\n",
              "        vertical-align: top;\n",
              "    }\n",
              "\n",
              "    .dataframe thead th {\n",
              "        text-align: right;\n",
              "    }\n",
              "</style>\n",
              "<table border=\"1\" class=\"dataframe\">\n",
              "  <thead>\n",
              "    <tr style=\"text-align: right;\">\n",
              "      <th>ed_attainment</th>\n",
              "      <th>12th grade, no diploma</th>\n",
              "      <th>Assoc. degree - academic program</th>\n",
              "      <th>Assoc. degree college - occupation program</th>\n",
              "      <th>Bachelor's</th>\n",
              "      <th>Doctorate</th>\n",
              "      <th>High School</th>\n",
              "      <th>Master's</th>\n",
              "      <th>Professional school degree</th>\n",
              "      <th>Some college; no degree</th>\n",
              "    </tr>\n",
              "    <tr>\n",
              "      <th>employment_status</th>\n",
              "      <th></th>\n",
              "      <th></th>\n",
              "      <th></th>\n",
              "      <th></th>\n",
              "      <th></th>\n",
              "      <th></th>\n",
              "      <th></th>\n",
              "      <th></th>\n",
              "      <th></th>\n",
              "    </tr>\n",
              "  </thead>\n",
              "  <tbody>\n",
              "    <tr>\n",
              "      <th>Employed</th>\n",
              "      <td>624</td>\n",
              "      <td>4233</td>\n",
              "      <td>3171</td>\n",
              "      <td>15596</td>\n",
              "      <td>1370</td>\n",
              "      <td>15809</td>\n",
              "      <td>6842</td>\n",
              "      <td>1057</td>\n",
              "      <td>10340</td>\n",
              "    </tr>\n",
              "    <tr>\n",
              "      <th>Unemployed</th>\n",
              "      <td>58</td>\n",
              "      <td>180</td>\n",
              "      <td>128</td>\n",
              "      <td>478</td>\n",
              "      <td>26</td>\n",
              "      <td>1008</td>\n",
              "      <td>160</td>\n",
              "      <td>20</td>\n",
              "      <td>577</td>\n",
              "    </tr>\n",
              "  </tbody>\n",
              "</table>\n",
              "</div>"
            ],
            "text/plain": [
              "ed_attainment      12th grade, no diploma  ...  Some college; no degree\n",
              "employment_status                          ...                         \n",
              "Employed                              624  ...                    10340\n",
              "Unemployed                             58  ...                      577\n",
              "\n",
              "[2 rows x 9 columns]"
            ]
          },
          "metadata": {
            "tags": []
          },
          "execution_count": 78
        }
      ]
    },
    {
      "cell_type": "code",
      "metadata": {
        "colab": {
          "base_uri": "https://localhost:8080/"
        },
        "id": "-ztiFi5gHmur",
        "outputId": "7ee57a94-9931-47f9-b7fd-87020783ddae"
      },
      "source": [
        "#run chi-square and cramer's v function\n",
        "chi_square(education_employment_crosstab)"
      ],
      "execution_count": null,
      "outputs": [
        {
          "output_type": "stream",
          "text": [
            "\u001b[1mChi-Square Test\u001b[0m\n",
            "degrees of freedom = 8\n",
            "\n",
            "Expected frequencies:\n",
            " [[  652.86320671  4224.465295    3158.05823889 15387.27739676\n",
            "   1336.35929115 16098.53452665  6702.85655917  1030.98779123\n",
            "  10450.59769444]\n",
            " [   29.13679329   188.534705     140.94176111   686.72260324\n",
            "     59.64070885   718.46547335   299.14344083    46.01220877\n",
            "    466.40230556]]\n",
            "\n",
            "alpha=0.050, p-value=0.000\n",
            "p-value <= 0.05. Reject H0 that there is no association between the two variables.\n",
            "\n",
            "\u001b[1mCramer's V for: \u001b[0m\n",
            "ed_attainment\n",
            "12th grade, no diploma                        0.716235\n",
            "Assoc. degree - academic program              0.281566\n",
            "Assoc. degree college - occupation program    0.325654\n",
            "Bachelor's                                    0.147532\n",
            "Doctorate                                     0.500616\n",
            "High School                                   0.144236\n",
            "Master's                                      0.223530\n",
            "Professional school degree                    0.569954\n",
            "Some college; no degree                       0.179018\n",
            "dtype: float64\n"
          ],
          "name": "stdout"
        }
      ]
    },
    {
      "cell_type": "markdown",
      "metadata": {
        "id": "3WEaaZrJ_ydj"
      },
      "source": [
        "###Chi-Square Interpretation\n",
        "\n",
        "Reject the Null Hypothesis that there is no effect of education on employment status.\n",
        "\n",
        "(Lower) Education [12th grade no diploma, High school graduate, and Some college but no degree] has a lesser incidence of being employed and a greater incidence of unemployed.\n",
        "\n",
        "(Higher) Education [Associate degree (occupation&academic program), Bachelor's, Master's, Professional school, and Doctorate degree] has a greater incidence of employed and lesser incidence of unemployed."
      ]
    },
    {
      "cell_type": "markdown",
      "metadata": {
        "id": "ORQjJceT_9kI"
      },
      "source": [
        "###Cramér's V Interpretation\n",
        "\n",
        "The results do not suggest that chi-square is statistically significant due to the large sample size. \n",
        "\n"
      ]
    },
    {
      "cell_type": "markdown",
      "metadata": {
        "id": "02oLTXrdOVOQ"
      },
      "source": [
        "###Visualization"
      ]
    },
    {
      "cell_type": "code",
      "metadata": {
        "id": "-FCLhmsLbgQj"
      },
      "source": [
        "#drop employment status from ed_attainment and only include ID and employment status for emp_stat\n",
        "#this ensures that when we merge, the dataframe doesn't create duplicates because the values differ (string vs integer), see info below\n",
        "ed_attainment_drop = ed_attainment.drop(columns='employment_status')\n",
        "emp_stat_drop = emp_stat[['ID','employment_status']]"
      ],
      "execution_count": null,
      "outputs": []
    },
    {
      "cell_type": "code",
      "metadata": {
        "colab": {
          "base_uri": "https://localhost:8080/"
        },
        "id": "ho6sGkvLimG8",
        "outputId": "a7e456e6-5482-4e8d-c915-a0f43e3112a9"
      },
      "source": [
        "emp_stat.info()\n",
        "ed_attainment.info()"
      ],
      "execution_count": null,
      "outputs": [
        {
          "output_type": "stream",
          "text": [
            "<class 'pandas.core.frame.DataFrame'>\n",
            "Int64Index: 65321 entries, 0 to 157950\n",
            "Data columns (total 12 columns):\n",
            " #   Column                Non-Null Count  Dtype \n",
            "---  ------                --------------  ----- \n",
            " 0   ID                    65321 non-null  object\n",
            " 1   race                  65321 non-null  object\n",
            " 2   AGE1                  65321 non-null  int64 \n",
            " 3   financial_assistance  65321 non-null  int64 \n",
            " 4   poverty_level         65321 non-null  int64 \n",
            " 5   health_insurance      65321 non-null  int64 \n",
            " 6   health_status         65321 non-null  int64 \n",
            " 7   medicaid_coverage     65321 non-null  int64 \n",
            " 8   ed_attainment         65321 non-null  int64 \n",
            " 9   employment_status     65321 non-null  object\n",
            " 10  labor_force_recode    65321 non-null  int64 \n",
            " 11  total_income_recode   65321 non-null  int64 \n",
            "dtypes: int64(9), object(3)\n",
            "memory usage: 9.0+ MB\n",
            "<class 'pandas.core.frame.DataFrame'>\n",
            "Int64Index: 93353 entries, 0 to 157950\n",
            "Data columns (total 12 columns):\n",
            " #   Column                Non-Null Count  Dtype \n",
            "---  ------                --------------  ----- \n",
            " 0   ID                    93353 non-null  object\n",
            " 1   race                  93353 non-null  object\n",
            " 2   AGE1                  93353 non-null  int64 \n",
            " 3   financial_assistance  93353 non-null  int64 \n",
            " 4   poverty_level         93353 non-null  int64 \n",
            " 5   health_insurance      93353 non-null  int64 \n",
            " 6   health_status         93353 non-null  int64 \n",
            " 7   medicaid_coverage     93353 non-null  int64 \n",
            " 8   ed_attainment         93353 non-null  object\n",
            " 9   employment_status     93353 non-null  int64 \n",
            " 10  labor_force_recode    93353 non-null  int64 \n",
            " 11  total_income_recode   93353 non-null  int64 \n",
            "dtypes: int64(9), object(3)\n",
            "memory usage: 11.8+ MB\n"
          ],
          "name": "stdout"
        }
      ]
    },
    {
      "cell_type": "code",
      "metadata": {
        "id": "dRrcS8KcWOIA"
      },
      "source": [
        "#combine the datasets created to eliminate unnecessary values in education_attainment and employment_status\n",
        "emped_merged = pd.merge(ed_attainment_drop, emp_stat_drop, on='ID')"
      ],
      "execution_count": null,
      "outputs": []
    },
    {
      "cell_type": "code",
      "metadata": {
        "colab": {
          "base_uri": "https://localhost:8080/",
          "height": 234
        },
        "id": "1PPmuvJseTFG",
        "outputId": "0a9dc639-4926-489d-e091-522db5df529e"
      },
      "source": [
        "emped_merged.head()"
      ],
      "execution_count": null,
      "outputs": [
        {
          "output_type": "execute_result",
          "data": {
            "text/html": [
              "<div>\n",
              "<style scoped>\n",
              "    .dataframe tbody tr th:only-of-type {\n",
              "        vertical-align: middle;\n",
              "    }\n",
              "\n",
              "    .dataframe tbody tr th {\n",
              "        vertical-align: top;\n",
              "    }\n",
              "\n",
              "    .dataframe thead th {\n",
              "        text-align: right;\n",
              "    }\n",
              "</style>\n",
              "<table border=\"1\" class=\"dataframe\">\n",
              "  <thead>\n",
              "    <tr style=\"text-align: right;\">\n",
              "      <th></th>\n",
              "      <th>ID</th>\n",
              "      <th>race</th>\n",
              "      <th>AGE1</th>\n",
              "      <th>financial_assistance</th>\n",
              "      <th>poverty_level</th>\n",
              "      <th>health_insurance</th>\n",
              "      <th>health_status</th>\n",
              "      <th>medicaid_coverage</th>\n",
              "      <th>ed_attainment</th>\n",
              "      <th>labor_force_recode</th>\n",
              "      <th>total_income_recode</th>\n",
              "      <th>employment_status</th>\n",
              "    </tr>\n",
              "  </thead>\n",
              "  <tbody>\n",
              "    <tr>\n",
              "      <th>0</th>\n",
              "      <td>8329611509015080901101</td>\n",
              "      <td>white</td>\n",
              "      <td>14</td>\n",
              "      <td>2</td>\n",
              "      <td>4</td>\n",
              "      <td>1</td>\n",
              "      <td>3</td>\n",
              "      <td>2</td>\n",
              "      <td>High School</td>\n",
              "      <td>1</td>\n",
              "      <td>22</td>\n",
              "      <td>Employed</td>\n",
              "    </tr>\n",
              "    <tr>\n",
              "      <th>1</th>\n",
              "      <td>4238996011902050901101</td>\n",
              "      <td>white</td>\n",
              "      <td>14</td>\n",
              "      <td>2</td>\n",
              "      <td>4</td>\n",
              "      <td>1</td>\n",
              "      <td>3</td>\n",
              "      <td>2</td>\n",
              "      <td>High School</td>\n",
              "      <td>1</td>\n",
              "      <td>18</td>\n",
              "      <td>Employed</td>\n",
              "    </tr>\n",
              "    <tr>\n",
              "      <th>2</th>\n",
              "      <td>2059506120093750901101</td>\n",
              "      <td>white</td>\n",
              "      <td>11</td>\n",
              "      <td>2</td>\n",
              "      <td>4</td>\n",
              "      <td>1</td>\n",
              "      <td>2</td>\n",
              "      <td>2</td>\n",
              "      <td>High School</td>\n",
              "      <td>1</td>\n",
              "      <td>17</td>\n",
              "      <td>Employed</td>\n",
              "    </tr>\n",
              "    <tr>\n",
              "      <th>3</th>\n",
              "      <td>1410320300969990901102</td>\n",
              "      <td>white</td>\n",
              "      <td>8</td>\n",
              "      <td>2</td>\n",
              "      <td>1</td>\n",
              "      <td>1</td>\n",
              "      <td>3</td>\n",
              "      <td>1</td>\n",
              "      <td>High School</td>\n",
              "      <td>1</td>\n",
              "      <td>4</td>\n",
              "      <td>Employed</td>\n",
              "    </tr>\n",
              "    <tr>\n",
              "      <th>4</th>\n",
              "      <td>2101059322002430901102</td>\n",
              "      <td>white</td>\n",
              "      <td>9</td>\n",
              "      <td>2</td>\n",
              "      <td>4</td>\n",
              "      <td>1</td>\n",
              "      <td>2</td>\n",
              "      <td>2</td>\n",
              "      <td>Some college; no degree</td>\n",
              "      <td>1</td>\n",
              "      <td>24</td>\n",
              "      <td>Employed</td>\n",
              "    </tr>\n",
              "  </tbody>\n",
              "</table>\n",
              "</div>"
            ],
            "text/plain": [
              "                       ID   race  ...  total_income_recode  employment_status\n",
              "0  8329611509015080901101  white  ...                   22           Employed\n",
              "1  4238996011902050901101  white  ...                   18           Employed\n",
              "2  2059506120093750901101  white  ...                   17           Employed\n",
              "3  1410320300969990901102  white  ...                    4           Employed\n",
              "4  2101059322002430901102  white  ...                   24           Employed\n",
              "\n",
              "[5 rows x 12 columns]"
            ]
          },
          "metadata": {
            "tags": []
          },
          "execution_count": 83
        }
      ]
    },
    {
      "cell_type": "code",
      "metadata": {
        "id": "eYbUypXmzoR4"
      },
      "source": [
        "def percentage(data1, column1, column2):\n",
        " \n",
        "    #count how often certain combinations of values occur\n",
        "    #add the number in new column\n",
        "    data_count = data1.groupby([column1, column2]).size().reset_index(name='count') \n",
        "\n",
        "    #sum the count values for each group (for example in ed_attainment '12 grade, no diploma'))\n",
        "    data_count['sum'] = data_count.groupby(column1)['count'].transform(sum)\n",
        "    #divide the count in each row by the sum of each group it belongs to\n",
        "    data_count['percentage'] = (data_count['count']/data_count['sum'])*100\n",
        "\n",
        "    #display the barchart\n",
        "    fig2 = px.bar(data_count, x=column1, y=\"percentage\", color=column2,height=700, width=1000)\n",
        "    fig2.update_traces(texttemplate='%{y:.2f}%', textposition='outside')\n",
        "    return fig2.show()"
      ],
      "execution_count": null,
      "outputs": []
    },
    {
      "cell_type": "code",
      "metadata": {
        "colab": {
          "base_uri": "https://localhost:8080/",
          "height": 716
        },
        "id": "IgAgAOmx4zuF",
        "outputId": "5dfdd863-9e97-418c-bb29-b5729872402f"
      },
      "source": [
        "#run the function\n",
        "percentage(emped_merged,'ed_attainment','employment_status')"
      ],
      "execution_count": null,
      "outputs": [
        {
          "output_type": "display_data",
          "data": {
            "text/html": [
              "<html>\n",
              "<head><meta charset=\"utf-8\" /></head>\n",
              "<body>\n",
              "    <div>\n",
              "            <script src=\"https://cdnjs.cloudflare.com/ajax/libs/mathjax/2.7.5/MathJax.js?config=TeX-AMS-MML_SVG\"></script><script type=\"text/javascript\">if (window.MathJax) {MathJax.Hub.Config({SVG: {font: \"STIX-Web\"}});}</script>\n",
              "                <script type=\"text/javascript\">window.PlotlyConfig = {MathJaxConfig: 'local'};</script>\n",
              "        <script src=\"https://cdn.plot.ly/plotly-latest.min.js\"></script>    \n",
              "            <div id=\"132189bd-1d7a-4728-9100-e88a4fabc1f6\" class=\"plotly-graph-div\" style=\"height:700px; width:1000px;\"></div>\n",
              "            <script type=\"text/javascript\">\n",
              "                \n",
              "                    window.PLOTLYENV=window.PLOTLYENV || {};\n",
              "                    \n",
              "                if (document.getElementById(\"132189bd-1d7a-4728-9100-e88a4fabc1f6\")) {\n",
              "                    Plotly.newPlot(\n",
              "                        '132189bd-1d7a-4728-9100-e88a4fabc1f6',\n",
              "                        [{\"alignmentgroup\": \"True\", \"hoverlabel\": {\"namelength\": 0}, \"hovertemplate\": \"employment_status=Employed<br>ed_attainment=%{x}<br>percentage=%{y}\", \"legendgroup\": \"employment_status=Employed\", \"marker\": {\"color\": \"#636efa\"}, \"name\": \"employment_status=Employed\", \"offsetgroup\": \"employment_status=Employed\", \"orientation\": \"v\", \"showlegend\": true, \"textposition\": \"outside\", \"texttemplate\": \"%{y:.2f}%\", \"type\": \"bar\", \"x\": [\"12th grade, no diploma\", \"Assoc. degree - academic program\", \"Assoc. degree college - occupation program\", \"Bachelor's\", \"Doctorate\", \"High School\", \"Master's\", \"Professional school degree\", \"Some college; no degree\"], \"xaxis\": \"x\", \"y\": [91.49560117302052, 95.92114208021754, 96.120036374659, 97.02625357720542, 98.13753581661892, 94.0060652910745, 97.71493858897458, 98.14298978644382, 94.71466520106256], \"yaxis\": \"y\"}, {\"alignmentgroup\": \"True\", \"hoverlabel\": {\"namelength\": 0}, \"hovertemplate\": \"employment_status=Unemployed<br>ed_attainment=%{x}<br>percentage=%{y}\", \"legendgroup\": \"employment_status=Unemployed\", \"marker\": {\"color\": \"#EF553B\"}, \"name\": \"employment_status=Unemployed\", \"offsetgroup\": \"employment_status=Unemployed\", \"orientation\": \"v\", \"showlegend\": true, \"textposition\": \"outside\", \"texttemplate\": \"%{y:.2f}%\", \"type\": \"bar\", \"x\": [\"12th grade, no diploma\", \"Assoc. degree - academic program\", \"Assoc. degree college - occupation program\", \"Bachelor's\", \"Doctorate\", \"High School\", \"Master's\", \"Professional school degree\", \"Some college; no degree\"], \"xaxis\": \"x\", \"y\": [8.504398826979472, 4.078857919782461, 3.8799636253410124, 2.973746422794575, 1.8624641833810889, 5.993934708925492, 2.2850614110254215, 1.8570102135561743, 5.285334798937437], \"yaxis\": \"y\"}],\n",
              "                        {\"barmode\": \"relative\", \"height\": 700, \"legend\": {\"tracegroupgap\": 0}, \"margin\": {\"t\": 60}, \"template\": {\"data\": {\"bar\": [{\"error_x\": {\"color\": \"#2a3f5f\"}, \"error_y\": {\"color\": \"#2a3f5f\"}, \"marker\": {\"line\": {\"color\": \"#E5ECF6\", \"width\": 0.5}}, \"type\": \"bar\"}], \"barpolar\": [{\"marker\": {\"line\": {\"color\": \"#E5ECF6\", \"width\": 0.5}}, \"type\": \"barpolar\"}], \"carpet\": [{\"aaxis\": {\"endlinecolor\": \"#2a3f5f\", \"gridcolor\": \"white\", \"linecolor\": \"white\", \"minorgridcolor\": \"white\", \"startlinecolor\": \"#2a3f5f\"}, \"baxis\": {\"endlinecolor\": \"#2a3f5f\", \"gridcolor\": \"white\", \"linecolor\": \"white\", \"minorgridcolor\": \"white\", \"startlinecolor\": \"#2a3f5f\"}, \"type\": \"carpet\"}], \"choropleth\": [{\"colorbar\": {\"outlinewidth\": 0, \"ticks\": \"\"}, \"type\": \"choropleth\"}], \"contour\": [{\"colorbar\": {\"outlinewidth\": 0, \"ticks\": \"\"}, \"colorscale\": [[0.0, \"#0d0887\"], [0.1111111111111111, \"#46039f\"], [0.2222222222222222, \"#7201a8\"], [0.3333333333333333, \"#9c179e\"], [0.4444444444444444, \"#bd3786\"], [0.5555555555555556, \"#d8576b\"], [0.6666666666666666, \"#ed7953\"], [0.7777777777777778, \"#fb9f3a\"], [0.8888888888888888, \"#fdca26\"], [1.0, \"#f0f921\"]], \"type\": \"contour\"}], \"contourcarpet\": [{\"colorbar\": {\"outlinewidth\": 0, \"ticks\": \"\"}, \"type\": \"contourcarpet\"}], \"heatmap\": [{\"colorbar\": {\"outlinewidth\": 0, \"ticks\": \"\"}, \"colorscale\": [[0.0, \"#0d0887\"], [0.1111111111111111, \"#46039f\"], [0.2222222222222222, \"#7201a8\"], [0.3333333333333333, \"#9c179e\"], [0.4444444444444444, \"#bd3786\"], [0.5555555555555556, \"#d8576b\"], [0.6666666666666666, \"#ed7953\"], [0.7777777777777778, \"#fb9f3a\"], [0.8888888888888888, \"#fdca26\"], [1.0, \"#f0f921\"]], \"type\": \"heatmap\"}], \"heatmapgl\": [{\"colorbar\": {\"outlinewidth\": 0, \"ticks\": \"\"}, \"colorscale\": [[0.0, \"#0d0887\"], [0.1111111111111111, \"#46039f\"], [0.2222222222222222, \"#7201a8\"], [0.3333333333333333, \"#9c179e\"], [0.4444444444444444, \"#bd3786\"], [0.5555555555555556, \"#d8576b\"], [0.6666666666666666, \"#ed7953\"], [0.7777777777777778, \"#fb9f3a\"], [0.8888888888888888, \"#fdca26\"], [1.0, \"#f0f921\"]], \"type\": \"heatmapgl\"}], \"histogram\": [{\"marker\": {\"colorbar\": {\"outlinewidth\": 0, \"ticks\": \"\"}}, \"type\": \"histogram\"}], \"histogram2d\": [{\"colorbar\": {\"outlinewidth\": 0, \"ticks\": \"\"}, \"colorscale\": [[0.0, \"#0d0887\"], [0.1111111111111111, \"#46039f\"], [0.2222222222222222, \"#7201a8\"], [0.3333333333333333, \"#9c179e\"], [0.4444444444444444, \"#bd3786\"], [0.5555555555555556, \"#d8576b\"], [0.6666666666666666, \"#ed7953\"], [0.7777777777777778, \"#fb9f3a\"], [0.8888888888888888, \"#fdca26\"], [1.0, \"#f0f921\"]], \"type\": \"histogram2d\"}], \"histogram2dcontour\": [{\"colorbar\": {\"outlinewidth\": 0, \"ticks\": \"\"}, \"colorscale\": [[0.0, \"#0d0887\"], [0.1111111111111111, \"#46039f\"], [0.2222222222222222, \"#7201a8\"], [0.3333333333333333, \"#9c179e\"], [0.4444444444444444, \"#bd3786\"], [0.5555555555555556, \"#d8576b\"], [0.6666666666666666, \"#ed7953\"], [0.7777777777777778, \"#fb9f3a\"], [0.8888888888888888, \"#fdca26\"], [1.0, \"#f0f921\"]], \"type\": \"histogram2dcontour\"}], \"mesh3d\": [{\"colorbar\": {\"outlinewidth\": 0, \"ticks\": \"\"}, \"type\": \"mesh3d\"}], \"parcoords\": [{\"line\": {\"colorbar\": {\"outlinewidth\": 0, \"ticks\": \"\"}}, \"type\": \"parcoords\"}], \"pie\": [{\"automargin\": true, \"type\": \"pie\"}], \"scatter\": [{\"marker\": {\"colorbar\": {\"outlinewidth\": 0, \"ticks\": \"\"}}, \"type\": \"scatter\"}], \"scatter3d\": [{\"line\": {\"colorbar\": {\"outlinewidth\": 0, \"ticks\": \"\"}}, \"marker\": {\"colorbar\": {\"outlinewidth\": 0, \"ticks\": \"\"}}, \"type\": \"scatter3d\"}], \"scattercarpet\": [{\"marker\": {\"colorbar\": {\"outlinewidth\": 0, \"ticks\": \"\"}}, \"type\": \"scattercarpet\"}], \"scattergeo\": [{\"marker\": {\"colorbar\": {\"outlinewidth\": 0, \"ticks\": \"\"}}, \"type\": \"scattergeo\"}], \"scattergl\": [{\"marker\": {\"colorbar\": {\"outlinewidth\": 0, \"ticks\": \"\"}}, \"type\": \"scattergl\"}], \"scattermapbox\": [{\"marker\": {\"colorbar\": {\"outlinewidth\": 0, \"ticks\": \"\"}}, \"type\": \"scattermapbox\"}], \"scatterpolar\": [{\"marker\": {\"colorbar\": {\"outlinewidth\": 0, \"ticks\": \"\"}}, \"type\": \"scatterpolar\"}], \"scatterpolargl\": [{\"marker\": {\"colorbar\": {\"outlinewidth\": 0, \"ticks\": \"\"}}, \"type\": \"scatterpolargl\"}], \"scatterternary\": [{\"marker\": {\"colorbar\": {\"outlinewidth\": 0, \"ticks\": \"\"}}, \"type\": \"scatterternary\"}], \"surface\": [{\"colorbar\": {\"outlinewidth\": 0, \"ticks\": \"\"}, \"colorscale\": [[0.0, \"#0d0887\"], [0.1111111111111111, \"#46039f\"], [0.2222222222222222, \"#7201a8\"], [0.3333333333333333, \"#9c179e\"], [0.4444444444444444, \"#bd3786\"], [0.5555555555555556, \"#d8576b\"], [0.6666666666666666, \"#ed7953\"], [0.7777777777777778, \"#fb9f3a\"], [0.8888888888888888, \"#fdca26\"], [1.0, \"#f0f921\"]], \"type\": \"surface\"}], \"table\": [{\"cells\": {\"fill\": {\"color\": \"#EBF0F8\"}, \"line\": {\"color\": \"white\"}}, \"header\": {\"fill\": {\"color\": \"#C8D4E3\"}, \"line\": {\"color\": \"white\"}}, \"type\": \"table\"}]}, \"layout\": {\"annotationdefaults\": {\"arrowcolor\": \"#2a3f5f\", \"arrowhead\": 0, \"arrowwidth\": 1}, \"coloraxis\": {\"colorbar\": {\"outlinewidth\": 0, \"ticks\": \"\"}}, \"colorscale\": {\"diverging\": [[0, \"#8e0152\"], [0.1, \"#c51b7d\"], [0.2, \"#de77ae\"], [0.3, \"#f1b6da\"], [0.4, \"#fde0ef\"], [0.5, \"#f7f7f7\"], [0.6, \"#e6f5d0\"], [0.7, \"#b8e186\"], [0.8, \"#7fbc41\"], [0.9, \"#4d9221\"], [1, \"#276419\"]], \"sequential\": [[0.0, \"#0d0887\"], [0.1111111111111111, \"#46039f\"], [0.2222222222222222, \"#7201a8\"], [0.3333333333333333, \"#9c179e\"], [0.4444444444444444, \"#bd3786\"], [0.5555555555555556, \"#d8576b\"], [0.6666666666666666, \"#ed7953\"], [0.7777777777777778, \"#fb9f3a\"], [0.8888888888888888, \"#fdca26\"], [1.0, \"#f0f921\"]], \"sequentialminus\": [[0.0, \"#0d0887\"], [0.1111111111111111, \"#46039f\"], [0.2222222222222222, \"#7201a8\"], [0.3333333333333333, \"#9c179e\"], [0.4444444444444444, \"#bd3786\"], [0.5555555555555556, \"#d8576b\"], [0.6666666666666666, \"#ed7953\"], [0.7777777777777778, \"#fb9f3a\"], [0.8888888888888888, \"#fdca26\"], [1.0, \"#f0f921\"]]}, \"colorway\": [\"#636efa\", \"#EF553B\", \"#00cc96\", \"#ab63fa\", \"#FFA15A\", \"#19d3f3\", \"#FF6692\", \"#B6E880\", \"#FF97FF\", \"#FECB52\"], \"font\": {\"color\": \"#2a3f5f\"}, \"geo\": {\"bgcolor\": \"white\", \"lakecolor\": \"white\", \"landcolor\": \"#E5ECF6\", \"showlakes\": true, \"showland\": true, \"subunitcolor\": \"white\"}, \"hoverlabel\": {\"align\": \"left\"}, \"hovermode\": \"closest\", \"mapbox\": {\"style\": \"light\"}, \"paper_bgcolor\": \"white\", \"plot_bgcolor\": \"#E5ECF6\", \"polar\": {\"angularaxis\": {\"gridcolor\": \"white\", \"linecolor\": \"white\", \"ticks\": \"\"}, \"bgcolor\": \"#E5ECF6\", \"radialaxis\": {\"gridcolor\": \"white\", \"linecolor\": \"white\", \"ticks\": \"\"}}, \"scene\": {\"xaxis\": {\"backgroundcolor\": \"#E5ECF6\", \"gridcolor\": \"white\", \"gridwidth\": 2, \"linecolor\": \"white\", \"showbackground\": true, \"ticks\": \"\", \"zerolinecolor\": \"white\"}, \"yaxis\": {\"backgroundcolor\": \"#E5ECF6\", \"gridcolor\": \"white\", \"gridwidth\": 2, \"linecolor\": \"white\", \"showbackground\": true, \"ticks\": \"\", \"zerolinecolor\": \"white\"}, \"zaxis\": {\"backgroundcolor\": \"#E5ECF6\", \"gridcolor\": \"white\", \"gridwidth\": 2, \"linecolor\": \"white\", \"showbackground\": true, \"ticks\": \"\", \"zerolinecolor\": \"white\"}}, \"shapedefaults\": {\"line\": {\"color\": \"#2a3f5f\"}}, \"ternary\": {\"aaxis\": {\"gridcolor\": \"white\", \"linecolor\": \"white\", \"ticks\": \"\"}, \"baxis\": {\"gridcolor\": \"white\", \"linecolor\": \"white\", \"ticks\": \"\"}, \"bgcolor\": \"#E5ECF6\", \"caxis\": {\"gridcolor\": \"white\", \"linecolor\": \"white\", \"ticks\": \"\"}}, \"title\": {\"x\": 0.05}, \"xaxis\": {\"automargin\": true, \"gridcolor\": \"white\", \"linecolor\": \"white\", \"ticks\": \"\", \"title\": {\"standoff\": 15}, \"zerolinecolor\": \"white\", \"zerolinewidth\": 2}, \"yaxis\": {\"automargin\": true, \"gridcolor\": \"white\", \"linecolor\": \"white\", \"ticks\": \"\", \"title\": {\"standoff\": 15}, \"zerolinecolor\": \"white\", \"zerolinewidth\": 2}}}, \"width\": 1000, \"xaxis\": {\"anchor\": \"y\", \"domain\": [0.0, 1.0], \"title\": {\"text\": \"ed_attainment\"}}, \"yaxis\": {\"anchor\": \"x\", \"domain\": [0.0, 1.0], \"title\": {\"text\": \"percentage\"}}},\n",
              "                        {\"responsive\": true}\n",
              "                    ).then(function(){\n",
              "                            \n",
              "var gd = document.getElementById('132189bd-1d7a-4728-9100-e88a4fabc1f6');\n",
              "var x = new MutationObserver(function (mutations, observer) {{\n",
              "        var display = window.getComputedStyle(gd).display;\n",
              "        if (!display || display === 'none') {{\n",
              "            console.log([gd, 'removed!']);\n",
              "            Plotly.purge(gd);\n",
              "            observer.disconnect();\n",
              "        }}\n",
              "}});\n",
              "\n",
              "// Listen for the removal of the full notebook cells\n",
              "var notebookContainer = gd.closest('#notebook-container');\n",
              "if (notebookContainer) {{\n",
              "    x.observe(notebookContainer, {childList: true});\n",
              "}}\n",
              "\n",
              "// Listen for the clearing of the current output cell\n",
              "var outputEl = gd.closest('.output');\n",
              "if (outputEl) {{\n",
              "    x.observe(outputEl, {childList: true});\n",
              "}}\n",
              "\n",
              "                        })\n",
              "                };\n",
              "                \n",
              "            </script>\n",
              "        </div>\n",
              "</body>\n",
              "</html>"
            ]
          },
          "metadata": {
            "tags": []
          }
        }
      ]
    },
    {
      "cell_type": "markdown",
      "metadata": {
        "id": "7oD7m6QzMONC"
      },
      "source": [
        "## Chi-Square Test and Cramér's V for Education and Poverty Level (for White and Black)"
      ]
    },
    {
      "cell_type": "markdown",
      "metadata": {
        "id": "Dnk-XBW8CF8n"
      },
      "source": [
        "Null Hypothesis: \"There is no effect of education on poverty level\".<br>\n",
        "Alternative Hypothesis: \"There is an effect of education on poverty level\"."
      ]
    },
    {
      "cell_type": "code",
      "metadata": {
        "id": "sw7vS0WJMQdA"
      },
      "source": [
        "#create crosstab for chi-square and cramer's v calculation\n",
        "education_poverty_crosstab = pd.crosstab(poverty['poverty_level'], ed_attainment['ed_attainment'],  \n",
        "                             margins = False)"
      ],
      "execution_count": null,
      "outputs": []
    },
    {
      "cell_type": "code",
      "metadata": {
        "colab": {
          "base_uri": "https://localhost:8080/",
          "height": 264
        },
        "id": "BNedUXVUUcWa",
        "outputId": "76ee56b1-43ba-416c-94d2-0133bd193aed"
      },
      "source": [
        "education_poverty_crosstab.head()"
      ],
      "execution_count": null,
      "outputs": [
        {
          "output_type": "execute_result",
          "data": {
            "text/html": [
              "<div>\n",
              "<style scoped>\n",
              "    .dataframe tbody tr th:only-of-type {\n",
              "        vertical-align: middle;\n",
              "    }\n",
              "\n",
              "    .dataframe tbody tr th {\n",
              "        vertical-align: top;\n",
              "    }\n",
              "\n",
              "    .dataframe thead th {\n",
              "        text-align: right;\n",
              "    }\n",
              "</style>\n",
              "<table border=\"1\" class=\"dataframe\">\n",
              "  <thead>\n",
              "    <tr style=\"text-align: right;\">\n",
              "      <th>ed_attainment</th>\n",
              "      <th>12th grade, no diploma</th>\n",
              "      <th>Assoc. degree - academic program</th>\n",
              "      <th>Assoc. degree college - occupation program</th>\n",
              "      <th>Bachelor's</th>\n",
              "      <th>Doctorate</th>\n",
              "      <th>High School</th>\n",
              "      <th>Master's</th>\n",
              "      <th>Professional school degree</th>\n",
              "      <th>Some college; no degree</th>\n",
              "    </tr>\n",
              "    <tr>\n",
              "      <th>poverty_level</th>\n",
              "      <th></th>\n",
              "      <th></th>\n",
              "      <th></th>\n",
              "      <th></th>\n",
              "      <th></th>\n",
              "      <th></th>\n",
              "      <th></th>\n",
              "      <th></th>\n",
              "      <th></th>\n",
              "    </tr>\n",
              "  </thead>\n",
              "  <tbody>\n",
              "    <tr>\n",
              "      <th>100-124% OF THE POVERTY LEVEL</th>\n",
              "      <td>88</td>\n",
              "      <td>163</td>\n",
              "      <td>113</td>\n",
              "      <td>369</td>\n",
              "      <td>20</td>\n",
              "      <td>1372</td>\n",
              "      <td>87</td>\n",
              "      <td>15</td>\n",
              "      <td>592</td>\n",
              "    </tr>\n",
              "    <tr>\n",
              "      <th>125-149% OF THE POVERTY LEVEL</th>\n",
              "      <td>90</td>\n",
              "      <td>173</td>\n",
              "      <td>146</td>\n",
              "      <td>372</td>\n",
              "      <td>9</td>\n",
              "      <td>1393</td>\n",
              "      <td>100</td>\n",
              "      <td>10</td>\n",
              "      <td>665</td>\n",
              "    </tr>\n",
              "    <tr>\n",
              "      <th>150 AND ABOVE THE POVERTY LEVEL</th>\n",
              "      <td>792</td>\n",
              "      <td>5603</td>\n",
              "      <td>4152</td>\n",
              "      <td>20108</td>\n",
              "      <td>1784</td>\n",
              "      <td>22569</td>\n",
              "      <td>9038</td>\n",
              "      <td>1339</td>\n",
              "      <td>14703</td>\n",
              "    </tr>\n",
              "    <tr>\n",
              "      <th>BELOW POVERTY LEVEL</th>\n",
              "      <td>281</td>\n",
              "      <td>404</td>\n",
              "      <td>326</td>\n",
              "      <td>968</td>\n",
              "      <td>46</td>\n",
              "      <td>3452</td>\n",
              "      <td>268</td>\n",
              "      <td>46</td>\n",
              "      <td>1697</td>\n",
              "    </tr>\n",
              "  </tbody>\n",
              "</table>\n",
              "</div>"
            ],
            "text/plain": [
              "ed_attainment                    12th grade, no diploma  ...  Some college; no degree\n",
              "poverty_level                                            ...                         \n",
              "100-124% OF THE POVERTY LEVEL                        88  ...                      592\n",
              "125-149% OF THE POVERTY LEVEL                        90  ...                      665\n",
              "150 AND ABOVE THE POVERTY LEVEL                     792  ...                    14703\n",
              "BELOW POVERTY LEVEL                                 281  ...                     1697\n",
              "\n",
              "[4 rows x 9 columns]"
            ]
          },
          "metadata": {
            "tags": []
          },
          "execution_count": 87
        }
      ]
    },
    {
      "cell_type": "code",
      "metadata": {
        "colab": {
          "base_uri": "https://localhost:8080/"
        },
        "id": "QTAXwqDiMyXr",
        "outputId": "20f6b711-b851-42a3-8821-4f7b38153c2f"
      },
      "source": [
        "#run chi-square and cramer's v function\n",
        "chi_square(education_poverty_crosstab)"
      ],
      "execution_count": null,
      "outputs": [
        {
          "output_type": "stream",
          "text": [
            "\u001b[1mChi-Square Test\u001b[0m\n",
            "degrees of freedom = 24\n",
            "\n",
            "Expected frequencies:\n",
            " [[   37.77670777   191.54089317   143.04417641   658.81249665\n",
            "     56.1366105    869.25684231   286.66209977    42.57806391\n",
            "    533.19210952]\n",
            " [   39.6394117    200.98544235   150.09743661   691.29739805\n",
            "     58.90460939   912.11838934   300.79691065    44.67751438\n",
            "    559.48288753]\n",
            " [ 1073.23908176  5441.69104367  4063.89570769 18716.91210781\n",
            "   1594.84528617 24695.65164483  8144.09160927  1209.64596746\n",
            "  15148.02755134]\n",
            " [  100.34479877   508.7826208    379.96267929  1749.97799749\n",
            "    149.11349394  2308.97312352   761.44938031   113.09845425\n",
            "   1416.29745161]]\n",
            "\n",
            "alpha=0.050, p-value=0.000\n",
            "p-value <= 0.05. Reject H0 that there is no association between the two variables.\n",
            "\n",
            "\u001b[1mCramer's V for: \u001b[0m\n",
            "ed_attainment\n",
            "12th grade, no diploma                        0.985512\n",
            "Assoc. degree - academic program              0.437667\n",
            "Assoc. degree college - occupation program    0.506453\n",
            "Bachelor's                                    0.235990\n",
            "Doctorate                                     0.808446\n",
            "High School                                   0.205447\n",
            "Master's                                      0.357758\n",
            "Professional school degree                    0.928285\n",
            "Some college; no degree                       0.262321\n",
            "dtype: float64\n"
          ],
          "name": "stdout"
        }
      ]
    },
    {
      "cell_type": "markdown",
      "metadata": {
        "id": "RMTRsfsbGDzP"
      },
      "source": [
        "###Chi-Square Interpretation\n",
        "\n",
        "Reject the Null Hypothesis that there is no effect of education on poverty level\n",
        "\n",
        "(Lower) Education [12th grade no diploma, High school graduate, and Some college but no degree] has a greater incidence of being below poverty level, at 100 - 124%, and at 125 - 149% of the poverty level.<br>\n",
        "(Lower) Education has a lesser incidence of being at 150 and above the poverty level.\n",
        "\n",
        "(Higher) Education [Associate degree (occupation&academic program), Bachelor's, Master's, Professional school, and Doctorate degree] has a greater incidence of employed and lesser incidence of being below poverty level, at 100 - 124%, and 125 - 149% of the poverty level.<br>\n",
        "(Higher) Education has a greater incidence of being at 150 and above the poverty level.\n"
      ]
    },
    {
      "cell_type": "markdown",
      "metadata": {
        "id": "5Gkur_VeCOlL"
      },
      "source": [
        "###Cramér's V Interpretation\n",
        "\n",
        "The results do not suggest that chi-square is statistically significant due to the large sample size, except for High School Graduate, Some college but no degree, Bachelor and Master. "
      ]
    },
    {
      "cell_type": "markdown",
      "metadata": {
        "id": "bdTcfNcj3_oQ"
      },
      "source": [
        "###Visualization"
      ]
    },
    {
      "cell_type": "code",
      "metadata": {
        "id": "2iUdPLQ24BbJ"
      },
      "source": [
        "#drop poverty_level from ed_attainment and only include ID and poverty_level poverty\n",
        "edpoverty_drop = ed_attainment.drop(columns='poverty_level')\n",
        "poverty_drop = poverty[['ID','poverty_level']]"
      ],
      "execution_count": null,
      "outputs": []
    },
    {
      "cell_type": "code",
      "metadata": {
        "id": "QoX8Q2tf8dsV"
      },
      "source": [
        "#combine the datasets created to eliminate unnecessary values\n",
        "edpoverty_merged = pd.merge(edpoverty_drop, poverty_drop, on='ID')"
      ],
      "execution_count": null,
      "outputs": []
    },
    {
      "cell_type": "code",
      "metadata": {
        "colab": {
          "base_uri": "https://localhost:8080/",
          "height": 716
        },
        "id": "VFad81bG9FCk",
        "outputId": "e701579d-9d8a-4b48-e36a-a81f12ccb401"
      },
      "source": [
        "percentage(edpoverty_merged,'ed_attainment','poverty_level')"
      ],
      "execution_count": null,
      "outputs": [
        {
          "output_type": "display_data",
          "data": {
            "text/html": [
              "<html>\n",
              "<head><meta charset=\"utf-8\" /></head>\n",
              "<body>\n",
              "    <div>\n",
              "            <script src=\"https://cdnjs.cloudflare.com/ajax/libs/mathjax/2.7.5/MathJax.js?config=TeX-AMS-MML_SVG\"></script><script type=\"text/javascript\">if (window.MathJax) {MathJax.Hub.Config({SVG: {font: \"STIX-Web\"}});}</script>\n",
              "                <script type=\"text/javascript\">window.PlotlyConfig = {MathJaxConfig: 'local'};</script>\n",
              "        <script src=\"https://cdn.plot.ly/plotly-latest.min.js\"></script>    \n",
              "            <div id=\"cea08d2f-82f9-4739-b5dc-c5ab4455e589\" class=\"plotly-graph-div\" style=\"height:700px; width:1000px;\"></div>\n",
              "            <script type=\"text/javascript\">\n",
              "                \n",
              "                    window.PLOTLYENV=window.PLOTLYENV || {};\n",
              "                    \n",
              "                if (document.getElementById(\"cea08d2f-82f9-4739-b5dc-c5ab4455e589\")) {\n",
              "                    Plotly.newPlot(\n",
              "                        'cea08d2f-82f9-4739-b5dc-c5ab4455e589',\n",
              "                        [{\"alignmentgroup\": \"True\", \"hoverlabel\": {\"namelength\": 0}, \"hovertemplate\": \"poverty_level=100-124% OF THE POVERTY LEVEL<br>ed_attainment=%{x}<br>percentage=%{y}\", \"legendgroup\": \"poverty_level=100-124% OF THE POVERTY LEVEL\", \"marker\": {\"color\": \"#636efa\"}, \"name\": \"poverty_level=100-124% OF THE POVERTY LEVEL\", \"offsetgroup\": \"poverty_level=100-124% OF THE POVERTY LEVEL\", \"orientation\": \"v\", \"showlegend\": true, \"textposition\": \"outside\", \"texttemplate\": \"%{y:.2f}%\", \"type\": \"bar\", \"x\": [\"12th grade, no diploma\", \"Assoc. degree - academic program\", \"Assoc. degree college - occupation program\", \"Bachelor's\", \"Doctorate\", \"High School\", \"Master's\", \"Professional school degree\", \"Some college; no degree\"], \"xaxis\": \"x\", \"y\": [7.034372501998401, 2.5697619422985967, 2.385476039687566, 1.6913416143374433, 1.0758472296933834, 4.7662057944834295, 0.9164647635099548, 1.0638297872340425, 3.3527779350965625], \"yaxis\": \"y\"}, {\"alignmentgroup\": \"True\", \"hoverlabel\": {\"namelength\": 0}, \"hovertemplate\": \"poverty_level=125-149% OF THE POVERTY LEVEL<br>ed_attainment=%{x}<br>percentage=%{y}\", \"legendgroup\": \"poverty_level=125-149% OF THE POVERTY LEVEL\", \"marker\": {\"color\": \"#EF553B\"}, \"name\": \"poverty_level=125-149% OF THE POVERTY LEVEL\", \"offsetgroup\": \"poverty_level=125-149% OF THE POVERTY LEVEL\", \"orientation\": \"v\", \"showlegend\": true, \"textposition\": \"outside\", \"texttemplate\": \"%{y:.2f}%\", \"type\": \"bar\", \"x\": [\"12th grade, no diploma\", \"Assoc. degree - academic program\", \"Assoc. degree college - occupation program\", \"Bachelor's\", \"Doctorate\", \"High School\", \"Master's\", \"Professional school degree\", \"Some college; no degree\"], \"xaxis\": \"x\", \"y\": [7.194244604316546, 2.7274160491880814, 3.0821194849060585, 1.7050923591694551, 0.48413125336202256, 4.839157923990829, 1.0534077741493733, 0.7092198581560284, 3.766211700741915], \"yaxis\": \"y\"}, {\"alignmentgroup\": \"True\", \"hoverlabel\": {\"namelength\": 0}, \"hovertemplate\": \"poverty_level=150 AND ABOVE THE POVERTY LEVEL<br>ed_attainment=%{x}<br>percentage=%{y}\", \"legendgroup\": \"poverty_level=150 AND ABOVE THE POVERTY LEVEL\", \"marker\": {\"color\": \"#00cc96\"}, \"name\": \"poverty_level=150 AND ABOVE THE POVERTY LEVEL\", \"offsetgroup\": \"poverty_level=150 AND ABOVE THE POVERTY LEVEL\", \"orientation\": \"v\", \"showlegend\": true, \"textposition\": \"outside\", \"texttemplate\": \"%{y:.2f}%\", \"type\": \"bar\", \"x\": [\"12th grade, no diploma\", \"Assoc. degree - academic program\", \"Assoc. degree college - occupation program\", \"Bachelor's\", \"Doctorate\", \"High School\", \"Master's\", \"Professional school degree\", \"Some college; no degree\"], \"xaxis\": \"x\", \"y\": [63.30935251798561, 88.33359609017815, 87.65041165294491, 92.16665902736398, 95.9655728886498, 78.40269575488085, 95.20699462762036, 94.9645390070922, 83.27009118196749], \"yaxis\": \"y\"}, {\"alignmentgroup\": \"True\", \"hoverlabel\": {\"namelength\": 0}, \"hovertemplate\": \"poverty_level=BELOW POVERTY LEVEL<br>ed_attainment=%{x}<br>percentage=%{y}\", \"legendgroup\": \"poverty_level=BELOW POVERTY LEVEL\", \"marker\": {\"color\": \"#ab63fa\"}, \"name\": \"poverty_level=BELOW POVERTY LEVEL\", \"offsetgroup\": \"poverty_level=BELOW POVERTY LEVEL\", \"orientation\": \"v\", \"showlegend\": true, \"textposition\": \"outside\", \"texttemplate\": \"%{y:.2f}%\", \"type\": \"bar\", \"x\": [\"12th grade, no diploma\", \"Assoc. degree - academic program\", \"Assoc. degree college - occupation program\", \"Bachelor's\", \"Doctorate\", \"High School\", \"Master's\", \"Professional school degree\", \"Some college; no degree\"], \"xaxis\": \"x\", \"y\": [22.46203037569944, 6.3692259183351725, 6.8819928224614735, 4.4369069991291195, 2.474448628294782, 11.991940526644896, 2.82313283472032, 3.2624113475177303, 9.61091918219403], \"yaxis\": \"y\"}],\n",
              "                        {\"barmode\": \"relative\", \"height\": 700, \"legend\": {\"tracegroupgap\": 0}, \"margin\": {\"t\": 60}, \"template\": {\"data\": {\"bar\": [{\"error_x\": {\"color\": \"#2a3f5f\"}, \"error_y\": {\"color\": \"#2a3f5f\"}, \"marker\": {\"line\": {\"color\": \"#E5ECF6\", \"width\": 0.5}}, \"type\": \"bar\"}], \"barpolar\": [{\"marker\": {\"line\": {\"color\": \"#E5ECF6\", \"width\": 0.5}}, \"type\": \"barpolar\"}], \"carpet\": [{\"aaxis\": {\"endlinecolor\": \"#2a3f5f\", \"gridcolor\": \"white\", \"linecolor\": \"white\", \"minorgridcolor\": \"white\", \"startlinecolor\": \"#2a3f5f\"}, \"baxis\": {\"endlinecolor\": \"#2a3f5f\", \"gridcolor\": \"white\", \"linecolor\": \"white\", \"minorgridcolor\": \"white\", \"startlinecolor\": \"#2a3f5f\"}, \"type\": \"carpet\"}], \"choropleth\": [{\"colorbar\": {\"outlinewidth\": 0, \"ticks\": \"\"}, \"type\": \"choropleth\"}], \"contour\": [{\"colorbar\": {\"outlinewidth\": 0, \"ticks\": \"\"}, \"colorscale\": [[0.0, \"#0d0887\"], [0.1111111111111111, \"#46039f\"], [0.2222222222222222, \"#7201a8\"], [0.3333333333333333, \"#9c179e\"], [0.4444444444444444, \"#bd3786\"], [0.5555555555555556, \"#d8576b\"], [0.6666666666666666, \"#ed7953\"], [0.7777777777777778, \"#fb9f3a\"], [0.8888888888888888, \"#fdca26\"], [1.0, \"#f0f921\"]], \"type\": \"contour\"}], \"contourcarpet\": [{\"colorbar\": {\"outlinewidth\": 0, \"ticks\": \"\"}, \"type\": \"contourcarpet\"}], \"heatmap\": [{\"colorbar\": {\"outlinewidth\": 0, \"ticks\": \"\"}, \"colorscale\": [[0.0, \"#0d0887\"], [0.1111111111111111, \"#46039f\"], [0.2222222222222222, \"#7201a8\"], [0.3333333333333333, \"#9c179e\"], [0.4444444444444444, \"#bd3786\"], [0.5555555555555556, \"#d8576b\"], [0.6666666666666666, \"#ed7953\"], [0.7777777777777778, \"#fb9f3a\"], [0.8888888888888888, \"#fdca26\"], [1.0, \"#f0f921\"]], \"type\": \"heatmap\"}], \"heatmapgl\": [{\"colorbar\": {\"outlinewidth\": 0, \"ticks\": \"\"}, \"colorscale\": [[0.0, \"#0d0887\"], [0.1111111111111111, \"#46039f\"], [0.2222222222222222, \"#7201a8\"], [0.3333333333333333, \"#9c179e\"], [0.4444444444444444, \"#bd3786\"], [0.5555555555555556, \"#d8576b\"], [0.6666666666666666, \"#ed7953\"], [0.7777777777777778, \"#fb9f3a\"], [0.8888888888888888, \"#fdca26\"], [1.0, \"#f0f921\"]], \"type\": \"heatmapgl\"}], \"histogram\": [{\"marker\": {\"colorbar\": {\"outlinewidth\": 0, \"ticks\": \"\"}}, \"type\": \"histogram\"}], \"histogram2d\": [{\"colorbar\": {\"outlinewidth\": 0, \"ticks\": \"\"}, \"colorscale\": [[0.0, \"#0d0887\"], [0.1111111111111111, \"#46039f\"], [0.2222222222222222, \"#7201a8\"], [0.3333333333333333, \"#9c179e\"], [0.4444444444444444, \"#bd3786\"], [0.5555555555555556, \"#d8576b\"], [0.6666666666666666, \"#ed7953\"], [0.7777777777777778, \"#fb9f3a\"], [0.8888888888888888, \"#fdca26\"], [1.0, \"#f0f921\"]], \"type\": \"histogram2d\"}], \"histogram2dcontour\": [{\"colorbar\": {\"outlinewidth\": 0, \"ticks\": \"\"}, \"colorscale\": [[0.0, \"#0d0887\"], [0.1111111111111111, \"#46039f\"], [0.2222222222222222, \"#7201a8\"], [0.3333333333333333, \"#9c179e\"], [0.4444444444444444, \"#bd3786\"], [0.5555555555555556, \"#d8576b\"], [0.6666666666666666, \"#ed7953\"], [0.7777777777777778, \"#fb9f3a\"], [0.8888888888888888, \"#fdca26\"], [1.0, \"#f0f921\"]], \"type\": \"histogram2dcontour\"}], \"mesh3d\": [{\"colorbar\": {\"outlinewidth\": 0, \"ticks\": \"\"}, \"type\": \"mesh3d\"}], \"parcoords\": [{\"line\": {\"colorbar\": {\"outlinewidth\": 0, \"ticks\": \"\"}}, \"type\": \"parcoords\"}], \"pie\": [{\"automargin\": true, \"type\": \"pie\"}], \"scatter\": [{\"marker\": {\"colorbar\": {\"outlinewidth\": 0, \"ticks\": \"\"}}, \"type\": \"scatter\"}], \"scatter3d\": [{\"line\": {\"colorbar\": {\"outlinewidth\": 0, \"ticks\": \"\"}}, \"marker\": {\"colorbar\": {\"outlinewidth\": 0, \"ticks\": \"\"}}, \"type\": \"scatter3d\"}], \"scattercarpet\": [{\"marker\": {\"colorbar\": {\"outlinewidth\": 0, \"ticks\": \"\"}}, \"type\": \"scattercarpet\"}], \"scattergeo\": [{\"marker\": {\"colorbar\": {\"outlinewidth\": 0, \"ticks\": \"\"}}, \"type\": \"scattergeo\"}], \"scattergl\": [{\"marker\": {\"colorbar\": {\"outlinewidth\": 0, \"ticks\": \"\"}}, \"type\": \"scattergl\"}], \"scattermapbox\": [{\"marker\": {\"colorbar\": {\"outlinewidth\": 0, \"ticks\": \"\"}}, \"type\": \"scattermapbox\"}], \"scatterpolar\": [{\"marker\": {\"colorbar\": {\"outlinewidth\": 0, \"ticks\": \"\"}}, \"type\": \"scatterpolar\"}], \"scatterpolargl\": [{\"marker\": {\"colorbar\": {\"outlinewidth\": 0, \"ticks\": \"\"}}, \"type\": \"scatterpolargl\"}], \"scatterternary\": [{\"marker\": {\"colorbar\": {\"outlinewidth\": 0, \"ticks\": \"\"}}, \"type\": \"scatterternary\"}], \"surface\": [{\"colorbar\": {\"outlinewidth\": 0, \"ticks\": \"\"}, \"colorscale\": [[0.0, \"#0d0887\"], [0.1111111111111111, \"#46039f\"], [0.2222222222222222, \"#7201a8\"], [0.3333333333333333, \"#9c179e\"], [0.4444444444444444, \"#bd3786\"], [0.5555555555555556, \"#d8576b\"], [0.6666666666666666, \"#ed7953\"], [0.7777777777777778, \"#fb9f3a\"], [0.8888888888888888, \"#fdca26\"], [1.0, \"#f0f921\"]], \"type\": \"surface\"}], \"table\": [{\"cells\": {\"fill\": {\"color\": \"#EBF0F8\"}, \"line\": {\"color\": \"white\"}}, \"header\": {\"fill\": {\"color\": \"#C8D4E3\"}, \"line\": {\"color\": \"white\"}}, \"type\": \"table\"}]}, \"layout\": {\"annotationdefaults\": {\"arrowcolor\": \"#2a3f5f\", \"arrowhead\": 0, \"arrowwidth\": 1}, \"coloraxis\": {\"colorbar\": {\"outlinewidth\": 0, \"ticks\": \"\"}}, \"colorscale\": {\"diverging\": [[0, \"#8e0152\"], [0.1, \"#c51b7d\"], [0.2, \"#de77ae\"], [0.3, \"#f1b6da\"], [0.4, \"#fde0ef\"], [0.5, \"#f7f7f7\"], [0.6, \"#e6f5d0\"], [0.7, \"#b8e186\"], [0.8, \"#7fbc41\"], [0.9, \"#4d9221\"], [1, \"#276419\"]], \"sequential\": [[0.0, \"#0d0887\"], [0.1111111111111111, \"#46039f\"], [0.2222222222222222, \"#7201a8\"], [0.3333333333333333, \"#9c179e\"], [0.4444444444444444, \"#bd3786\"], [0.5555555555555556, \"#d8576b\"], [0.6666666666666666, \"#ed7953\"], [0.7777777777777778, \"#fb9f3a\"], [0.8888888888888888, \"#fdca26\"], [1.0, \"#f0f921\"]], \"sequentialminus\": [[0.0, \"#0d0887\"], [0.1111111111111111, \"#46039f\"], [0.2222222222222222, \"#7201a8\"], [0.3333333333333333, \"#9c179e\"], [0.4444444444444444, \"#bd3786\"], [0.5555555555555556, \"#d8576b\"], [0.6666666666666666, \"#ed7953\"], [0.7777777777777778, \"#fb9f3a\"], [0.8888888888888888, \"#fdca26\"], [1.0, \"#f0f921\"]]}, \"colorway\": [\"#636efa\", \"#EF553B\", \"#00cc96\", \"#ab63fa\", \"#FFA15A\", \"#19d3f3\", \"#FF6692\", \"#B6E880\", \"#FF97FF\", \"#FECB52\"], \"font\": {\"color\": \"#2a3f5f\"}, \"geo\": {\"bgcolor\": \"white\", \"lakecolor\": \"white\", \"landcolor\": \"#E5ECF6\", \"showlakes\": true, \"showland\": true, \"subunitcolor\": \"white\"}, \"hoverlabel\": {\"align\": \"left\"}, \"hovermode\": \"closest\", \"mapbox\": {\"style\": \"light\"}, \"paper_bgcolor\": \"white\", \"plot_bgcolor\": \"#E5ECF6\", \"polar\": {\"angularaxis\": {\"gridcolor\": \"white\", \"linecolor\": \"white\", \"ticks\": \"\"}, \"bgcolor\": \"#E5ECF6\", \"radialaxis\": {\"gridcolor\": \"white\", \"linecolor\": \"white\", \"ticks\": \"\"}}, \"scene\": {\"xaxis\": {\"backgroundcolor\": \"#E5ECF6\", \"gridcolor\": \"white\", \"gridwidth\": 2, \"linecolor\": \"white\", \"showbackground\": true, \"ticks\": \"\", \"zerolinecolor\": \"white\"}, \"yaxis\": {\"backgroundcolor\": \"#E5ECF6\", \"gridcolor\": \"white\", \"gridwidth\": 2, \"linecolor\": \"white\", \"showbackground\": true, \"ticks\": \"\", \"zerolinecolor\": \"white\"}, \"zaxis\": {\"backgroundcolor\": \"#E5ECF6\", \"gridcolor\": \"white\", \"gridwidth\": 2, \"linecolor\": \"white\", \"showbackground\": true, \"ticks\": \"\", \"zerolinecolor\": \"white\"}}, \"shapedefaults\": {\"line\": {\"color\": \"#2a3f5f\"}}, \"ternary\": {\"aaxis\": {\"gridcolor\": \"white\", \"linecolor\": \"white\", \"ticks\": \"\"}, \"baxis\": {\"gridcolor\": \"white\", \"linecolor\": \"white\", \"ticks\": \"\"}, \"bgcolor\": \"#E5ECF6\", \"caxis\": {\"gridcolor\": \"white\", \"linecolor\": \"white\", \"ticks\": \"\"}}, \"title\": {\"x\": 0.05}, \"xaxis\": {\"automargin\": true, \"gridcolor\": \"white\", \"linecolor\": \"white\", \"ticks\": \"\", \"title\": {\"standoff\": 15}, \"zerolinecolor\": \"white\", \"zerolinewidth\": 2}, \"yaxis\": {\"automargin\": true, \"gridcolor\": \"white\", \"linecolor\": \"white\", \"ticks\": \"\", \"title\": {\"standoff\": 15}, \"zerolinecolor\": \"white\", \"zerolinewidth\": 2}}}, \"width\": 1000, \"xaxis\": {\"anchor\": \"y\", \"domain\": [0.0, 1.0], \"title\": {\"text\": \"ed_attainment\"}}, \"yaxis\": {\"anchor\": \"x\", \"domain\": [0.0, 1.0], \"title\": {\"text\": \"percentage\"}}},\n",
              "                        {\"responsive\": true}\n",
              "                    ).then(function(){\n",
              "                            \n",
              "var gd = document.getElementById('cea08d2f-82f9-4739-b5dc-c5ab4455e589');\n",
              "var x = new MutationObserver(function (mutations, observer) {{\n",
              "        var display = window.getComputedStyle(gd).display;\n",
              "        if (!display || display === 'none') {{\n",
              "            console.log([gd, 'removed!']);\n",
              "            Plotly.purge(gd);\n",
              "            observer.disconnect();\n",
              "        }}\n",
              "}});\n",
              "\n",
              "// Listen for the removal of the full notebook cells\n",
              "var notebookContainer = gd.closest('#notebook-container');\n",
              "if (notebookContainer) {{\n",
              "    x.observe(notebookContainer, {childList: true});\n",
              "}}\n",
              "\n",
              "// Listen for the clearing of the current output cell\n",
              "var outputEl = gd.closest('.output');\n",
              "if (outputEl) {{\n",
              "    x.observe(outputEl, {childList: true});\n",
              "}}\n",
              "\n",
              "                        })\n",
              "                };\n",
              "                \n",
              "            </script>\n",
              "        </div>\n",
              "</body>\n",
              "</html>"
            ]
          },
          "metadata": {
            "tags": []
          }
        }
      ]
    },
    {
      "cell_type": "markdown",
      "metadata": {
        "id": "E9MsLwjbNwMS"
      },
      "source": [
        "##Chi-Square Test and Cramér's V for Poverty Level and Health Status (for White and Black)"
      ]
    },
    {
      "cell_type": "markdown",
      "metadata": {
        "id": "5d-tmpvoGwhG"
      },
      "source": [
        "Null Hypothesis: \"There is no effect of poverty level on health status\".<br>\n",
        "Alternative Hypothesis: \"There is an effect of poverty level on health status\"."
      ]
    },
    {
      "cell_type": "code",
      "metadata": {
        "id": "mivDNnZ6Nvon"
      },
      "source": [
        "#create crosstab for chi-square and cramer's v calculation\n",
        "health_poverty_crosstab = pd.crosstab(race['health_status'], poverty['poverty_level'],  \n",
        "                             margins = False)"
      ],
      "execution_count": null,
      "outputs": []
    },
    {
      "cell_type": "code",
      "metadata": {
        "colab": {
          "base_uri": "https://localhost:8080/",
          "height": 227
        },
        "id": "WzBTSjCdVq6I",
        "outputId": "3399a32f-5060-47a9-a225-e2e1d0ac8f10"
      },
      "source": [
        "health_poverty_crosstab.head()"
      ],
      "execution_count": null,
      "outputs": [
        {
          "output_type": "execute_result",
          "data": {
            "text/html": [
              "<div>\n",
              "<style scoped>\n",
              "    .dataframe tbody tr th:only-of-type {\n",
              "        vertical-align: middle;\n",
              "    }\n",
              "\n",
              "    .dataframe tbody tr th {\n",
              "        vertical-align: top;\n",
              "    }\n",
              "\n",
              "    .dataframe thead th {\n",
              "        text-align: right;\n",
              "    }\n",
              "</style>\n",
              "<table border=\"1\" class=\"dataframe\">\n",
              "  <thead>\n",
              "    <tr style=\"text-align: right;\">\n",
              "      <th>poverty_level</th>\n",
              "      <th>100-124% OF THE POVERTY LEVEL</th>\n",
              "      <th>125-149% OF THE POVERTY LEVEL</th>\n",
              "      <th>150 AND ABOVE THE POVERTY LEVEL</th>\n",
              "      <th>BELOW POVERTY LEVEL</th>\n",
              "    </tr>\n",
              "    <tr>\n",
              "      <th>health_status</th>\n",
              "      <th></th>\n",
              "      <th></th>\n",
              "      <th></th>\n",
              "      <th></th>\n",
              "    </tr>\n",
              "  </thead>\n",
              "  <tbody>\n",
              "    <tr>\n",
              "      <th>1</th>\n",
              "      <td>527</td>\n",
              "      <td>599</td>\n",
              "      <td>23081</td>\n",
              "      <td>1464</td>\n",
              "    </tr>\n",
              "    <tr>\n",
              "      <th>2</th>\n",
              "      <td>881</td>\n",
              "      <td>907</td>\n",
              "      <td>30203</td>\n",
              "      <td>2155</td>\n",
              "    </tr>\n",
              "    <tr>\n",
              "      <th>3</th>\n",
              "      <td>1191</td>\n",
              "      <td>1223</td>\n",
              "      <td>22586</td>\n",
              "      <td>3035</td>\n",
              "    </tr>\n",
              "    <tr>\n",
              "      <th>4</th>\n",
              "      <td>684</td>\n",
              "      <td>649</td>\n",
              "      <td>6879</td>\n",
              "      <td>1988</td>\n",
              "    </tr>\n",
              "    <tr>\n",
              "      <th>5</th>\n",
              "      <td>280</td>\n",
              "      <td>255</td>\n",
              "      <td>2084</td>\n",
              "      <td>862</td>\n",
              "    </tr>\n",
              "  </tbody>\n",
              "</table>\n",
              "</div>"
            ],
            "text/plain": [
              "poverty_level  100-124% OF THE POVERTY LEVEL  ...  BELOW POVERTY LEVEL\n",
              "health_status                                 ...                     \n",
              "1                                        527  ...                 1464\n",
              "2                                        881  ...                 2155\n",
              "3                                       1191  ...                 3035\n",
              "4                                        684  ...                 1988\n",
              "5                                        280  ...                  862\n",
              "\n",
              "[5 rows x 4 columns]"
            ]
          },
          "metadata": {
            "tags": []
          },
          "execution_count": 93
        }
      ]
    },
    {
      "cell_type": "code",
      "metadata": {
        "colab": {
          "base_uri": "https://localhost:8080/"
        },
        "id": "ePdFcwJ-N8nE",
        "outputId": "144c47cc-af42-4cde-ccd6-a0298c1a2fd0"
      },
      "source": [
        "#run chi-square and cramer's v function\n",
        "chi_square(health_poverty_crosstab)"
      ],
      "execution_count": null,
      "outputs": [
        {
          "output_type": "stream",
          "text": [
            "\u001b[1mChi-Square Test\u001b[0m\n",
            "degrees of freedom = 12\n",
            "\n",
            "Expected frequencies:\n",
            " [[  900.84773423   918.54611801 21448.67129899  2402.93484877]\n",
            " [ 1198.25276511  1221.7940768  28529.71563925  3196.23751884]\n",
            " [  983.80531453  1003.13351324 23423.84402116  2624.21715107]\n",
            " [  357.93879822   364.97099465  8522.318852     954.77135513]\n",
            " [  122.1553879    124.55529729  2908.45018861   325.8391262 ]]\n",
            "\n",
            "alpha=0.050, p-value=0.000\n",
            "p-value <= 0.05. Reject H0 that there is no association between the two variables.\n",
            "\n",
            "\u001b[1mCramer's V for: \u001b[0m\n",
            "poverty_level\n",
            "100-124% OF THE POVERTY LEVEL      0.680891\n",
            "125-149% OF THE POVERTY LEVEL      0.674299\n",
            "150 AND ABOVE THE POVERTY LEVEL    0.139541\n",
            "BELOW POVERTY LEVEL                0.416900\n",
            "dtype: float64\n"
          ],
          "name": "stdout"
        }
      ]
    },
    {
      "cell_type": "markdown",
      "metadata": {
        "id": "ymMgGBwuG6ch"
      },
      "source": [
        "###Chi-Square Interpretation\n",
        "\n",
        "Reject the Null Hypothesis that there is no effect of poverty level on health status\n",
        "\n",
        "Poverty level [below poverty level, at 100 - 124%, and 125 - 149% of poverty level] has a lesser incidence of Excellent and Very good health.<br>\n",
        "Poverty level [below poverty level, at 100 - 124%, and 125 - 149% of poverty level] has a greater incidence of Good, Fair, and Poor health.\n",
        "\n",
        "\"150 and above the poverty level\" has a lesser incidence of Good, Fair, and Poor health.<br>\n",
        "\"150 and above the poverty level\" has a greater incidence of Excellent and Very good health."
      ]
    },
    {
      "cell_type": "markdown",
      "metadata": {
        "id": "Rfn5_Ah-G9TO"
      },
      "source": [
        "###Cramér's V Interpretation\n",
        "\n",
        "The results do not suggest that chi-square is statistically significant due to the large sample size, except for \"Below poverty level\" and \"150 and above the poverty level\". "
      ]
    },
    {
      "cell_type": "markdown",
      "metadata": {
        "id": "IfQrbkPDX2CA"
      },
      "source": [
        "###Visualization"
      ]
    },
    {
      "cell_type": "code",
      "metadata": {
        "id": "wIUJYLvPX3vR"
      },
      "source": [
        "#drop health_status for poverty and only include ID and health_status for race\n",
        "povertyhealth_drop = poverty.drop(columns='health_status')\n",
        "health_drop = race_copy[['ID','health_status']]"
      ],
      "execution_count": null,
      "outputs": []
    },
    {
      "cell_type": "code",
      "metadata": {
        "id": "GzUuma1AYsCz"
      },
      "source": [
        "#combine the datasets created to eliminate unnecessary values\n",
        "healthpoverty_merged = pd.merge(povertyhealth_drop, health_drop, on='ID')"
      ],
      "execution_count": null,
      "outputs": []
    },
    {
      "cell_type": "code",
      "metadata": {
        "colab": {
          "base_uri": "https://localhost:8080/",
          "height": 384
        },
        "id": "GM8j-1DJZFCJ",
        "outputId": "c17513e9-dec1-47ab-d632-2982f4a5375e"
      },
      "source": [
        "healthpoverty_merged.head()"
      ],
      "execution_count": null,
      "outputs": [
        {
          "output_type": "execute_result",
          "data": {
            "text/html": [
              "<div>\n",
              "<style scoped>\n",
              "    .dataframe tbody tr th:only-of-type {\n",
              "        vertical-align: middle;\n",
              "    }\n",
              "\n",
              "    .dataframe tbody tr th {\n",
              "        vertical-align: top;\n",
              "    }\n",
              "\n",
              "    .dataframe thead th {\n",
              "        text-align: right;\n",
              "    }\n",
              "</style>\n",
              "<table border=\"1\" class=\"dataframe\">\n",
              "  <thead>\n",
              "    <tr style=\"text-align: right;\">\n",
              "      <th></th>\n",
              "      <th>ID</th>\n",
              "      <th>race</th>\n",
              "      <th>AGE1</th>\n",
              "      <th>financial_assistance</th>\n",
              "      <th>poverty_level</th>\n",
              "      <th>health_insurance</th>\n",
              "      <th>medicaid_coverage</th>\n",
              "      <th>ed_attainment</th>\n",
              "      <th>employment_status</th>\n",
              "      <th>labor_force_recode</th>\n",
              "      <th>total_income_recode</th>\n",
              "      <th>health_status</th>\n",
              "    </tr>\n",
              "  </thead>\n",
              "  <tbody>\n",
              "    <tr>\n",
              "      <th>0</th>\n",
              "      <td>8329611509015080901101</td>\n",
              "      <td>white</td>\n",
              "      <td>14</td>\n",
              "      <td>2</td>\n",
              "      <td>150 AND ABOVE THE POVERTY LEVEL</td>\n",
              "      <td>1</td>\n",
              "      <td>2</td>\n",
              "      <td>39</td>\n",
              "      <td>1</td>\n",
              "      <td>1</td>\n",
              "      <td>22</td>\n",
              "      <td>Good</td>\n",
              "    </tr>\n",
              "    <tr>\n",
              "      <th>1</th>\n",
              "      <td>8329611509015080901102</td>\n",
              "      <td>white</td>\n",
              "      <td>15</td>\n",
              "      <td>2</td>\n",
              "      <td>150 AND ABOVE THE POVERTY LEVEL</td>\n",
              "      <td>1</td>\n",
              "      <td>2</td>\n",
              "      <td>39</td>\n",
              "      <td>0</td>\n",
              "      <td>5</td>\n",
              "      <td>30</td>\n",
              "      <td>Good</td>\n",
              "    </tr>\n",
              "    <tr>\n",
              "      <th>2</th>\n",
              "      <td>4238996011902050901101</td>\n",
              "      <td>white</td>\n",
              "      <td>14</td>\n",
              "      <td>2</td>\n",
              "      <td>150 AND ABOVE THE POVERTY LEVEL</td>\n",
              "      <td>1</td>\n",
              "      <td>2</td>\n",
              "      <td>39</td>\n",
              "      <td>1</td>\n",
              "      <td>1</td>\n",
              "      <td>18</td>\n",
              "      <td>Good</td>\n",
              "    </tr>\n",
              "    <tr>\n",
              "      <th>3</th>\n",
              "      <td>4238996011902050901102</td>\n",
              "      <td>white</td>\n",
              "      <td>16</td>\n",
              "      <td>2</td>\n",
              "      <td>150 AND ABOVE THE POVERTY LEVEL</td>\n",
              "      <td>1</td>\n",
              "      <td>2</td>\n",
              "      <td>36</td>\n",
              "      <td>0</td>\n",
              "      <td>5</td>\n",
              "      <td>9</td>\n",
              "      <td>Good</td>\n",
              "    </tr>\n",
              "    <tr>\n",
              "      <th>4</th>\n",
              "      <td>2059506120093750901101</td>\n",
              "      <td>white</td>\n",
              "      <td>11</td>\n",
              "      <td>2</td>\n",
              "      <td>150 AND ABOVE THE POVERTY LEVEL</td>\n",
              "      <td>1</td>\n",
              "      <td>2</td>\n",
              "      <td>39</td>\n",
              "      <td>1</td>\n",
              "      <td>1</td>\n",
              "      <td>17</td>\n",
              "      <td>Very good</td>\n",
              "    </tr>\n",
              "  </tbody>\n",
              "</table>\n",
              "</div>"
            ],
            "text/plain": [
              "                       ID   race  ...  total_income_recode  health_status\n",
              "0  8329611509015080901101  white  ...                   22           Good\n",
              "1  8329611509015080901102  white  ...                   30           Good\n",
              "2  4238996011902050901101  white  ...                   18           Good\n",
              "3  4238996011902050901102  white  ...                    9           Good\n",
              "4  2059506120093750901101  white  ...                   17      Very good\n",
              "\n",
              "[5 rows x 12 columns]"
            ]
          },
          "metadata": {
            "tags": []
          },
          "execution_count": 97
        }
      ]
    },
    {
      "cell_type": "code",
      "metadata": {
        "colab": {
          "base_uri": "https://localhost:8080/",
          "height": 716
        },
        "id": "R8zY4Cq2Yz4L",
        "outputId": "a4db96e5-d7cc-42be-9b64-8ffdca812079"
      },
      "source": [
        "percentage(healthpoverty_merged, 'poverty_level','health_status')"
      ],
      "execution_count": null,
      "outputs": [
        {
          "output_type": "display_data",
          "data": {
            "text/html": [
              "<html>\n",
              "<head><meta charset=\"utf-8\" /></head>\n",
              "<body>\n",
              "    <div>\n",
              "            <script src=\"https://cdnjs.cloudflare.com/ajax/libs/mathjax/2.7.5/MathJax.js?config=TeX-AMS-MML_SVG\"></script><script type=\"text/javascript\">if (window.MathJax) {MathJax.Hub.Config({SVG: {font: \"STIX-Web\"}});}</script>\n",
              "                <script type=\"text/javascript\">window.PlotlyConfig = {MathJaxConfig: 'local'};</script>\n",
              "        <script src=\"https://cdn.plot.ly/plotly-latest.min.js\"></script>    \n",
              "            <div id=\"af77b872-e74c-453d-8fbc-54ce160d6f48\" class=\"plotly-graph-div\" style=\"height:700px; width:1000px;\"></div>\n",
              "            <script type=\"text/javascript\">\n",
              "                \n",
              "                    window.PLOTLYENV=window.PLOTLYENV || {};\n",
              "                    \n",
              "                if (document.getElementById(\"af77b872-e74c-453d-8fbc-54ce160d6f48\")) {\n",
              "                    Plotly.newPlot(\n",
              "                        'af77b872-e74c-453d-8fbc-54ce160d6f48',\n",
              "                        [{\"alignmentgroup\": \"True\", \"hoverlabel\": {\"namelength\": 0}, \"hovertemplate\": \"health_status=Excellent<br>poverty_level=%{x}<br>percentage=%{y}\", \"legendgroup\": \"health_status=Excellent\", \"marker\": {\"color\": \"#636efa\"}, \"name\": \"health_status=Excellent\", \"offsetgroup\": \"health_status=Excellent\", \"orientation\": \"v\", \"showlegend\": true, \"textposition\": \"outside\", \"texttemplate\": \"%{y:.2f}%\", \"type\": \"bar\", \"x\": [\"100-124% OF THE POVERTY LEVEL\", \"125-149% OF THE POVERTY LEVEL\", \"150 AND ABOVE THE POVERTY LEVEL\", \"BELOW POVERTY LEVEL\"], \"xaxis\": \"x\", \"y\": [14.790906539433063, 16.487751169832094, 27.207572524842927, 15.404040404040403], \"yaxis\": \"y\"}, {\"alignmentgroup\": \"True\", \"hoverlabel\": {\"namelength\": 0}, \"hovertemplate\": \"health_status=Fair<br>poverty_level=%{x}<br>percentage=%{y}\", \"legendgroup\": \"health_status=Fair\", \"marker\": {\"color\": \"#EF553B\"}, \"name\": \"health_status=Fair\", \"offsetgroup\": \"health_status=Fair\", \"orientation\": \"v\", \"showlegend\": true, \"textposition\": \"outside\", \"texttemplate\": \"%{y:.2f}%\", \"type\": \"bar\", \"x\": [\"100-124% OF THE POVERTY LEVEL\", \"125-149% OF THE POVERTY LEVEL\", \"150 AND ABOVE THE POVERTY LEVEL\", \"BELOW POVERTY LEVEL\"], \"xaxis\": \"x\", \"y\": [19.1973056413135, 17.864024222405725, 8.108872726415427, 20.91750841750842], \"yaxis\": \"y\"}, {\"alignmentgroup\": \"True\", \"hoverlabel\": {\"namelength\": 0}, \"hovertemplate\": \"health_status=Good<br>poverty_level=%{x}<br>percentage=%{y}\", \"legendgroup\": \"health_status=Good\", \"marker\": {\"color\": \"#00cc96\"}, \"name\": \"health_status=Good\", \"offsetgroup\": \"health_status=Good\", \"orientation\": \"v\", \"showlegend\": true, \"textposition\": \"outside\", \"texttemplate\": \"%{y:.2f}%\", \"type\": \"bar\", \"x\": [\"100-124% OF THE POVERTY LEVEL\", \"125-149% OF THE POVERTY LEVEL\", \"150 AND ABOVE THE POVERTY LEVEL\", \"BELOW POVERTY LEVEL\"], \"xaxis\": \"x\", \"y\": [33.426887454392364, 33.66363886595101, 26.62407317906947, 31.933922558922557], \"yaxis\": \"y\"}, {\"alignmentgroup\": \"True\", \"hoverlabel\": {\"namelength\": 0}, \"hovertemplate\": \"health_status=Poor<br>poverty_level=%{x}<br>percentage=%{y}\", \"legendgroup\": \"health_status=Poor\", \"marker\": {\"color\": \"#ab63fa\"}, \"name\": \"health_status=Poor\", \"offsetgroup\": \"health_status=Poor\", \"orientation\": \"v\", \"showlegend\": true, \"textposition\": \"outside\", \"texttemplate\": \"%{y:.2f}%\", \"type\": \"bar\", \"x\": [\"100-124% OF THE POVERTY LEVEL\", \"125-149% OF THE POVERTY LEVEL\", \"150 AND ABOVE THE POVERTY LEVEL\", \"BELOW POVERTY LEVEL\"], \"xaxis\": \"x\", \"y\": [7.858546168958743, 7.018992568125516, 2.4565911850341258, 9.06986531986532], \"yaxis\": \"y\"}, {\"alignmentgroup\": \"True\", \"hoverlabel\": {\"namelength\": 0}, \"hovertemplate\": \"health_status=Very good<br>poverty_level=%{x}<br>percentage=%{y}\", \"legendgroup\": \"health_status=Very good\", \"marker\": {\"color\": \"#FFA15A\"}, \"name\": \"health_status=Very good\", \"offsetgroup\": \"health_status=Very good\", \"orientation\": \"v\", \"showlegend\": true, \"textposition\": \"outside\", \"texttemplate\": \"%{y:.2f}%\", \"type\": \"bar\", \"x\": [\"100-124% OF THE POVERTY LEVEL\", \"125-149% OF THE POVERTY LEVEL\", \"150 AND ABOVE THE POVERTY LEVEL\", \"BELOW POVERTY LEVEL\"], \"xaxis\": \"x\", \"y\": [24.72635419590233, 24.96559317368566, 35.60289038463805, 22.6746632996633], \"yaxis\": \"y\"}],\n",
              "                        {\"barmode\": \"relative\", \"height\": 700, \"legend\": {\"tracegroupgap\": 0}, \"margin\": {\"t\": 60}, \"template\": {\"data\": {\"bar\": [{\"error_x\": {\"color\": \"#2a3f5f\"}, \"error_y\": {\"color\": \"#2a3f5f\"}, \"marker\": {\"line\": {\"color\": \"#E5ECF6\", \"width\": 0.5}}, \"type\": \"bar\"}], \"barpolar\": [{\"marker\": {\"line\": {\"color\": \"#E5ECF6\", \"width\": 0.5}}, \"type\": \"barpolar\"}], \"carpet\": [{\"aaxis\": {\"endlinecolor\": \"#2a3f5f\", \"gridcolor\": \"white\", \"linecolor\": \"white\", \"minorgridcolor\": \"white\", \"startlinecolor\": \"#2a3f5f\"}, \"baxis\": {\"endlinecolor\": \"#2a3f5f\", \"gridcolor\": \"white\", \"linecolor\": \"white\", \"minorgridcolor\": \"white\", \"startlinecolor\": \"#2a3f5f\"}, \"type\": \"carpet\"}], \"choropleth\": [{\"colorbar\": {\"outlinewidth\": 0, \"ticks\": \"\"}, \"type\": \"choropleth\"}], \"contour\": [{\"colorbar\": {\"outlinewidth\": 0, \"ticks\": \"\"}, \"colorscale\": [[0.0, \"#0d0887\"], [0.1111111111111111, \"#46039f\"], [0.2222222222222222, \"#7201a8\"], [0.3333333333333333, \"#9c179e\"], [0.4444444444444444, \"#bd3786\"], [0.5555555555555556, \"#d8576b\"], [0.6666666666666666, \"#ed7953\"], [0.7777777777777778, \"#fb9f3a\"], [0.8888888888888888, \"#fdca26\"], [1.0, \"#f0f921\"]], \"type\": \"contour\"}], \"contourcarpet\": [{\"colorbar\": {\"outlinewidth\": 0, \"ticks\": \"\"}, \"type\": \"contourcarpet\"}], \"heatmap\": [{\"colorbar\": {\"outlinewidth\": 0, \"ticks\": \"\"}, \"colorscale\": [[0.0, \"#0d0887\"], [0.1111111111111111, \"#46039f\"], [0.2222222222222222, \"#7201a8\"], [0.3333333333333333, \"#9c179e\"], [0.4444444444444444, \"#bd3786\"], [0.5555555555555556, \"#d8576b\"], [0.6666666666666666, \"#ed7953\"], [0.7777777777777778, \"#fb9f3a\"], [0.8888888888888888, \"#fdca26\"], [1.0, \"#f0f921\"]], \"type\": \"heatmap\"}], \"heatmapgl\": [{\"colorbar\": {\"outlinewidth\": 0, \"ticks\": \"\"}, \"colorscale\": [[0.0, \"#0d0887\"], [0.1111111111111111, \"#46039f\"], [0.2222222222222222, \"#7201a8\"], [0.3333333333333333, \"#9c179e\"], [0.4444444444444444, \"#bd3786\"], [0.5555555555555556, \"#d8576b\"], [0.6666666666666666, \"#ed7953\"], [0.7777777777777778, \"#fb9f3a\"], [0.8888888888888888, \"#fdca26\"], [1.0, \"#f0f921\"]], \"type\": \"heatmapgl\"}], \"histogram\": [{\"marker\": {\"colorbar\": {\"outlinewidth\": 0, \"ticks\": \"\"}}, \"type\": \"histogram\"}], \"histogram2d\": [{\"colorbar\": {\"outlinewidth\": 0, \"ticks\": \"\"}, \"colorscale\": [[0.0, \"#0d0887\"], [0.1111111111111111, \"#46039f\"], [0.2222222222222222, \"#7201a8\"], [0.3333333333333333, \"#9c179e\"], [0.4444444444444444, \"#bd3786\"], [0.5555555555555556, \"#d8576b\"], [0.6666666666666666, \"#ed7953\"], [0.7777777777777778, \"#fb9f3a\"], [0.8888888888888888, \"#fdca26\"], [1.0, \"#f0f921\"]], \"type\": \"histogram2d\"}], \"histogram2dcontour\": [{\"colorbar\": {\"outlinewidth\": 0, \"ticks\": \"\"}, \"colorscale\": [[0.0, \"#0d0887\"], [0.1111111111111111, \"#46039f\"], [0.2222222222222222, \"#7201a8\"], [0.3333333333333333, \"#9c179e\"], [0.4444444444444444, \"#bd3786\"], [0.5555555555555556, \"#d8576b\"], [0.6666666666666666, \"#ed7953\"], [0.7777777777777778, \"#fb9f3a\"], [0.8888888888888888, \"#fdca26\"], [1.0, \"#f0f921\"]], \"type\": \"histogram2dcontour\"}], \"mesh3d\": [{\"colorbar\": {\"outlinewidth\": 0, \"ticks\": \"\"}, \"type\": \"mesh3d\"}], \"parcoords\": [{\"line\": {\"colorbar\": {\"outlinewidth\": 0, \"ticks\": \"\"}}, \"type\": \"parcoords\"}], \"pie\": [{\"automargin\": true, \"type\": \"pie\"}], \"scatter\": [{\"marker\": {\"colorbar\": {\"outlinewidth\": 0, \"ticks\": \"\"}}, \"type\": \"scatter\"}], \"scatter3d\": [{\"line\": {\"colorbar\": {\"outlinewidth\": 0, \"ticks\": \"\"}}, \"marker\": {\"colorbar\": {\"outlinewidth\": 0, \"ticks\": \"\"}}, \"type\": \"scatter3d\"}], \"scattercarpet\": [{\"marker\": {\"colorbar\": {\"outlinewidth\": 0, \"ticks\": \"\"}}, \"type\": \"scattercarpet\"}], \"scattergeo\": [{\"marker\": {\"colorbar\": {\"outlinewidth\": 0, \"ticks\": \"\"}}, \"type\": \"scattergeo\"}], \"scattergl\": [{\"marker\": {\"colorbar\": {\"outlinewidth\": 0, \"ticks\": \"\"}}, \"type\": \"scattergl\"}], \"scattermapbox\": [{\"marker\": {\"colorbar\": {\"outlinewidth\": 0, \"ticks\": \"\"}}, \"type\": \"scattermapbox\"}], \"scatterpolar\": [{\"marker\": {\"colorbar\": {\"outlinewidth\": 0, \"ticks\": \"\"}}, \"type\": \"scatterpolar\"}], \"scatterpolargl\": [{\"marker\": {\"colorbar\": {\"outlinewidth\": 0, \"ticks\": \"\"}}, \"type\": \"scatterpolargl\"}], \"scatterternary\": [{\"marker\": {\"colorbar\": {\"outlinewidth\": 0, \"ticks\": \"\"}}, \"type\": \"scatterternary\"}], \"surface\": [{\"colorbar\": {\"outlinewidth\": 0, \"ticks\": \"\"}, \"colorscale\": [[0.0, \"#0d0887\"], [0.1111111111111111, \"#46039f\"], [0.2222222222222222, \"#7201a8\"], [0.3333333333333333, \"#9c179e\"], [0.4444444444444444, \"#bd3786\"], [0.5555555555555556, \"#d8576b\"], [0.6666666666666666, \"#ed7953\"], [0.7777777777777778, \"#fb9f3a\"], [0.8888888888888888, \"#fdca26\"], [1.0, \"#f0f921\"]], \"type\": \"surface\"}], \"table\": [{\"cells\": {\"fill\": {\"color\": \"#EBF0F8\"}, \"line\": {\"color\": \"white\"}}, \"header\": {\"fill\": {\"color\": \"#C8D4E3\"}, \"line\": {\"color\": \"white\"}}, \"type\": \"table\"}]}, \"layout\": {\"annotationdefaults\": {\"arrowcolor\": \"#2a3f5f\", \"arrowhead\": 0, \"arrowwidth\": 1}, \"coloraxis\": {\"colorbar\": {\"outlinewidth\": 0, \"ticks\": \"\"}}, \"colorscale\": {\"diverging\": [[0, \"#8e0152\"], [0.1, \"#c51b7d\"], [0.2, \"#de77ae\"], [0.3, \"#f1b6da\"], [0.4, \"#fde0ef\"], [0.5, \"#f7f7f7\"], [0.6, \"#e6f5d0\"], [0.7, \"#b8e186\"], [0.8, \"#7fbc41\"], [0.9, \"#4d9221\"], [1, \"#276419\"]], \"sequential\": [[0.0, \"#0d0887\"], [0.1111111111111111, \"#46039f\"], [0.2222222222222222, \"#7201a8\"], [0.3333333333333333, \"#9c179e\"], [0.4444444444444444, \"#bd3786\"], [0.5555555555555556, \"#d8576b\"], [0.6666666666666666, \"#ed7953\"], [0.7777777777777778, \"#fb9f3a\"], [0.8888888888888888, \"#fdca26\"], [1.0, \"#f0f921\"]], \"sequentialminus\": [[0.0, \"#0d0887\"], [0.1111111111111111, \"#46039f\"], [0.2222222222222222, \"#7201a8\"], [0.3333333333333333, \"#9c179e\"], [0.4444444444444444, \"#bd3786\"], [0.5555555555555556, \"#d8576b\"], [0.6666666666666666, \"#ed7953\"], [0.7777777777777778, \"#fb9f3a\"], [0.8888888888888888, \"#fdca26\"], [1.0, \"#f0f921\"]]}, \"colorway\": [\"#636efa\", \"#EF553B\", \"#00cc96\", \"#ab63fa\", \"#FFA15A\", \"#19d3f3\", \"#FF6692\", \"#B6E880\", \"#FF97FF\", \"#FECB52\"], \"font\": {\"color\": \"#2a3f5f\"}, \"geo\": {\"bgcolor\": \"white\", \"lakecolor\": \"white\", \"landcolor\": \"#E5ECF6\", \"showlakes\": true, \"showland\": true, \"subunitcolor\": \"white\"}, \"hoverlabel\": {\"align\": \"left\"}, \"hovermode\": \"closest\", \"mapbox\": {\"style\": \"light\"}, \"paper_bgcolor\": \"white\", \"plot_bgcolor\": \"#E5ECF6\", \"polar\": {\"angularaxis\": {\"gridcolor\": \"white\", \"linecolor\": \"white\", \"ticks\": \"\"}, \"bgcolor\": \"#E5ECF6\", \"radialaxis\": {\"gridcolor\": \"white\", \"linecolor\": \"white\", \"ticks\": \"\"}}, \"scene\": {\"xaxis\": {\"backgroundcolor\": \"#E5ECF6\", \"gridcolor\": \"white\", \"gridwidth\": 2, \"linecolor\": \"white\", \"showbackground\": true, \"ticks\": \"\", \"zerolinecolor\": \"white\"}, \"yaxis\": {\"backgroundcolor\": \"#E5ECF6\", \"gridcolor\": \"white\", \"gridwidth\": 2, \"linecolor\": \"white\", \"showbackground\": true, \"ticks\": \"\", \"zerolinecolor\": \"white\"}, \"zaxis\": {\"backgroundcolor\": \"#E5ECF6\", \"gridcolor\": \"white\", \"gridwidth\": 2, \"linecolor\": \"white\", \"showbackground\": true, \"ticks\": \"\", \"zerolinecolor\": \"white\"}}, \"shapedefaults\": {\"line\": {\"color\": \"#2a3f5f\"}}, \"ternary\": {\"aaxis\": {\"gridcolor\": \"white\", \"linecolor\": \"white\", \"ticks\": \"\"}, \"baxis\": {\"gridcolor\": \"white\", \"linecolor\": \"white\", \"ticks\": \"\"}, \"bgcolor\": \"#E5ECF6\", \"caxis\": {\"gridcolor\": \"white\", \"linecolor\": \"white\", \"ticks\": \"\"}}, \"title\": {\"x\": 0.05}, \"xaxis\": {\"automargin\": true, \"gridcolor\": \"white\", \"linecolor\": \"white\", \"ticks\": \"\", \"title\": {\"standoff\": 15}, \"zerolinecolor\": \"white\", \"zerolinewidth\": 2}, \"yaxis\": {\"automargin\": true, \"gridcolor\": \"white\", \"linecolor\": \"white\", \"ticks\": \"\", \"title\": {\"standoff\": 15}, \"zerolinecolor\": \"white\", \"zerolinewidth\": 2}}}, \"width\": 1000, \"xaxis\": {\"anchor\": \"y\", \"domain\": [0.0, 1.0], \"title\": {\"text\": \"poverty_level\"}}, \"yaxis\": {\"anchor\": \"x\", \"domain\": [0.0, 1.0], \"title\": {\"text\": \"percentage\"}}},\n",
              "                        {\"responsive\": true}\n",
              "                    ).then(function(){\n",
              "                            \n",
              "var gd = document.getElementById('af77b872-e74c-453d-8fbc-54ce160d6f48');\n",
              "var x = new MutationObserver(function (mutations, observer) {{\n",
              "        var display = window.getComputedStyle(gd).display;\n",
              "        if (!display || display === 'none') {{\n",
              "            console.log([gd, 'removed!']);\n",
              "            Plotly.purge(gd);\n",
              "            observer.disconnect();\n",
              "        }}\n",
              "}});\n",
              "\n",
              "// Listen for the removal of the full notebook cells\n",
              "var notebookContainer = gd.closest('#notebook-container');\n",
              "if (notebookContainer) {{\n",
              "    x.observe(notebookContainer, {childList: true});\n",
              "}}\n",
              "\n",
              "// Listen for the clearing of the current output cell\n",
              "var outputEl = gd.closest('.output');\n",
              "if (outputEl) {{\n",
              "    x.observe(outputEl, {childList: true});\n",
              "}}\n",
              "\n",
              "                        })\n",
              "                };\n",
              "                \n",
              "            </script>\n",
              "        </div>\n",
              "</body>\n",
              "</html>"
            ]
          },
          "metadata": {
            "tags": []
          }
        }
      ]
    },
    {
      "cell_type": "markdown",
      "metadata": {
        "id": "7ATUVBJvvPnB"
      },
      "source": [
        "#Statistical Analysis for the Continuous Variable"
      ]
    },
    {
      "cell_type": "markdown",
      "metadata": {
        "id": "YM6XKgdTvVHV"
      },
      "source": [
        "Steps:\n",
        "1. Visualize Data <br>\n",
        "  a. Remove outliers\n",
        "2. Test for normal distribution\n",
        "3. Descriptive statistic and Test for Equal Variance (Levene's)<br>\n",
        "  a. Create two samples<br>\n",
        "  b. Run a descriptive statistic, meaning checking whether each sample has  \n",
        "     a normal distribution<br>\n",
        "  c. Run the Levene test to check whether all input samples are from \n",
        "     populations with equal variances\n",
        "4. Choose an adequate statistical analysis method\n"
      ]
    },
    {
      "cell_type": "markdown",
      "metadata": {
        "id": "I_C_bMniYwdn"
      },
      "source": [
        "##Race and Income Recode"
      ]
    },
    {
      "cell_type": "markdown",
      "metadata": {
        "id": "3v4aNzkAg1fn"
      },
      "source": [
        "###Visualizing Data Distribution - Histogram"
      ]
    },
    {
      "cell_type": "code",
      "metadata": {
        "id": "IzfvyOtfSlFl",
        "colab": {
          "base_uri": "https://localhost:8080/",
          "height": 394
        },
        "outputId": "f657a1d1-38ac-4147-bb35-897e68f6249e"
      },
      "source": [
        "#plot data as a histogram to spot outliers\n",
        "#41 bins for 41 data points for better histogram\n",
        "#kde=False because the line graph is not necessary\n",
        "plt.figure(figsize=(12,6))\n",
        "ax = sns.distplot(race['total_income_recode'], bins=(41), kde=False)"
      ],
      "execution_count": null,
      "outputs": [
        {
          "output_type": "display_data",
          "data": {
            "image/png": "[encoded data removed]",
            "text/plain": [
              "<Figure size 864x432 with 1 Axes>"
            ]
          },
          "metadata": {
            "tags": [],
            "needs_background": "light"
          }
        }
      ]
    },
    {
      "cell_type": "markdown",
      "metadata": {
        "id": "WEBxoRRVtMW-"
      },
      "source": [
        "We can see that we have 3 big outliers: 0, 1, and 41. Removing them could give us a better distribution."
      ]
    },
    {
      "cell_type": "code",
      "metadata": {
        "id": "Hs8mfs87tSuH"
      },
      "source": [
        "#remove 0, 1, and 4 from  total_income_recode\n",
        "race_0 = race[race['total_income_recode'] != 0]\n",
        "race_1 = race_0[race_0['total_income_recode'] != 1]\n",
        "race_clean = race_1[race_1['total_income_recode'] != 41]"
      ],
      "execution_count": null,
      "outputs": []
    },
    {
      "cell_type": "code",
      "metadata": {
        "id": "yrMOJNqfty_A",
        "colab": {
          "base_uri": "https://localhost:8080/"
        },
        "outputId": "22d660fc-501b-41a9-9717-791e3727fad8"
      },
      "source": [
        "race_clean['total_income_recode'].value_counts()"
      ],
      "execution_count": null,
      "outputs": [
        {
          "output_type": "execute_result",
          "data": {
            "text/plain": [
              "5     4232\n",
              "9     4060\n",
              "13    4056\n",
              "7     3914\n",
              "11    3862\n",
              "17    3545\n",
              "21    3187\n",
              "15    3129\n",
              "6     3033\n",
              "4     2938\n",
              "8     2936\n",
              "10    2744\n",
              "19    2630\n",
              "25    2560\n",
              "12    2183\n",
              "3     2108\n",
              "23    2075\n",
              "14    1878\n",
              "2     1794\n",
              "16    1749\n",
              "20    1660\n",
              "29    1646\n",
              "27    1476\n",
              "18    1401\n",
              "33    1395\n",
              "31    1390\n",
              "22    1303\n",
              "24    1145\n",
              "37     991\n",
              "26     984\n",
              "35     957\n",
              "28     907\n",
              "30     725\n",
              "32     635\n",
              "39     579\n",
              "34     535\n",
              "36     494\n",
              "38     476\n",
              "40     394\n",
              "Name: total_income_recode, dtype: int64"
            ]
          },
          "metadata": {
            "tags": []
          },
          "execution_count": 101
        }
      ]
    },
    {
      "cell_type": "code",
      "metadata": {
        "id": "W3z3qbBfyoUZ",
        "colab": {
          "base_uri": "https://localhost:8080/",
          "height": 394
        },
        "outputId": "fbbc033f-153c-4e8c-a956-e662eea2b5d5"
      },
      "source": [
        "#plot data again to see distribution\n",
        "#choose 39 bins because we have 39 data points and this way it looks better\n",
        "plt.figure(figsize=(12,6))\n",
        "ax = sns.distplot(race_clean['total_income_recode'], bins=(39), kde=False)"
      ],
      "execution_count": null,
      "outputs": [
        {
          "output_type": "display_data",
          "data": {
            "image/png": "[encoded data removed]",
            "text/plain": [
              "<Figure size 864x432 with 1 Axes>"
            ]
          },
          "metadata": {
            "tags": [],
            "needs_background": "light"
          }
        }
      ]
    },
    {
      "cell_type": "markdown",
      "metadata": {
        "id": "OBJRA1L4uUGr"
      },
      "source": [
        "###Testing for Normal Distribution"
      ]
    },
    {
      "cell_type": "markdown",
      "metadata": {
        "id": "nm8WdFpbhG4R"
      },
      "source": [
        "**1. Shapiro Wilk Test**<br>\n",
        "Not applicable, because the p-value is not as reliable when n>5000"
      ]
    },
    {
      "cell_type": "markdown",
      "metadata": {
        "id": "K44XTFPShGEG"
      },
      "source": [
        "**2. Kurtosis and Skewness**<br>\n",
        "General guideline:<br>\n",
        "* Skewness from -1 to 1 \n",
        "* Kurtosis from -2 to 2<br>\n",
        "\n",
        "are acceptable."
      ]
    },
    {
      "cell_type": "code",
      "metadata": {
        "id": "N46l87shRce6",
        "colab": {
          "base_uri": "https://localhost:8080/"
        },
        "outputId": "29b44792-16c2-4194-baf0-16b77f79ec87"
      },
      "source": [
        "skew(race_clean['total_income_recode'])"
      ],
      "execution_count": null,
      "outputs": [
        {
          "output_type": "execute_result",
          "data": {
            "text/plain": [
              "0.5983601977681272"
            ]
          },
          "metadata": {
            "tags": []
          },
          "execution_count": 103
        }
      ]
    },
    {
      "cell_type": "code",
      "metadata": {
        "id": "PKEWgU-fhCNL",
        "colab": {
          "base_uri": "https://localhost:8080/"
        },
        "outputId": "2c12a0e8-8202-4f87-8bbd-16fc0b1a6c2f"
      },
      "source": [
        "kurtosis(race_clean['total_income_recode'])"
      ],
      "execution_count": null,
      "outputs": [
        {
          "output_type": "execute_result",
          "data": {
            "text/plain": [
              "-0.5518489484334421"
            ]
          },
          "metadata": {
            "tags": []
          },
          "execution_count": 104
        }
      ]
    },
    {
      "cell_type": "markdown",
      "metadata": {
        "id": "4oCwvY5z09vQ"
      },
      "source": [
        "The skewness and kurtosis values fall within the acceptable range."
      ]
    },
    {
      "cell_type": "markdown",
      "metadata": {
        "id": "Nbx3atEP1AzY"
      },
      "source": [
        "###Descriptive Statistic and Levene Test for Equal Variances\n",
        "\n",
        "To see whether an independent-samples t-test is possible, we have to\n",
        "\n",
        "1. Create two samples\n",
        "2. Run a descriptive statistic to check whether each sample has a normal distribution\n",
        "3. Run the Levene test to check whether all input samples are from populations with equal variances."
      ]
    },
    {
      "cell_type": "markdown",
      "metadata": {
        "id": "T0PFxPK4Arw6"
      },
      "source": [
        "####1. Create Two Samples"
      ]
    },
    {
      "cell_type": "code",
      "metadata": {
        "id": "5ZvR51eP1FmI",
        "colab": {
          "base_uri": "https://localhost:8080/"
        },
        "outputId": "a5620151-af6f-489b-be6e-ccfd198bad29"
      },
      "source": [
        "#create a sample that includes all data for race 1 (White)\n",
        "race_white = race_clean.iloc[(race_clean['race'] == 1).values]\n",
        "race_white.info()"
      ],
      "execution_count": null,
      "outputs": [
        {
          "output_type": "stream",
          "text": [
            "<class 'pandas.core.frame.DataFrame'>\n",
            "Int64Index: 66900 entries, 0 to 157950\n",
            "Data columns (total 12 columns):\n",
            " #   Column                Non-Null Count  Dtype \n",
            "---  ------                --------------  ----- \n",
            " 0   ID                    66900 non-null  object\n",
            " 1   race                  66900 non-null  int64 \n",
            " 2   AGE1                  66900 non-null  int64 \n",
            " 3   financial_assistance  66900 non-null  int64 \n",
            " 4   poverty_level         66900 non-null  int64 \n",
            " 5   health_insurance      66900 non-null  int64 \n",
            " 6   health_status         66900 non-null  int64 \n",
            " 7   medicaid_coverage     66900 non-null  int64 \n",
            " 8   ed_attainment         66900 non-null  int64 \n",
            " 9   employment_status     66900 non-null  int64 \n",
            " 10  labor_force_recode    66900 non-null  int64 \n",
            " 11  total_income_recode   66900 non-null  int64 \n",
            "dtypes: int64(11), object(1)\n",
            "memory usage: 6.6+ MB\n"
          ],
          "name": "stdout"
        }
      ]
    },
    {
      "cell_type": "code",
      "metadata": {
        "id": "AGFDiKGY1-qS",
        "colab": {
          "base_uri": "https://localhost:8080/"
        },
        "outputId": "52cee731-c2df-4ba3-e438-74b540d4a779"
      },
      "source": [
        "#create a sample that includes all data for race 2 (Black)\n",
        "race_black = race_clean.iloc[(race_clean['race'] == 2).values]\n",
        "race_black.info()"
      ],
      "execution_count": null,
      "outputs": [
        {
          "output_type": "stream",
          "text": [
            "<class 'pandas.core.frame.DataFrame'>\n",
            "Int64Index: 10806 entries, 263 to 157676\n",
            "Data columns (total 12 columns):\n",
            " #   Column                Non-Null Count  Dtype \n",
            "---  ------                --------------  ----- \n",
            " 0   ID                    10806 non-null  object\n",
            " 1   race                  10806 non-null  int64 \n",
            " 2   AGE1                  10806 non-null  int64 \n",
            " 3   financial_assistance  10806 non-null  int64 \n",
            " 4   poverty_level         10806 non-null  int64 \n",
            " 5   health_insurance      10806 non-null  int64 \n",
            " 6   health_status         10806 non-null  int64 \n",
            " 7   medicaid_coverage     10806 non-null  int64 \n",
            " 8   ed_attainment         10806 non-null  int64 \n",
            " 9   employment_status     10806 non-null  int64 \n",
            " 10  labor_force_recode    10806 non-null  int64 \n",
            " 11  total_income_recode   10806 non-null  int64 \n",
            "dtypes: int64(11), object(1)\n",
            "memory usage: 1.1+ MB\n"
          ],
          "name": "stdout"
        }
      ]
    },
    {
      "cell_type": "code",
      "metadata": {
        "id": "aEqq0Pwb21KQ",
        "colab": {
          "base_uri": "https://localhost:8080/"
        },
        "outputId": "aa81ef9b-6c2f-496f-c6ea-8a69d5e8c9d4"
      },
      "source": [
        "race_white['total_income_recode'].describe()"
      ],
      "execution_count": null,
      "outputs": [
        {
          "output_type": "execute_result",
          "data": {
            "text/plain": [
              "count    66900.000000\n",
              "mean        16.198371\n",
              "std          9.627437\n",
              "min          2.000000\n",
              "25%          8.000000\n",
              "50%         15.000000\n",
              "75%         23.000000\n",
              "max         40.000000\n",
              "Name: total_income_recode, dtype: float64"
            ]
          },
          "metadata": {
            "tags": []
          },
          "execution_count": 107
        }
      ]
    },
    {
      "cell_type": "code",
      "metadata": {
        "id": "aBkCiON527Pk",
        "colab": {
          "base_uri": "https://localhost:8080/"
        },
        "outputId": "cdfb606a-d11e-45d7-a86b-c7e8e9e6fe30"
      },
      "source": [
        "race_black['total_income_recode'].describe()"
      ],
      "execution_count": null,
      "outputs": [
        {
          "output_type": "execute_result",
          "data": {
            "text/plain": [
              "count    10806.000000\n",
              "mean        13.937720\n",
              "std          8.973183\n",
              "min          2.000000\n",
              "25%          7.000000\n",
              "50%         12.000000\n",
              "75%         19.000000\n",
              "max         40.000000\n",
              "Name: total_income_recode, dtype: float64"
            ]
          },
          "metadata": {
            "tags": []
          },
          "execution_count": 108
        }
      ]
    },
    {
      "cell_type": "markdown",
      "metadata": {
        "id": "hP-fSKlgMkdK"
      },
      "source": [
        "The higher the mean, the higher the income. We can see that the mean for Income for Black is lower than for White."
      ]
    },
    {
      "cell_type": "markdown",
      "metadata": {
        "id": "OE5rpueH31YO"
      },
      "source": [
        "####2. Descriptive Statistic"
      ]
    },
    {
      "cell_type": "markdown",
      "metadata": {
        "id": "EGSxHlEVAlXb"
      },
      "source": [
        "Skewness and Kurtosis for race_white"
      ]
    },
    {
      "cell_type": "code",
      "metadata": {
        "id": "HI3KcXHW3kpy",
        "colab": {
          "base_uri": "https://localhost:8080/"
        },
        "outputId": "81182f27-1c27-455f-c489-33d4738c27fa"
      },
      "source": [
        "skew(race_white['total_income_recode'])"
      ],
      "execution_count": null,
      "outputs": [
        {
          "output_type": "execute_result",
          "data": {
            "text/plain": [
              "0.5603864889771382"
            ]
          },
          "metadata": {
            "tags": []
          },
          "execution_count": 109
        }
      ]
    },
    {
      "cell_type": "code",
      "metadata": {
        "id": "NQmVKOgQ3pi1",
        "colab": {
          "base_uri": "https://localhost:8080/"
        },
        "outputId": "ddb70869-c110-4998-fc70-24263e65793c"
      },
      "source": [
        "kurtosis(race_white['total_income_recode'])"
      ],
      "execution_count": null,
      "outputs": [
        {
          "output_type": "execute_result",
          "data": {
            "text/plain": [
              "-0.6080047356304012"
            ]
          },
          "metadata": {
            "tags": []
          },
          "execution_count": 110
        }
      ]
    },
    {
      "cell_type": "markdown",
      "metadata": {
        "id": "zevicPwQ35jk"
      },
      "source": [
        "*Skewness and Kurtosis are acceptable*"
      ]
    },
    {
      "cell_type": "markdown",
      "metadata": {
        "id": "6tjsASvSAoZm"
      },
      "source": [
        "Skewness and Kurtosis for race_black"
      ]
    },
    {
      "cell_type": "code",
      "metadata": {
        "id": "7Ff0F4V13tdh",
        "colab": {
          "base_uri": "https://localhost:8080/"
        },
        "outputId": "00f79a5a-56da-4447-f946-5ef67c699981"
      },
      "source": [
        "skew(race_black['total_income_recode'])"
      ],
      "execution_count": null,
      "outputs": [
        {
          "output_type": "execute_result",
          "data": {
            "text/plain": [
              "0.8482907416941422"
            ]
          },
          "metadata": {
            "tags": []
          },
          "execution_count": 111
        }
      ]
    },
    {
      "cell_type": "code",
      "metadata": {
        "id": "SucSh6Jn3xK3",
        "colab": {
          "base_uri": "https://localhost:8080/"
        },
        "outputId": "7992a15b-bc32-4aff-ed64-7a185aa347a0"
      },
      "source": [
        "kurtosis(race_black['total_income_recode'])"
      ],
      "execution_count": null,
      "outputs": [
        {
          "output_type": "execute_result",
          "data": {
            "text/plain": [
              "-0.0374361308499247"
            ]
          },
          "metadata": {
            "tags": []
          },
          "execution_count": 112
        }
      ]
    },
    {
      "cell_type": "markdown",
      "metadata": {
        "id": "yUhIEjoQ3-u7"
      },
      "source": [
        "*Skewness and Kurtosis are acceptable*"
      ]
    },
    {
      "cell_type": "markdown",
      "metadata": {
        "id": "tFgcWcRDAcYy"
      },
      "source": [
        "####3. Levene's Test\n",
        "\n",
        "H0: The population variances are equal.<br>\n",
        "HA: The population variances are not equal."
      ]
    },
    {
      "cell_type": "code",
      "metadata": {
        "id": "Fzli8is36sou",
        "colab": {
          "base_uri": "https://localhost:8080/"
        },
        "outputId": "0ae04ba9-7a3f-464b-9282-d69c90fd780e"
      },
      "source": [
        "stat, pvalue = levene(race_white['total_income_recode'], race_black['total_income_recode'])\n",
        "pvalue"
      ],
      "execution_count": null,
      "outputs": [
        {
          "output_type": "execute_result",
          "data": {
            "text/plain": [
              "5.1974452969432045e-45"
            ]
          },
          "metadata": {
            "tags": []
          },
          "execution_count": 113
        }
      ]
    },
    {
      "cell_type": "markdown",
      "metadata": {
        "id": "j7PHrjVA4-dz"
      },
      "source": [
        "The small p-value suggests that the populations do not have equal variances. This means we cannot use the independent-samples t-test and must switch to a more generalized test free from homoscedasticity assumptions or non-parametric tests. One such test is the Welch's t-test (or unequal variances t-test)."
      ]
    },
    {
      "cell_type": "markdown",
      "metadata": {
        "id": "DgBt83UX8TGX"
      },
      "source": [
        "###Welch's t-test\n",
        "\n",
        "A two-sample location test to test the hypothesis that two populations have equal means. \n",
        "\n",
        "Assumptions:\n",
        "\n",
        "* The independent variable is categorical with at least two levels (groups)\n",
        "* The dependent variable is continuous, which is measured on an interval or ratio scale\n",
        "* The distribution of the two groups should follow the normal distribution\n",
        "\n",
        "Null hypothesis:<br>\n",
        "H0: The mean of sample 1 is equal to the mean of sample 2<br>\n",
        "\n",
        "Alternative hypothesis:<br>\n",
        "HA: The mean of sample 1 is not equal to the mean of sample 2"
      ]
    },
    {
      "cell_type": "markdown",
      "metadata": {
        "id": "QyKTULU9KbfS"
      },
      "source": [
        "###Welch's t-test for Race and Income Recode"
      ]
    },
    {
      "cell_type": "markdown",
      "metadata": {
        "id": "c1NDko7q9gy0"
      },
      "source": [
        "Null Hypothesis: \"The income mean of White is equal to the mean of Black\".\n",
        "\n",
        "Alternative Hypothesis: \"The income mean of White is not equal to the mean of Black\"."
      ]
    },
    {
      "cell_type": "code",
      "metadata": {
        "id": "ADxw9syc9MoT"
      },
      "source": [
        "def welch_ttest(x, y): \n",
        "  \n",
        "  \"\"\"Welch's t-test: \n",
        "      A two-sample location test, which is used to test the hypothesis that two populations have equal means. \n",
        "      Used when the populations of the two samples do not have equal variances.\"\"\"\n",
        "  \n",
        "  #Welch-Satterthwaite Degrees of Freedom\n",
        "  #x = sample 1, y =sample 2\n",
        "  #1. Numerator: (x variance/x sample size + y variance/y sample size2)**2 \n",
        "  #2. Denominator: (x variance/x sample size) **2 / (x sample size-1) +(y standard deviation/y sample size2) **2 / (y sample size-1)\n",
        "  dof = (x.var()/x.size + y.var()/y.size)**2 / ((x.var()/x.size)**2 / (x.size-1) + (y.var()/y.size)**2 / (y.size-1))\n",
        "   \n",
        "  #by setting equal_var=False we can use the scipy stats.ttest_ind to run a Welch's t-test\n",
        "  #returns the Welch's t-test and p-value\n",
        "  t, p = stats.ttest_ind(x, y, equal_var = False)\n",
        "    \n",
        "  print(\"\\n\",\n",
        "          f\"Welch's t-test= {t:.4f}\", \"\\n\",\n",
        "          f\"p-value = {p:.4f}\", \"\\n\",\n",
        "          f\"Welch-Satterthwaite Degrees of Freedom= {dof:.4f}\")"
      ],
      "execution_count": null,
      "outputs": []
    },
    {
      "cell_type": "code",
      "metadata": {
        "id": "jS-iu7wY9QDm",
        "colab": {
          "base_uri": "https://localhost:8080/"
        },
        "outputId": "172934e7-4b4b-4729-956c-b8b4e2047545"
      },
      "source": [
        "welch_ttest(race_white['total_income_recode'], race_black['total_income_recode'])"
      ],
      "execution_count": null,
      "outputs": [
        {
          "output_type": "stream",
          "text": [
            "\n",
            " Welch's t-test= 24.0485 \n",
            " p-value = 0.0000 \n",
            " Welch-Satterthwaite Degrees of Freedom= 15112.2847\n"
          ],
          "name": "stdout"
        }
      ]
    },
    {
      "cell_type": "markdown",
      "metadata": {
        "id": "8yUYkiG79azP"
      },
      "source": [
        "The difference in income between Black and White is significantly different with: <br>\n",
        "Welch's t(24.05)= 15112.28, p< 0.05<br>\n",
        "These results suggest that the mean income of White is greater than the mean income of Black."
      ]
    },
    {
      "cell_type": "markdown",
      "metadata": {
        "id": "FN0E6WQQkO2S"
      },
      "source": [
        "###Visualization"
      ]
    },
    {
      "cell_type": "markdown",
      "metadata": {
        "id": "JgGB8AqtX2IT"
      },
      "source": [
        "**Segmenting the Income Data for the Bar Chart Visualization**\n",
        "\n",
        "As a general rule of thumb, [income data](https://www.census.gov/library/stories/2020/09/was-household-income-the-highest-ever-in-2019.html#:~:text=The%20U.S.%20median%20household%20income,Census%20Bureau%20statistics%20released%20today) from 2019 by the U.S. Census Bureau shows a median household income of ```$68,703```.<br>\n",
        "Pew defines the middle class as those earning between two-thirds and double the median household income.<br>\n",
        "\n",
        "```\n",
        "68703*(2/3)= 45802 --> middle class minimum\n",
        "68703*2= 137406 --> middle class maximum\n",
        "```\n",
        "\n",
        "Taking the Pew classification:<br>\n",
        "The category of lower-income is made up of people making less than ```$45,802```.<br> \n",
        "The category of middle-income is made up of people making between ```$45,802``` and ```$137,406```.<br>\n",
        "The category of upper-income is made up of people making more than ```$137,406```."
      ]
    },
    {
      "cell_type": "markdown",
      "metadata": {
        "id": "4zR_qZ-HZ6fd"
      },
      "source": [
        "Based on this, the total_income_recode column can be segmented as:<br>\n",
        "Lower-income = 1-18<br>\n",
        "Middle-income = 19-40<br>\n",
        "Upper-income = 41<br>\n",
        "\n",
        "Because we removed outliers before, there is no 41 in this data. Therefore, we will only look at lower and middle-income segments. There is also no 1 in the data but that does not affect the segmentation."
      ]
    },
    {
      "cell_type": "code",
      "metadata": {
        "colab": {
          "base_uri": "https://localhost:8080/"
        },
        "id": "vrDlnk3dkV5z",
        "outputId": "30e62a4c-7936-4528-d718-d41117bb47be"
      },
      "source": [
        "#to check which values are present in this specific data set\n",
        "#can see that 1 or 41 are not present in this data set\n",
        "race_clean['total_income_recode'].value_counts().sort_index()"
      ],
      "execution_count": null,
      "outputs": [
        {
          "output_type": "execute_result",
          "data": {
            "text/plain": [
              "2     1794\n",
              "3     2108\n",
              "4     2938\n",
              "5     4232\n",
              "6     3033\n",
              "7     3914\n",
              "8     2936\n",
              "9     4060\n",
              "10    2744\n",
              "11    3862\n",
              "12    2183\n",
              "13    4056\n",
              "14    1878\n",
              "15    3129\n",
              "16    1749\n",
              "17    3545\n",
              "18    1401\n",
              "19    2630\n",
              "20    1660\n",
              "21    3187\n",
              "22    1303\n",
              "23    2075\n",
              "24    1145\n",
              "25    2560\n",
              "26     984\n",
              "27    1476\n",
              "28     907\n",
              "29    1646\n",
              "30     725\n",
              "31    1390\n",
              "32     635\n",
              "33    1395\n",
              "34     535\n",
              "35     957\n",
              "36     494\n",
              "37     991\n",
              "38     476\n",
              "39     579\n",
              "40     394\n",
              "Name: total_income_recode, dtype: int64"
            ]
          },
          "metadata": {
            "tags": []
          },
          "execution_count": 116
        }
      ]
    },
    {
      "cell_type": "code",
      "metadata": {
        "id": "vSaWB_YVdA88"
      },
      "source": [
        "#segment data from 2-18, and 19-40\n",
        "race_clean['income_segment'] = pd.cut(x=race_clean['total_income_recode'],bins=[2,19,41],labels=['lower-income','mid-income'],right=False)"
      ],
      "execution_count": null,
      "outputs": []
    },
    {
      "cell_type": "code",
      "metadata": {
        "colab": {
          "base_uri": "https://localhost:8080/",
          "height": 1000
        },
        "id": "x0HXpeLbinGw",
        "outputId": "a2a623fa-b8cc-4b8a-bc52-b5659075f32a"
      },
      "source": [
        "#check that the segmentation was done correctly\n",
        "test = pd.crosstab(race_clean['total_income_recode'], race_clean['income_segment']) \n",
        "test.head(40)"
      ],
      "execution_count": null,
      "outputs": [
        {
          "output_type": "execute_result",
          "data": {
            "text/html": [
              "<div>\n",
              "<style scoped>\n",
              "    .dataframe tbody tr th:only-of-type {\n",
              "        vertical-align: middle;\n",
              "    }\n",
              "\n",
              "    .dataframe tbody tr th {\n",
              "        vertical-align: top;\n",
              "    }\n",
              "\n",
              "    .dataframe thead th {\n",
              "        text-align: right;\n",
              "    }\n",
              "</style>\n",
              "<table border=\"1\" class=\"dataframe\">\n",
              "  <thead>\n",
              "    <tr style=\"text-align: right;\">\n",
              "      <th>income_segment</th>\n",
              "      <th>lower-income</th>\n",
              "      <th>mid-income</th>\n",
              "    </tr>\n",
              "    <tr>\n",
              "      <th>total_income_recode</th>\n",
              "      <th></th>\n",
              "      <th></th>\n",
              "    </tr>\n",
              "  </thead>\n",
              "  <tbody>\n",
              "    <tr>\n",
              "      <th>2</th>\n",
              "      <td>1794</td>\n",
              "      <td>0</td>\n",
              "    </tr>\n",
              "    <tr>\n",
              "      <th>3</th>\n",
              "      <td>2108</td>\n",
              "      <td>0</td>\n",
              "    </tr>\n",
              "    <tr>\n",
              "      <th>4</th>\n",
              "      <td>2938</td>\n",
              "      <td>0</td>\n",
              "    </tr>\n",
              "    <tr>\n",
              "      <th>5</th>\n",
              "      <td>4232</td>\n",
              "      <td>0</td>\n",
              "    </tr>\n",
              "    <tr>\n",
              "      <th>6</th>\n",
              "      <td>3033</td>\n",
              "      <td>0</td>\n",
              "    </tr>\n",
              "    <tr>\n",
              "      <th>7</th>\n",
              "      <td>3914</td>\n",
              "      <td>0</td>\n",
              "    </tr>\n",
              "    <tr>\n",
              "      <th>8</th>\n",
              "      <td>2936</td>\n",
              "      <td>0</td>\n",
              "    </tr>\n",
              "    <tr>\n",
              "      <th>9</th>\n",
              "      <td>4060</td>\n",
              "      <td>0</td>\n",
              "    </tr>\n",
              "    <tr>\n",
              "      <th>10</th>\n",
              "      <td>2744</td>\n",
              "      <td>0</td>\n",
              "    </tr>\n",
              "    <tr>\n",
              "      <th>11</th>\n",
              "      <td>3862</td>\n",
              "      <td>0</td>\n",
              "    </tr>\n",
              "    <tr>\n",
              "      <th>12</th>\n",
              "      <td>2183</td>\n",
              "      <td>0</td>\n",
              "    </tr>\n",
              "    <tr>\n",
              "      <th>13</th>\n",
              "      <td>4056</td>\n",
              "      <td>0</td>\n",
              "    </tr>\n",
              "    <tr>\n",
              "      <th>14</th>\n",
              "      <td>1878</td>\n",
              "      <td>0</td>\n",
              "    </tr>\n",
              "    <tr>\n",
              "      <th>15</th>\n",
              "      <td>3129</td>\n",
              "      <td>0</td>\n",
              "    </tr>\n",
              "    <tr>\n",
              "      <th>16</th>\n",
              "      <td>1749</td>\n",
              "      <td>0</td>\n",
              "    </tr>\n",
              "    <tr>\n",
              "      <th>17</th>\n",
              "      <td>3545</td>\n",
              "      <td>0</td>\n",
              "    </tr>\n",
              "    <tr>\n",
              "      <th>18</th>\n",
              "      <td>1401</td>\n",
              "      <td>0</td>\n",
              "    </tr>\n",
              "    <tr>\n",
              "      <th>19</th>\n",
              "      <td>0</td>\n",
              "      <td>2630</td>\n",
              "    </tr>\n",
              "    <tr>\n",
              "      <th>20</th>\n",
              "      <td>0</td>\n",
              "      <td>1660</td>\n",
              "    </tr>\n",
              "    <tr>\n",
              "      <th>21</th>\n",
              "      <td>0</td>\n",
              "      <td>3187</td>\n",
              "    </tr>\n",
              "    <tr>\n",
              "      <th>22</th>\n",
              "      <td>0</td>\n",
              "      <td>1303</td>\n",
              "    </tr>\n",
              "    <tr>\n",
              "      <th>23</th>\n",
              "      <td>0</td>\n",
              "      <td>2075</td>\n",
              "    </tr>\n",
              "    <tr>\n",
              "      <th>24</th>\n",
              "      <td>0</td>\n",
              "      <td>1145</td>\n",
              "    </tr>\n",
              "    <tr>\n",
              "      <th>25</th>\n",
              "      <td>0</td>\n",
              "      <td>2560</td>\n",
              "    </tr>\n",
              "    <tr>\n",
              "      <th>26</th>\n",
              "      <td>0</td>\n",
              "      <td>984</td>\n",
              "    </tr>\n",
              "    <tr>\n",
              "      <th>27</th>\n",
              "      <td>0</td>\n",
              "      <td>1476</td>\n",
              "    </tr>\n",
              "    <tr>\n",
              "      <th>28</th>\n",
              "      <td>0</td>\n",
              "      <td>907</td>\n",
              "    </tr>\n",
              "    <tr>\n",
              "      <th>29</th>\n",
              "      <td>0</td>\n",
              "      <td>1646</td>\n",
              "    </tr>\n",
              "    <tr>\n",
              "      <th>30</th>\n",
              "      <td>0</td>\n",
              "      <td>725</td>\n",
              "    </tr>\n",
              "    <tr>\n",
              "      <th>31</th>\n",
              "      <td>0</td>\n",
              "      <td>1390</td>\n",
              "    </tr>\n",
              "    <tr>\n",
              "      <th>32</th>\n",
              "      <td>0</td>\n",
              "      <td>635</td>\n",
              "    </tr>\n",
              "    <tr>\n",
              "      <th>33</th>\n",
              "      <td>0</td>\n",
              "      <td>1395</td>\n",
              "    </tr>\n",
              "    <tr>\n",
              "      <th>34</th>\n",
              "      <td>0</td>\n",
              "      <td>535</td>\n",
              "    </tr>\n",
              "    <tr>\n",
              "      <th>35</th>\n",
              "      <td>0</td>\n",
              "      <td>957</td>\n",
              "    </tr>\n",
              "    <tr>\n",
              "      <th>36</th>\n",
              "      <td>0</td>\n",
              "      <td>494</td>\n",
              "    </tr>\n",
              "    <tr>\n",
              "      <th>37</th>\n",
              "      <td>0</td>\n",
              "      <td>991</td>\n",
              "    </tr>\n",
              "    <tr>\n",
              "      <th>38</th>\n",
              "      <td>0</td>\n",
              "      <td>476</td>\n",
              "    </tr>\n",
              "    <tr>\n",
              "      <th>39</th>\n",
              "      <td>0</td>\n",
              "      <td>579</td>\n",
              "    </tr>\n",
              "    <tr>\n",
              "      <th>40</th>\n",
              "      <td>0</td>\n",
              "      <td>394</td>\n",
              "    </tr>\n",
              "  </tbody>\n",
              "</table>\n",
              "</div>"
            ],
            "text/plain": [
              "income_segment       lower-income  mid-income\n",
              "total_income_recode                          \n",
              "2                            1794           0\n",
              "3                            2108           0\n",
              "4                            2938           0\n",
              "5                            4232           0\n",
              "6                            3033           0\n",
              "7                            3914           0\n",
              "8                            2936           0\n",
              "9                            4060           0\n",
              "10                           2744           0\n",
              "11                           3862           0\n",
              "12                           2183           0\n",
              "13                           4056           0\n",
              "14                           1878           0\n",
              "15                           3129           0\n",
              "16                           1749           0\n",
              "17                           3545           0\n",
              "18                           1401           0\n",
              "19                              0        2630\n",
              "20                              0        1660\n",
              "21                              0        3187\n",
              "22                              0        1303\n",
              "23                              0        2075\n",
              "24                              0        1145\n",
              "25                              0        2560\n",
              "26                              0         984\n",
              "27                              0        1476\n",
              "28                              0         907\n",
              "29                              0        1646\n",
              "30                              0         725\n",
              "31                              0        1390\n",
              "32                              0         635\n",
              "33                              0        1395\n",
              "34                              0         535\n",
              "35                              0         957\n",
              "36                              0         494\n",
              "37                              0         991\n",
              "38                              0         476\n",
              "39                              0         579\n",
              "40                              0         394"
            ]
          },
          "metadata": {
            "tags": []
          },
          "execution_count": 118
        }
      ]
    },
    {
      "cell_type": "code",
      "metadata": {
        "colab": {
          "base_uri": "https://localhost:8080/",
          "height": 616
        },
        "id": "6Qn5fgXfhOjX",
        "outputId": "a332267b-b343-41f8-8678-aed20bdb8ded"
      },
      "source": [
        "dataframe(race_clean,'income_segment')"
      ],
      "execution_count": null,
      "outputs": [
        {
          "output_type": "display_data",
          "data": {
            "text/html": [
              "<html>\n",
              "<head><meta charset=\"utf-8\" /></head>\n",
              "<body>\n",
              "    <div>\n",
              "            <script src=\"https://cdnjs.cloudflare.com/ajax/libs/mathjax/2.7.5/MathJax.js?config=TeX-AMS-MML_SVG\"></script><script type=\"text/javascript\">if (window.MathJax) {MathJax.Hub.Config({SVG: {font: \"STIX-Web\"}});}</script>\n",
              "                <script type=\"text/javascript\">window.PlotlyConfig = {MathJaxConfig: 'local'};</script>\n",
              "        <script src=\"https://cdn.plot.ly/plotly-latest.min.js\"></script>    \n",
              "            <div id=\"1b1e0432-283a-4a92-b34c-9810d9d0fa74\" class=\"plotly-graph-div\" style=\"height:600px; width:800px;\"></div>\n",
              "            <script type=\"text/javascript\">\n",
              "                \n",
              "                    window.PLOTLYENV=window.PLOTLYENV || {};\n",
              "                    \n",
              "                if (document.getElementById(\"1b1e0432-283a-4a92-b34c-9810d9d0fa74\")) {\n",
              "                    Plotly.newPlot(\n",
              "                        '1b1e0432-283a-4a92-b34c-9810d9d0fa74',\n",
              "                        [{\"alignmentgroup\": \"True\", \"hoverlabel\": {\"namelength\": 0}, \"hovertemplate\": \"race=black<br>income_segment=%{x}<br>percentage=%{y}\", \"legendgroup\": \"race=black\", \"marker\": {\"color\": \"#636efa\"}, \"name\": \"race=black\", \"offsetgroup\": \"race=black\", \"orientation\": \"v\", \"showlegend\": true, \"textposition\": \"outside\", \"texttemplate\": \"%{y:.2f}%\", \"type\": \"bar\", \"x\": [\"lower-income\", \"mid-income\"], \"xaxis\": \"x\", \"y\": [72.2376457523598, 27.762354247640197], \"yaxis\": \"y\"}, {\"alignmentgroup\": \"True\", \"hoverlabel\": {\"namelength\": 0}, \"hovertemplate\": \"race=white<br>income_segment=%{x}<br>percentage=%{y}\", \"legendgroup\": \"race=white\", \"marker\": {\"color\": \"#EF553B\"}, \"name\": \"race=white\", \"offsetgroup\": \"race=white\", \"orientation\": \"v\", \"showlegend\": true, \"textposition\": \"outside\", \"texttemplate\": \"%{y:.2f}%\", \"type\": \"bar\", \"x\": [\"lower-income\", \"mid-income\"], \"xaxis\": \"x\", \"y\": [62.41554559043349, 37.58445440956651], \"yaxis\": \"y\"}],\n",
              "                        {\"barmode\": \"group\", \"height\": 600, \"legend\": {\"tracegroupgap\": 0}, \"margin\": {\"t\": 60}, \"template\": {\"data\": {\"bar\": [{\"error_x\": {\"color\": \"#2a3f5f\"}, \"error_y\": {\"color\": \"#2a3f5f\"}, \"marker\": {\"line\": {\"color\": \"#E5ECF6\", \"width\": 0.5}}, \"type\": \"bar\"}], \"barpolar\": [{\"marker\": {\"line\": {\"color\": \"#E5ECF6\", \"width\": 0.5}}, \"type\": \"barpolar\"}], \"carpet\": [{\"aaxis\": {\"endlinecolor\": \"#2a3f5f\", \"gridcolor\": \"white\", \"linecolor\": \"white\", \"minorgridcolor\": \"white\", \"startlinecolor\": \"#2a3f5f\"}, \"baxis\": {\"endlinecolor\": \"#2a3f5f\", \"gridcolor\": \"white\", \"linecolor\": \"white\", \"minorgridcolor\": \"white\", \"startlinecolor\": \"#2a3f5f\"}, \"type\": \"carpet\"}], \"choropleth\": [{\"colorbar\": {\"outlinewidth\": 0, \"ticks\": \"\"}, \"type\": \"choropleth\"}], \"contour\": [{\"colorbar\": {\"outlinewidth\": 0, \"ticks\": \"\"}, \"colorscale\": [[0.0, \"#0d0887\"], [0.1111111111111111, \"#46039f\"], [0.2222222222222222, \"#7201a8\"], [0.3333333333333333, \"#9c179e\"], [0.4444444444444444, \"#bd3786\"], [0.5555555555555556, \"#d8576b\"], [0.6666666666666666, \"#ed7953\"], [0.7777777777777778, \"#fb9f3a\"], [0.8888888888888888, \"#fdca26\"], [1.0, \"#f0f921\"]], \"type\": \"contour\"}], \"contourcarpet\": [{\"colorbar\": {\"outlinewidth\": 0, \"ticks\": \"\"}, \"type\": \"contourcarpet\"}], \"heatmap\": [{\"colorbar\": {\"outlinewidth\": 0, \"ticks\": \"\"}, \"colorscale\": [[0.0, \"#0d0887\"], [0.1111111111111111, \"#46039f\"], [0.2222222222222222, \"#7201a8\"], [0.3333333333333333, \"#9c179e\"], [0.4444444444444444, \"#bd3786\"], [0.5555555555555556, \"#d8576b\"], [0.6666666666666666, \"#ed7953\"], [0.7777777777777778, \"#fb9f3a\"], [0.8888888888888888, \"#fdca26\"], [1.0, \"#f0f921\"]], \"type\": \"heatmap\"}], \"heatmapgl\": [{\"colorbar\": {\"outlinewidth\": 0, \"ticks\": \"\"}, \"colorscale\": [[0.0, \"#0d0887\"], [0.1111111111111111, \"#46039f\"], [0.2222222222222222, \"#7201a8\"], [0.3333333333333333, \"#9c179e\"], [0.4444444444444444, \"#bd3786\"], [0.5555555555555556, \"#d8576b\"], [0.6666666666666666, \"#ed7953\"], [0.7777777777777778, \"#fb9f3a\"], [0.8888888888888888, \"#fdca26\"], [1.0, \"#f0f921\"]], \"type\": \"heatmapgl\"}], \"histogram\": [{\"marker\": {\"colorbar\": {\"outlinewidth\": 0, \"ticks\": \"\"}}, \"type\": \"histogram\"}], \"histogram2d\": [{\"colorbar\": {\"outlinewidth\": 0, \"ticks\": \"\"}, \"colorscale\": [[0.0, \"#0d0887\"], [0.1111111111111111, \"#46039f\"], [0.2222222222222222, \"#7201a8\"], [0.3333333333333333, \"#9c179e\"], [0.4444444444444444, \"#bd3786\"], [0.5555555555555556, \"#d8576b\"], [0.6666666666666666, \"#ed7953\"], [0.7777777777777778, \"#fb9f3a\"], [0.8888888888888888, \"#fdca26\"], [1.0, \"#f0f921\"]], \"type\": \"histogram2d\"}], \"histogram2dcontour\": [{\"colorbar\": {\"outlinewidth\": 0, \"ticks\": \"\"}, \"colorscale\": [[0.0, \"#0d0887\"], [0.1111111111111111, \"#46039f\"], [0.2222222222222222, \"#7201a8\"], [0.3333333333333333, \"#9c179e\"], [0.4444444444444444, \"#bd3786\"], [0.5555555555555556, \"#d8576b\"], [0.6666666666666666, \"#ed7953\"], [0.7777777777777778, \"#fb9f3a\"], [0.8888888888888888, \"#fdca26\"], [1.0, \"#f0f921\"]], \"type\": \"histogram2dcontour\"}], \"mesh3d\": [{\"colorbar\": {\"outlinewidth\": 0, \"ticks\": \"\"}, \"type\": \"mesh3d\"}], \"parcoords\": [{\"line\": {\"colorbar\": {\"outlinewidth\": 0, \"ticks\": \"\"}}, \"type\": \"parcoords\"}], \"pie\": [{\"automargin\": true, \"type\": \"pie\"}], \"scatter\": [{\"marker\": {\"colorbar\": {\"outlinewidth\": 0, \"ticks\": \"\"}}, \"type\": \"scatter\"}], \"scatter3d\": [{\"line\": {\"colorbar\": {\"outlinewidth\": 0, \"ticks\": \"\"}}, \"marker\": {\"colorbar\": {\"outlinewidth\": 0, \"ticks\": \"\"}}, \"type\": \"scatter3d\"}], \"scattercarpet\": [{\"marker\": {\"colorbar\": {\"outlinewidth\": 0, \"ticks\": \"\"}}, \"type\": \"scattercarpet\"}], \"scattergeo\": [{\"marker\": {\"colorbar\": {\"outlinewidth\": 0, \"ticks\": \"\"}}, \"type\": \"scattergeo\"}], \"scattergl\": [{\"marker\": {\"colorbar\": {\"outlinewidth\": 0, \"ticks\": \"\"}}, \"type\": \"scattergl\"}], \"scattermapbox\": [{\"marker\": {\"colorbar\": {\"outlinewidth\": 0, \"ticks\": \"\"}}, \"type\": \"scattermapbox\"}], \"scatterpolar\": [{\"marker\": {\"colorbar\": {\"outlinewidth\": 0, \"ticks\": \"\"}}, \"type\": \"scatterpolar\"}], \"scatterpolargl\": [{\"marker\": {\"colorbar\": {\"outlinewidth\": 0, \"ticks\": \"\"}}, \"type\": \"scatterpolargl\"}], \"scatterternary\": [{\"marker\": {\"colorbar\": {\"outlinewidth\": 0, \"ticks\": \"\"}}, \"type\": \"scatterternary\"}], \"surface\": [{\"colorbar\": {\"outlinewidth\": 0, \"ticks\": \"\"}, \"colorscale\": [[0.0, \"#0d0887\"], [0.1111111111111111, \"#46039f\"], [0.2222222222222222, \"#7201a8\"], [0.3333333333333333, \"#9c179e\"], [0.4444444444444444, \"#bd3786\"], [0.5555555555555556, \"#d8576b\"], [0.6666666666666666, \"#ed7953\"], [0.7777777777777778, \"#fb9f3a\"], [0.8888888888888888, \"#fdca26\"], [1.0, \"#f0f921\"]], \"type\": \"surface\"}], \"table\": [{\"cells\": {\"fill\": {\"color\": \"#EBF0F8\"}, \"line\": {\"color\": \"white\"}}, \"header\": {\"fill\": {\"color\": \"#C8D4E3\"}, \"line\": {\"color\": \"white\"}}, \"type\": \"table\"}]}, \"layout\": {\"annotationdefaults\": {\"arrowcolor\": \"#2a3f5f\", \"arrowhead\": 0, \"arrowwidth\": 1}, \"coloraxis\": {\"colorbar\": {\"outlinewidth\": 0, \"ticks\": \"\"}}, \"colorscale\": {\"diverging\": [[0, \"#8e0152\"], [0.1, \"#c51b7d\"], [0.2, \"#de77ae\"], [0.3, \"#f1b6da\"], [0.4, \"#fde0ef\"], [0.5, \"#f7f7f7\"], [0.6, \"#e6f5d0\"], [0.7, \"#b8e186\"], [0.8, \"#7fbc41\"], [0.9, \"#4d9221\"], [1, \"#276419\"]], \"sequential\": [[0.0, \"#0d0887\"], [0.1111111111111111, \"#46039f\"], [0.2222222222222222, \"#7201a8\"], [0.3333333333333333, \"#9c179e\"], [0.4444444444444444, \"#bd3786\"], [0.5555555555555556, \"#d8576b\"], [0.6666666666666666, \"#ed7953\"], [0.7777777777777778, \"#fb9f3a\"], [0.8888888888888888, \"#fdca26\"], [1.0, \"#f0f921\"]], \"sequentialminus\": [[0.0, \"#0d0887\"], [0.1111111111111111, \"#46039f\"], [0.2222222222222222, \"#7201a8\"], [0.3333333333333333, \"#9c179e\"], [0.4444444444444444, \"#bd3786\"], [0.5555555555555556, \"#d8576b\"], [0.6666666666666666, \"#ed7953\"], [0.7777777777777778, \"#fb9f3a\"], [0.8888888888888888, \"#fdca26\"], [1.0, \"#f0f921\"]]}, \"colorway\": [\"#636efa\", \"#EF553B\", \"#00cc96\", \"#ab63fa\", \"#FFA15A\", \"#19d3f3\", \"#FF6692\", \"#B6E880\", \"#FF97FF\", \"#FECB52\"], \"font\": {\"color\": \"#2a3f5f\"}, \"geo\": {\"bgcolor\": \"white\", \"lakecolor\": \"white\", \"landcolor\": \"#E5ECF6\", \"showlakes\": true, \"showland\": true, \"subunitcolor\": \"white\"}, \"hoverlabel\": {\"align\": \"left\"}, \"hovermode\": \"closest\", \"mapbox\": {\"style\": \"light\"}, \"paper_bgcolor\": \"white\", \"plot_bgcolor\": \"#E5ECF6\", \"polar\": {\"angularaxis\": {\"gridcolor\": \"white\", \"linecolor\": \"white\", \"ticks\": \"\"}, \"bgcolor\": \"#E5ECF6\", \"radialaxis\": {\"gridcolor\": \"white\", \"linecolor\": \"white\", \"ticks\": \"\"}}, \"scene\": {\"xaxis\": {\"backgroundcolor\": \"#E5ECF6\", \"gridcolor\": \"white\", \"gridwidth\": 2, \"linecolor\": \"white\", \"showbackground\": true, \"ticks\": \"\", \"zerolinecolor\": \"white\"}, \"yaxis\": {\"backgroundcolor\": \"#E5ECF6\", \"gridcolor\": \"white\", \"gridwidth\": 2, \"linecolor\": \"white\", \"showbackground\": true, \"ticks\": \"\", \"zerolinecolor\": \"white\"}, \"zaxis\": {\"backgroundcolor\": \"#E5ECF6\", \"gridcolor\": \"white\", \"gridwidth\": 2, \"linecolor\": \"white\", \"showbackground\": true, \"ticks\": \"\", \"zerolinecolor\": \"white\"}}, \"shapedefaults\": {\"line\": {\"color\": \"#2a3f5f\"}}, \"ternary\": {\"aaxis\": {\"gridcolor\": \"white\", \"linecolor\": \"white\", \"ticks\": \"\"}, \"baxis\": {\"gridcolor\": \"white\", \"linecolor\": \"white\", \"ticks\": \"\"}, \"bgcolor\": \"#E5ECF6\", \"caxis\": {\"gridcolor\": \"white\", \"linecolor\": \"white\", \"ticks\": \"\"}}, \"title\": {\"x\": 0.05}, \"xaxis\": {\"automargin\": true, \"gridcolor\": \"white\", \"linecolor\": \"white\", \"ticks\": \"\", \"title\": {\"standoff\": 15}, \"zerolinecolor\": \"white\", \"zerolinewidth\": 2}, \"yaxis\": {\"automargin\": true, \"gridcolor\": \"white\", \"linecolor\": \"white\", \"ticks\": \"\", \"title\": {\"standoff\": 15}, \"zerolinecolor\": \"white\", \"zerolinewidth\": 2}}}, \"width\": 800, \"xaxis\": {\"anchor\": \"y\", \"domain\": [0.0, 1.0], \"title\": {\"text\": \"income_segment\"}}, \"yaxis\": {\"anchor\": \"x\", \"domain\": [0.0, 1.0], \"title\": {\"text\": \"percentage\"}}},\n",
              "                        {\"responsive\": true}\n",
              "                    ).then(function(){\n",
              "                            \n",
              "var gd = document.getElementById('1b1e0432-283a-4a92-b34c-9810d9d0fa74');\n",
              "var x = new MutationObserver(function (mutations, observer) {{\n",
              "        var display = window.getComputedStyle(gd).display;\n",
              "        if (!display || display === 'none') {{\n",
              "            console.log([gd, 'removed!']);\n",
              "            Plotly.purge(gd);\n",
              "            observer.disconnect();\n",
              "        }}\n",
              "}});\n",
              "\n",
              "// Listen for the removal of the full notebook cells\n",
              "var notebookContainer = gd.closest('#notebook-container');\n",
              "if (notebookContainer) {{\n",
              "    x.observe(notebookContainer, {childList: true});\n",
              "}}\n",
              "\n",
              "// Listen for the clearing of the current output cell\n",
              "var outputEl = gd.closest('.output');\n",
              "if (outputEl) {{\n",
              "    x.observe(outputEl, {childList: true});\n",
              "}}\n",
              "\n",
              "                        })\n",
              "                };\n",
              "                \n",
              "            </script>\n",
              "        </div>\n",
              "</body>\n",
              "</html>"
            ]
          },
          "metadata": {
            "tags": []
          }
        }
      ]
    },
    {
      "cell_type": "markdown",
      "metadata": {
        "id": "WRTwC109Za4Y"
      },
      "source": [
        "#Summary of Findings"
      ]
    },
    {
      "cell_type": "markdown",
      "metadata": {
        "id": "LNlkJCoOAtgm"
      },
      "source": [
        "Comparing the data for White and Black, we were able to assess that race does have an effect on many factors that seems  to put Black at a disadvantage compared to White.\n",
        "\n",
        "Black is more likely to be below the poverty level, have poor health, receive Medicaid, have lower educational attainment, and be unemployed. They also tend to have a lower income.\n",
        "\n",
        "Looking into the dataset of White and Black, the study also found that  those with lower education are more likely to be unemployed and to be close to the poverty level. Those that are closer to the poverty level in turn also have poorer health.\n",
        "\n",
        "This not only shows the disadvantages the Black community faces when it comes to employment, income, poverty, and health but also how all these factors influence each other.\n"
      ]
    },
    {
      "cell_type": "markdown",
      "metadata": {
        "id": "ND6W5dkeWyLT"
      },
      "source": [
        "#Recommendations"
      ]
    },
    {
      "cell_type": "markdown",
      "metadata": {
        "id": "2HzDYNuIW1aD"
      },
      "source": [
        "Governments and institutions should direct more fundings towards programs that promote the education of Black communities starting not only at a college level but already in school. For more information read this [article](https://www.insidehighered.com/news/2020/10/20/black-students-need-changes-policies-and-structures-beyond-higher-education). Black persons are more likely to have no High School Diploma or only a High School Diploma and this analysis has shown that education affects employment and poverty level, which in turn affects health.\n",
        "\n",
        "For more immediate relief, funding should also go to organizations that help fight poverty and improve the health of Black communities, such as the [U.S. Department of Health and Human Services Office of Minority Health](https://minorityhealth.hhs.gov)."
      ]
    },
    {
      "cell_type": "markdown",
      "metadata": {
        "id": "78Cd7_z8XN0R"
      },
      "source": [
        "#Limitations and Further Steps"
      ]
    },
    {
      "cell_type": "markdown",
      "metadata": {
        "id": "daj_Pew3XQp6"
      },
      "source": [
        "The biggest issue in the dataset has been the large sample size of the White dataset. In the original dataset White has 122,135 and Black 18,150 rows. In the modified dataset White has 88,082 and Black 13,451 rows. This could also be a critique of the Census dataset, which seems to largely underrepresent races other than White.\n",
        "\n",
        "This big difference in sample sizes leads to issues with the statistical tests. The Cramér's V for results relating to the White dataset would often imply that the significant chi-square might have been due to the large sample size.\n",
        "\n",
        "Given more time, the tests should be run again, but with a sample size for White that is closer to the Black sample size, or even better, with a reduced White and Black sample size. That could lead to a more accurate p-value for the chi-square test and a better Cramér's V.\n",
        "\n",
        "To illustrate this in an example:"
      ]
    },
    {
      "cell_type": "code",
      "metadata": {
        "id": "ClC1e83EaYGY"
      },
      "source": [
        "#create a dataset for race 1\n",
        "race_1 = race[(race['race'].isin([1]))]"
      ],
      "execution_count": null,
      "outputs": []
    },
    {
      "cell_type": "code",
      "metadata": {
        "colab": {
          "base_uri": "https://localhost:8080/"
        },
        "id": "7I_SkNvda6yr",
        "outputId": "361e4fbf-2ab3-40e8-ab1b-ae3b5f729d22"
      },
      "source": [
        "race_1['race'].value_counts()"
      ],
      "execution_count": null,
      "outputs": [
        {
          "output_type": "execute_result",
          "data": {
            "text/plain": [
              "1    88082\n",
              "Name: race, dtype: int64"
            ]
          },
          "metadata": {
            "tags": []
          },
          "execution_count": 121
        }
      ]
    },
    {
      "cell_type": "code",
      "metadata": {
        "id": "i71IBzm9a8Xr"
      },
      "source": [
        "#create a dataset for 1 with a sample size of 7,000\n",
        "race_1_sample = race_1.sample(n = 7000)"
      ],
      "execution_count": null,
      "outputs": []
    },
    {
      "cell_type": "code",
      "metadata": {
        "colab": {
          "base_uri": "https://localhost:8080/"
        },
        "id": "V_DwDzaCa_aL",
        "outputId": "4f60e557-96f2-418f-ccc7-743485147281"
      },
      "source": [
        "race_1_sample['race'].value_counts()"
      ],
      "execution_count": null,
      "outputs": [
        {
          "output_type": "execute_result",
          "data": {
            "text/plain": [
              "1    7000\n",
              "Name: race, dtype: int64"
            ]
          },
          "metadata": {
            "tags": []
          },
          "execution_count": 123
        }
      ]
    },
    {
      "cell_type": "code",
      "metadata": {
        "id": "3mngk09ObBKU"
      },
      "source": [
        "#create a dataset for race 2\n",
        "race_2 = race[(race['race'].isin([2]))]"
      ],
      "execution_count": null,
      "outputs": []
    },
    {
      "cell_type": "code",
      "metadata": {
        "id": "YDgLkCssL82x"
      },
      "source": [
        "#create a dataset for 2 with a sample size of 7,000\n",
        "race_2_sample = race_2.sample(n = 7000)"
      ],
      "execution_count": null,
      "outputs": []
    },
    {
      "cell_type": "code",
      "metadata": {
        "colab": {
          "base_uri": "https://localhost:8080/"
        },
        "id": "7ukis0ZTbDsH",
        "outputId": "17e47279-dd28-4360-d85e-35ff1d7e70dd"
      },
      "source": [
        "race_2_sample['race'].value_counts()"
      ],
      "execution_count": null,
      "outputs": [
        {
          "output_type": "execute_result",
          "data": {
            "text/plain": [
              "2    7000\n",
              "Name: race, dtype: int64"
            ]
          },
          "metadata": {
            "tags": []
          },
          "execution_count": 126
        }
      ]
    },
    {
      "cell_type": "code",
      "metadata": {
        "id": "sRKN9JiMbFbz"
      },
      "source": [
        "#combine both datasets\n",
        "new_sample = race_1_sample.append(race_2_sample, sort=False)"
      ],
      "execution_count": null,
      "outputs": []
    },
    {
      "cell_type": "code",
      "metadata": {
        "colab": {
          "base_uri": "https://localhost:8080/"
        },
        "id": "3fOrWyeGbJyd",
        "outputId": "ebda721b-025b-4054-8096-9b3960592a91"
      },
      "source": [
        "new_sample['race'].value_counts()"
      ],
      "execution_count": null,
      "outputs": [
        {
          "output_type": "execute_result",
          "data": {
            "text/plain": [
              "2    7000\n",
              "1    7000\n",
              "Name: race, dtype: int64"
            ]
          },
          "metadata": {
            "tags": []
          },
          "execution_count": 128
        }
      ]
    },
    {
      "cell_type": "markdown",
      "metadata": {
        "id": "J6Epw65KN-Sb"
      },
      "source": [
        "**Test** \n",
        "\n",
        "Using Financial Assistance, which showed a significant chi-square but low Cramér's V. The Cramér's V implied that the significant chi-square for both White and Black might have been due to sample size."
      ]
    },
    {
      "cell_type": "code",
      "metadata": {
        "id": "L1fWIk8iLdpQ"
      },
      "source": [
        "#to exclude 0=niu (not in universe)\n",
        "newsample_finance= new_sample[(new_sample['financial_assistance'].isin([1,2]))]"
      ],
      "execution_count": null,
      "outputs": []
    },
    {
      "cell_type": "code",
      "metadata": {
        "id": "-pYwnBWnLi6p"
      },
      "source": [
        "#create a crosstab for the chi-square analysis\n",
        "newsample_finance_crosstab = pd.crosstab(newsample_finance['financial_assistance'],  \n",
        "                            newsample_finance['race'],\n",
        "                                margins = False) "
      ],
      "execution_count": null,
      "outputs": []
    },
    {
      "cell_type": "code",
      "metadata": {
        "colab": {
          "base_uri": "https://localhost:8080/"
        },
        "id": "_b6tez8hbdOJ",
        "outputId": "c2f74da4-d2c9-48d3-bf16-e4b1eb422e9d"
      },
      "source": [
        "print(newsample_finance_crosstab)"
      ],
      "execution_count": null,
      "outputs": [
        {
          "output_type": "stream",
          "text": [
            "race                     1     2\n",
            "financial_assistance            \n",
            "1                       63    81\n",
            "2                     6937  6919\n"
          ],
          "name": "stdout"
        }
      ]
    },
    {
      "cell_type": "code",
      "metadata": {
        "colab": {
          "base_uri": "https://localhost:8080/"
        },
        "id": "fDu7cwg-LwKw",
        "outputId": "71dfb93b-b6eb-4eda-de55-36df2725d5f9"
      },
      "source": [
        "chi_square(newsample_finance_crosstab)"
      ],
      "execution_count": null,
      "outputs": [
        {
          "output_type": "stream",
          "text": [
            "\u001b[1mChi-Square Test\u001b[0m\n",
            "degrees of freedom = 1\n",
            "\n",
            "Expected frequencies:\n",
            " [[  72.   72.]\n",
            " [6928. 6928.]]\n",
            "\n",
            "alpha=0.050, p-value=0.154\n",
            "p-value > 0.05. Fail to reject H0 that there is no association between the two variables.\n",
            "\n",
            "\u001b[1mCramer's V for: \u001b[0m\n",
            "race\n",
            "1    0.01702\n",
            "2    0.01702\n",
            "dtype: float64\n"
          ],
          "name": "stdout"
        }
      ]
    },
    {
      "cell_type": "markdown",
      "metadata": {
        "id": "SepZbDiaOPXB"
      },
      "source": [
        "Now the chi-square is NOT significant. This underlines the importance of including the Cramér's V in prior analyses and confirms the influence of the sample size on the p-value."
      ]
    }
  ]
}